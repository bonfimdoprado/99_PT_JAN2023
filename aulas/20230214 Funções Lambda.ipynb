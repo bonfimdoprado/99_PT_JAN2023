{
 "cells": [
  {
   "cell_type": "code",
   "execution_count": 1,
   "metadata": {
    "ExecuteTime": {
     "end_time": "2020-11-02T00:56:54.511934Z",
     "start_time": "2020-11-02T00:56:47.853425Z"
    }
   },
   "outputs": [],
   "source": [
    "import re\n",
    "import numpy as np\n",
    "import pandas as pd\n"
   ]
  },
  {
   "cell_type": "markdown",
   "metadata": {},
   "source": [
    "# Programação Funcional - Funções Anônimas\n",
    "\n",
    "O aspecto mais fundamental do paradigma de programação funcional é a definição de funções. Funções são capazes de receber entradas (**argumentos**), executar um bloco de código sobre esses argumentos, e **retornar valores**.\n",
    "\n",
    "Vamos relembrar a sintaxe básica para definirmos uma função:\n",
    "\n",
    "* Primeiro declaramos a função através da palavra chave **def**\n",
    "```python\n",
    "def nome_da_funcao(argumento_obrigatorio, argumento_opcional = 10):\n",
    "```\n",
    "* Adicionamos um bloco identado de código, com as instruções do corpo da função e sua documentação:\n",
    "```python\n",
    "def nome_da_funcao(argumento_obrigatorio, argumento_opcional = 10):\n",
    "    '''\n",
    "    Esta função retorna a soma do argumento_obrigatorio ao argumento_opcional.\n",
    "    Argumentos:\n",
    "        argumento_obrigatorio Float\n",
    "        argumento_opcional Float\n",
    "    Returns:\n",
    "        Float\n",
    "    '''\n",
    "    soma = argumento_obrigatorio + argumento_opcional\n",
    "```\n",
    "\n",
    "* Ao fim, usamos a palavra-chave **return** para especificar o que a função retornará:\n",
    "\n",
    "```python\n",
    "def nome_da_funcao(argumento_obrigatorio, argumento_opcional = 10):\n",
    "    '''\n",
    "    Esta função retorna a soma do argumento_obrigatorio ao argumento_opcional.\n",
    "    Argumentos:\n",
    "        argumento_obrigatorio Float\n",
    "        argumento_opcional Float\n",
    "    Returns:\n",
    "        Float\n",
    "    '''\n",
    "    soma = argumento_obrigatorio + argumento_opcional\n",
    "    return soma\n",
    "```"
   ]
  },
  {
   "cell_type": "code",
   "execution_count": 10,
   "metadata": {},
   "outputs": [],
   "source": [
    "soma = 'Ola'"
   ]
  },
  {
   "cell_type": "code",
   "execution_count": 2,
   "metadata": {
    "ExecuteTime": {
     "end_time": "2022-01-04T22:42:04.157839Z",
     "start_time": "2022-01-04T22:42:04.149860Z"
    },
    "scrolled": true
   },
   "outputs": [],
   "source": [
    "def nome_da_funcao(argumento_obrigatorio, argumento_opcional = 10):\n",
    "    '''\n",
    "    Esta função retorna a soma do argumento_obrigatorio ao argumento_opcional.\n",
    "    Argumentos:\n",
    "        argumento_obrigatorio Float\n",
    "        argumento_opcional Float\n",
    "    Returns:\n",
    "        Float\n",
    "    '''\n",
    "    soma = argumento_obrigatorio + argumento_opcional\n",
    "    return soma"
   ]
  },
  {
   "cell_type": "code",
   "execution_count": 11,
   "metadata": {},
   "outputs": [
    {
     "data": {
      "text/plain": [
       "30"
      ]
     },
     "execution_count": 11,
     "metadata": {},
     "output_type": "execute_result"
    }
   ],
   "source": [
    "nome_da_funcao(5, 25)"
   ]
  },
  {
   "cell_type": "code",
   "execution_count": 12,
   "metadata": {},
   "outputs": [
    {
     "data": {
      "text/plain": [
       "'Ola'"
      ]
     },
     "execution_count": 12,
     "metadata": {},
     "output_type": "execute_result"
    }
   ],
   "source": [
    "soma"
   ]
  },
  {
   "cell_type": "code",
   "execution_count": 9,
   "metadata": {},
   "outputs": [
    {
     "ename": "NameError",
     "evalue": "name 'argumento_obrigatorio' is not defined",
     "output_type": "error",
     "traceback": [
      "\u001b[0;31m---------------------------------------------------------------------------\u001b[0m",
      "\u001b[0;31mNameError\u001b[0m                                 Traceback (most recent call last)",
      "\u001b[0;32m/var/folders/c2/4vv1dtt97gl9bn1lvw8rf0k40000gn/T/ipykernel_42475/1040142515.py\u001b[0m in \u001b[0;36m<module>\u001b[0;34m\u001b[0m\n\u001b[0;32m----> 1\u001b[0;31m \u001b[0margumento_obrigatorio\u001b[0m\u001b[0;34m\u001b[0m\u001b[0;34m\u001b[0m\u001b[0m\n\u001b[0m",
      "\u001b[0;31mNameError\u001b[0m: name 'argumento_obrigatorio' is not defined"
     ]
    }
   ],
   "source": [
    "argumento_obrigatorio"
   ]
  },
  {
   "cell_type": "code",
   "execution_count": 6,
   "metadata": {
    "ExecuteTime": {
     "end_time": "2022-01-04T22:42:07.791815Z",
     "start_time": "2022-01-04T22:42:07.782839Z"
    }
   },
   "outputs": [
    {
     "name": "stdout",
     "output_type": "stream",
     "text": [
      "15\n"
     ]
    }
   ],
   "source": [
    "print(nome_da_funcao(5))"
   ]
  },
  {
   "cell_type": "code",
   "execution_count": 7,
   "metadata": {},
   "outputs": [
    {
     "name": "stdout",
     "output_type": "stream",
     "text": [
      "7\n"
     ]
    }
   ],
   "source": [
    "dois_cinco = nome_da_funcao(2, 5)\n",
    "print(dois_cinco)"
   ]
  },
  {
   "cell_type": "markdown",
   "metadata": {},
   "source": [
    "# Funções Anônimas\n",
    "\n",
    "No Python podemos utilizar outra forma de declarar funções: as funções lambda. Funções lambda são **funções**, ou seja, fazem todas as mesmas coisas que funções criadas através da palavra-chave `def`.\n",
    "\n",
    "https://realpython.com/python-lambda/\n",
    "\n",
    "* Herdam o nome do  `cálculo lambda`.\n",
    "* São chamadas de funções anônimas pois não são 'guardadas' em uma variável.\n",
    "\n",
    "## Como definir funções lambda?\n",
    "\n",
    "Vamos criar uma função normal e ver como podemos criar uma função lambda com as mesmas capacidades.\n"
   ]
  },
  {
   "cell_type": "code",
   "execution_count": 13,
   "metadata": {
    "ExecuteTime": {
     "end_time": "2022-01-04T22:45:33.185839Z",
     "start_time": "2022-01-04T22:45:33.178859Z"
    }
   },
   "outputs": [],
   "source": [
    "def div_2(x):\n",
    "    return x/2"
   ]
  },
  {
   "cell_type": "code",
   "execution_count": 15,
   "metadata": {
    "ExecuteTime": {
     "end_time": "2022-01-04T22:45:38.682879Z",
     "start_time": "2022-01-04T22:45:38.668917Z"
    }
   },
   "outputs": [
    {
     "data": {
      "text/plain": [
       "2.5"
      ]
     },
     "execution_count": 15,
     "metadata": {},
     "output_type": "execute_result"
    }
   ],
   "source": [
    "div_2(5)"
   ]
  },
  {
   "cell_type": "markdown",
   "metadata": {},
   "source": [
    "Agora vamos criar uma função anônima equivalente"
   ]
  },
  {
   "cell_type": "code",
   "execution_count": 16,
   "metadata": {
    "ExecuteTime": {
     "end_time": "2022-01-04T22:46:44.888966Z",
     "start_time": "2022-01-04T22:46:44.876000Z"
    }
   },
   "outputs": [
    {
     "data": {
      "text/plain": [
       "<function __main__.<lambda>(x)>"
      ]
     },
     "execution_count": 16,
     "metadata": {},
     "output_type": "execute_result"
    }
   ],
   "source": [
    "lambda x: x/2"
   ]
  },
  {
   "cell_type": "markdown",
   "metadata": {},
   "source": [
    "## Invocando funções Lambda\n",
    "\n",
    "A definição acima não nos ajuda muito: como as funções anônimas nâo estão associadas à uma variável (como a variável *div_2* quando criamos a função utilizando o `def`).\n",
    "\n",
    "Vamos ver algumas formas de invocar as funções lambda\n",
    "\n",
    "### Invocação direta\n",
    "\n",
    "Podemos invocar uma função anônima imediatamente após sua declaração:"
   ]
  },
  {
   "cell_type": "code",
   "execution_count": 17,
   "metadata": {
    "ExecuteTime": {
     "end_time": "2022-01-04T22:47:30.814854Z",
     "start_time": "2022-01-04T22:47:30.808870Z"
    }
   },
   "outputs": [
    {
     "data": {
      "text/plain": [
       "20"
      ]
     },
     "execution_count": 17,
     "metadata": {},
     "output_type": "execute_result"
    }
   ],
   "source": [
    "(lambda x: x+10) (10)"
   ]
  },
  {
   "cell_type": "code",
   "execution_count": 18,
   "metadata": {},
   "outputs": [
    {
     "data": {
      "text/plain": [
       "20"
      ]
     },
     "execution_count": 18,
     "metadata": {},
     "output_type": "execute_result"
    }
   ],
   "source": [
    "10 + 10"
   ]
  },
  {
   "cell_type": "markdown",
   "metadata": {},
   "source": [
    "### Invocação através de uma Variável\n",
    "\n",
    "Podemos *guardar* uma função lambda em uma variável: dessa forma nossa função não será mais anônima!"
   ]
  },
  {
   "cell_type": "code",
   "execution_count": null,
   "metadata": {},
   "outputs": [],
   "source": [
    "soma_10 = lambda x: x + 10\n",
    "\n",
    "def soma_10(x):\n",
    "    return x + 10\n",
    "\n",
    "def soma_10(x):\n",
    "    soma = x + 10\n",
    "    return soma"
   ]
  },
  {
   "cell_type": "code",
   "execution_count": 20,
   "metadata": {},
   "outputs": [
    {
     "data": {
      "text/plain": [
       "<function __main__.<lambda>(x)>"
      ]
     },
     "execution_count": 20,
     "metadata": {},
     "output_type": "execute_result"
    }
   ],
   "source": [
    "soma_10"
   ]
  },
  {
   "cell_type": "code",
   "execution_count": 23,
   "metadata": {
    "ExecuteTime": {
     "end_time": "2022-01-04T22:49:35.928938Z",
     "start_time": "2022-01-04T22:49:35.911987Z"
    }
   },
   "outputs": [
    {
     "ename": "TypeError",
     "evalue": "<lambda>() missing 1 required positional argument: 'x'",
     "output_type": "error",
     "traceback": [
      "\u001b[0;31m---------------------------------------------------------------------------\u001b[0m",
      "\u001b[0;31mTypeError\u001b[0m                                 Traceback (most recent call last)",
      "\u001b[0;32m/var/folders/c2/4vv1dtt97gl9bn1lvw8rf0k40000gn/T/ipykernel_42475/2939190280.py\u001b[0m in \u001b[0;36m<module>\u001b[0;34m\u001b[0m\n\u001b[0;32m----> 1\u001b[0;31m \u001b[0msoma_10\u001b[0m\u001b[0;34m(\u001b[0m\u001b[0;34m)\u001b[0m\u001b[0;34m\u001b[0m\u001b[0;34m\u001b[0m\u001b[0m\n\u001b[0m",
      "\u001b[0;31mTypeError\u001b[0m: <lambda>() missing 1 required positional argument: 'x'"
     ]
    }
   ],
   "source": [
    "soma_10()"
   ]
  },
  {
   "cell_type": "markdown",
   "metadata": {},
   "source": [
    "### Utilizando `.map()`\n",
    "\n",
    "Podemos utilizar funções lambda para simplificar a sintaxe quando utilizamos o método `.map()` dos DataFrames"
   ]
  },
  {
   "cell_type": "code",
   "execution_count": 24,
   "metadata": {
    "ExecuteTime": {
     "end_time": "2022-01-04T22:51:27.948879Z",
     "start_time": "2022-01-04T22:51:27.942897Z"
    }
   },
   "outputs": [],
   "source": [
    "tb_sleep = pd.read_csv('http://www.statsci.org/data/general/sleep.txt', sep='\\t')\n",
    "tb_sleep = tb_sleep.dropna()"
   ]
  },
  {
   "cell_type": "code",
   "execution_count": 25,
   "metadata": {},
   "outputs": [
    {
     "name": "stdout",
     "output_type": "stream",
     "text": [
      "<class 'pandas.core.frame.DataFrame'>\n",
      "Int64Index: 42 entries, 1 to 60\n",
      "Data columns (total 11 columns):\n",
      " #   Column       Non-Null Count  Dtype  \n",
      "---  ------       --------------  -----  \n",
      " 0   Species      42 non-null     object \n",
      " 1   BodyWt       42 non-null     float64\n",
      " 2   BrainWt      42 non-null     float64\n",
      " 3   NonDreaming  42 non-null     float64\n",
      " 4   Dreaming     42 non-null     float64\n",
      " 5   TotalSleep   42 non-null     float64\n",
      " 6   LifeSpan     42 non-null     float64\n",
      " 7   Gestation    42 non-null     float64\n",
      " 8   Predation    42 non-null     int64  \n",
      " 9   Exposure     42 non-null     int64  \n",
      " 10  Danger       42 non-null     int64  \n",
      "dtypes: float64(7), int64(3), object(1)\n",
      "memory usage: 3.9+ KB\n"
     ]
    }
   ],
   "source": [
    "tb_sleep.info()"
   ]
  },
  {
   "cell_type": "code",
   "execution_count": 26,
   "metadata": {},
   "outputs": [
    {
     "data": {
      "text/plain": [
       "1         []\n",
       "4         []\n",
       "5         []\n",
       "6         []\n",
       "7         []\n",
       "8         []\n",
       "9         []\n",
       "10        []\n",
       "11        []\n",
       "14        []\n",
       "15        []\n",
       "16        []\n",
       "17        []\n",
       "21        []\n",
       "22        []\n",
       "24        []\n",
       "26        []\n",
       "27        []\n",
       "28        []\n",
       "31        []\n",
       "32        []\n",
       "33        []\n",
       "36        []\n",
       "37        []\n",
       "38        []\n",
       "39        []\n",
       "41    [monk]\n",
       "42    [monk]\n",
       "43        []\n",
       "44        []\n",
       "45        []\n",
       "47        []\n",
       "48        []\n",
       "49    [monk]\n",
       "50        []\n",
       "51        []\n",
       "53        []\n",
       "56        []\n",
       "57        []\n",
       "58        []\n",
       "59        []\n",
       "60        []\n",
       "Name: Species, dtype: object"
      ]
     },
     "execution_count": 26,
     "metadata": {},
     "output_type": "execute_result"
    }
   ],
   "source": [
    "def e_primata(nome):\n",
    "    pattern = r'monk|ape|man|gorilla|baboon|chimpanzee'\n",
    "    resultado = re.findall(pattern, nome)\n",
    "    return resultado\n",
    "\n",
    "tb_sleep['Species'].map(e_primata)"
   ]
  },
  {
   "cell_type": "code",
   "execution_count": 31,
   "metadata": {},
   "outputs": [],
   "source": [
    "tb_sleep['primata'] = tb_sleep['Species'].map(e_primata)"
   ]
  },
  {
   "cell_type": "code",
   "execution_count": 32,
   "metadata": {},
   "outputs": [
    {
     "data": {
      "text/html": [
       "<div>\n",
       "<style scoped>\n",
       "    .dataframe tbody tr th:only-of-type {\n",
       "        vertical-align: middle;\n",
       "    }\n",
       "\n",
       "    .dataframe tbody tr th {\n",
       "        vertical-align: top;\n",
       "    }\n",
       "\n",
       "    .dataframe thead th {\n",
       "        text-align: right;\n",
       "    }\n",
       "</style>\n",
       "<table border=\"1\" class=\"dataframe\">\n",
       "  <thead>\n",
       "    <tr style=\"text-align: right;\">\n",
       "      <th></th>\n",
       "      <th>Species</th>\n",
       "      <th>BodyWt</th>\n",
       "      <th>BrainWt</th>\n",
       "      <th>NonDreaming</th>\n",
       "      <th>Dreaming</th>\n",
       "      <th>TotalSleep</th>\n",
       "      <th>LifeSpan</th>\n",
       "      <th>Gestation</th>\n",
       "      <th>Predation</th>\n",
       "      <th>Exposure</th>\n",
       "      <th>Danger</th>\n",
       "      <th>primata</th>\n",
       "    </tr>\n",
       "  </thead>\n",
       "  <tbody>\n",
       "    <tr>\n",
       "      <th>1</th>\n",
       "      <td>Africangiantpouchedrat</td>\n",
       "      <td>1.000</td>\n",
       "      <td>6.6</td>\n",
       "      <td>6.3</td>\n",
       "      <td>2.0</td>\n",
       "      <td>8.3</td>\n",
       "      <td>4.5</td>\n",
       "      <td>42.0</td>\n",
       "      <td>3</td>\n",
       "      <td>1</td>\n",
       "      <td>3</td>\n",
       "      <td>[]</td>\n",
       "    </tr>\n",
       "    <tr>\n",
       "      <th>4</th>\n",
       "      <td>Asianelephant</td>\n",
       "      <td>2547.000</td>\n",
       "      <td>4603.0</td>\n",
       "      <td>2.1</td>\n",
       "      <td>1.8</td>\n",
       "      <td>3.9</td>\n",
       "      <td>69.0</td>\n",
       "      <td>624.0</td>\n",
       "      <td>3</td>\n",
       "      <td>5</td>\n",
       "      <td>4</td>\n",
       "      <td>[]</td>\n",
       "    </tr>\n",
       "    <tr>\n",
       "      <th>5</th>\n",
       "      <td>Baboon</td>\n",
       "      <td>10.550</td>\n",
       "      <td>179.5</td>\n",
       "      <td>9.1</td>\n",
       "      <td>0.7</td>\n",
       "      <td>9.8</td>\n",
       "      <td>27.0</td>\n",
       "      <td>180.0</td>\n",
       "      <td>4</td>\n",
       "      <td>4</td>\n",
       "      <td>4</td>\n",
       "      <td>[]</td>\n",
       "    </tr>\n",
       "    <tr>\n",
       "      <th>6</th>\n",
       "      <td>Bigbrownbat</td>\n",
       "      <td>0.023</td>\n",
       "      <td>0.3</td>\n",
       "      <td>15.8</td>\n",
       "      <td>3.9</td>\n",
       "      <td>19.7</td>\n",
       "      <td>19.0</td>\n",
       "      <td>35.0</td>\n",
       "      <td>1</td>\n",
       "      <td>1</td>\n",
       "      <td>1</td>\n",
       "      <td>[]</td>\n",
       "    </tr>\n",
       "    <tr>\n",
       "      <th>7</th>\n",
       "      <td>Braziliantapir</td>\n",
       "      <td>160.000</td>\n",
       "      <td>169.0</td>\n",
       "      <td>5.2</td>\n",
       "      <td>1.0</td>\n",
       "      <td>6.2</td>\n",
       "      <td>30.4</td>\n",
       "      <td>392.0</td>\n",
       "      <td>4</td>\n",
       "      <td>5</td>\n",
       "      <td>4</td>\n",
       "      <td>[]</td>\n",
       "    </tr>\n",
       "  </tbody>\n",
       "</table>\n",
       "</div>"
      ],
      "text/plain": [
       "                  Species    BodyWt  BrainWt  NonDreaming  Dreaming  \\\n",
       "1  Africangiantpouchedrat     1.000      6.6          6.3       2.0   \n",
       "4           Asianelephant  2547.000   4603.0          2.1       1.8   \n",
       "5                  Baboon    10.550    179.5          9.1       0.7   \n",
       "6             Bigbrownbat     0.023      0.3         15.8       3.9   \n",
       "7          Braziliantapir   160.000    169.0          5.2       1.0   \n",
       "\n",
       "   TotalSleep  LifeSpan  Gestation  Predation  Exposure  Danger primata  \n",
       "1         8.3       4.5       42.0          3         1       3      []  \n",
       "4         3.9      69.0      624.0          3         5       4      []  \n",
       "5         9.8      27.0      180.0          4         4       4      []  \n",
       "6        19.7      19.0       35.0          1         1       1      []  \n",
       "7         6.2      30.4      392.0          4         5       4      []  "
      ]
     },
     "execution_count": 32,
     "metadata": {},
     "output_type": "execute_result"
    }
   ],
   "source": [
    "tb_sleep.head()"
   ]
  },
  {
   "cell_type": "code",
   "execution_count": 34,
   "metadata": {},
   "outputs": [],
   "source": [
    "def e_primata(nome):\n",
    "    pattern = r'monk|ape|man|gorilla|baboon|chimpanzee'\n",
    "    resultado = re.findall(pattern, nome.lower())\n",
    "    return resultado"
   ]
  },
  {
   "cell_type": "code",
   "execution_count": 35,
   "metadata": {},
   "outputs": [
    {
     "data": {
      "text/plain": [
       "<function __main__.<lambda>(nome)>"
      ]
     },
     "execution_count": 35,
     "metadata": {},
     "output_type": "execute_result"
    }
   ],
   "source": [
    "lambda nome: re.findall(primate_pattern, nome.lower())"
   ]
  },
  {
   "cell_type": "code",
   "execution_count": 36,
   "metadata": {},
   "outputs": [
    {
     "data": {
      "text/plain": [
       "1               []\n",
       "4               []\n",
       "5         [baboon]\n",
       "6               []\n",
       "7               []\n",
       "8               []\n",
       "9     [chimpanzee]\n",
       "10              []\n",
       "11              []\n",
       "14              []\n",
       "Name: primate_list, dtype: object"
      ]
     },
     "execution_count": 36,
     "metadata": {},
     "output_type": "execute_result"
    }
   ],
   "source": [
    "primate_pattern = r'monk|ape|man|gorilla|baboon|chimpanzee'\n",
    "tb_sleep['primate_list'] = (\n",
    "    tb_sleep['Species']\n",
    "    .map(lambda nome: re.findall(primate_pattern, nome.lower()))\n",
    ")\n",
    "tb_sleep['primate_list'].head(10)"
   ]
  },
  {
   "cell_type": "code",
   "execution_count": 37,
   "metadata": {},
   "outputs": [
    {
     "data": {
      "text/plain": [
       "'ey'"
      ]
     },
     "execution_count": 37,
     "metadata": {},
     "output_type": "execute_result"
    }
   ],
   "source": [
    "(lambda nome: re.sub(primate_pattern, '', nome))('monkey')"
   ]
  },
  {
   "cell_type": "code",
   "execution_count": 39,
   "metadata": {},
   "outputs": [
    {
     "data": {
      "text/plain": [
       "1      africangiantpouchedrat\n",
       "4               asianelephant\n",
       "5                            \n",
       "6                 bigbrownbat\n",
       "7              braziliantapir\n",
       "8                         cat\n",
       "9                            \n",
       "10                 chinchilla\n",
       "11                        cow\n",
       "14        easternamericanmole\n",
       "15                    echidna\n",
       "16           europeanhedgehog\n",
       "17                     galago\n",
       "21                       goat\n",
       "22              goldenhamster\n",
       "24                   grayseal\n",
       "26             groundsquirrel\n",
       "27                  guineapig\n",
       "28                      horse\n",
       "31    lessershort-tailedshrew\n",
       "32             littlebrownbat\n",
       "33                           \n",
       "36                      mouse\n",
       "37                  muskshrew\n",
       "38           namericanopossum\n",
       "39       nine-bandedarmadillo\n",
       "41                      owley\n",
       "42                    patasey\n",
       "43                 phanlanger\n",
       "44                        pig\n",
       "45                     rabbit\n",
       "47                        rat\n",
       "48                     redfox\n",
       "49                   rhesusey\n",
       "50         rockhyrax(heterob)\n",
       "51     rockhyrax(procaviahab)\n",
       "53                      sheep\n",
       "56                     tenrec\n",
       "57                  treehyrax\n",
       "58                  treeshrew\n",
       "59                     vervet\n",
       "60               wateropossum\n",
       "Name: Species, dtype: object"
      ]
     },
     "execution_count": 39,
     "metadata": {},
     "output_type": "execute_result"
    }
   ],
   "source": [
    "# lambda nome: re.sub(primate_pattern, '', nome)\n",
    "tb_sleep['Species'].map(lambda nome: re.sub(primate_pattern, '', nome.lower()))"
   ]
  },
  {
   "cell_type": "markdown",
   "metadata": {},
   "source": [
    "## Funções Lambda com Múltiplos Argumentos\n",
    "\n",
    "Assim como as funções normais, funções anônimas podem receber mais do que um argumento."
   ]
  },
  {
   "cell_type": "code",
   "execution_count": 40,
   "metadata": {
    "ExecuteTime": {
     "end_time": "2022-01-04T23:10:05.644779Z",
     "start_time": "2022-01-04T23:10:05.626829Z"
    }
   },
   "outputs": [
    {
     "data": {
      "text/plain": [
       "15"
      ]
     },
     "execution_count": 40,
     "metadata": {},
     "output_type": "execute_result"
    }
   ],
   "source": [
    "(lambda x, y: x + y) (10, 5)"
   ]
  },
  {
   "cell_type": "code",
   "execution_count": 41,
   "metadata": {},
   "outputs": [
    {
     "name": "stdout",
     "output_type": "stream",
     "text": [
      "15\n"
     ]
    }
   ],
   "source": [
    "soma_lambda = lambda x, y: x + y\n",
    "print(soma_lambda(10, 5))"
   ]
  },
  {
   "cell_type": "code",
   "execution_count": 43,
   "metadata": {},
   "outputs": [
    {
     "data": {
      "text/plain": [
       "1     0.3\n",
       "4     0.4\n",
       "5     0.4\n",
       "6     0.1\n",
       "7     0.4\n",
       "8     0.1\n",
       "9     0.1\n",
       "10    0.4\n",
       "11    0.5\n",
       "14    0.1\n",
       "15    0.2\n",
       "16    0.2\n",
       "17    0.2\n",
       "21    0.5\n",
       "22    0.2\n",
       "24    0.1\n",
       "26    0.3\n",
       "27    0.4\n",
       "28    0.5\n",
       "31    0.4\n",
       "32    0.1\n",
       "33    0.1\n",
       "36    0.3\n",
       "37    0.3\n",
       "38    0.1\n",
       "39    0.1\n",
       "41    0.2\n",
       "42    0.4\n",
       "43    0.2\n",
       "44    0.4\n",
       "45    0.5\n",
       "47    0.3\n",
       "48    0.1\n",
       "49    0.2\n",
       "50    0.2\n",
       "51    0.3\n",
       "53    0.5\n",
       "56    0.2\n",
       "57    0.3\n",
       "58    0.2\n",
       "59    0.4\n",
       "60    0.1\n",
       "Name: Danger, dtype: float64"
      ]
     },
     "execution_count": 43,
     "metadata": {},
     "output_type": "execute_result"
    }
   ],
   "source": [
    "tb_sleep['Danger'].map(lambda x: x/10)"
   ]
  },
  {
   "cell_type": "code",
   "execution_count": null,
   "metadata": {},
   "outputs": [],
   "source": [
    "def soma_10(x):\n",
    "    return x + 10\n",
    "\n",
    "tb_sleep['Danger'].map(soma_10)"
   ]
  },
  {
   "cell_type": "markdown",
   "metadata": {},
   "source": [
    "## Funções Lambda com Condicionais\n",
    "\n",
    "Como a sintaxe de uma função lambda não admite as estruturas de controle tradicionais (`for`, `while`, `if`...), para utilizar condicionais dentro de funções lambda precisamos aprender uma nova forma sintática. Essa forma é muito semelhante às condicionais em `list comprehensions`."
   ]
  },
  {
   "cell_type": "code",
   "execution_count": 44,
   "metadata": {},
   "outputs": [],
   "source": [
    "lista_num = [0, 1, 4, 5, 6, 10, 14, 15]"
   ]
  },
  {
   "cell_type": "code",
   "execution_count": 46,
   "metadata": {},
   "outputs": [
    {
     "name": "stdout",
     "output_type": "stream",
     "text": [
      "[0, 4, 6, 10, 14]\n"
     ]
    }
   ],
   "source": [
    "lista_par = [x for x in lista_num if x % 2 == 0]\n",
    "print(lista_par)"
   ]
  },
  {
   "cell_type": "code",
   "execution_count": 54,
   "metadata": {},
   "outputs": [],
   "source": [
    "e_par = lambda x: x/2 if x % 2 == 0 else x/3"
   ]
  },
  {
   "cell_type": "code",
   "execution_count": 55,
   "metadata": {},
   "outputs": [
    {
     "data": {
      "text/plain": [
       "2.0"
      ]
     },
     "execution_count": 55,
     "metadata": {},
     "output_type": "execute_result"
    }
   ],
   "source": [
    "e_par(4)"
   ]
  },
  {
   "cell_type": "code",
   "execution_count": 56,
   "metadata": {},
   "outputs": [
    {
     "ename": "ZeroDivisionError",
     "evalue": "division by zero",
     "output_type": "error",
     "traceback": [
      "\u001b[0;31m---------------------------------------------------------------------------\u001b[0m",
      "\u001b[0;31mZeroDivisionError\u001b[0m                         Traceback (most recent call last)",
      "\u001b[0;32m/var/folders/c2/4vv1dtt97gl9bn1lvw8rf0k40000gn/T/ipykernel_42475/4267799469.py\u001b[0m in \u001b[0;36m<module>\u001b[0;34m\u001b[0m\n\u001b[0;32m----> 1\u001b[0;31m \u001b[0;34m[\u001b[0m\u001b[0;36m10\u001b[0m\u001b[0;34m/\u001b[0m\u001b[0mx\u001b[0m \u001b[0;32mfor\u001b[0m \u001b[0mx\u001b[0m \u001b[0;32min\u001b[0m \u001b[0mlista_num\u001b[0m\u001b[0;34m]\u001b[0m\u001b[0;34m\u001b[0m\u001b[0;34m\u001b[0m\u001b[0m\n\u001b[0m",
      "\u001b[0;32m/var/folders/c2/4vv1dtt97gl9bn1lvw8rf0k40000gn/T/ipykernel_42475/4267799469.py\u001b[0m in \u001b[0;36m<listcomp>\u001b[0;34m(.0)\u001b[0m\n\u001b[0;32m----> 1\u001b[0;31m \u001b[0;34m[\u001b[0m\u001b[0;36m10\u001b[0m\u001b[0;34m/\u001b[0m\u001b[0mx\u001b[0m \u001b[0;32mfor\u001b[0m \u001b[0mx\u001b[0m \u001b[0;32min\u001b[0m \u001b[0mlista_num\u001b[0m\u001b[0;34m]\u001b[0m\u001b[0;34m\u001b[0m\u001b[0;34m\u001b[0m\u001b[0m\n\u001b[0m",
      "\u001b[0;31mZeroDivisionError\u001b[0m: division by zero"
     ]
    }
   ],
   "source": [
    "[10/x for x in lista_num]"
   ]
  },
  {
   "cell_type": "code",
   "execution_count": 57,
   "metadata": {},
   "outputs": [
    {
     "name": "stdout",
     "output_type": "stream",
     "text": [
      "[10.0, 2.5, 2.0, 1.6666666666666667, 1.0, 0.7142857142857143, 0.6666666666666666]\n"
     ]
    }
   ],
   "source": [
    "lista_div = [10/x for x in lista_num if x != 0]\n",
    "print(lista_div)"
   ]
  },
  {
   "cell_type": "code",
   "execution_count": 58,
   "metadata": {
    "ExecuteTime": {
     "end_time": "2022-01-04T23:19:47.468755Z",
     "start_time": "2022-01-04T23:19:47.455206Z"
    }
   },
   "outputs": [],
   "source": [
    "div_segura = lambda x: 1/x if x != 0 else None"
   ]
  },
  {
   "cell_type": "code",
   "execution_count": 61,
   "metadata": {
    "ExecuteTime": {
     "end_time": "2022-01-04T23:19:49.838762Z",
     "start_time": "2022-01-04T23:19:49.824801Z"
    }
   },
   "outputs": [],
   "source": [
    "div_segura(0)"
   ]
  },
  {
   "cell_type": "code",
   "execution_count": 65,
   "metadata": {},
   "outputs": [
    {
     "data": {
      "text/plain": [
       "[None,\n",
       " 1.0,\n",
       " 0.25,\n",
       " 0.2,\n",
       " 0.16666666666666666,\n",
       " 0.1,\n",
       " 0.07142857142857142,\n",
       " 0.06666666666666667]"
      ]
     },
     "execution_count": 65,
     "metadata": {},
     "output_type": "execute_result"
    }
   ],
   "source": [
    "[(lambda y: 1/y if y != 0 else None)(x) for x in lista_num]"
   ]
  },
  {
   "cell_type": "markdown",
   "metadata": {},
   "source": [
    "## Aplicações\n",
    "\n",
    "Até agora as funções anônimas parecem ser variantes mais pobres das funções nomeadas - de fato, é isso que são! Mas temos que nos atentar a diferença de aplicações:\n",
    "\n",
    "1. Funções nomeadas são utilizadas para **refatorar** código, ou seja, para tornar nosso código mais **compartimentado** e mais fácil de se manter\n",
    "1. Já as funções anônimas são utilizadas como as list comprehensions: para simplificar a sintáxe. Quando não vamos utilizar um função mais que uma vez em nosso código e essa função é simples, não devemos utilizar uma função nomeada mas sim uma função lambda!"
   ]
  },
  {
   "cell_type": "markdown",
   "metadata": {},
   "source": [
    "### O método `.map()`\n",
    "\n",
    "Já vimos que podemos utilizar o método `.map()` para aplicar uma função aos elementos de uma coluna. As funções lambda nos permitem utilizar um `.map()`"
   ]
  },
  {
   "cell_type": "code",
   "execution_count": 66,
   "metadata": {
    "ExecuteTime": {
     "end_time": "2022-01-04T23:25:55.168830Z",
     "start_time": "2022-01-04T23:25:55.160852Z"
    }
   },
   "outputs": [
    {
     "data": {
      "text/html": [
       "<div>\n",
       "<style scoped>\n",
       "    .dataframe tbody tr th:only-of-type {\n",
       "        vertical-align: middle;\n",
       "    }\n",
       "\n",
       "    .dataframe tbody tr th {\n",
       "        vertical-align: top;\n",
       "    }\n",
       "\n",
       "    .dataframe thead th {\n",
       "        text-align: right;\n",
       "    }\n",
       "</style>\n",
       "<table border=\"1\" class=\"dataframe\">\n",
       "  <thead>\n",
       "    <tr style=\"text-align: right;\">\n",
       "      <th></th>\n",
       "      <th>nome</th>\n",
       "      <th>telefone</th>\n",
       "    </tr>\n",
       "  </thead>\n",
       "  <tbody>\n",
       "    <tr>\n",
       "      <th>0</th>\n",
       "      <td>Pedro</td>\n",
       "      <td>+5511983722311</td>\n",
       "    </tr>\n",
       "    <tr>\n",
       "      <th>1</th>\n",
       "      <td>Gabi</td>\n",
       "      <td>+1113123314</td>\n",
       "    </tr>\n",
       "    <tr>\n",
       "      <th>2</th>\n",
       "      <td>Adriano</td>\n",
       "      <td>+5511953122316</td>\n",
       "    </tr>\n",
       "    <tr>\n",
       "      <th>3</th>\n",
       "      <td>Maria</td>\n",
       "      <td>+111564316</td>\n",
       "    </tr>\n",
       "  </tbody>\n",
       "</table>\n",
       "</div>"
      ],
      "text/plain": [
       "      nome        telefone\n",
       "0    Pedro  +5511983722311\n",
       "1     Gabi     +1113123314\n",
       "2  Adriano  +5511953122316\n",
       "3    Maria      +111564316"
      ]
     },
     "execution_count": 66,
     "metadata": {},
     "output_type": "execute_result"
    }
   ],
   "source": [
    "names = ['Pedro', 'Gabi', 'Adriano', 'Maria']\n",
    "telefone = [\"+5511983722311\", \"+1113123314\", \"+5511953122316\", \"+111564316\"]\n",
    "tb_telefones = pd.DataFrame({\"nome\" : names, \"telefone\" : telefone})\n",
    "tb_telefones"
   ]
  },
  {
   "cell_type": "code",
   "execution_count": 68,
   "metadata": {},
   "outputs": [
    {
     "data": {
      "text/plain": [
       "-1"
      ]
     },
     "execution_count": 68,
     "metadata": {},
     "output_type": "execute_result"
    }
   ],
   "source": [
    "'Pedro'.find('Gu')"
   ]
  },
  {
   "cell_type": "code",
   "execution_count": 70,
   "metadata": {},
   "outputs": [
    {
     "data": {
      "text/plain": [
       "False"
      ]
     },
     "execution_count": 70,
     "metadata": {},
     "output_type": "execute_result"
    }
   ],
   "source": [
    "(lambda x: True if x.find('+55') >= 0 else False)('+511983722311')"
   ]
  },
  {
   "cell_type": "code",
   "execution_count": 71,
   "metadata": {},
   "outputs": [
    {
     "data": {
      "text/plain": [
       "0     True\n",
       "1    False\n",
       "2     True\n",
       "3    False\n",
       "Name: telefone, dtype: bool"
      ]
     },
     "execution_count": 71,
     "metadata": {},
     "output_type": "execute_result"
    }
   ],
   "source": [
    "tb_telefones['telefone'].map(lambda x: x.find('+55') >= 0)"
   ]
  },
  {
   "cell_type": "code",
   "execution_count": 79,
   "metadata": {},
   "outputs": [
    {
     "data": {
      "text/plain": [
       "-1"
      ]
     },
     "execution_count": 79,
     "metadata": {},
     "output_type": "execute_result"
    }
   ],
   "source": [
    "'11983722311'.find('+55')"
   ]
  },
  {
   "cell_type": "code",
   "execution_count": 72,
   "metadata": {},
   "outputs": [],
   "source": [
    "mask_br = tb_telefones['telefone'].map(lambda x: True if x.find('+55') >= 0 else False)"
   ]
  },
  {
   "cell_type": "code",
   "execution_count": 73,
   "metadata": {
    "ExecuteTime": {
     "end_time": "2022-01-04T23:30:20.907745Z",
     "start_time": "2022-01-04T23:30:20.889792Z"
    }
   },
   "outputs": [
    {
     "data": {
      "text/html": [
       "<div>\n",
       "<style scoped>\n",
       "    .dataframe tbody tr th:only-of-type {\n",
       "        vertical-align: middle;\n",
       "    }\n",
       "\n",
       "    .dataframe tbody tr th {\n",
       "        vertical-align: top;\n",
       "    }\n",
       "\n",
       "    .dataframe thead th {\n",
       "        text-align: right;\n",
       "    }\n",
       "</style>\n",
       "<table border=\"1\" class=\"dataframe\">\n",
       "  <thead>\n",
       "    <tr style=\"text-align: right;\">\n",
       "      <th></th>\n",
       "      <th>nome</th>\n",
       "      <th>telefone</th>\n",
       "    </tr>\n",
       "  </thead>\n",
       "  <tbody>\n",
       "    <tr>\n",
       "      <th>0</th>\n",
       "      <td>Pedro</td>\n",
       "      <td>+5511983722311</td>\n",
       "    </tr>\n",
       "    <tr>\n",
       "      <th>2</th>\n",
       "      <td>Adriano</td>\n",
       "      <td>+5511953122316</td>\n",
       "    </tr>\n",
       "  </tbody>\n",
       "</table>\n",
       "</div>"
      ],
      "text/plain": [
       "      nome        telefone\n",
       "0    Pedro  +5511983722311\n",
       "2  Adriano  +5511953122316"
      ]
     },
     "execution_count": 73,
     "metadata": {},
     "output_type": "execute_result"
    }
   ],
   "source": [
    "tb_telefones[mask_br]"
   ]
  },
  {
   "cell_type": "code",
   "execution_count": 80,
   "metadata": {},
   "outputs": [
    {
     "data": {
      "text/plain": [
       "0     True\n",
       "1    False\n",
       "2     True\n",
       "3    False\n",
       "Name: telefone, dtype: bool"
      ]
     },
     "execution_count": 80,
     "metadata": {},
     "output_type": "execute_result"
    }
   ],
   "source": [
    "tb_telefones['telefone'].map(lambda x: x.startswith('+55'))\n",
    "tb_telefones['telefone'].map(lambda x:  '+55' in x)"
   ]
  },
  {
   "cell_type": "code",
   "execution_count": null,
   "metadata": {},
   "outputs": [],
   "source": [
    "tb_sleep['Danger'].map(lambda x: x/10 > 2)"
   ]
  },
  {
   "cell_type": "markdown",
   "metadata": {},
   "source": [
    "### O método `.groupby()`\n",
    "\n",
    "O método `.groupby()` nos permite passar funções arbitrarias para realizar a agregação de dados. Muitas vezes utilizamos os métodos `.mean()` ou `.sum()` para realizar essa agregação mas, através do método `.agg()`, podemos passar um função que nós mesmos definimos!\n",
    "\n",
    "Vamos ver como podemos reconstruir o método `.mean()` primeiro usando uma função nomeada e depois uma função anônima."
   ]
  },
  {
   "cell_type": "code",
   "execution_count": 81,
   "metadata": {
    "ExecuteTime": {
     "end_time": "2022-01-04T23:51:52.120702Z",
     "start_time": "2022-01-04T23:51:52.104768Z"
    }
   },
   "outputs": [
    {
     "data": {
      "text/plain": [
       "Danger\n",
       "1    13.854545\n",
       "2    12.040000\n",
       "3    10.300000\n",
       "4     8.811111\n",
       "5     4.560000\n",
       "Name: TotalSleep, dtype: float64"
      ]
     },
     "execution_count": 81,
     "metadata": {},
     "output_type": "execute_result"
    }
   ],
   "source": [
    "tb_sleep.groupby('Danger')['TotalSleep'].mean()"
   ]
  },
  {
   "cell_type": "code",
   "execution_count": 82,
   "metadata": {},
   "outputs": [
    {
     "data": {
      "text/plain": [
       "10.642857142857142"
      ]
     },
     "execution_count": 82,
     "metadata": {},
     "output_type": "execute_result"
    }
   ],
   "source": [
    "np.mean(tb_sleep['TotalSleep'])"
   ]
  },
  {
   "cell_type": "code",
   "execution_count": 84,
   "metadata": {},
   "outputs": [
    {
     "data": {
      "text/plain": [
       "12.04"
      ]
     },
     "execution_count": 84,
     "metadata": {},
     "output_type": "execute_result"
    }
   ],
   "source": [
    "np.mean(tb_sleep.loc[tb_sleep['Danger'] == 2, 'TotalSleep'])"
   ]
  },
  {
   "cell_type": "code",
   "execution_count": 86,
   "metadata": {
    "ExecuteTime": {
     "end_time": "2022-01-04T23:51:59.880205Z",
     "start_time": "2022-01-04T23:51:59.840312Z"
    }
   },
   "outputs": [
    {
     "data": {
      "text/plain": [
       "Danger\n",
       "1    13.854545\n",
       "2    12.040000\n",
       "3    10.300000\n",
       "4     8.811111\n",
       "5     4.560000\n",
       "Name: TotalSleep, dtype: float64"
      ]
     },
     "execution_count": 86,
     "metadata": {},
     "output_type": "execute_result"
    }
   ],
   "source": [
    "def minha_media(vetor):\n",
    "    return np.mean(vetor)\n",
    "\n",
    "tb_sleep.groupby('Danger')['TotalSleep'].agg(minha_media)"
   ]
  },
  {
   "cell_type": "code",
   "execution_count": 87,
   "metadata": {},
   "outputs": [
    {
     "data": {
      "text/plain": [
       "Danger\n",
       "1    13.854545\n",
       "2    12.040000\n",
       "3    10.300000\n",
       "4     8.811111\n",
       "5     4.560000\n",
       "Name: TotalSleep, dtype: float64"
      ]
     },
     "execution_count": 87,
     "metadata": {},
     "output_type": "execute_result"
    }
   ],
   "source": [
    "tb_sleep.groupby('Danger')['TotalSleep'].agg(lambda x: np.mean(x))"
   ]
  },
  {
   "cell_type": "markdown",
   "metadata": {},
   "source": [
    "As vezes queremos agregar nossos dados através de funções que não estão disponíveis como métodos. Se esta função for simples o melhor caminho será utilizando o método `.agg()` + uma função anônima.\n",
    "\n",
    "Vamos calcular o IQR (Inter-Quartile Range), uma medida de dispersão (semelhante ao desvio padrão), definida como a diferença entre o 3o e 1o quartis."
   ]
  },
  {
   "cell_type": "code",
   "execution_count": 88,
   "metadata": {},
   "outputs": [
    {
     "data": {
      "text/plain": [
       "array([ 8.05,  9.8 , 13.6 ])"
      ]
     },
     "execution_count": 88,
     "metadata": {},
     "output_type": "execute_result"
    }
   ],
   "source": [
    "np.quantile(tb_sleep['TotalSleep'], [0.25, 0.5, 0.75])"
   ]
  },
  {
   "cell_type": "code",
   "execution_count": null,
   "metadata": {},
   "outputs": [],
   "source": []
  },
  {
   "cell_type": "code",
   "execution_count": 89,
   "metadata": {
    "ExecuteTime": {
     "end_time": "2022-01-04T23:55:39.879794Z",
     "start_time": "2022-01-04T23:55:39.842893Z"
    }
   },
   "outputs": [
    {
     "data": {
      "text/plain": [
       "Danger\n",
       "1    10.35\n",
       "2     4.35\n",
       "3     6.35\n",
       "4     2.10\n",
       "5     0.10\n",
       "Name: TotalSleep, dtype: float64"
      ]
     },
     "execution_count": 89,
     "metadata": {},
     "output_type": "execute_result"
    }
   ],
   "source": [
    "tb_sleep.groupby('Danger')['TotalSleep'].agg(lambda x: np.quantile(x, 0.75) - np.quantile(x, 0.25))"
   ]
  },
  {
   "cell_type": "code",
   "execution_count": 92,
   "metadata": {},
   "outputs": [
    {
     "data": {
      "text/plain": [
       "Danger\n",
       "1    19.80\n",
       "2    16.46\n",
       "3    13.62\n",
       "4    11.86\n",
       "5     7.50\n",
       "Name: TotalSleep, dtype: float64"
      ]
     },
     "execution_count": 92,
     "metadata": {},
     "output_type": "execute_result"
    }
   ],
   "source": [
    "tb_sleep.groupby('Danger')['TotalSleep'].agg(lambda x: np.quantile(x, 0.95)) #.median()"
   ]
  },
  {
   "cell_type": "markdown",
   "metadata": {
    "ExecuteTime": {
     "end_time": "2022-01-04T23:55:40.875967Z",
     "start_time": "2022-01-04T23:55:40.849041Z"
    }
   },
   "source": [
    "### O método `.transform()`\n",
    "\n",
    "Além do `.agg()`, podemos utilizar outro método extremamente importante após um `.groupby()`: o método `.transform()`. Este método realiza uma agregação - de forma semelhante ao método `.agg()`, mas ao invés de retornar um DataFrame onde cada linha é uma chave do nosso `.groupby()` ele retorna uma série, do tamanho da tabela original, com o resultado da agregação pelo grupo para cada observação daquele grupo.\n",
    "\n",
    "Vamos começar com a mesma agregação que fizemos acima, mas dessa vez utilizando o método `.transform()`."
   ]
  },
  {
   "cell_type": "code",
   "execution_count": 95,
   "metadata": {},
   "outputs": [
    {
     "data": {
      "text/plain": [
       "Danger\n",
       "1    13.854545\n",
       "2    12.040000\n",
       "3    10.300000\n",
       "4     8.811111\n",
       "5     4.560000\n",
       "Name: TotalSleep, dtype: float64"
      ]
     },
     "execution_count": 95,
     "metadata": {},
     "output_type": "execute_result"
    }
   ],
   "source": [
    "tb_sleep.groupby('Danger')['TotalSleep'].agg('mean')"
   ]
  },
  {
   "cell_type": "code",
   "execution_count": 96,
   "metadata": {},
   "outputs": [],
   "source": [
    "tb_sleep['media_sleep_danger'] = tb_sleep.groupby('Danger')['TotalSleep'].transform(\"mean\")"
   ]
  },
  {
   "cell_type": "code",
   "execution_count": 100,
   "metadata": {},
   "outputs": [
    {
     "data": {
      "text/html": [
       "<div>\n",
       "<style scoped>\n",
       "    .dataframe tbody tr th:only-of-type {\n",
       "        vertical-align: middle;\n",
       "    }\n",
       "\n",
       "    .dataframe tbody tr th {\n",
       "        vertical-align: top;\n",
       "    }\n",
       "\n",
       "    .dataframe thead th {\n",
       "        text-align: right;\n",
       "    }\n",
       "</style>\n",
       "<table border=\"1\" class=\"dataframe\">\n",
       "  <thead>\n",
       "    <tr style=\"text-align: right;\">\n",
       "      <th></th>\n",
       "      <th>Species</th>\n",
       "      <th>TotalSleep</th>\n",
       "      <th>Danger</th>\n",
       "      <th>media_sleep_danger</th>\n",
       "    </tr>\n",
       "  </thead>\n",
       "  <tbody>\n",
       "    <tr>\n",
       "      <th>1</th>\n",
       "      <td>Africangiantpouchedrat</td>\n",
       "      <td>8.3</td>\n",
       "      <td>3</td>\n",
       "      <td>10.300000</td>\n",
       "    </tr>\n",
       "    <tr>\n",
       "      <th>4</th>\n",
       "      <td>Asianelephant</td>\n",
       "      <td>3.9</td>\n",
       "      <td>4</td>\n",
       "      <td>8.811111</td>\n",
       "    </tr>\n",
       "    <tr>\n",
       "      <th>5</th>\n",
       "      <td>Baboon</td>\n",
       "      <td>9.8</td>\n",
       "      <td>4</td>\n",
       "      <td>8.811111</td>\n",
       "    </tr>\n",
       "    <tr>\n",
       "      <th>6</th>\n",
       "      <td>Bigbrownbat</td>\n",
       "      <td>19.7</td>\n",
       "      <td>1</td>\n",
       "      <td>13.854545</td>\n",
       "    </tr>\n",
       "    <tr>\n",
       "      <th>7</th>\n",
       "      <td>Braziliantapir</td>\n",
       "      <td>6.2</td>\n",
       "      <td>4</td>\n",
       "      <td>8.811111</td>\n",
       "    </tr>\n",
       "    <tr>\n",
       "      <th>8</th>\n",
       "      <td>Cat</td>\n",
       "      <td>14.5</td>\n",
       "      <td>1</td>\n",
       "      <td>13.854545</td>\n",
       "    </tr>\n",
       "    <tr>\n",
       "      <th>9</th>\n",
       "      <td>Chimpanzee</td>\n",
       "      <td>9.7</td>\n",
       "      <td>1</td>\n",
       "      <td>13.854545</td>\n",
       "    </tr>\n",
       "    <tr>\n",
       "      <th>10</th>\n",
       "      <td>Chinchilla</td>\n",
       "      <td>12.5</td>\n",
       "      <td>4</td>\n",
       "      <td>8.811111</td>\n",
       "    </tr>\n",
       "    <tr>\n",
       "      <th>11</th>\n",
       "      <td>Cow</td>\n",
       "      <td>3.9</td>\n",
       "      <td>5</td>\n",
       "      <td>4.560000</td>\n",
       "    </tr>\n",
       "    <tr>\n",
       "      <th>14</th>\n",
       "      <td>EasternAmericanmole</td>\n",
       "      <td>8.4</td>\n",
       "      <td>1</td>\n",
       "      <td>13.854545</td>\n",
       "    </tr>\n",
       "    <tr>\n",
       "      <th>15</th>\n",
       "      <td>Echidna</td>\n",
       "      <td>8.6</td>\n",
       "      <td>2</td>\n",
       "      <td>12.040000</td>\n",
       "    </tr>\n",
       "    <tr>\n",
       "      <th>16</th>\n",
       "      <td>Europeanhedgehog</td>\n",
       "      <td>10.7</td>\n",
       "      <td>2</td>\n",
       "      <td>12.040000</td>\n",
       "    </tr>\n",
       "    <tr>\n",
       "      <th>17</th>\n",
       "      <td>Galago</td>\n",
       "      <td>10.7</td>\n",
       "      <td>2</td>\n",
       "      <td>12.040000</td>\n",
       "    </tr>\n",
       "    <tr>\n",
       "      <th>21</th>\n",
       "      <td>Goat</td>\n",
       "      <td>3.8</td>\n",
       "      <td>5</td>\n",
       "      <td>4.560000</td>\n",
       "    </tr>\n",
       "    <tr>\n",
       "      <th>22</th>\n",
       "      <td>Goldenhamster</td>\n",
       "      <td>14.4</td>\n",
       "      <td>2</td>\n",
       "      <td>12.040000</td>\n",
       "    </tr>\n",
       "    <tr>\n",
       "      <th>24</th>\n",
       "      <td>Grayseal</td>\n",
       "      <td>6.2</td>\n",
       "      <td>1</td>\n",
       "      <td>13.854545</td>\n",
       "    </tr>\n",
       "    <tr>\n",
       "      <th>26</th>\n",
       "      <td>Groundsquirrel</td>\n",
       "      <td>13.8</td>\n",
       "      <td>3</td>\n",
       "      <td>10.300000</td>\n",
       "    </tr>\n",
       "    <tr>\n",
       "      <th>27</th>\n",
       "      <td>Guineapig</td>\n",
       "      <td>8.2</td>\n",
       "      <td>4</td>\n",
       "      <td>8.811111</td>\n",
       "    </tr>\n",
       "    <tr>\n",
       "      <th>28</th>\n",
       "      <td>Horse</td>\n",
       "      <td>2.9</td>\n",
       "      <td>5</td>\n",
       "      <td>4.560000</td>\n",
       "    </tr>\n",
       "    <tr>\n",
       "      <th>31</th>\n",
       "      <td>Lessershort-tailedshrew</td>\n",
       "      <td>9.1</td>\n",
       "      <td>4</td>\n",
       "      <td>8.811111</td>\n",
       "    </tr>\n",
       "    <tr>\n",
       "      <th>32</th>\n",
       "      <td>Littlebrownbat</td>\n",
       "      <td>19.9</td>\n",
       "      <td>1</td>\n",
       "      <td>13.854545</td>\n",
       "    </tr>\n",
       "    <tr>\n",
       "      <th>33</th>\n",
       "      <td>Man</td>\n",
       "      <td>8.0</td>\n",
       "      <td>1</td>\n",
       "      <td>13.854545</td>\n",
       "    </tr>\n",
       "    <tr>\n",
       "      <th>36</th>\n",
       "      <td>Mouse</td>\n",
       "      <td>13.2</td>\n",
       "      <td>3</td>\n",
       "      <td>10.300000</td>\n",
       "    </tr>\n",
       "    <tr>\n",
       "      <th>37</th>\n",
       "      <td>Muskshrew</td>\n",
       "      <td>12.8</td>\n",
       "      <td>3</td>\n",
       "      <td>10.300000</td>\n",
       "    </tr>\n",
       "    <tr>\n",
       "      <th>38</th>\n",
       "      <td>NAmericanopossum</td>\n",
       "      <td>19.4</td>\n",
       "      <td>1</td>\n",
       "      <td>13.854545</td>\n",
       "    </tr>\n",
       "    <tr>\n",
       "      <th>39</th>\n",
       "      <td>Nine-bandedarmadillo</td>\n",
       "      <td>17.4</td>\n",
       "      <td>1</td>\n",
       "      <td>13.854545</td>\n",
       "    </tr>\n",
       "    <tr>\n",
       "      <th>41</th>\n",
       "      <td>Owlmonkey</td>\n",
       "      <td>17.0</td>\n",
       "      <td>2</td>\n",
       "      <td>12.040000</td>\n",
       "    </tr>\n",
       "    <tr>\n",
       "      <th>42</th>\n",
       "      <td>Patasmonkey</td>\n",
       "      <td>10.9</td>\n",
       "      <td>4</td>\n",
       "      <td>8.811111</td>\n",
       "    </tr>\n",
       "    <tr>\n",
       "      <th>43</th>\n",
       "      <td>Phanlanger</td>\n",
       "      <td>13.7</td>\n",
       "      <td>2</td>\n",
       "      <td>12.040000</td>\n",
       "    </tr>\n",
       "    <tr>\n",
       "      <th>44</th>\n",
       "      <td>Pig</td>\n",
       "      <td>8.4</td>\n",
       "      <td>4</td>\n",
       "      <td>8.811111</td>\n",
       "    </tr>\n",
       "    <tr>\n",
       "      <th>45</th>\n",
       "      <td>Rabbit</td>\n",
       "      <td>8.4</td>\n",
       "      <td>5</td>\n",
       "      <td>4.560000</td>\n",
       "    </tr>\n",
       "    <tr>\n",
       "      <th>47</th>\n",
       "      <td>Rat</td>\n",
       "      <td>13.2</td>\n",
       "      <td>3</td>\n",
       "      <td>10.300000</td>\n",
       "    </tr>\n",
       "    <tr>\n",
       "      <th>48</th>\n",
       "      <td>Redfox</td>\n",
       "      <td>9.8</td>\n",
       "      <td>1</td>\n",
       "      <td>13.854545</td>\n",
       "    </tr>\n",
       "    <tr>\n",
       "      <th>49</th>\n",
       "      <td>Rhesusmonkey</td>\n",
       "      <td>9.6</td>\n",
       "      <td>2</td>\n",
       "      <td>12.040000</td>\n",
       "    </tr>\n",
       "    <tr>\n",
       "      <th>50</th>\n",
       "      <td>Rockhyrax(Heterob)</td>\n",
       "      <td>6.6</td>\n",
       "      <td>2</td>\n",
       "      <td>12.040000</td>\n",
       "    </tr>\n",
       "    <tr>\n",
       "      <th>51</th>\n",
       "      <td>Rockhyrax(Procaviahab)</td>\n",
       "      <td>5.4</td>\n",
       "      <td>3</td>\n",
       "      <td>10.300000</td>\n",
       "    </tr>\n",
       "    <tr>\n",
       "      <th>53</th>\n",
       "      <td>Sheep</td>\n",
       "      <td>3.8</td>\n",
       "      <td>5</td>\n",
       "      <td>4.560000</td>\n",
       "    </tr>\n",
       "    <tr>\n",
       "      <th>56</th>\n",
       "      <td>Tenrec</td>\n",
       "      <td>13.3</td>\n",
       "      <td>2</td>\n",
       "      <td>12.040000</td>\n",
       "    </tr>\n",
       "    <tr>\n",
       "      <th>57</th>\n",
       "      <td>Treehyrax</td>\n",
       "      <td>5.4</td>\n",
       "      <td>3</td>\n",
       "      <td>10.300000</td>\n",
       "    </tr>\n",
       "    <tr>\n",
       "      <th>58</th>\n",
       "      <td>Treeshrew</td>\n",
       "      <td>15.8</td>\n",
       "      <td>2</td>\n",
       "      <td>12.040000</td>\n",
       "    </tr>\n",
       "    <tr>\n",
       "      <th>59</th>\n",
       "      <td>Vervet</td>\n",
       "      <td>10.3</td>\n",
       "      <td>4</td>\n",
       "      <td>8.811111</td>\n",
       "    </tr>\n",
       "    <tr>\n",
       "      <th>60</th>\n",
       "      <td>Wateropossum</td>\n",
       "      <td>19.4</td>\n",
       "      <td>1</td>\n",
       "      <td>13.854545</td>\n",
       "    </tr>\n",
       "  </tbody>\n",
       "</table>\n",
       "</div>"
      ],
      "text/plain": [
       "                    Species  TotalSleep  Danger  media_sleep_danger\n",
       "1    Africangiantpouchedrat         8.3       3           10.300000\n",
       "4             Asianelephant         3.9       4            8.811111\n",
       "5                    Baboon         9.8       4            8.811111\n",
       "6               Bigbrownbat        19.7       1           13.854545\n",
       "7            Braziliantapir         6.2       4            8.811111\n",
       "8                       Cat        14.5       1           13.854545\n",
       "9                Chimpanzee         9.7       1           13.854545\n",
       "10               Chinchilla        12.5       4            8.811111\n",
       "11                      Cow         3.9       5            4.560000\n",
       "14      EasternAmericanmole         8.4       1           13.854545\n",
       "15                  Echidna         8.6       2           12.040000\n",
       "16         Europeanhedgehog        10.7       2           12.040000\n",
       "17                   Galago        10.7       2           12.040000\n",
       "21                     Goat         3.8       5            4.560000\n",
       "22            Goldenhamster        14.4       2           12.040000\n",
       "24                 Grayseal         6.2       1           13.854545\n",
       "26           Groundsquirrel        13.8       3           10.300000\n",
       "27                Guineapig         8.2       4            8.811111\n",
       "28                    Horse         2.9       5            4.560000\n",
       "31  Lessershort-tailedshrew         9.1       4            8.811111\n",
       "32           Littlebrownbat        19.9       1           13.854545\n",
       "33                      Man         8.0       1           13.854545\n",
       "36                    Mouse        13.2       3           10.300000\n",
       "37                Muskshrew        12.8       3           10.300000\n",
       "38         NAmericanopossum        19.4       1           13.854545\n",
       "39     Nine-bandedarmadillo        17.4       1           13.854545\n",
       "41                Owlmonkey        17.0       2           12.040000\n",
       "42              Patasmonkey        10.9       4            8.811111\n",
       "43               Phanlanger        13.7       2           12.040000\n",
       "44                      Pig         8.4       4            8.811111\n",
       "45                   Rabbit         8.4       5            4.560000\n",
       "47                      Rat        13.2       3           10.300000\n",
       "48                   Redfox         9.8       1           13.854545\n",
       "49             Rhesusmonkey         9.6       2           12.040000\n",
       "50       Rockhyrax(Heterob)         6.6       2           12.040000\n",
       "51   Rockhyrax(Procaviahab)         5.4       3           10.300000\n",
       "53                    Sheep         3.8       5            4.560000\n",
       "56                   Tenrec        13.3       2           12.040000\n",
       "57                Treehyrax         5.4       3           10.300000\n",
       "58                Treeshrew        15.8       2           12.040000\n",
       "59                   Vervet        10.3       4            8.811111\n",
       "60             Wateropossum        19.4       1           13.854545"
      ]
     },
     "execution_count": 100,
     "metadata": {},
     "output_type": "execute_result"
    }
   ],
   "source": [
    "tb_sleep[['Species', 'TotalSleep', 'Danger', 'media_sleep_danger']]"
   ]
  },
  {
   "cell_type": "code",
   "execution_count": 101,
   "metadata": {},
   "outputs": [
    {
     "data": {
      "text/plain": [
       "1     0.805825\n",
       "4     0.442623\n",
       "5     1.112232\n",
       "6     1.421916\n",
       "7     0.703657\n",
       "8     1.046588\n",
       "9     0.700131\n",
       "10    1.418663\n",
       "11    0.855263\n",
       "14    0.606299\n",
       "15    0.714286\n",
       "16    0.888704\n",
       "17    0.888704\n",
       "21    0.833333\n",
       "22    1.196013\n",
       "24    0.447507\n",
       "26    1.339806\n",
       "27    0.930643\n",
       "28    0.635965\n",
       "31    1.032787\n",
       "32    1.436352\n",
       "33    0.577428\n",
       "36    1.281553\n",
       "37    1.242718\n",
       "38    1.400262\n",
       "39    1.255906\n",
       "41    1.411960\n",
       "42    1.237074\n",
       "43    1.137874\n",
       "44    0.953342\n",
       "45    1.842105\n",
       "47    1.281553\n",
       "48    0.707349\n",
       "49    0.797342\n",
       "50    0.548173\n",
       "51    0.524272\n",
       "53    0.833333\n",
       "56    1.104651\n",
       "57    0.524272\n",
       "58    1.312292\n",
       "59    1.168979\n",
       "60    1.400262\n",
       "dtype: float64"
      ]
     },
     "execution_count": 101,
     "metadata": {},
     "output_type": "execute_result"
    }
   ],
   "source": [
    "tb_sleep['TotalSleep']/tb_sleep['media_sleep_danger']"
   ]
  },
  {
   "cell_type": "code",
   "execution_count": 102,
   "metadata": {},
   "outputs": [
    {
     "data": {
      "text/plain": [
       "Danger\n",
       "1    13.854545\n",
       "2    12.040000\n",
       "3    10.300000\n",
       "4     8.811111\n",
       "5     4.560000\n",
       "Name: TotalSleep, dtype: float64"
      ]
     },
     "execution_count": 102,
     "metadata": {},
     "output_type": "execute_result"
    }
   ],
   "source": [
    "tb_sleep.groupby('Danger')['TotalSleep'].mean()"
   ]
  },
  {
   "cell_type": "code",
   "execution_count": 103,
   "metadata": {},
   "outputs": [
    {
     "data": {
      "text/html": [
       "<div>\n",
       "<style scoped>\n",
       "    .dataframe tbody tr th:only-of-type {\n",
       "        vertical-align: middle;\n",
       "    }\n",
       "\n",
       "    .dataframe tbody tr th {\n",
       "        vertical-align: top;\n",
       "    }\n",
       "\n",
       "    .dataframe thead th {\n",
       "        text-align: right;\n",
       "    }\n",
       "</style>\n",
       "<table border=\"1\" class=\"dataframe\">\n",
       "  <thead>\n",
       "    <tr style=\"text-align: right;\">\n",
       "      <th></th>\n",
       "      <th>Species</th>\n",
       "      <th>BodyWt</th>\n",
       "      <th>BrainWt</th>\n",
       "      <th>NonDreaming</th>\n",
       "      <th>Dreaming</th>\n",
       "      <th>TotalSleep</th>\n",
       "      <th>LifeSpan</th>\n",
       "      <th>Gestation</th>\n",
       "      <th>Predation</th>\n",
       "      <th>Exposure</th>\n",
       "      <th>Danger</th>\n",
       "      <th>primata</th>\n",
       "      <th>primate_list</th>\n",
       "      <th>media_sleep_danger</th>\n",
       "      <th>media_totalsleep_danger</th>\n",
       "    </tr>\n",
       "  </thead>\n",
       "  <tbody>\n",
       "    <tr>\n",
       "      <th>1</th>\n",
       "      <td>Africangiantpouchedrat</td>\n",
       "      <td>1.000</td>\n",
       "      <td>6.6</td>\n",
       "      <td>6.3</td>\n",
       "      <td>2.0</td>\n",
       "      <td>8.3</td>\n",
       "      <td>4.5</td>\n",
       "      <td>42.0</td>\n",
       "      <td>3</td>\n",
       "      <td>1</td>\n",
       "      <td>3</td>\n",
       "      <td>[]</td>\n",
       "      <td>[]</td>\n",
       "      <td>10.300000</td>\n",
       "      <td>10.300000</td>\n",
       "    </tr>\n",
       "    <tr>\n",
       "      <th>4</th>\n",
       "      <td>Asianelephant</td>\n",
       "      <td>2547.000</td>\n",
       "      <td>4603.0</td>\n",
       "      <td>2.1</td>\n",
       "      <td>1.8</td>\n",
       "      <td>3.9</td>\n",
       "      <td>69.0</td>\n",
       "      <td>624.0</td>\n",
       "      <td>3</td>\n",
       "      <td>5</td>\n",
       "      <td>4</td>\n",
       "      <td>[]</td>\n",
       "      <td>[]</td>\n",
       "      <td>8.811111</td>\n",
       "      <td>8.811111</td>\n",
       "    </tr>\n",
       "    <tr>\n",
       "      <th>5</th>\n",
       "      <td>Baboon</td>\n",
       "      <td>10.550</td>\n",
       "      <td>179.5</td>\n",
       "      <td>9.1</td>\n",
       "      <td>0.7</td>\n",
       "      <td>9.8</td>\n",
       "      <td>27.0</td>\n",
       "      <td>180.0</td>\n",
       "      <td>4</td>\n",
       "      <td>4</td>\n",
       "      <td>4</td>\n",
       "      <td>[]</td>\n",
       "      <td>[baboon]</td>\n",
       "      <td>8.811111</td>\n",
       "      <td>8.811111</td>\n",
       "    </tr>\n",
       "    <tr>\n",
       "      <th>6</th>\n",
       "      <td>Bigbrownbat</td>\n",
       "      <td>0.023</td>\n",
       "      <td>0.3</td>\n",
       "      <td>15.8</td>\n",
       "      <td>3.9</td>\n",
       "      <td>19.7</td>\n",
       "      <td>19.0</td>\n",
       "      <td>35.0</td>\n",
       "      <td>1</td>\n",
       "      <td>1</td>\n",
       "      <td>1</td>\n",
       "      <td>[]</td>\n",
       "      <td>[]</td>\n",
       "      <td>13.854545</td>\n",
       "      <td>13.854545</td>\n",
       "    </tr>\n",
       "    <tr>\n",
       "      <th>7</th>\n",
       "      <td>Braziliantapir</td>\n",
       "      <td>160.000</td>\n",
       "      <td>169.0</td>\n",
       "      <td>5.2</td>\n",
       "      <td>1.0</td>\n",
       "      <td>6.2</td>\n",
       "      <td>30.4</td>\n",
       "      <td>392.0</td>\n",
       "      <td>4</td>\n",
       "      <td>5</td>\n",
       "      <td>4</td>\n",
       "      <td>[]</td>\n",
       "      <td>[]</td>\n",
       "      <td>8.811111</td>\n",
       "      <td>8.811111</td>\n",
       "    </tr>\n",
       "  </tbody>\n",
       "</table>\n",
       "</div>"
      ],
      "text/plain": [
       "                  Species    BodyWt  BrainWt  NonDreaming  Dreaming  \\\n",
       "1  Africangiantpouchedrat     1.000      6.6          6.3       2.0   \n",
       "4           Asianelephant  2547.000   4603.0          2.1       1.8   \n",
       "5                  Baboon    10.550    179.5          9.1       0.7   \n",
       "6             Bigbrownbat     0.023      0.3         15.8       3.9   \n",
       "7          Braziliantapir   160.000    169.0          5.2       1.0   \n",
       "\n",
       "   TotalSleep  LifeSpan  Gestation  Predation  Exposure  Danger primata  \\\n",
       "1         8.3       4.5       42.0          3         1       3      []   \n",
       "4         3.9      69.0      624.0          3         5       4      []   \n",
       "5         9.8      27.0      180.0          4         4       4      []   \n",
       "6        19.7      19.0       35.0          1         1       1      []   \n",
       "7         6.2      30.4      392.0          4         5       4      []   \n",
       "\n",
       "  primate_list  media_sleep_danger  media_totalsleep_danger  \n",
       "1           []           10.300000                10.300000  \n",
       "4           []            8.811111                 8.811111  \n",
       "5     [baboon]            8.811111                 8.811111  \n",
       "6           []           13.854545                13.854545  \n",
       "7           []            8.811111                 8.811111  "
      ]
     },
     "execution_count": 103,
     "metadata": {},
     "output_type": "execute_result"
    }
   ],
   "source": [
    "tb_sleep['media_totalsleep_danger'] = tb_sleep.groupby('Danger')['TotalSleep'].transform(\"mean\")\n",
    "tb_sleep.head()"
   ]
  },
  {
   "cell_type": "markdown",
   "metadata": {},
   "source": [
    "Um uso comum desse método é calcular como cada observação se comporta em relação ao seu grupo: por exemplo, podemos encontrar dentro de cada faixa de `Danger`, quais animais dormem mais ou menos:"
   ]
  },
  {
   "cell_type": "code",
   "execution_count": 104,
   "metadata": {},
   "outputs": [
    {
     "data": {
      "text/html": [
       "<div>\n",
       "<style scoped>\n",
       "    .dataframe tbody tr th:only-of-type {\n",
       "        vertical-align: middle;\n",
       "    }\n",
       "\n",
       "    .dataframe tbody tr th {\n",
       "        vertical-align: top;\n",
       "    }\n",
       "\n",
       "    .dataframe thead th {\n",
       "        text-align: right;\n",
       "    }\n",
       "</style>\n",
       "<table border=\"1\" class=\"dataframe\">\n",
       "  <thead>\n",
       "    <tr style=\"text-align: right;\">\n",
       "      <th></th>\n",
       "      <th>Species</th>\n",
       "      <th>BodyWt</th>\n",
       "      <th>BrainWt</th>\n",
       "      <th>NonDreaming</th>\n",
       "      <th>Dreaming</th>\n",
       "      <th>TotalSleep</th>\n",
       "      <th>LifeSpan</th>\n",
       "      <th>Gestation</th>\n",
       "      <th>Predation</th>\n",
       "      <th>Exposure</th>\n",
       "      <th>Danger</th>\n",
       "      <th>primata</th>\n",
       "      <th>primate_list</th>\n",
       "      <th>media_sleep_danger</th>\n",
       "      <th>media_totalsleep_danger</th>\n",
       "      <th>norm_totalsleep_danger</th>\n",
       "    </tr>\n",
       "  </thead>\n",
       "  <tbody>\n",
       "    <tr>\n",
       "      <th>45</th>\n",
       "      <td>Rabbit</td>\n",
       "      <td>2.500</td>\n",
       "      <td>12.10</td>\n",
       "      <td>7.5</td>\n",
       "      <td>0.9</td>\n",
       "      <td>8.4</td>\n",
       "      <td>18.0</td>\n",
       "      <td>31.0</td>\n",
       "      <td>5</td>\n",
       "      <td>5</td>\n",
       "      <td>5</td>\n",
       "      <td>[]</td>\n",
       "      <td>[]</td>\n",
       "      <td>4.560000</td>\n",
       "      <td>4.560000</td>\n",
       "      <td>1.842105</td>\n",
       "    </tr>\n",
       "    <tr>\n",
       "      <th>32</th>\n",
       "      <td>Littlebrownbat</td>\n",
       "      <td>0.010</td>\n",
       "      <td>0.25</td>\n",
       "      <td>17.9</td>\n",
       "      <td>2.0</td>\n",
       "      <td>19.9</td>\n",
       "      <td>24.0</td>\n",
       "      <td>50.0</td>\n",
       "      <td>1</td>\n",
       "      <td>1</td>\n",
       "      <td>1</td>\n",
       "      <td>[]</td>\n",
       "      <td>[]</td>\n",
       "      <td>13.854545</td>\n",
       "      <td>13.854545</td>\n",
       "      <td>1.436352</td>\n",
       "    </tr>\n",
       "    <tr>\n",
       "      <th>6</th>\n",
       "      <td>Bigbrownbat</td>\n",
       "      <td>0.023</td>\n",
       "      <td>0.30</td>\n",
       "      <td>15.8</td>\n",
       "      <td>3.9</td>\n",
       "      <td>19.7</td>\n",
       "      <td>19.0</td>\n",
       "      <td>35.0</td>\n",
       "      <td>1</td>\n",
       "      <td>1</td>\n",
       "      <td>1</td>\n",
       "      <td>[]</td>\n",
       "      <td>[]</td>\n",
       "      <td>13.854545</td>\n",
       "      <td>13.854545</td>\n",
       "      <td>1.421916</td>\n",
       "    </tr>\n",
       "    <tr>\n",
       "      <th>10</th>\n",
       "      <td>Chinchilla</td>\n",
       "      <td>0.425</td>\n",
       "      <td>6.40</td>\n",
       "      <td>11.0</td>\n",
       "      <td>1.5</td>\n",
       "      <td>12.5</td>\n",
       "      <td>7.0</td>\n",
       "      <td>112.0</td>\n",
       "      <td>5</td>\n",
       "      <td>4</td>\n",
       "      <td>4</td>\n",
       "      <td>[]</td>\n",
       "      <td>[]</td>\n",
       "      <td>8.811111</td>\n",
       "      <td>8.811111</td>\n",
       "      <td>1.418663</td>\n",
       "    </tr>\n",
       "    <tr>\n",
       "      <th>41</th>\n",
       "      <td>Owlmonkey</td>\n",
       "      <td>0.480</td>\n",
       "      <td>15.50</td>\n",
       "      <td>15.2</td>\n",
       "      <td>1.8</td>\n",
       "      <td>17.0</td>\n",
       "      <td>12.0</td>\n",
       "      <td>140.0</td>\n",
       "      <td>2</td>\n",
       "      <td>2</td>\n",
       "      <td>2</td>\n",
       "      <td>[monk]</td>\n",
       "      <td>[monk]</td>\n",
       "      <td>12.040000</td>\n",
       "      <td>12.040000</td>\n",
       "      <td>1.411960</td>\n",
       "    </tr>\n",
       "  </tbody>\n",
       "</table>\n",
       "</div>"
      ],
      "text/plain": [
       "           Species  BodyWt  BrainWt  NonDreaming  Dreaming  TotalSleep  \\\n",
       "45          Rabbit   2.500    12.10          7.5       0.9         8.4   \n",
       "32  Littlebrownbat   0.010     0.25         17.9       2.0        19.9   \n",
       "6      Bigbrownbat   0.023     0.30         15.8       3.9        19.7   \n",
       "10      Chinchilla   0.425     6.40         11.0       1.5        12.5   \n",
       "41       Owlmonkey   0.480    15.50         15.2       1.8        17.0   \n",
       "\n",
       "    LifeSpan  Gestation  Predation  Exposure  Danger primata primate_list  \\\n",
       "45      18.0       31.0          5         5       5      []           []   \n",
       "32      24.0       50.0          1         1       1      []           []   \n",
       "6       19.0       35.0          1         1       1      []           []   \n",
       "10       7.0      112.0          5         4       4      []           []   \n",
       "41      12.0      140.0          2         2       2  [monk]       [monk]   \n",
       "\n",
       "    media_sleep_danger  media_totalsleep_danger  norm_totalsleep_danger  \n",
       "45            4.560000                 4.560000                1.842105  \n",
       "32           13.854545                13.854545                1.436352  \n",
       "6            13.854545                13.854545                1.421916  \n",
       "10            8.811111                 8.811111                1.418663  \n",
       "41           12.040000                12.040000                1.411960  "
      ]
     },
     "execution_count": 104,
     "metadata": {},
     "output_type": "execute_result"
    }
   ],
   "source": [
    "tb_sleep['norm_totalsleep_danger'] = tb_sleep['TotalSleep']/tb_sleep['media_totalsleep_danger']\n",
    "tb_sleep.sort_values('norm_totalsleep_danger', ascending=False).head()"
   ]
  },
  {
   "cell_type": "markdown",
   "metadata": {},
   "source": [
    "Uma forma comum de se fazer isso é através do Z-Score: para cada observação, subtraimos a média do grupo e dividimos pelo desvio padrão do grupo. Vamos usar uma função lambda para calcular isto:"
   ]
  },
  {
   "cell_type": "code",
   "execution_count": 105,
   "metadata": {},
   "outputs": [
    {
     "data": {
      "text/plain": [
       "6     19.7\n",
       "8     14.5\n",
       "9      9.7\n",
       "14     8.4\n",
       "24     6.2\n",
       "32    19.9\n",
       "33     8.0\n",
       "38    19.4\n",
       "39    17.4\n",
       "48     9.8\n",
       "60    19.4\n",
       "Name: TotalSleep, dtype: float64"
      ]
     },
     "execution_count": 105,
     "metadata": {},
     "output_type": "execute_result"
    }
   ],
   "source": [
    "tb_sleep.loc[tb_sleep['Danger'] == 1, 'TotalSleep']"
   ]
  },
  {
   "cell_type": "code",
   "execution_count": 107,
   "metadata": {},
   "outputs": [
    {
     "data": {
      "text/plain": [
       "5.235606005796642"
      ]
     },
     "execution_count": 107,
     "metadata": {},
     "output_type": "execute_result"
    }
   ],
   "source": [
    "np.std(tb_sleep.loc[tb_sleep['Danger'] == 1, 'TotalSleep'])"
   ]
  },
  {
   "cell_type": "code",
   "execution_count": 108,
   "metadata": {},
   "outputs": [
    {
     "data": {
      "text/plain": [
       "6     1.116481\n",
       "8     0.123282\n",
       "9    -0.793518\n",
       "14   -1.041817\n",
       "24   -1.462017\n",
       "32    1.154681\n",
       "33   -1.118217\n",
       "38    1.059181\n",
       "39    0.677181\n",
       "48   -0.774418\n",
       "60    1.059181\n",
       "Name: TotalSleep, dtype: float64"
      ]
     },
     "execution_count": 108,
     "metadata": {},
     "output_type": "execute_result"
    }
   ],
   "source": [
    "(tb_sleep.loc[tb_sleep['Danger'] == 1, 'TotalSleep'] - np.mean(tb_sleep.loc[tb_sleep['Danger'] == 1, 'TotalSleep']))/np.std(tb_sleep.loc[tb_sleep['Danger'] == 1, 'TotalSleep'])"
   ]
  },
  {
   "cell_type": "code",
   "execution_count": 111,
   "metadata": {},
   "outputs": [
    {
     "data": {
      "text/plain": [
       "6     1.116481\n",
       "8     0.123282\n",
       "9    -0.793518\n",
       "14   -1.041817\n",
       "24   -1.462017\n",
       "32    1.154681\n",
       "33   -1.118217\n",
       "38    1.059181\n",
       "39    0.677181\n",
       "48   -0.774418\n",
       "60    1.059181\n",
       "Name: TotalSleep, dtype: float64"
      ]
     },
     "execution_count": 111,
     "metadata": {},
     "output_type": "execute_result"
    }
   ],
   "source": [
    "media = np.mean(tb_sleep.loc[tb_sleep['Danger'] == 1, 'TotalSleep'])\n",
    "desv_pad = np.std(tb_sleep.loc[tb_sleep['Danger'] == 1, 'TotalSleep'])\n",
    "resultado = (tb_sleep.loc[tb_sleep['Danger'] == 1, 'TotalSleep'] - media)/desv_pad\n",
    "resultado"
   ]
  },
  {
   "cell_type": "code",
   "execution_count": null,
   "metadata": {},
   "outputs": [],
   "source": [
    "lambda x: (x - np.mean(x))/np.std(x)"
   ]
  },
  {
   "cell_type": "code",
   "execution_count": 112,
   "metadata": {},
   "outputs": [
    {
     "data": {
      "text/html": [
       "<div>\n",
       "<style scoped>\n",
       "    .dataframe tbody tr th:only-of-type {\n",
       "        vertical-align: middle;\n",
       "    }\n",
       "\n",
       "    .dataframe tbody tr th {\n",
       "        vertical-align: top;\n",
       "    }\n",
       "\n",
       "    .dataframe thead th {\n",
       "        text-align: right;\n",
       "    }\n",
       "</style>\n",
       "<table border=\"1\" class=\"dataframe\">\n",
       "  <thead>\n",
       "    <tr style=\"text-align: right;\">\n",
       "      <th></th>\n",
       "      <th>Species</th>\n",
       "      <th>BodyWt</th>\n",
       "      <th>BrainWt</th>\n",
       "      <th>NonDreaming</th>\n",
       "      <th>Dreaming</th>\n",
       "      <th>TotalSleep</th>\n",
       "      <th>LifeSpan</th>\n",
       "      <th>Gestation</th>\n",
       "      <th>Predation</th>\n",
       "      <th>Exposure</th>\n",
       "      <th>Danger</th>\n",
       "      <th>primata</th>\n",
       "      <th>primate_list</th>\n",
       "      <th>media_sleep_danger</th>\n",
       "      <th>media_totalsleep_danger</th>\n",
       "      <th>norm_totalsleep_danger</th>\n",
       "      <th>zs_totalsleep_danger</th>\n",
       "    </tr>\n",
       "  </thead>\n",
       "  <tbody>\n",
       "    <tr>\n",
       "      <th>45</th>\n",
       "      <td>Rabbit</td>\n",
       "      <td>2.500</td>\n",
       "      <td>12.10</td>\n",
       "      <td>7.5</td>\n",
       "      <td>0.9</td>\n",
       "      <td>8.4</td>\n",
       "      <td>18.0</td>\n",
       "      <td>31.0</td>\n",
       "      <td>5</td>\n",
       "      <td>5</td>\n",
       "      <td>5</td>\n",
       "      <td>[]</td>\n",
       "      <td>[]</td>\n",
       "      <td>4.560000</td>\n",
       "      <td>4.560000</td>\n",
       "      <td>1.842105</td>\n",
       "      <td>1.965127</td>\n",
       "    </tr>\n",
       "    <tr>\n",
       "      <th>41</th>\n",
       "      <td>Owlmonkey</td>\n",
       "      <td>0.480</td>\n",
       "      <td>15.50</td>\n",
       "      <td>15.2</td>\n",
       "      <td>1.8</td>\n",
       "      <td>17.0</td>\n",
       "      <td>12.0</td>\n",
       "      <td>140.0</td>\n",
       "      <td>2</td>\n",
       "      <td>2</td>\n",
       "      <td>2</td>\n",
       "      <td>[monk]</td>\n",
       "      <td>[monk]</td>\n",
       "      <td>12.040000</td>\n",
       "      <td>12.040000</td>\n",
       "      <td>1.411960</td>\n",
       "      <td>1.571447</td>\n",
       "    </tr>\n",
       "    <tr>\n",
       "      <th>10</th>\n",
       "      <td>Chinchilla</td>\n",
       "      <td>0.425</td>\n",
       "      <td>6.40</td>\n",
       "      <td>11.0</td>\n",
       "      <td>1.5</td>\n",
       "      <td>12.5</td>\n",
       "      <td>7.0</td>\n",
       "      <td>112.0</td>\n",
       "      <td>5</td>\n",
       "      <td>4</td>\n",
       "      <td>4</td>\n",
       "      <td>[]</td>\n",
       "      <td>[]</td>\n",
       "      <td>8.811111</td>\n",
       "      <td>8.811111</td>\n",
       "      <td>1.418663</td>\n",
       "      <td>1.524027</td>\n",
       "    </tr>\n",
       "    <tr>\n",
       "      <th>58</th>\n",
       "      <td>Treeshrew</td>\n",
       "      <td>0.104</td>\n",
       "      <td>2.50</td>\n",
       "      <td>13.2</td>\n",
       "      <td>2.6</td>\n",
       "      <td>15.8</td>\n",
       "      <td>2.3</td>\n",
       "      <td>46.0</td>\n",
       "      <td>3</td>\n",
       "      <td>2</td>\n",
       "      <td>2</td>\n",
       "      <td>[]</td>\n",
       "      <td>[]</td>\n",
       "      <td>12.040000</td>\n",
       "      <td>12.040000</td>\n",
       "      <td>1.312292</td>\n",
       "      <td>1.191258</td>\n",
       "    </tr>\n",
       "    <tr>\n",
       "      <th>32</th>\n",
       "      <td>Littlebrownbat</td>\n",
       "      <td>0.010</td>\n",
       "      <td>0.25</td>\n",
       "      <td>17.9</td>\n",
       "      <td>2.0</td>\n",
       "      <td>19.9</td>\n",
       "      <td>24.0</td>\n",
       "      <td>50.0</td>\n",
       "      <td>1</td>\n",
       "      <td>1</td>\n",
       "      <td>1</td>\n",
       "      <td>[]</td>\n",
       "      <td>[]</td>\n",
       "      <td>13.854545</td>\n",
       "      <td>13.854545</td>\n",
       "      <td>1.436352</td>\n",
       "      <td>1.154681</td>\n",
       "    </tr>\n",
       "  </tbody>\n",
       "</table>\n",
       "</div>"
      ],
      "text/plain": [
       "           Species  BodyWt  BrainWt  NonDreaming  Dreaming  TotalSleep  \\\n",
       "45          Rabbit   2.500    12.10          7.5       0.9         8.4   \n",
       "41       Owlmonkey   0.480    15.50         15.2       1.8        17.0   \n",
       "10      Chinchilla   0.425     6.40         11.0       1.5        12.5   \n",
       "58       Treeshrew   0.104     2.50         13.2       2.6        15.8   \n",
       "32  Littlebrownbat   0.010     0.25         17.9       2.0        19.9   \n",
       "\n",
       "    LifeSpan  Gestation  Predation  Exposure  Danger primata primate_list  \\\n",
       "45      18.0       31.0          5         5       5      []           []   \n",
       "41      12.0      140.0          2         2       2  [monk]       [monk]   \n",
       "10       7.0      112.0          5         4       4      []           []   \n",
       "58       2.3       46.0          3         2       2      []           []   \n",
       "32      24.0       50.0          1         1       1      []           []   \n",
       "\n",
       "    media_sleep_danger  media_totalsleep_danger  norm_totalsleep_danger  \\\n",
       "45            4.560000                 4.560000                1.842105   \n",
       "41           12.040000                12.040000                1.411960   \n",
       "10            8.811111                 8.811111                1.418663   \n",
       "58           12.040000                12.040000                1.312292   \n",
       "32           13.854545                13.854545                1.436352   \n",
       "\n",
       "    zs_totalsleep_danger  \n",
       "45              1.965127  \n",
       "41              1.571447  \n",
       "10              1.524027  \n",
       "58              1.191258  \n",
       "32              1.154681  "
      ]
     },
     "execution_count": 112,
     "metadata": {},
     "output_type": "execute_result"
    }
   ],
   "source": [
    "tb_sleep['zs_totalsleep_danger'] = tb_sleep.groupby('Danger')['TotalSleep'].transform(lambda x: (x - np.mean(x))/np.std(x))\n",
    "tb_sleep.sort_values('zs_totalsleep_danger', ascending=False).head()"
   ]
  },
  {
   "cell_type": "code",
   "execution_count": 113,
   "metadata": {},
   "outputs": [
    {
     "data": {
      "text/html": [
       "<div>\n",
       "<style scoped>\n",
       "    .dataframe tbody tr th:only-of-type {\n",
       "        vertical-align: middle;\n",
       "    }\n",
       "\n",
       "    .dataframe tbody tr th {\n",
       "        vertical-align: top;\n",
       "    }\n",
       "\n",
       "    .dataframe thead th {\n",
       "        text-align: right;\n",
       "    }\n",
       "</style>\n",
       "<table border=\"1\" class=\"dataframe\">\n",
       "  <thead>\n",
       "    <tr style=\"text-align: right;\">\n",
       "      <th></th>\n",
       "      <th>Species</th>\n",
       "      <th>BodyWt</th>\n",
       "      <th>BrainWt</th>\n",
       "      <th>NonDreaming</th>\n",
       "      <th>Dreaming</th>\n",
       "      <th>TotalSleep</th>\n",
       "      <th>LifeSpan</th>\n",
       "      <th>Gestation</th>\n",
       "      <th>Predation</th>\n",
       "      <th>Exposure</th>\n",
       "      <th>Danger</th>\n",
       "      <th>primata</th>\n",
       "      <th>primate_list</th>\n",
       "      <th>media_sleep_danger</th>\n",
       "      <th>media_totalsleep_danger</th>\n",
       "      <th>norm_totalsleep_danger</th>\n",
       "      <th>zs_totalsleep_danger</th>\n",
       "    </tr>\n",
       "  </thead>\n",
       "  <tbody>\n",
       "    <tr>\n",
       "      <th>4</th>\n",
       "      <td>Asianelephant</td>\n",
       "      <td>2547.00</td>\n",
       "      <td>4603.0</td>\n",
       "      <td>2.1</td>\n",
       "      <td>1.8</td>\n",
       "      <td>3.9</td>\n",
       "      <td>69.0</td>\n",
       "      <td>624.0</td>\n",
       "      <td>3</td>\n",
       "      <td>5</td>\n",
       "      <td>4</td>\n",
       "      <td>[]</td>\n",
       "      <td>[]</td>\n",
       "      <td>8.811111</td>\n",
       "      <td>8.811111</td>\n",
       "      <td>0.442623</td>\n",
       "      <td>-2.028975</td>\n",
       "    </tr>\n",
       "    <tr>\n",
       "      <th>50</th>\n",
       "      <td>Rockhyrax(Heterob)</td>\n",
       "      <td>0.75</td>\n",
       "      <td>12.3</td>\n",
       "      <td>5.7</td>\n",
       "      <td>0.9</td>\n",
       "      <td>6.6</td>\n",
       "      <td>7.0</td>\n",
       "      <td>225.0</td>\n",
       "      <td>2</td>\n",
       "      <td>2</td>\n",
       "      <td>2</td>\n",
       "      <td>[]</td>\n",
       "      <td>[]</td>\n",
       "      <td>12.040000</td>\n",
       "      <td>12.040000</td>\n",
       "      <td>0.548173</td>\n",
       "      <td>-1.723522</td>\n",
       "    </tr>\n",
       "    <tr>\n",
       "      <th>24</th>\n",
       "      <td>Grayseal</td>\n",
       "      <td>85.00</td>\n",
       "      <td>325.0</td>\n",
       "      <td>4.7</td>\n",
       "      <td>1.5</td>\n",
       "      <td>6.2</td>\n",
       "      <td>41.0</td>\n",
       "      <td>310.0</td>\n",
       "      <td>1</td>\n",
       "      <td>3</td>\n",
       "      <td>1</td>\n",
       "      <td>[]</td>\n",
       "      <td>[]</td>\n",
       "      <td>13.854545</td>\n",
       "      <td>13.854545</td>\n",
       "      <td>0.447507</td>\n",
       "      <td>-1.462017</td>\n",
       "    </tr>\n",
       "    <tr>\n",
       "      <th>57</th>\n",
       "      <td>Treehyrax</td>\n",
       "      <td>2.00</td>\n",
       "      <td>12.3</td>\n",
       "      <td>4.9</td>\n",
       "      <td>0.5</td>\n",
       "      <td>5.4</td>\n",
       "      <td>7.5</td>\n",
       "      <td>200.0</td>\n",
       "      <td>3</td>\n",
       "      <td>1</td>\n",
       "      <td>3</td>\n",
       "      <td>[]</td>\n",
       "      <td>[]</td>\n",
       "      <td>10.300000</td>\n",
       "      <td>10.300000</td>\n",
       "      <td>0.524272</td>\n",
       "      <td>-1.387198</td>\n",
       "    </tr>\n",
       "    <tr>\n",
       "      <th>51</th>\n",
       "      <td>Rockhyrax(Procaviahab)</td>\n",
       "      <td>3.60</td>\n",
       "      <td>21.0</td>\n",
       "      <td>4.9</td>\n",
       "      <td>0.5</td>\n",
       "      <td>5.4</td>\n",
       "      <td>6.0</td>\n",
       "      <td>225.0</td>\n",
       "      <td>3</td>\n",
       "      <td>2</td>\n",
       "      <td>3</td>\n",
       "      <td>[]</td>\n",
       "      <td>[]</td>\n",
       "      <td>10.300000</td>\n",
       "      <td>10.300000</td>\n",
       "      <td>0.524272</td>\n",
       "      <td>-1.387198</td>\n",
       "    </tr>\n",
       "  </tbody>\n",
       "</table>\n",
       "</div>"
      ],
      "text/plain": [
       "                   Species   BodyWt  BrainWt  NonDreaming  Dreaming  \\\n",
       "4            Asianelephant  2547.00   4603.0          2.1       1.8   \n",
       "50      Rockhyrax(Heterob)     0.75     12.3          5.7       0.9   \n",
       "24                Grayseal    85.00    325.0          4.7       1.5   \n",
       "57               Treehyrax     2.00     12.3          4.9       0.5   \n",
       "51  Rockhyrax(Procaviahab)     3.60     21.0          4.9       0.5   \n",
       "\n",
       "    TotalSleep  LifeSpan  Gestation  Predation  Exposure  Danger primata  \\\n",
       "4          3.9      69.0      624.0          3         5       4      []   \n",
       "50         6.6       7.0      225.0          2         2       2      []   \n",
       "24         6.2      41.0      310.0          1         3       1      []   \n",
       "57         5.4       7.5      200.0          3         1       3      []   \n",
       "51         5.4       6.0      225.0          3         2       3      []   \n",
       "\n",
       "   primate_list  media_sleep_danger  media_totalsleep_danger  \\\n",
       "4            []            8.811111                 8.811111   \n",
       "50           []           12.040000                12.040000   \n",
       "24           []           13.854545                13.854545   \n",
       "57           []           10.300000                10.300000   \n",
       "51           []           10.300000                10.300000   \n",
       "\n",
       "    norm_totalsleep_danger  zs_totalsleep_danger  \n",
       "4                 0.442623             -2.028975  \n",
       "50                0.548173             -1.723522  \n",
       "24                0.447507             -1.462017  \n",
       "57                0.524272             -1.387198  \n",
       "51                0.524272             -1.387198  "
      ]
     },
     "execution_count": 113,
     "metadata": {},
     "output_type": "execute_result"
    }
   ],
   "source": [
    "tb_sleep.sort_values('zs_totalsleep_danger', ascending=True).head()"
   ]
  },
  {
   "cell_type": "markdown",
   "metadata": {},
   "source": [
    "# Voltamos 21h16"
   ]
  },
  {
   "cell_type": "code",
   "execution_count": null,
   "metadata": {},
   "outputs": [],
   "source": []
  }
 ],
 "metadata": {
  "hide_input": false,
  "kernelspec": {
   "display_name": "Python 3 (ipykernel)",
   "language": "python",
   "name": "python3"
  },
  "language_info": {
   "codemirror_mode": {
    "name": "ipython",
    "version": 3
   },
   "file_extension": ".py",
   "mimetype": "text/x-python",
   "name": "python",
   "nbconvert_exporter": "python",
   "pygments_lexer": "ipython3",
   "version": "3.9.13"
  },
  "toc": {
   "base_numbering": 1,
   "nav_menu": {},
   "number_sections": true,
   "sideBar": true,
   "skip_h1_title": false,
   "title_cell": "Table of Contents",
   "title_sidebar": "Contents",
   "toc_cell": false,
   "toc_position": {},
   "toc_section_display": true,
   "toc_window_display": false
  },
  "varInspector": {
   "cols": {
    "lenName": 16,
    "lenType": 16,
    "lenVar": 40
   },
   "kernels_config": {
    "python": {
     "delete_cmd_postfix": "",
     "delete_cmd_prefix": "del ",
     "library": "var_list.py",
     "varRefreshCmd": "print(var_dic_list())"
    },
    "r": {
     "delete_cmd_postfix": ") ",
     "delete_cmd_prefix": "rm(",
     "library": "var_list.r",
     "varRefreshCmd": "cat(var_dic_list()) "
    }
   },
   "types_to_exclude": [
    "module",
    "function",
    "builtin_function_or_method",
    "instance",
    "_Feature"
   ],
   "window_display": false
  },
  "vscode": {
   "interpreter": {
    "hash": "014f4a4a5af8f0104b12c029e500f4146d6d785e8cf714d2a35b7a9514230cd3"
   }
  }
 },
 "nbformat": 4,
 "nbformat_minor": 4
}
