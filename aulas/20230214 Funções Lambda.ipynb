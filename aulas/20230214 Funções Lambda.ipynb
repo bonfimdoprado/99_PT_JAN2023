{
 "cells": [
  {
   "cell_type": "code",
   "execution_count": null,
   "metadata": {
    "ExecuteTime": {
     "end_time": "2020-11-02T00:56:54.511934Z",
     "start_time": "2020-11-02T00:56:47.853425Z"
    }
   },
   "outputs": [],
   "source": [
    "import re\n",
    "import numpy as np\n",
    "import pandas as pd"
   ]
  },
  {
   "cell_type": "markdown",
   "metadata": {},
   "source": [
    "# Programação Funcional - Funções Anônimas\n",
    "\n",
    "O aspecto mais fundamental do paradigma de programação funcional é a definição de funções. Funções são capazes de receber entradas (**argumentos**), executar um bloco de código sobre esses argumentos, e **retornar valores**.\n",
    "\n",
    "Vamos relembrar a sintaxe básica para definirmos uma função:\n",
    "\n",
    "* Primeiro declaramos a função através da palavra chave **def**\n",
    "```python\n",
    "def nome_da_funcao(argumento_obrigatorio, argumento_opcional = 10):\n",
    "```\n",
    "* Adicionamos um bloco identado de código, com as instruções do corpo da função e sua documentação:\n",
    "```python\n",
    "def nome_da_funcao(argumento_obrigatorio, argumento_opcional = 10):\n",
    "    '''\n",
    "    Esta função retorna a soma do argumento_obrigatorio ao argumento_opcional.\n",
    "    Argumentos:\n",
    "        argumento_obrigatorio Float\n",
    "        argumento_opcional Float\n",
    "    Returns:\n",
    "        Float\n",
    "    '''\n",
    "    soma = argumento_obrigatorio + argumento_opcional\n",
    "```\n",
    "\n",
    "* Ao fim, usamos a palavra-chave **return** para especificar o que a função retornará:\n",
    "\n",
    "```python\n",
    "def nome_da_funcao(argumento_obrigatorio, argumento_opcional = 10):\n",
    "    '''\n",
    "    Esta função retorna a soma do argumento_obrigatorio ao argumento_opcional.\n",
    "    Argumentos:\n",
    "        argumento_obrigatorio Float\n",
    "        argumento_opcional Float\n",
    "    Returns:\n",
    "        Float\n",
    "    '''\n",
    "    soma = argumento_obrigatorio + argumento_opcional\n",
    "    return soma\n",
    "```"
   ]
  },
  {
   "cell_type": "code",
   "execution_count": null,
   "metadata": {
    "ExecuteTime": {
     "end_time": "2022-01-04T22:42:04.157839Z",
     "start_time": "2022-01-04T22:42:04.149860Z"
    },
    "scrolled": true
   },
   "outputs": [],
   "source": [
    "def nome_da_funcao(argumento_obrigatorio, argumento_opcional = 10):\n",
    "    '''\n",
    "    Esta função retorna a soma do argumento_obrigatorio ao argumento_opcional.\n",
    "    Argumentos:\n",
    "        argumento_obrigatorio Float\n",
    "        argumento_opcional Float\n",
    "    Returns:\n",
    "        Float\n",
    "    '''\n",
    "    soma = argumento_obrigatorio + argumento_opcional\n",
    "    return soma"
   ]
  },
  {
   "cell_type": "code",
   "execution_count": null,
   "metadata": {
    "ExecuteTime": {
     "end_time": "2022-01-04T22:42:07.791815Z",
     "start_time": "2022-01-04T22:42:07.782839Z"
    }
   },
   "outputs": [],
   "source": [
    "print(nome_da_funcao(5))"
   ]
  },
  {
   "cell_type": "code",
   "execution_count": null,
   "metadata": {},
   "outputs": [],
   "source": [
    "dois_cinco = nome_da_funcao(2, 5)\n",
    "print(dois_cinco)"
   ]
  },
  {
   "cell_type": "markdown",
   "metadata": {},
   "source": [
    "# Funções Anônimas\n",
    "\n",
    "No Python podemos utilizar outra forma de declarar funções: as funções lambda. Funções lambda são **funções**, ou seja, fazem todas as mesmas coisas que funções criadas através da palavra-chave `def`.\n",
    "\n",
    "https://realpython.com/python-lambda/\n",
    "\n",
    "* Herdam o nome do  `cálculo lambda`.\n",
    "* São chamadas de funções anônimas pois não são 'guardadas' em uma variável.\n",
    "\n",
    "## Como definir funções lambda?\n",
    "\n",
    "Vamos criar uma função normal e ver como podemos criar uma função lambda com as mesmas capacidades.\n"
   ]
  },
  {
   "cell_type": "code",
   "execution_count": null,
   "metadata": {
    "ExecuteTime": {
     "end_time": "2022-01-04T22:45:33.185839Z",
     "start_time": "2022-01-04T22:45:33.178859Z"
    }
   },
   "outputs": [],
   "source": [
    "def div_2(x):\n",
    "    return x/2"
   ]
  },
  {
   "cell_type": "code",
   "execution_count": null,
   "metadata": {
    "ExecuteTime": {
     "end_time": "2022-01-04T22:45:38.682879Z",
     "start_time": "2022-01-04T22:45:38.668917Z"
    }
   },
   "outputs": [],
   "source": [
    "div_2(4)"
   ]
  },
  {
   "cell_type": "markdown",
   "metadata": {},
   "source": [
    "Agora vamos criar uma função anônima equivalente"
   ]
  },
  {
   "cell_type": "code",
   "execution_count": null,
   "metadata": {
    "ExecuteTime": {
     "end_time": "2022-01-04T22:46:44.888966Z",
     "start_time": "2022-01-04T22:46:44.876000Z"
    }
   },
   "outputs": [],
   "source": [
    "lambda x: x/2"
   ]
  },
  {
   "cell_type": "markdown",
   "metadata": {},
   "source": [
    "## Invocando funções Lambda\n",
    "\n",
    "A definição acima não nos ajuda muito: como as funções anônimas nâo estão associadas à uma variável (como a variável *div_2* quando criamos a função utilizando o `def`).\n",
    "\n",
    "Vamos ver algumas formas de invocar as funções lambda\n",
    "\n",
    "### Invocação direta\n",
    "\n",
    "Podemos invocar uma função anônima imediatamente após sua declaração:"
   ]
  },
  {
   "cell_type": "code",
   "execution_count": null,
   "metadata": {
    "ExecuteTime": {
     "end_time": "2022-01-04T22:47:30.814854Z",
     "start_time": "2022-01-04T22:47:30.808870Z"
    }
   },
   "outputs": [],
   "source": [
    "(lambda x: x+10) (10)"
   ]
  },
  {
   "cell_type": "markdown",
   "metadata": {},
   "source": [
    "### Invocação através de uma Variável\n",
    "\n",
    "Podemos *guardar* uma função lambda em uma variável: dessa forma nossa função não será mais anônima!"
   ]
  },
  {
   "cell_type": "code",
   "execution_count": null,
   "metadata": {
    "ExecuteTime": {
     "end_time": "2022-01-04T22:49:35.387793Z",
     "start_time": "2022-01-04T22:49:35.380809Z"
    }
   },
   "outputs": [],
   "source": [
    "soma_10 = lambda x: x + 10"
   ]
  },
  {
   "cell_type": "code",
   "execution_count": null,
   "metadata": {
    "ExecuteTime": {
     "end_time": "2022-01-04T22:49:35.928938Z",
     "start_time": "2022-01-04T22:49:35.911987Z"
    }
   },
   "outputs": [],
   "source": [
    "soma_10(5)"
   ]
  },
  {
   "cell_type": "markdown",
   "metadata": {},
   "source": [
    "### Utilizando `.map()`\n",
    "\n",
    "Podemos utilizar funções lambda para simplificar a sintaxe quando utilizamos o método `.map()` dos DataFrames"
   ]
  },
  {
   "cell_type": "code",
   "execution_count": null,
   "metadata": {
    "ExecuteTime": {
     "end_time": "2022-01-04T22:51:27.948879Z",
     "start_time": "2022-01-04T22:51:27.942897Z"
    }
   },
   "outputs": [],
   "source": [
    "tb_sleep = pd.read_csv('http://www.statsci.org/data/general/sleep.txt', sep='\\t')\n",
    "tb_sleep = tb_sleep.dropna()"
   ]
  },
  {
   "cell_type": "code",
   "execution_count": null,
   "metadata": {},
   "outputs": [],
   "source": [
    "primate_pattern = r'monk|ape|man|gorilla|baboon|chimpanzee'\n",
    "tb_sleep['primate_list'] = tb_sleep['Species'].map(lambda x: re.findall(primate_pattern, x.lower()))\n",
    "tb_sleep['primate_list'].head(10)"
   ]
  },
  {
   "cell_type": "markdown",
   "metadata": {},
   "source": [
    "## Funções Lambda com Múltiplos Argumentos\n",
    "\n",
    "Assim como as funções normais, funções anônimas podem receber mais do que um argumento."
   ]
  },
  {
   "cell_type": "code",
   "execution_count": null,
   "metadata": {
    "ExecuteTime": {
     "end_time": "2022-01-04T23:10:05.644779Z",
     "start_time": "2022-01-04T23:10:05.626829Z"
    }
   },
   "outputs": [],
   "source": [
    "(lambda x, y: x + y) (10, 5)"
   ]
  },
  {
   "cell_type": "code",
   "execution_count": null,
   "metadata": {},
   "outputs": [],
   "source": [
    "soma_lambda = lambda x, y: x + y\n",
    "print(soma_lambda(10, 5))"
   ]
  },
  {
   "cell_type": "markdown",
   "metadata": {},
   "source": [
    "## Funções Lambda com Condicionais\n",
    "\n",
    "Como a sintaxe de uma função lambda não admite as estruturas de controle tradicionais (`for`, `while`, `if`...), para utilizar condicionais dentro de funções lambda precisamos aprender uma nova forma sintática. Essa forma é muito semelhante às condicionais em `list comprehensions`."
   ]
  },
  {
   "cell_type": "code",
   "execution_count": null,
   "metadata": {},
   "outputs": [],
   "source": [
    "lista_num = [0, 1, 4, 5, 6, 10, 14, 15]"
   ]
  },
  {
   "cell_type": "code",
   "execution_count": null,
   "metadata": {},
   "outputs": [],
   "source": [
    "lista_par = [x for x in lista_num if x % 2 == 0]\n",
    "print(lista_par)"
   ]
  },
  {
   "cell_type": "code",
   "execution_count": null,
   "metadata": {},
   "outputs": [],
   "source": [
    "e_par = lambda x: 1 if x % 2 == 0 else 0"
   ]
  },
  {
   "cell_type": "code",
   "execution_count": null,
   "metadata": {},
   "outputs": [],
   "source": [
    "e_par(2)"
   ]
  },
  {
   "cell_type": "code",
   "execution_count": null,
   "metadata": {},
   "outputs": [],
   "source": [
    "lista_div = [10/x for x in lista_num if x != 0]\n",
    "print(lista_div)"
   ]
  },
  {
   "cell_type": "code",
   "execution_count": null,
   "metadata": {
    "ExecuteTime": {
     "end_time": "2022-01-04T23:19:47.468755Z",
     "start_time": "2022-01-04T23:19:47.455206Z"
    }
   },
   "outputs": [],
   "source": [
    "div_segura = lambda x: 1/x if x != 0 else None"
   ]
  },
  {
   "cell_type": "code",
   "execution_count": null,
   "metadata": {
    "ExecuteTime": {
     "end_time": "2022-01-04T23:19:49.838762Z",
     "start_time": "2022-01-04T23:19:49.824801Z"
    }
   },
   "outputs": [],
   "source": [
    "div_segura(0)"
   ]
  },
  {
   "cell_type": "markdown",
   "metadata": {},
   "source": [
    "## Aplicações\n",
    "\n",
    "Até agora as funções anônimas parecem ser variantes mais pobres das funções nomeadas - de fato, é isso que são! Mas temos que nos atentar a diferença de aplicações:\n",
    "\n",
    "1. Funções nomeadas são utilizadas para **refatorar** código, ou seja, para tornar nosso código mais **compartimentado** e mais fácil de se manter\n",
    "1. Já as funções anônimas são utilizadas como as list comprehensions: para simplificar a sintáxe. Quando não vamos utilizar um função mais que uma vez em nosso código e essa função é simples, não devemos utilizar uma função nomeada mas sim uma função lambda!"
   ]
  },
  {
   "cell_type": "markdown",
   "metadata": {},
   "source": [
    "### O método `.map()`\n",
    "\n",
    "Já vimos que podemos utilizar o método `.map()` para aplicar uma função aos elementos de uma coluna. As funções lambda nos permitem utilizar um `.map()`"
   ]
  },
  {
   "cell_type": "code",
   "execution_count": null,
   "metadata": {
    "ExecuteTime": {
     "end_time": "2022-01-04T23:25:55.168830Z",
     "start_time": "2022-01-04T23:25:55.160852Z"
    }
   },
   "outputs": [],
   "source": [
    "names = ['Pedro', 'Gabi', 'Adriano', 'Maria']\n",
    "telefone = [\"+5511983722311\", \"+1113123314\", \"+5511953122316\", \"+111564316\"]\n",
    "tb_telefones = pd.DataFrame({\"nome\" : names, \"telefone\" : telefone})\n",
    "tb_telefones"
   ]
  },
  {
   "cell_type": "code",
   "execution_count": null,
   "metadata": {},
   "outputs": [],
   "source": [
    "mask_br = tb_telefones['telefone'].map(lambda x: True if x.find('+55') >= 0 else False)"
   ]
  },
  {
   "cell_type": "code",
   "execution_count": null,
   "metadata": {
    "ExecuteTime": {
     "end_time": "2022-01-04T23:30:20.907745Z",
     "start_time": "2022-01-04T23:30:20.889792Z"
    }
   },
   "outputs": [],
   "source": [
    "tb_telefones[mask_br]"
   ]
  },
  {
   "cell_type": "markdown",
   "metadata": {},
   "source": [
    "### O método `.groupby()`\n",
    "\n",
    "O método `.groupby()` nos permite passar funções arbitrarias para realizar a agregação de dados. Muitas vezes utilizamos os métodos `.mean()` ou `.sum()` para realizar essa agregação mas, através do método `.agg()`, podemos passar um função que nós mesmos definimos!\n",
    "\n",
    "Vamos ver como podemos reconstruir o método `.mean()` primeiro usando uma função nomeada e depois uma função anônima."
   ]
  },
  {
   "cell_type": "code",
   "execution_count": null,
   "metadata": {
    "ExecuteTime": {
     "end_time": "2022-01-04T23:51:52.120702Z",
     "start_time": "2022-01-04T23:51:52.104768Z"
    }
   },
   "outputs": [],
   "source": [
    "tb_sleep.groupby('Danger')['TotalSleep'].mean()"
   ]
  },
  {
   "cell_type": "code",
   "execution_count": null,
   "metadata": {
    "ExecuteTime": {
     "end_time": "2022-01-04T23:51:59.880205Z",
     "start_time": "2022-01-04T23:51:59.840312Z"
    }
   },
   "outputs": [],
   "source": [
    "def mean(vetor):\n",
    "    return np.mean(vetor)\n",
    "\n",
    "tb_sleep.groupby('Danger')['TotalSleep'].agg(mean)"
   ]
  },
  {
   "cell_type": "code",
   "execution_count": null,
   "metadata": {},
   "outputs": [],
   "source": [
    "tb_sleep.groupby('Danger')['TotalSleep'].agg(lambda vetor: np.mean(vetor))"
   ]
  },
  {
   "cell_type": "markdown",
   "metadata": {},
   "source": [
    "As vezes queremos agregar nossos dados através de funções que não estão disponíveis como métodos. Se esta função for simples o melhor caminho será utilizando o método `.agg()` + uma função anônima.\n",
    "\n",
    "Vamos calcular o IQR (Inter-Quartile Range), uma medida de dispersão (semelhante ao desvio padrão), definida como a diferença entre o 3o e 1o quartis."
   ]
  },
  {
   "cell_type": "code",
   "execution_count": null,
   "metadata": {
    "ExecuteTime": {
     "end_time": "2022-01-04T23:55:39.879794Z",
     "start_time": "2022-01-04T23:55:39.842893Z"
    }
   },
   "outputs": [],
   "source": [
    "tb_sleep.groupby('Danger')['TotalSleep'].agg(lambda x: np.quantile(x, 0.75) - np.quantile(x, 0.25))"
   ]
  },
  {
   "cell_type": "markdown",
   "metadata": {
    "ExecuteTime": {
     "end_time": "2022-01-04T23:55:40.875967Z",
     "start_time": "2022-01-04T23:55:40.849041Z"
    }
   },
   "source": [
    "### O método `.transform()`\n",
    "\n",
    "Além do `.agg()`, podemos utilizar outro método extremamente importante após um `.groupby()`: o método `.transform()`. Este método realiza uma agregação - de forma semelhante ao método `.agg()`, mas ao invés de retornar um DataFrame onde cada linha é uma chave do nosso `.groupby()` ele retorna uma série, do tamanho da tabela original, com o resultado da agregação pelo grupo para cada observação daquele grupo.\n",
    "\n",
    "Vamos começar com a mesma agregação que fizemos acima, mas dessa vez utilizando o método `.transform()`."
   ]
  },
  {
   "cell_type": "code",
   "execution_count": null,
   "metadata": {},
   "outputs": [],
   "source": [
    "tb_sleep.groupby('Danger')['TotalSleep'].transform(\"mean\")"
   ]
  },
  {
   "cell_type": "code",
   "execution_count": null,
   "metadata": {},
   "outputs": [],
   "source": [
    "tb_sleep.groupby('Danger')['TotalSleep'].mean()"
   ]
  },
  {
   "cell_type": "code",
   "execution_count": null,
   "metadata": {},
   "outputs": [],
   "source": [
    "tb_sleep['media_totalsleep_danger'] = tb_sleep.groupby('Danger')['TotalSleep'].transform(\"mean\")\n",
    "tb_sleep.head()"
   ]
  },
  {
   "cell_type": "markdown",
   "metadata": {},
   "source": [
    "Um uso comum desse método é calcular como cada observação se comporta em relação ao seu grupo: por exemplo, podemos encontrar dentro de cada faixa de `Danger`, quais animais dormem mais ou menos:"
   ]
  },
  {
   "cell_type": "code",
   "execution_count": null,
   "metadata": {},
   "outputs": [],
   "source": [
    "tb_sleep['norm_totalsleep_danger'] = tb_sleep['TotalSleep']/tb_sleep['media_totalsleep_danger']\n",
    "tb_sleep.sort_values('norm_totalsleep_danger', ascending=False).head()"
   ]
  },
  {
   "cell_type": "markdown",
   "metadata": {},
   "source": [
    "Uma forma comum de se fazer isso é através do Z-Score: para cada observação, subtraimos a média do grupo e dividimos pelo desvio padrão do grupo. Vamos usar uma função lambda para calcular isto:"
   ]
  },
  {
   "cell_type": "code",
   "execution_count": null,
   "metadata": {},
   "outputs": [],
   "source": [
    "tb_sleep['zs_totalsleep_danger'] = tb_sleep.groupby('Danger')['TotalSleep'].transform(lambda x: (x - np.mean(x))/np.std(x))\n",
    "tb_sleep.sort_values('zs_totalsleep_danger', ascending=False).head()"
   ]
  }
 ],
 "metadata": {
  "hide_input": false,
  "kernelspec": {
   "display_name": "Python 3 (ipykernel)",
   "language": "python",
   "name": "python3"
  },
  "language_info": {
   "codemirror_mode": {
    "name": "ipython",
    "version": 3
   },
   "file_extension": ".py",
   "mimetype": "text/x-python",
   "name": "python",
   "nbconvert_exporter": "python",
   "pygments_lexer": "ipython3",
   "version": "3.9.13"
  },
  "toc": {
   "base_numbering": 1,
   "nav_menu": {},
   "number_sections": true,
   "sideBar": true,
   "skip_h1_title": false,
   "title_cell": "Table of Contents",
   "title_sidebar": "Contents",
   "toc_cell": false,
   "toc_position": {},
   "toc_section_display": true,
   "toc_window_display": false
  },
  "varInspector": {
   "cols": {
    "lenName": 16,
    "lenType": 16,
    "lenVar": 40
   },
   "kernels_config": {
    "python": {
     "delete_cmd_postfix": "",
     "delete_cmd_prefix": "del ",
     "library": "var_list.py",
     "varRefreshCmd": "print(var_dic_list())"
    },
    "r": {
     "delete_cmd_postfix": ") ",
     "delete_cmd_prefix": "rm(",
     "library": "var_list.r",
     "varRefreshCmd": "cat(var_dic_list()) "
    }
   },
   "types_to_exclude": [
    "module",
    "function",
    "builtin_function_or_method",
    "instance",
    "_Feature"
   ],
   "window_display": false
  },
  "vscode": {
   "interpreter": {
    "hash": "014f4a4a5af8f0104b12c029e500f4146d6d785e8cf714d2a35b7a9514230cd3"
   }
  }
 },
 "nbformat": 4,
 "nbformat_minor": 4
}
