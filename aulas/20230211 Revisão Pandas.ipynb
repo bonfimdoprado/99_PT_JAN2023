{
 "cells": [
  {
   "cell_type": "code",
   "execution_count": null,
   "metadata": {},
   "outputs": [],
   "source": [
    "import pandas as pd\n",
    "import numpy as np\n",
    "import matplotlib.pyplot as plt\n",
    "import re\n"
   ]
  },
  {
   "cell_type": "markdown",
   "metadata": {},
   "source": [
    "# Análise I - Eficiência de Automóveis\n",
    "\n",
    "Toda análise de dados fica muito mais simples se partirmos da necessidade de provar ou desprovar um hipótese. Essa hipótese serve como guia para nossos primeiros passos na análise, e, conforme trabalhamos o conjunto de dados, vamos complementando-a ou mesmo formulando novas hipóteses que queremos explorar.\n",
    "\n",
    "Vamos começar com uma hipótese dada: *a eficiência (em termos de consumo de combustível) dos motores de automóveis aumentou ao longo dos anos*. "
   ]
  },
  {
   "cell_type": "code",
   "execution_count": null,
   "metadata": {},
   "outputs": [],
   "source": [
    "tb_veic = pd.read_csv(\"data/dados_veiculos.csv\")\n",
    "pattern = r\"[^a-zA-Z0-9]\"\n",
    "tb_veic.columns = [re.sub(pattern, \"_\", column.lower()) for column in tb_veic.columns]\n",
    "tb_veic.describe()\n"
   ]
  },
  {
   "cell_type": "markdown",
   "metadata": {},
   "source": [
    "# Análise II - O que permite um animal sonhar?\n",
    "\n",
    "A tabela `tb_sleep` contém informações muito interessantes que nos permitem estudar sob quas condições (ecológicas e constitucionais) um animal pode sonhar (ou em quais condições um animal pode sonhar mais). Vamos investigar juntos essas condições - buscando entender o impacto dos fatores ecológicos e constitucionais sobre a capacidade de um animal sonhar.\n",
    "\n",
    "Para começar, precisamos determinar qual será a nossa variável resposta: qual variável (ou transformação de variável!) vamos utilizar para representar a capacidade de um animal sonhar. Depois precisamos formular um hipótese clara e objetiva sobre as diferentes variáveis (ou transformação de variáveis!) que queremos avaliar."
   ]
  },
  {
   "cell_type": "code",
   "execution_count": null,
   "metadata": {},
   "outputs": [],
   "source": [
    "tb_animals = pd.read_csv(\"http://www.statsci.org/data/general/sleep.txt\", sep=\"\\t\")\n",
    "tb_animals.head()\n"
   ]
  }
 ],
 "metadata": {
  "kernelspec": {
   "display_name": "Python 3.8.9 64-bit",
   "language": "python",
   "name": "python3"
  },
  "language_info": {
   "codemirror_mode": {
    "name": "ipython",
    "version": 3
   },
   "file_extension": ".py",
   "mimetype": "text/x-python",
   "name": "python",
   "nbconvert_exporter": "python",
   "pygments_lexer": "ipython3",
   "version": "3.8.9"
  },
  "orig_nbformat": 4,
  "vscode": {
   "interpreter": {
    "hash": "31f2aee4e71d21fbe5cf8b01ff0e069b9275f58929596ceb00d14d90e3e16cd6"
   }
  }
 },
 "nbformat": 4,
 "nbformat_minor": 2
}
