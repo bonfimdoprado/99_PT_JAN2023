{
 "cells": [
  {
   "cell_type": "code",
   "execution_count": 1,
   "metadata": {
    "ExecuteTime": {
     "end_time": "2022-01-06T22:37:18.576079Z",
     "start_time": "2022-01-06T22:37:18.029541Z"
    }
   },
   "outputs": [],
   "source": [
    "import pandas as pd\n",
    "import numpy as np\n",
    "import re"
   ]
  },
  {
   "cell_type": "markdown",
   "metadata": {},
   "source": [
    "# Advanced REGEX\n",
    "\n",
    "Como vimos na aula de `strings` muitas vezes a forma mais simples de manipularmos um `string` é utilizando padrões REGEX.\n",
    "\n",
    "A utilização de REGEX é calcada na construção de **padrões**: ao invés de definir buscas simples (como quando procuramos uma sequência específica de caractéres), o REGEX nos permite construir padrões flexíveis, capaz de *encontrar*  sub-strings distintos. Já vimos como construir alguns padrões simples: hoje faremos uma revisão rápida dos conceitos básicos de REGEX e introduziremos novos conceitos, como grupos e os qualificadores para fim e começo.\n",
    "\n",
    "## Revisão de Expressões Regulares\n",
    "\n",
    "https://regexr.com/\n",
    "\n",
    "O aspecto fundamental para a utilização de REGEX é a construção do padrão de busca. Vamos revisar alguns "
   ]
  },
  {
   "cell_type": "code",
   "execution_count": 3,
   "metadata": {
    "ExecuteTime": {
     "end_time": "2022-01-06T22:37:38.240066Z",
     "start_time": "2022-01-06T22:37:38.234061Z"
    }
   },
   "outputs": [],
   "source": [
    "texto = '''\n",
    "        Quando certa manhã Gregor Samsa acordou de sonhos intranquilos,\n",
    "        encontrou-se em sua cama metamorfoseado num inseto monstruoso.\n",
    "        '''"
   ]
  },
  {
   "cell_type": "code",
   "execution_count": 4,
   "metadata": {},
   "outputs": [
    {
     "data": {
      "text/plain": [
       "'\\n        Quando certa manhã Gregor Samsa acordou de sonhos intranquilos,\\n        encontrou-se em sua cama metamorfoseado num inseto monstruoso.\\n        '"
      ]
     },
     "execution_count": 4,
     "metadata": {},
     "output_type": "execute_result"
    }
   ],
   "source": [
    "texto"
   ]
  },
  {
   "cell_type": "markdown",
   "metadata": {},
   "source": [
    "### Padrões e Conjuntos\n",
    "\n",
    "A forma mais simples de utilizarmos um padrão é através de uma busca por *sub-string*. Padrões que não contém conjuntos ou carácteres especiais são chamados de **padrões literais**.\n",
    "\n",
    "#### Busca Literal"
   ]
  },
  {
   "cell_type": "code",
   "execution_count": 7,
   "metadata": {
    "ExecuteTime": {
     "end_time": "2022-01-06T22:38:15.246386Z",
     "start_time": "2022-01-06T22:38:15.230780Z"
    }
   },
   "outputs": [
    {
     "name": "stdout",
     "output_type": "stream",
     "text": [
      "['Samsa']\n"
     ]
    }
   ],
   "source": [
    "print(re.findall('Samsa', texto))"
   ]
  },
  {
   "cell_type": "code",
   "execution_count": 8,
   "metadata": {
    "ExecuteTime": {
     "end_time": "2022-01-06T22:38:44.027208Z",
     "start_time": "2022-01-06T22:38:44.016239Z"
    }
   },
   "outputs": [
    {
     "name": "stdout",
     "output_type": "stream",
     "text": [
      "['so', 'so']\n"
     ]
    }
   ],
   "source": [
    "print(re.findall('so', texto))"
   ]
  },
  {
   "cell_type": "code",
   "execution_count": 9,
   "metadata": {
    "ExecuteTime": {
     "end_time": "2022-01-06T22:39:45.012666Z",
     "start_time": "2022-01-06T22:39:45.004714Z"
    }
   },
   "outputs": [
    {
     "name": "stdout",
     "output_type": "stream",
     "text": [
      "[]\n"
     ]
    }
   ],
   "source": [
    "print(re.findall('SO', texto))"
   ]
  },
  {
   "cell_type": "code",
   "execution_count": 10,
   "metadata": {
    "ExecuteTime": {
     "end_time": "2022-01-06T22:40:01.137608Z",
     "start_time": "2022-01-06T22:40:01.132619Z"
    }
   },
   "outputs": [
    {
     "name": "stdout",
     "output_type": "stream",
     "text": [
      "[]\n"
     ]
    }
   ],
   "source": [
    "print(re.findall('samsa', texto))"
   ]
  },
  {
   "cell_type": "code",
   "execution_count": 11,
   "metadata": {},
   "outputs": [
    {
     "name": "stdout",
     "output_type": "stream",
     "text": [
      "['metamorfose']\n"
     ]
    }
   ],
   "source": [
    "print(re.findall('metamorfose', texto))"
   ]
  },
  {
   "cell_type": "code",
   "execution_count": 12,
   "metadata": {},
   "outputs": [
    {
     "name": "stdout",
     "output_type": "stream",
     "text": [
      "['samsa']\n"
     ]
    }
   ],
   "source": [
    "print(re.findall('samsa', texto.lower()))"
   ]
  },
  {
   "cell_type": "markdown",
   "metadata": {},
   "source": [
    "#### Conjuntos\n",
    "\n",
    "Podemos utilizar conjuntos para expandir nossa capacidade de busca. Vamos começar construindo um conjunto através do operador OR (`|`).\n",
    "\n",
    "##### Exemplo 1: `m|e|t|a|m|o|r|f|o|s|e`"
   ]
  },
  {
   "cell_type": "code",
   "execution_count": 13,
   "metadata": {
    "ExecuteTime": {
     "end_time": "2022-01-06T22:42:21.184795Z",
     "start_time": "2022-01-06T22:42:21.166816Z"
    }
   },
   "outputs": [
    {
     "name": "stdout",
     "output_type": "stream",
     "text": [
      "['a', 'o', 'e', 'r', 't', 'a', 'm', 'a', 'r', 'e', 'o', 'r', 'a', 'm', 's', 'a', 'a', 'o', 'r', 'o', 'e', 's', 'o', 'o', 's', 't', 'r', 'a', 'o', 's', 'e', 'o', 't', 'r', 'o', 's', 'e', 'e', 'm', 's', 'a', 'a', 'm', 'a', 'm', 'e', 't', 'a', 'm', 'o', 'r', 'f', 'o', 's', 'e', 'a', 'o', 'm', 's', 'e', 't', 'o', 'm', 'o', 's', 't', 'r', 'o', 's', 'o']\n"
     ]
    }
   ],
   "source": [
    "print(re.findall('m|e|t|a|m|o|r|f|o|s|e', texto))"
   ]
  },
  {
   "cell_type": "code",
   "execution_count": 14,
   "metadata": {
    "ExecuteTime": {
     "end_time": "2022-01-06T22:44:02.335300Z",
     "start_time": "2022-01-06T22:44:02.328323Z"
    }
   },
   "outputs": [
    {
     "name": "stdout",
     "output_type": "stream",
     "text": [
      "['a', 'o', 'e', 'r', 't', 'a', 'm', 'a', 'r', 'e', 'o', 'r', 'a', 'm', 's', 'a', 'a', 'o', 'r', 'o', 'e', 's', 'o', 'o', 's', 't', 'r', 'a', 'o', 's', 'e', 'o', 't', 'r', 'o', 's', 'e', 'e', 'm', 's', 'a', 'a', 'm', 'a', 'm', 'e', 't', 'a', 'm', 'o', 'r', 'f', 'o', 's', 'e', 'a', 'o', 'm', 's', 'e', 't', 'o', 'm', 'o', 's', 't', 'r', 'o', 's', 'o']\n"
     ]
    }
   ],
   "source": [
    "print(re.findall('[metamorfose]', texto))"
   ]
  },
  {
   "cell_type": "code",
   "execution_count": 15,
   "metadata": {
    "ExecuteTime": {
     "end_time": "2022-01-06T22:44:08.296050Z",
     "start_time": "2022-01-06T22:44:08.273110Z"
    }
   },
   "outputs": [
    {
     "data": {
      "text/plain": [
       "True"
      ]
     },
     "execution_count": 15,
     "metadata": {},
     "output_type": "execute_result"
    }
   ],
   "source": [
    "re.findall('[metamorfose]', texto) == re.findall('m|e|t|a|m|o|r|f|o|s|e', texto)"
   ]
  },
  {
   "cell_type": "markdown",
   "metadata": {},
   "source": [
    "##### Exemplo 2: Cidade de São Paulo"
   ]
  },
  {
   "cell_type": "code",
   "execution_count": 18,
   "metadata": {
    "ExecuteTime": {
     "end_time": "2022-01-06T22:50:51.606966Z",
     "start_time": "2022-01-06T22:50:51.596993Z"
    }
   },
   "outputs": [
    {
     "data": {
      "text/plain": [
       "['São Paulo',\n",
       " 'Sao Paulo',\n",
       " 'Sáo Paulo',\n",
       " 'Sun Paulo',\n",
       " 'seu paulo',\n",
       " 'san paolo',\n",
       " 'sao paula',\n",
       " 'são paolo',\n",
       " 'sAo Paolo',\n",
       " 'sao_paulo']"
      ]
     },
     "execution_count": 18,
     "metadata": {},
     "output_type": "execute_result"
    }
   ],
   "source": [
    "text = 'São Paulo Sao Paulo Sáo Paulo Sun Paulo seu paulo san paolo sao paula são paolo sAo Paolo sao_paulo'\n",
    "\n",
    "pattern = r'[Ss][ãaáàâAÃÁÀâeu][oun][ _][Pp]a[uo]l[oa]'\n",
    "re.findall(pattern, text)"
   ]
  },
  {
   "cell_type": "code",
   "execution_count": 19,
   "metadata": {},
   "outputs": [
    {
     "data": {
      "text/plain": [
       "'São Paulo São Paulo São Paulo São Paulo São Paulo São Paulo São Paulo São Paulo São Paulo São Paulo'"
      ]
     },
     "execution_count": 19,
     "metadata": {},
     "output_type": "execute_result"
    }
   ],
   "source": [
    "re.sub(pattern, 'São Paulo', text)"
   ]
  },
  {
   "cell_type": "code",
   "execution_count": 20,
   "metadata": {
    "ExecuteTime": {
     "end_time": "2022-01-06T22:55:48.686842Z",
     "start_time": "2022-01-06T22:55:48.672880Z"
    }
   },
   "outputs": [
    {
     "name": "stdout",
     "output_type": "stream",
     "text": [
      "['São Paulo', 'Sao Paulo', 'Sáo Paulo', 'Sun Paulo', 'seu paulo', 'san paolo', 'sao paulo', 'são paolo', 'sAo Paolo', 'sao_paulo', 'Rio de Janeiro']\n"
     ]
    }
   ],
   "source": [
    "nomes_sp = ['São Paulo', 'Sao Paulo', 'Sáo Paulo', \n",
    "            'Sun Paulo', 'seu paulo', 'san paolo', \n",
    "            'sao paulo', 'são paolo', 'sAo Paolo', \n",
    "            'sao_paulo', 'Rio de Janeiro']\n",
    "print(nomes_sp)"
   ]
  },
  {
   "cell_type": "code",
   "execution_count": 21,
   "metadata": {},
   "outputs": [
    {
     "ename": "TypeError",
     "evalue": "expected string or bytes-like object",
     "output_type": "error",
     "traceback": [
      "\u001b[0;31m---------------------------------------------------------------------------\u001b[0m",
      "\u001b[0;31mTypeError\u001b[0m                                 Traceback (most recent call last)",
      "\u001b[0;32m/var/folders/c2/4vv1dtt97gl9bn1lvw8rf0k40000gn/T/ipykernel_26980/2128482418.py\u001b[0m in \u001b[0;36m<module>\u001b[0;34m\u001b[0m\n\u001b[1;32m      1\u001b[0m \u001b[0mpattern\u001b[0m \u001b[0;34m=\u001b[0m \u001b[0;34mr'[Ss][ãaáàâAÃÁÀâeu][oun][ _][Pp]a[uo]l[oa]'\u001b[0m\u001b[0;34m\u001b[0m\u001b[0;34m\u001b[0m\u001b[0m\n\u001b[0;32m----> 2\u001b[0;31m \u001b[0mre\u001b[0m\u001b[0;34m.\u001b[0m\u001b[0msub\u001b[0m\u001b[0;34m(\u001b[0m\u001b[0mpattern\u001b[0m\u001b[0;34m,\u001b[0m \u001b[0;34m'São Paulo'\u001b[0m\u001b[0;34m,\u001b[0m \u001b[0mnomes_sp\u001b[0m\u001b[0;34m)\u001b[0m\u001b[0;34m\u001b[0m\u001b[0;34m\u001b[0m\u001b[0m\n\u001b[0m",
      "\u001b[0;32m~/opt/anaconda3/lib/python3.9/re.py\u001b[0m in \u001b[0;36msub\u001b[0;34m(pattern, repl, string, count, flags)\u001b[0m\n\u001b[1;32m    208\u001b[0m     \u001b[0ma\u001b[0m \u001b[0mcallable\u001b[0m\u001b[0;34m,\u001b[0m \u001b[0mit\u001b[0m\u001b[0;31m'\u001b[0m\u001b[0ms\u001b[0m \u001b[0mpassed\u001b[0m \u001b[0mthe\u001b[0m \u001b[0mMatch\u001b[0m \u001b[0mobject\u001b[0m \u001b[0;32mand\u001b[0m \u001b[0mmust\u001b[0m \u001b[0;32mreturn\u001b[0m\u001b[0;34m\u001b[0m\u001b[0;34m\u001b[0m\u001b[0m\n\u001b[1;32m    209\u001b[0m     a replacement string to be used.\"\"\"\n\u001b[0;32m--> 210\u001b[0;31m     \u001b[0;32mreturn\u001b[0m \u001b[0m_compile\u001b[0m\u001b[0;34m(\u001b[0m\u001b[0mpattern\u001b[0m\u001b[0;34m,\u001b[0m \u001b[0mflags\u001b[0m\u001b[0;34m)\u001b[0m\u001b[0;34m.\u001b[0m\u001b[0msub\u001b[0m\u001b[0;34m(\u001b[0m\u001b[0mrepl\u001b[0m\u001b[0;34m,\u001b[0m \u001b[0mstring\u001b[0m\u001b[0;34m,\u001b[0m \u001b[0mcount\u001b[0m\u001b[0;34m)\u001b[0m\u001b[0;34m\u001b[0m\u001b[0;34m\u001b[0m\u001b[0m\n\u001b[0m\u001b[1;32m    211\u001b[0m \u001b[0;34m\u001b[0m\u001b[0m\n\u001b[1;32m    212\u001b[0m \u001b[0;32mdef\u001b[0m \u001b[0msubn\u001b[0m\u001b[0;34m(\u001b[0m\u001b[0mpattern\u001b[0m\u001b[0;34m,\u001b[0m \u001b[0mrepl\u001b[0m\u001b[0;34m,\u001b[0m \u001b[0mstring\u001b[0m\u001b[0;34m,\u001b[0m \u001b[0mcount\u001b[0m\u001b[0;34m=\u001b[0m\u001b[0;36m0\u001b[0m\u001b[0;34m,\u001b[0m \u001b[0mflags\u001b[0m\u001b[0;34m=\u001b[0m\u001b[0;36m0\u001b[0m\u001b[0;34m)\u001b[0m\u001b[0;34m:\u001b[0m\u001b[0;34m\u001b[0m\u001b[0;34m\u001b[0m\u001b[0m\n",
      "\u001b[0;31mTypeError\u001b[0m: expected string or bytes-like object"
     ]
    }
   ],
   "source": [
    "pattern = r'[Ss][ãaáàâAÃÁÀâeu][oun][ _][Pp]a[uo]l[oa]'\n",
    "re.sub(pattern, 'São Paulo', nomes_sp)"
   ]
  },
  {
   "cell_type": "code",
   "execution_count": 22,
   "metadata": {},
   "outputs": [
    {
     "name": "stdout",
     "output_type": "stream",
     "text": [
      "São Paulo\n"
     ]
    }
   ],
   "source": [
    "print(re.sub(pattern, 'São Paulo', nomes_sp[0]))"
   ]
  },
  {
   "cell_type": "code",
   "execution_count": 23,
   "metadata": {
    "ExecuteTime": {
     "end_time": "2022-01-06T22:54:22.353312Z",
     "start_time": "2022-01-06T22:54:22.336358Z"
    }
   },
   "outputs": [
    {
     "name": "stdout",
     "output_type": "stream",
     "text": [
      "São Paulo\n"
     ]
    }
   ],
   "source": [
    "print(re.sub(pattern, 'São Paulo', nomes_sp[1]))"
   ]
  },
  {
   "cell_type": "code",
   "execution_count": 24,
   "metadata": {
    "ExecuteTime": {
     "end_time": "2022-01-06T22:55:58.695377Z",
     "start_time": "2022-01-06T22:55:58.691384Z"
    }
   },
   "outputs": [
    {
     "name": "stdout",
     "output_type": "stream",
     "text": [
      "['São Paulo', 'São Paulo', 'São Paulo', 'São Paulo', 'São Paulo', 'São Paulo', 'São Paulo', 'São Paulo', 'São Paulo', 'São Paulo', 'Rio de Janeiro']\n"
     ]
    }
   ],
   "source": [
    "nome_sp_limpo = [re.sub(pattern, 'São Paulo', nome) for nome in nomes_sp]\n",
    "print(nome_sp_limpo)"
   ]
  },
  {
   "cell_type": "markdown",
   "metadata": {},
   "source": [
    "Vamos transformar a lista acima em um DataFrame:"
   ]
  },
  {
   "cell_type": "code",
   "execution_count": 26,
   "metadata": {},
   "outputs": [
    {
     "data": {
      "text/html": [
       "<div>\n",
       "<style scoped>\n",
       "    .dataframe tbody tr th:only-of-type {\n",
       "        vertical-align: middle;\n",
       "    }\n",
       "\n",
       "    .dataframe tbody tr th {\n",
       "        vertical-align: top;\n",
       "    }\n",
       "\n",
       "    .dataframe thead th {\n",
       "        text-align: right;\n",
       "    }\n",
       "</style>\n",
       "<table border=\"1\" class=\"dataframe\">\n",
       "  <thead>\n",
       "    <tr style=\"text-align: right;\">\n",
       "      <th></th>\n",
       "      <th>nome</th>\n",
       "    </tr>\n",
       "  </thead>\n",
       "  <tbody>\n",
       "    <tr>\n",
       "      <th>0</th>\n",
       "      <td>São Paulo</td>\n",
       "    </tr>\n",
       "    <tr>\n",
       "      <th>1</th>\n",
       "      <td>Sao Paulo</td>\n",
       "    </tr>\n",
       "    <tr>\n",
       "      <th>2</th>\n",
       "      <td>Sáo Paulo</td>\n",
       "    </tr>\n",
       "    <tr>\n",
       "      <th>3</th>\n",
       "      <td>Sun Paulo</td>\n",
       "    </tr>\n",
       "    <tr>\n",
       "      <th>4</th>\n",
       "      <td>seu paulo</td>\n",
       "    </tr>\n",
       "    <tr>\n",
       "      <th>5</th>\n",
       "      <td>san paolo</td>\n",
       "    </tr>\n",
       "    <tr>\n",
       "      <th>6</th>\n",
       "      <td>sao paulo</td>\n",
       "    </tr>\n",
       "    <tr>\n",
       "      <th>7</th>\n",
       "      <td>são paolo</td>\n",
       "    </tr>\n",
       "    <tr>\n",
       "      <th>8</th>\n",
       "      <td>sAo Paolo</td>\n",
       "    </tr>\n",
       "    <tr>\n",
       "      <th>9</th>\n",
       "      <td>sao_paulo</td>\n",
       "    </tr>\n",
       "    <tr>\n",
       "      <th>10</th>\n",
       "      <td>Rio de Janeiro</td>\n",
       "    </tr>\n",
       "  </tbody>\n",
       "</table>\n",
       "</div>"
      ],
      "text/plain": [
       "              nome\n",
       "0        São Paulo\n",
       "1        Sao Paulo\n",
       "2        Sáo Paulo\n",
       "3        Sun Paulo\n",
       "4        seu paulo\n",
       "5        san paolo\n",
       "6        sao paulo\n",
       "7        são paolo\n",
       "8        sAo Paolo\n",
       "9        sao_paulo\n",
       "10  Rio de Janeiro"
      ]
     },
     "execution_count": 26,
     "metadata": {},
     "output_type": "execute_result"
    }
   ],
   "source": [
    "tb_nomes = pd.DataFrame({'nome' : nomes_sp})\n",
    "tb_nomes"
   ]
  },
  {
   "cell_type": "markdown",
   "metadata": {},
   "source": [
    "Como podemos utilizar a função `re.sub()` para limpar a coluna `nome`?"
   ]
  },
  {
   "cell_type": "code",
   "execution_count": 27,
   "metadata": {},
   "outputs": [
    {
     "data": {
      "text/plain": [
       "0          São Paulo\n",
       "1          São Paulo\n",
       "2          São Paulo\n",
       "3          São Paulo\n",
       "4          São Paulo\n",
       "5          São Paulo\n",
       "6          São Paulo\n",
       "7          São Paulo\n",
       "8          São Paulo\n",
       "9          São Paulo\n",
       "10    Rio de Janeiro\n",
       "Name: nome, dtype: object"
      ]
     },
     "execution_count": 27,
     "metadata": {},
     "output_type": "execute_result"
    }
   ],
   "source": [
    "# DESAFIO\n",
    "# re.sub(pattern, 'São Paulo', nome)\n",
    "pattern = r'[Ss][ãaáàâAÃÁÀâeu][oun][ _][Pp]a[uo]l[oa]'\n",
    "\n",
    "tb_nomes['nome'].map(lambda x: re.sub(pattern, 'São Paulo', x))"
   ]
  },
  {
   "cell_type": "code",
   "execution_count": 29,
   "metadata": {},
   "outputs": [
    {
     "ename": "NameError",
     "evalue": "name 'nome' is not defined",
     "output_type": "error",
     "traceback": [
      "\u001b[0;31m---------------------------------------------------------------------------\u001b[0m",
      "\u001b[0;31mNameError\u001b[0m                                 Traceback (most recent call last)",
      "\u001b[0;32m/var/folders/c2/4vv1dtt97gl9bn1lvw8rf0k40000gn/T/ipykernel_26980/1191256826.py\u001b[0m in \u001b[0;36m<module>\u001b[0;34m\u001b[0m\n\u001b[0;32m----> 1\u001b[0;31m \u001b[0mtb_nomes\u001b[0m\u001b[0;34m[\u001b[0m\u001b[0;34m'nome'\u001b[0m\u001b[0;34m]\u001b[0m\u001b[0;34m.\u001b[0m\u001b[0mmap\u001b[0m\u001b[0;34m(\u001b[0m\u001b[0mre\u001b[0m\u001b[0;34m.\u001b[0m\u001b[0msub\u001b[0m\u001b[0;34m(\u001b[0m\u001b[0;34m'[Ss][ãaáàâAÃÁÀâeu][oun][ _][Pp]a[uo]l[oa]'\u001b[0m\u001b[0;34m,\u001b[0m \u001b[0;34m'São Paulo'\u001b[0m\u001b[0;34m,\u001b[0m \u001b[0mnome\u001b[0m\u001b[0;34m)\u001b[0m\u001b[0;34m)\u001b[0m\u001b[0;34m\u001b[0m\u001b[0;34m\u001b[0m\u001b[0m\n\u001b[0m",
      "\u001b[0;31mNameError\u001b[0m: name 'nome' is not defined"
     ]
    }
   ],
   "source": [
    "tb_nomes['nome'].map(re.sub('[Ss][ãaáàâAÃÁÀâeu][oun][ _][Pp]a[uo]l[oa]', 'São Paulo', nome))"
   ]
  },
  {
   "cell_type": "code",
   "execution_count": 31,
   "metadata": {},
   "outputs": [
    {
     "data": {
      "text/plain": [
       "0          São Paulo\n",
       "1          São Paulo\n",
       "2          São Paulo\n",
       "3          São Paulo\n",
       "4          São Paulo\n",
       "5          São Paulo\n",
       "6          São Paulo\n",
       "7          São Paulo\n",
       "8          São Paulo\n",
       "9          São Paulo\n",
       "10    Rio de Janeiro\n",
       "Name: nome, dtype: object"
      ]
     },
     "execution_count": 31,
     "metadata": {},
     "output_type": "execute_result"
    }
   ],
   "source": [
    "def limpar_sp(nome_cidade):\n",
    "    return re.sub('[Ss][ãaáàâAÃÁÀâeu][oun][ _][Pp]a[uo]l[oa]', 'São Paulo', nome_cidade)\n",
    "\n",
    "tb_nomes['nome'].map(limpar_sp)"
   ]
  },
  {
   "cell_type": "markdown",
   "metadata": {},
   "source": [
    "Qualquer coisa entre `[]`, em padrão REGEX, é um conjunto! Pensando nos strings de forma posicional, cada conjunto ocupa **apenas uma posição do string**! Por exemplo, o padrão `r'[Ss][AaÃãÂâÁáÀà]` tem comprimento dois: procurando `[Ss]` na primeira posição e `[AaÃãÂâÁáÀà]` na segunda!\n",
    "\n",
    "##### Atalhos para Conjunto\n",
    "\n",
    "Podemos utilizar a notação `r'[A-D]'` para construir padrões contendo todos os carácteres entre duas letras."
   ]
  },
  {
   "cell_type": "code",
   "execution_count": 32,
   "metadata": {
    "ExecuteTime": {
     "end_time": "2022-01-06T22:58:15.305138Z",
     "start_time": "2022-01-06T22:58:15.293157Z"
    }
   },
   "outputs": [],
   "source": [
    "lista_tarefas = '''\n",
    "    A) cortar grama\n",
    "    B) arrumar porta\n",
    "    C) instalar calha\n",
    "    D) ligar para Pedro as 9\n",
    "    '''"
   ]
  },
  {
   "cell_type": "code",
   "execution_count": 34,
   "metadata": {
    "ExecuteTime": {
     "end_time": "2022-01-06T22:58:36.773845Z",
     "start_time": "2022-01-06T22:58:36.764869Z"
    }
   },
   "outputs": [
    {
     "data": {
      "text/plain": [
       "['A', 'B', 'C', 'D']"
      ]
     },
     "execution_count": 34,
     "metadata": {},
     "output_type": "execute_result"
    }
   ],
   "source": [
    "re.findall(r'A|B|C|D', lista_tarefas)"
   ]
  },
  {
   "cell_type": "code",
   "execution_count": 35,
   "metadata": {
    "ExecuteTime": {
     "end_time": "2022-01-06T22:58:49.044366Z",
     "start_time": "2022-01-06T22:58:49.026414Z"
    }
   },
   "outputs": [
    {
     "data": {
      "text/plain": [
       "['A', 'B', 'C', 'D']"
      ]
     },
     "execution_count": 35,
     "metadata": {},
     "output_type": "execute_result"
    }
   ],
   "source": [
    "re.findall(r'[ABCD]', lista_tarefas)"
   ]
  },
  {
   "cell_type": "code",
   "execution_count": 36,
   "metadata": {
    "ExecuteTime": {
     "end_time": "2022-01-06T23:00:30.839557Z",
     "start_time": "2022-01-06T23:00:30.830583Z"
    }
   },
   "outputs": [
    {
     "data": {
      "text/plain": [
       "['A', 'B', 'C', 'D']"
      ]
     },
     "execution_count": 36,
     "metadata": {},
     "output_type": "execute_result"
    }
   ],
   "source": [
    "re.findall(r'[A-D]', lista_tarefas)"
   ]
  },
  {
   "cell_type": "code",
   "execution_count": 37,
   "metadata": {
    "ExecuteTime": {
     "end_time": "2022-01-06T23:00:39.353957Z",
     "start_time": "2022-01-06T23:00:39.342986Z"
    }
   },
   "outputs": [
    {
     "data": {
      "text/plain": [
       "['A', 'B', 'C', 'D', 'P']"
      ]
     },
     "execution_count": 37,
     "metadata": {},
     "output_type": "execute_result"
    }
   ],
   "source": [
    "re.findall(r'[A-Z]', lista_tarefas)"
   ]
  },
  {
   "cell_type": "code",
   "execution_count": 38,
   "metadata": {
    "ExecuteTime": {
     "end_time": "2022-01-06T23:02:02.810178Z",
     "start_time": "2022-01-06T23:02:02.793224Z"
    }
   },
   "outputs": [
    {
     "data": {
      "text/plain": [
       "['1', '2', '2', '3', '4', '3']"
      ]
     },
     "execution_count": 38,
     "metadata": {},
     "output_type": "execute_result"
    }
   ],
   "source": [
    "lista_tarefas = '''\n",
    "    1) cortar grama\n",
    "    2) arrumar porta\n",
    "        2a trocar fechadura\n",
    "    3) instalar calha\n",
    "    4) ligar para Pedro as 9 9983\n",
    "    '''\n",
    "re.findall('1|2|3|4', lista_tarefas)"
   ]
  },
  {
   "cell_type": "code",
   "execution_count": 39,
   "metadata": {
    "ExecuteTime": {
     "end_time": "2022-01-06T23:01:25.400315Z",
     "start_time": "2022-01-06T23:01:25.388347Z"
    }
   },
   "outputs": [
    {
     "data": {
      "text/plain": [
       "['1', '2', '2', '3', '4', '3']"
      ]
     },
     "execution_count": 39,
     "metadata": {},
     "output_type": "execute_result"
    }
   ],
   "source": [
    "re.findall(r'[1234]', lista_tarefas)"
   ]
  },
  {
   "cell_type": "code",
   "execution_count": 40,
   "metadata": {
    "ExecuteTime": {
     "end_time": "2022-01-06T23:01:37.341823Z",
     "start_time": "2022-01-06T23:01:37.331852Z"
    }
   },
   "outputs": [
    {
     "data": {
      "text/plain": [
       "['1', '2', '2', '3', '4', '3']"
      ]
     },
     "execution_count": 40,
     "metadata": {},
     "output_type": "execute_result"
    }
   ],
   "source": [
    "re.findall(r'[1-4]', lista_tarefas)"
   ]
  },
  {
   "cell_type": "code",
   "execution_count": 41,
   "metadata": {
    "ExecuteTime": {
     "end_time": "2022-01-06T23:02:37.957714Z",
     "start_time": "2022-01-06T23:02:37.942750Z"
    }
   },
   "outputs": [
    {
     "data": {
      "text/plain": [
       "['1', '2', '2', '3', '4', '9', '9', '9', '8', '3']"
      ]
     },
     "execution_count": 41,
     "metadata": {},
     "output_type": "execute_result"
    }
   ],
   "source": [
    "re.findall(r'[0-9]', lista_tarefas)"
   ]
  },
  {
   "cell_type": "code",
   "execution_count": 42,
   "metadata": {
    "ExecuteTime": {
     "end_time": "2022-01-06T23:03:09.683914Z",
     "start_time": "2022-01-06T23:03:09.663968Z"
    }
   },
   "outputs": [
    {
     "data": {
      "text/plain": [
       "['1',\n",
       " 'c',\n",
       " 'o',\n",
       " 'r',\n",
       " 't',\n",
       " 'a',\n",
       " 'r',\n",
       " 'g',\n",
       " 'r',\n",
       " 'a',\n",
       " 'm',\n",
       " 'a',\n",
       " '2',\n",
       " 'a',\n",
       " 'r',\n",
       " 'r',\n",
       " 'u',\n",
       " 'm',\n",
       " 'a',\n",
       " 'r',\n",
       " 'p',\n",
       " 'o',\n",
       " 'r',\n",
       " 't',\n",
       " 'a',\n",
       " '2',\n",
       " 'a',\n",
       " 't',\n",
       " 'r',\n",
       " 'o',\n",
       " 'c',\n",
       " 'a',\n",
       " 'r',\n",
       " 'f',\n",
       " 'e',\n",
       " 'c',\n",
       " 'h',\n",
       " 'a',\n",
       " 'd',\n",
       " 'u',\n",
       " 'r',\n",
       " 'a',\n",
       " '3',\n",
       " 'i',\n",
       " 'n',\n",
       " 's',\n",
       " 't',\n",
       " 'a',\n",
       " 'l',\n",
       " 'a',\n",
       " 'r',\n",
       " 'c',\n",
       " 'a',\n",
       " 'l',\n",
       " 'h',\n",
       " 'a',\n",
       " '4',\n",
       " 'l',\n",
       " 'i',\n",
       " 'g',\n",
       " 'a',\n",
       " 'r',\n",
       " 'p',\n",
       " 'a',\n",
       " 'r',\n",
       " 'a',\n",
       " 'P',\n",
       " 'e',\n",
       " 'd',\n",
       " 'r',\n",
       " 'o',\n",
       " 'a',\n",
       " 's',\n",
       " '9',\n",
       " '9',\n",
       " '9',\n",
       " '8',\n",
       " '3']"
      ]
     },
     "execution_count": 42,
     "metadata": {},
     "output_type": "execute_result"
    }
   ],
   "source": [
    "re.findall(r'[0-9A-Za-z]', lista_tarefas)"
   ]
  },
  {
   "cell_type": "code",
   "execution_count": 43,
   "metadata": {
    "ExecuteTime": {
     "end_time": "2022-01-06T23:05:11.867704Z",
     "start_time": "2022-01-06T23:05:11.860724Z"
    }
   },
   "outputs": [
    {
     "data": {
      "text/plain": [
       "['2a']"
      ]
     },
     "execution_count": 43,
     "metadata": {},
     "output_type": "execute_result"
    }
   ],
   "source": [
    "re.findall(r'[0-9][a-z]', lista_tarefas)"
   ]
  },
  {
   "cell_type": "markdown",
   "metadata": {},
   "source": [
    "Como podemos substituir a lista de tarefas acima de uma lista ordenada (1, 2, 3, 4...) para um lista não-ordenada (*, *, *, *...)?"
   ]
  },
  {
   "cell_type": "code",
   "execution_count": 45,
   "metadata": {},
   "outputs": [
    {
     "name": "stdout",
     "output_type": "stream",
     "text": [
      "\n",
      "    1) cortar grama\n",
      "    2) arrumar porta\n",
      "        2a trocar fechadura\n",
      "    3) instalar calha\n",
      "    4) ligar para Pedro as 9 9983\n",
      "    \n"
     ]
    }
   ],
   "source": [
    "print(lista_tarefas)"
   ]
  },
  {
   "cell_type": "code",
   "execution_count": 57,
   "metadata": {},
   "outputs": [
    {
     "name": "stdout",
     "output_type": "stream",
     "text": [
      "\n",
      "    * cortar grama\n",
      "    * arrumar porta\n",
      "        * trocar fechadura\n",
      "    * instalar calha\n",
      "    * ligar para Pedro as 9 9983\n",
      "    \n"
     ]
    }
   ],
   "source": [
    "print(re.sub(r'[0-9][\\)a-z]', '*', lista_tarefas))"
   ]
  },
  {
   "cell_type": "code",
   "execution_count": 56,
   "metadata": {},
   "outputs": [
    {
     "data": {
      "text/plain": [
       "'(Ola, eu estou entre colchetes]'"
      ]
     },
     "execution_count": 56,
     "metadata": {},
     "output_type": "execute_result"
    }
   ],
   "source": [
    "text = \"[Ola, eu estou entre colchetes]\"\n",
    "re.sub(r'\\[', '(', text)"
   ]
  },
  {
   "cell_type": "markdown",
   "metadata": {},
   "source": [
    "Os atalhos de conjunto mais úteis são:\n",
    "\n",
    "* [a-z]: Qualquer letra minúscula;\n",
    "* [A-Z]: Qualquer letra maiúscula;\n",
    "* [0-9]: Qualquer digito.\n",
    "\n",
    "#### Classes de Carácteres\n",
    "\n",
    "As classes de carácteres são *atalhos* para conjuntos comuns:\n",
    "\n",
    "* `\\d`: carácteres numéricos;\n",
    "* `\\w`: carácteres alfa-numéricos;\n",
    "* `\\s`: espaços;\n",
    "* `\\D`: carácteres não-numéricos."
   ]
  },
  {
   "cell_type": "code",
   "execution_count": 53,
   "metadata": {
    "ExecuteTime": {
     "end_time": "2022-01-06T23:22:54.615426Z",
     "start_time": "2022-01-06T23:22:54.607453Z"
    }
   },
   "outputs": [
    {
     "name": "stdout",
     "output_type": "stream",
     "text": [
      "['a', 'o', 'i', 'j', 'o', ' ', '(', ' ', ' ', '$', ' ', 'p', ' ', 'i', 'o', ' ', 'x', ' ', '-', 'o', ' ', '=', ' ', ' ', ' ', '™', '¡', '¡', '™', '£', '¡', 'Ω', 'å', ' ', '.', ' ', 'á', 'é', 'ó', 'ã', 'à']\n"
     ]
    }
   ],
   "source": [
    "text = 'aoijo (  $ p io x -o = 3232 13 ™¡¡™£¡Ωå 3.1 áéóãà'\n",
    "pattern = r'\\D'\n",
    "print(re.findall(pattern, text))"
   ]
  },
  {
   "cell_type": "code",
   "execution_count": 55,
   "metadata": {
    "ExecuteTime": {
     "end_time": "2022-01-06T23:25:37.973127Z",
     "start_time": "2022-01-06T23:25:37.965148Z"
    }
   },
   "outputs": [
    {
     "name": "stdout",
     "output_type": "stream",
     "text": [
      "['a', 'o', 'i', 'j', 'o', ' ', ' ', ' ', ' ', 'p', ' ', 'i', 'o', ' ', 'x', ' ', 'o', ' ', ' ', '3', '2', '3', '2', ' ', '1', '3', ' ', 'Ω', 'å', ' ', '3', '1', ' ', 'á', 'é', 'ó', 'ã', 'à']\n"
     ]
    }
   ],
   "source": [
    "text = 'aoijo (  $ p io x -o = 3232 13 ™¡¡™£¡Ωå 3.1 áéóãà'\n",
    "pattern = r'[\\w\\s]'\n",
    "print(re.findall(pattern, text))"
   ]
  },
  {
   "cell_type": "markdown",
   "metadata": {},
   "source": [
    "## Quantificadores \n",
    "\n",
    "Assim como os conjuntos tornam os caracteres de uma posição flexíveis (`r'[Aa]'` encontra tanto `A` quanto `a` na primeira posição), os quantificadores tornam o número de posições que um conjunto (ou caractere) ocupam.\n",
    "\n",
    "* *: Encontra o caractere (ou conjunto) aterior 0 ou mais vezes consecutivas;\n",
    "* +: Encontra o caractere (ou conjunto) anterior 1 ou mais vezes consecutivas;\n",
    "* ?: Encontra o caractere (ou conjunto) anterior 0 ou 1 vez.\n",
    "\n",
    "Por exemplo, o padrão `r'a+'` encontra `'a'`, `'aa'`, `'aaa'`, etc..."
   ]
  },
  {
   "cell_type": "code",
   "execution_count": 59,
   "metadata": {},
   "outputs": [
    {
     "name": "stdout",
     "output_type": "stream",
     "text": [
      "['a', 'aa', 'aaa', 'aaaa', 'aaaaa', 'aaa', 'aaa']\n"
     ]
    }
   ],
   "source": [
    "text = 'a aa aaa aaaa aaaaa aaa1aaa'\n",
    "pattern = r'a+'\n",
    "print(re.findall(pattern, text))"
   ]
  },
  {
   "cell_type": "markdown",
   "metadata": {},
   "source": [
    "Já o padrão `r'a*'` encontra `''`, `'a'`, `'aaa'`, etc..."
   ]
  },
  {
   "cell_type": "code",
   "execution_count": 60,
   "metadata": {},
   "outputs": [
    {
     "name": "stdout",
     "output_type": "stream",
     "text": [
      "['a', '', 'aa', '', 'aaa', '', 'aaaa', '', 'aaaaa', '', 'aaaaaa', '']\n"
     ]
    }
   ],
   "source": [
    "text = 'a aa aaa aaaa aaaaa aaaaaa'\n",
    "pattern = r'a*'\n",
    "print(re.findall(pattern, text))"
   ]
  },
  {
   "cell_type": "markdown",
   "metadata": {},
   "source": [
    "Por fim, o padrão `r'ab?a*'` encontra todos os *sub-strings* que começam com `a`, possivelmente são seguidos de 1 `b` e podem ter múltiplos `a`s no final:\n",
    "\n",
    "1. `a`;\n",
    "1. `ab`;\n",
    "1. `aba`;\n",
    "1. `aa`;\n",
    "1. `abaa`;\n",
    "1. `...`"
   ]
  },
  {
   "cell_type": "code",
   "execution_count": 62,
   "metadata": {},
   "outputs": [
    {
     "name": "stdout",
     "output_type": "stream",
     "text": [
      "['a', 'aba', 'aaa', 'aaa', 'a', 'aaa', 'aa', 'aaaaaa']\n"
     ]
    }
   ],
   "source": [
    "text = 'a aba baaa aaaba aaabbaa aaaaaa'\n",
    "pattern = r'ab?ab*'\n",
    "print(re.findall(pattern, text))"
   ]
  },
  {
   "cell_type": "code",
   "execution_count": null,
   "metadata": {},
   "outputs": [],
   "source": [
    "'338.362.764-10 331362592-4'\n",
    "'[0-9]+\\.?[0-9]+\\.?"
   ]
  },
  {
   "cell_type": "markdown",
   "metadata": {},
   "source": [
    "Porque o padrão acima separou `aaaba` em `aaa` e `a`?\n",
    "\n",
    "### Exemplo - Encontrando números\n",
    "\n",
    "Vamos relembrar de um padrão que construímos em aula: como podemos construir uma lista de números (floats) a partir de um string com números dentro? "
   ]
  },
  {
   "cell_type": "code",
   "execution_count": 63,
   "metadata": {},
   "outputs": [
    {
     "name": "stdout",
     "output_type": "stream",
     "text": [
      "['3,3', '', '', '', '', '', '', '45,3', '', '', '', '', '', '', '', '1000', '', '', '', '', '', '', ',45', '']\n"
     ]
    }
   ],
   "source": [
    "# DESAFIO\n",
    "\n",
    "text = '3,3 João 45,3 Maria 1000 José ,45'\n",
    "pattern = r'\\d*,?\\d*'\n",
    "print(re.findall(pattern, text))"
   ]
  },
  {
   "cell_type": "code",
   "execution_count": 65,
   "metadata": {},
   "outputs": [
    {
     "data": {
      "text/plain": [
       "[3.3, 45.3, 1000.0, 0.45]"
      ]
     },
     "execution_count": 65,
     "metadata": {},
     "output_type": "execute_result"
    }
   ],
   "source": [
    "[float(re.sub(',', '.', numero)) for numero in re.findall(pattern, text) if len(numero) > 0]"
   ]
  },
  {
   "cell_type": "code",
   "execution_count": 66,
   "metadata": {},
   "outputs": [
    {
     "data": {
      "text/plain": [
       "[3.3, 45.3, 1000.0, 0.45]"
      ]
     },
     "execution_count": 66,
     "metadata": {},
     "output_type": "execute_result"
    }
   ],
   "source": [
    "[float(numero.replace(',', '.')) for numero in re.findall(pattern, text) if len(numero) > 0]"
   ]
  },
  {
   "cell_type": "markdown",
   "metadata": {},
   "source": [
    "## Quantificadores Especiais\n",
    "O quantificador `{n}` funciona como um `+` controlado: podemos especificar quantas vezes queremos encontrar o caractere (ou conjunto) precendente:\n",
    "\n",
    "* {n} : Exatamente n-vezes;\n",
    "* {n,} : Pelo menos n-vezes;\n",
    "* {n,m} : Entre n e m vezes;"
   ]
  },
  {
   "cell_type": "code",
   "execution_count": 67,
   "metadata": {},
   "outputs": [
    {
     "name": "stdout",
     "output_type": "stream",
     "text": [
      "['a', 'a', 'a', 'a', 'a', 'a', 'a', 'a', 'a', 'a', 'a', 'a', 'a', 'a', 'a', 'a', 'a', 'a', 'a', 'a', 'a']\n"
     ]
    }
   ],
   "source": [
    "text = 'a aba baaa aaaba aaaaa aaaaaa'\n",
    "pattern = r'a{1}'\n",
    "print(re.findall(pattern, text))"
   ]
  },
  {
   "cell_type": "code",
   "execution_count": 69,
   "metadata": {},
   "outputs": [
    {
     "name": "stdout",
     "output_type": "stream",
     "text": [
      "['aa', 'aa', 'aa', 'aa', 'aa', 'aa', 'aa']\n"
     ]
    }
   ],
   "source": [
    "text = 'a aba baaa aaaba aaaaa aaaaaa'\n",
    "pattern = r'a{2}'\n",
    "pattern = r'a{2}'\n",
    "print(re.findall(pattern, text))"
   ]
  },
  {
   "cell_type": "code",
   "execution_count": 70,
   "metadata": {},
   "outputs": [
    {
     "name": "stdout",
     "output_type": "stream",
     "text": [
      "['aaaa', 'aaaa']\n"
     ]
    }
   ],
   "source": [
    "text = 'a aba baaa aaaba aaaaa aaaaaa'\n",
    "pattern = r'a{4}'\n",
    "print(re.findall(pattern, text))"
   ]
  },
  {
   "cell_type": "code",
   "execution_count": 72,
   "metadata": {},
   "outputs": [
    {
     "name": "stdout",
     "output_type": "stream",
     "text": [
      "['aa', 'aaa', 'aaa', 'aaaaa', 'aaaaaa']\n"
     ]
    }
   ],
   "source": [
    "text = 'a aba aa baaa aaaba aaaaa aaaaaa'\n",
    "pattern = r'a{2,}'\n",
    "print(re.findall(pattern, text))"
   ]
  },
  {
   "cell_type": "code",
   "execution_count": 73,
   "metadata": {},
   "outputs": [
    {
     "name": "stdout",
     "output_type": "stream",
     "text": [
      "['aaa', 'aaa', 'aaa', 'aa', 'aaa', 'aaa']\n"
     ]
    }
   ],
   "source": [
    "text = 'a aba baaa aaaba aaaaa aaaaaa'\n",
    "pattern = r'a{2,3}'\n",
    "print(re.findall(pattern, text))"
   ]
  },
  {
   "cell_type": "markdown",
   "metadata": {},
   "source": [
    "#### Exemplo - Encontrando CPFs\n",
    "\n",
    "\n",
    "Vamos construir um padrão para encontrar número com formato de CPF em um string."
   ]
  },
  {
   "cell_type": "code",
   "execution_count": null,
   "metadata": {},
   "outputs": [],
   "source": [
    "r'\\d+.?'"
   ]
  },
  {
   "cell_type": "code",
   "execution_count": 79,
   "metadata": {
    "ExecuteTime": {
     "end_time": "2022-01-06T23:40:08.200159Z",
     "start_time": "2022-01-06T23:40:08.187196Z"
    }
   },
   "outputs": [
    {
     "name": "stdout",
     "output_type": "stream",
     "text": [
      "['368.211.273-23', '33921127323', '339.211.27323', '973001365', '43.544.23023']\n"
     ]
    }
   ],
   "source": [
    "# DESAFIO\n",
    "text = '368.211.273-23 33921127323 339.211.27323 +55(11)973001365 R$13542 43.544.23023'\n",
    "pattern = r'[0-9]{1,3}\\.?[0-9]{3}\\.?[0-9]{3}\\-?[0-9a-zA-Z]{1,2}'\n",
    "print(re.findall(pattern, text))"
   ]
  },
  {
   "cell_type": "markdown",
   "metadata": {},
   "source": [
    "## Meta-caracteres\n",
    "\n",
    "Meta-caracteres são caracteres *especiais*: o REGEX não os interpreta de forma literal. Se quisermos utilizar um meta-caractere literalmente (como o `.` no exemplo do CPF) devemos escapá-lo com `\\`.\n",
    "\n",
    "* `.` : Qualquer caractere exceto newline (`\\n`);\n",
    "* `[^]` : **Dentro de um conjunto** representa a negação (inverte o conjunto);\n",
    "* `^`: **Fora de um conjunto** representa o começo da linha;\n",
    "* `$` : Fim da linha;\n",
    "* `|` : Operador OU;"
   ]
  },
  {
   "cell_type": "markdown",
   "metadata": {},
   "source": [
    "### Limpando newlines com `.`\n",
    "\n",
    "O meta-caractere `.` pode ser utilizado para limparmos os `\\n` de um string:"
   ]
  },
  {
   "cell_type": "code",
   "execution_count": 80,
   "metadata": {
    "ExecuteTime": {
     "end_time": "2022-01-06T23:13:27.266818Z",
     "start_time": "2022-01-06T23:13:27.253856Z"
    }
   },
   "outputs": [
    {
     "name": "stdout",
     "output_type": "stream",
     "text": [
      "['M', 'y', ' ', 'b', 'o', 's', 's', ' ', 'a', 's', 'k', 'e', 'd', ' ', 'm', 'e', ' ', 't', 'o', ' ', 't', 'u', 'r', 'n', ' ', 'i', 'n', ' ', 'm', 'y', ' ', 'T', 'P', 'S', ' ', 'r', 'e', 'p', 'o', 'r', 't', 's', '.', ' ', 'I', ' ', 't', 'o', 'l', 'd', ' ', 'h', 'i', 'm', ' ', 't', 'h', 'e', 'y', ' ', 'w', 'e', 'r', 'e', ' ', 'd', 'o', 'n', 'e', ',', ' ', 'b', 'u', 't', ' ', 't', 'h', 'e', 'y', ' ', 'a', 'r', 'e', ' ', 'n', 'o', 't', '.']\n"
     ]
    }
   ],
   "source": [
    "text = '''My boss asked me to turn in my TPS reports. \n",
    "I told him they were done, but they are not.'''\n",
    "pattern = r'.'\n",
    "print(re.findall(pattern, text))"
   ]
  },
  {
   "cell_type": "code",
   "execution_count": 81,
   "metadata": {},
   "outputs": [
    {
     "name": "stdout",
     "output_type": "stream",
     "text": [
      "My boss asked me to turn in my TPS reports. \n",
      "I told him they were done, but they are not.\n"
     ]
    }
   ],
   "source": [
    "print(text)"
   ]
  },
  {
   "cell_type": "code",
   "execution_count": 82,
   "metadata": {
    "ExecuteTime": {
     "end_time": "2022-01-06T23:13:27.844453Z",
     "start_time": "2022-01-06T23:13:27.838471Z"
    }
   },
   "outputs": [
    {
     "data": {
      "text/plain": [
       "'My boss asked me to turn in my TPS reports. \\nI told him they were done, but they are not.'"
      ]
     },
     "execution_count": 82,
     "metadata": {},
     "output_type": "execute_result"
    }
   ],
   "source": [
    "text"
   ]
  },
  {
   "cell_type": "code",
   "execution_count": 83,
   "metadata": {
    "ExecuteTime": {
     "end_time": "2022-01-06T23:13:28.186571Z",
     "start_time": "2022-01-06T23:13:28.179589Z"
    }
   },
   "outputs": [
    {
     "name": "stdout",
     "output_type": "stream",
     "text": [
      "My boss asked me to turn in my TPS reports. I told him they were done, but they are not.\n"
     ]
    }
   ],
   "source": [
    "print(''.join(re.findall(r'.', text)))"
   ]
  },
  {
   "cell_type": "code",
   "execution_count": 84,
   "metadata": {},
   "outputs": [
    {
     "data": {
      "text/plain": [
       "'My boss asked me to turn in my TPS reports. I told him they were done, but they are not.'"
      ]
     },
     "execution_count": 84,
     "metadata": {},
     "output_type": "execute_result"
    }
   ],
   "source": [
    "text.replace('\\n', '')"
   ]
  },
  {
   "cell_type": "markdown",
   "metadata": {},
   "source": [
    "### Negando Conjuntos\n",
    "\n",
    "Dentro de um conjunto, o caractere `[^]` representa a negação do conjunto (encontramos tudo **QUE NÃO ESTÁ NO CONJUNTO**). Muitas vezes é mais fácil especificar **O QUE NÃO QUEREMOS** do que o que queremos!"
   ]
  },
  {
   "cell_type": "code",
   "execution_count": 86,
   "metadata": {
    "ExecuteTime": {
     "end_time": "2022-01-06T23:15:57.888648Z",
     "start_time": "2022-01-06T23:15:57.870693Z"
    }
   },
   "outputs": [
    {
     "name": "stdout",
     "output_type": "stream",
     "text": [
      "['y', ' ', 'o', 's', 's', ' ', 's', ' ', ' ', 't', 'o', ' ', 't', 'u', 'r', 'n', ' ', 'n', ' ', 'y', ' ', 'T', 'P', 'S', ' ', 'r', 'p', 'o', 'r', 't', 's', '.', ' ', '\\n', ' ', 't', 'o', ' ', ' ', 't', 'y', ' ', 'w', 'r', ' ', 'o', 'n', ',', ' ', 'u', 't', ' ', 't', 'y', ' ', 'r', ' ', 'n', 'o', 't', '.']\n"
     ]
    }
   ],
   "source": [
    "text = \"\"\"My boss asked me to turn in my TPS reports. \n",
    "I told him they were done, but they are not.\"\"\"\n",
    "pattern = r'[^a-mA-M]'\n",
    "print(re.findall(pattern, text))"
   ]
  },
  {
   "cell_type": "code",
   "execution_count": 87,
   "metadata": {
    "ExecuteTime": {
     "end_time": "2022-01-06T23:15:58.232725Z",
     "start_time": "2022-01-06T23:15:58.217766Z"
    }
   },
   "outputs": [
    {
     "name": "stdout",
     "output_type": "stream",
     "text": [
      "y oss s  to turn n y TPS rports. \n",
      " to  ty wr on, ut ty r not.\n"
     ]
    }
   ],
   "source": [
    "print(''.join(re.findall(pattern, text)))"
   ]
  },
  {
   "cell_type": "markdown",
   "metadata": {},
   "source": [
    "### Encontrando padrões no começo ou fim do string\n",
    "\n",
    "Os caracteres `^` e `$` nos permitem encontrar o começo ou fim, respectivamente, de um string."
   ]
  },
  {
   "cell_type": "code",
   "execution_count": 89,
   "metadata": {
    "ExecuteTime": {
     "end_time": "2022-01-06T23:20:51.152173Z",
     "start_time": "2022-01-06T23:20:51.134219Z"
    }
   },
   "outputs": [],
   "source": [
    "text = '''My boss asked me to turn in my TPS reports.\n",
    "My boss told him they were done, but they are not.'''"
   ]
  },
  {
   "cell_type": "code",
   "execution_count": 91,
   "metadata": {
    "ExecuteTime": {
     "end_time": "2022-01-06T23:17:14.498697Z",
     "start_time": "2022-01-06T23:17:14.485733Z"
    }
   },
   "outputs": [
    {
     "data": {
      "text/plain": [
       "['My boss asked me to turn in my TPS reports.',\n",
       " 'My boss told him they were done, but they are not.']"
      ]
     },
     "execution_count": 91,
     "metadata": {},
     "output_type": "execute_result"
    }
   ],
   "source": [
    "pattern = r'My boss.*'\n",
    "re.findall(pattern, text)"
   ]
  },
  {
   "cell_type": "code",
   "execution_count": 92,
   "metadata": {},
   "outputs": [
    {
     "data": {
      "text/plain": [
       "['My boss']"
      ]
     },
     "execution_count": 92,
     "metadata": {},
     "output_type": "execute_result"
    }
   ],
   "source": [
    "pattern = r'^My boss'\n",
    "re.findall(pattern, text)"
   ]
  },
  {
   "cell_type": "code",
   "execution_count": 93,
   "metadata": {
    "ExecuteTime": {
     "end_time": "2022-01-06T23:18:50.181978Z",
     "start_time": "2022-01-06T23:18:50.173998Z"
    }
   },
   "outputs": [
    {
     "data": {
      "text/plain": [
       "['My boss asked me to turn in my TPS reports.']"
      ]
     },
     "execution_count": 93,
     "metadata": {},
     "output_type": "execute_result"
    }
   ],
   "source": [
    "pattern = r'^My boss.*'\n",
    "re.findall(pattern, text)"
   ]
  },
  {
   "cell_type": "markdown",
   "metadata": {},
   "source": [
    "O padrão do REGEX no Python é considerar o começo e fim do **string** como um todo. Podemos alterar esse padrão para que eles encontrem o começo e fim de cada nova linha (criada com `\\n`)."
   ]
  },
  {
   "cell_type": "code",
   "execution_count": 95,
   "metadata": {
    "ExecuteTime": {
     "end_time": "2022-01-06T23:19:14.929700Z",
     "start_time": "2022-01-06T23:19:14.909726Z"
    }
   },
   "outputs": [
    {
     "data": {
      "text/plain": [
       "['My boss', 'My boss']"
      ]
     },
     "execution_count": 95,
     "metadata": {},
     "output_type": "execute_result"
    }
   ],
   "source": [
    "pattern = r'^My boss'\n",
    "re.findall(pattern, text, re.MULTILINE)"
   ]
  },
  {
   "cell_type": "code",
   "execution_count": 101,
   "metadata": {
    "ExecuteTime": {
     "end_time": "2022-01-06T23:20:58.414888Z",
     "start_time": "2022-01-06T23:20:58.408933Z"
    }
   },
   "outputs": [
    {
     "data": {
      "text/plain": [
       "[]"
      ]
     },
     "execution_count": 101,
     "metadata": {},
     "output_type": "execute_result"
    }
   ],
   "source": [
    "text = '''My boss are not asking me to turn in my TPS reports.\n",
    "My boss told him they were done, but they are not'''\n",
    "pattern = r'aaa^'\n",
    "re.findall(pattern, text)"
   ]
  },
  {
   "cell_type": "code",
   "execution_count": 102,
   "metadata": {
    "ExecuteTime": {
     "end_time": "2022-01-06T23:21:41.418041Z",
     "start_time": "2022-01-06T23:21:41.409063Z"
    }
   },
   "outputs": [
    {
     "data": {
      "text/plain": [
       "['reports.']"
      ]
     },
     "execution_count": 102,
     "metadata": {},
     "output_type": "execute_result"
    }
   ],
   "source": [
    "pattern = 'reports.$'\n",
    "re.findall(pattern, text, re.MULTILINE)"
   ]
  },
  {
   "cell_type": "markdown",
   "metadata": {},
   "source": [
    "### Aplicando `$` com `*`"
   ]
  },
  {
   "cell_type": "code",
   "execution_count": 103,
   "metadata": {
    "ExecuteTime": {
     "end_time": "2022-01-06T23:49:48.061115Z",
     "start_time": "2022-01-06T23:49:48.053131Z"
    }
   },
   "outputs": [],
   "source": [
    "text = '''My boss asked me to turn. in my TPS reports.\n",
    "My boss told him they were done, but they are not.'''"
   ]
  },
  {
   "cell_type": "code",
   "execution_count": 104,
   "metadata": {
    "ExecuteTime": {
     "end_time": "2022-01-06T23:46:47.919268Z",
     "start_time": "2022-01-06T23:46:47.904308Z"
    }
   },
   "outputs": [
    {
     "data": {
      "text/plain": [
       "['are not.']"
      ]
     },
     "execution_count": 104,
     "metadata": {},
     "output_type": "execute_result"
    }
   ],
   "source": [
    "re.findall(r'are not.$', text)"
   ]
  },
  {
   "cell_type": "code",
   "execution_count": 105,
   "metadata": {
    "ExecuteTime": {
     "end_time": "2022-01-06T23:47:33.069791Z",
     "start_time": "2022-01-06T23:47:33.064804Z"
    }
   },
   "outputs": [
    {
     "data": {
      "text/plain": [
       "[' are not.']"
      ]
     },
     "execution_count": 105,
     "metadata": {},
     "output_type": "execute_result"
    }
   ],
   "source": [
    "re.findall(r'.are not.$', text)"
   ]
  },
  {
   "cell_type": "code",
   "execution_count": 106,
   "metadata": {
    "ExecuteTime": {
     "end_time": "2022-01-06T23:47:50.027819Z",
     "start_time": "2022-01-06T23:47:50.009840Z"
    }
   },
   "outputs": [
    {
     "data": {
      "text/plain": [
       "['My boss told him they were done, but they are not.']"
      ]
     },
     "execution_count": 106,
     "metadata": {},
     "output_type": "execute_result"
    }
   ],
   "source": [
    "re.findall(r'.*are not.$', text)"
   ]
  },
  {
   "cell_type": "code",
   "execution_count": 107,
   "metadata": {
    "ExecuteTime": {
     "end_time": "2022-01-06T23:49:58.074320Z",
     "start_time": "2022-01-06T23:49:58.055371Z"
    }
   },
   "outputs": [
    {
     "data": {
      "text/plain": [
       "['My boss asked me to turn. in my TPS reports.',\n",
       " 'My boss told him they were done, but they are not.']"
      ]
     },
     "execution_count": 107,
     "metadata": {},
     "output_type": "execute_result"
    }
   ],
   "source": [
    "re.findall(r'.*\\.$', text, re.MULTILINE)"
   ]
  },
  {
   "cell_type": "markdown",
   "metadata": {},
   "source": [
    "## Ganância (Greediness)\n",
    "https://docs.python.org/3/howto/regex.html#greedy-versus-non-greedy"
   ]
  },
  {
   "cell_type": "code",
   "execution_count": 108,
   "metadata": {
    "ExecuteTime": {
     "end_time": "2022-01-06T23:51:18.011015Z",
     "start_time": "2022-01-06T23:51:18.000044Z"
    }
   },
   "outputs": [],
   "source": [
    "text = 'You are yelling! So I will yell too! Let me yell!'"
   ]
  },
  {
   "cell_type": "code",
   "execution_count": 109,
   "metadata": {
    "ExecuteTime": {
     "end_time": "2022-01-06T23:51:18.448802Z",
     "start_time": "2022-01-06T23:51:18.439819Z"
    }
   },
   "outputs": [
    {
     "name": "stdout",
     "output_type": "stream",
     "text": [
      "['You are yelling! So I will yell too! Let me yell!']\n"
     ]
    }
   ],
   "source": [
    "pattern = r'.*!'\n",
    "print(re.findall(pattern, text))"
   ]
  },
  {
   "cell_type": "markdown",
   "metadata": {},
   "source": [
    "When repeating a regular expression, as in a*, **the resulting action is to consume as much of the pattern as possible.**"
   ]
  },
  {
   "cell_type": "code",
   "execution_count": 110,
   "metadata": {
    "ExecuteTime": {
     "end_time": "2022-01-06T23:51:48.419804Z",
     "start_time": "2022-01-06T23:51:48.409827Z"
    }
   },
   "outputs": [
    {
     "name": "stdout",
     "output_type": "stream",
     "text": [
      "['You are yelling!', ' So I will yell too!', ' Let me yell!']\n"
     ]
    }
   ],
   "source": [
    "pattern = r'[ a-zA-Z]*!'\n",
    "print(re.findall(pattern, text))"
   ]
  },
  {
   "cell_type": "markdown",
   "metadata": {},
   "source": [
    "## Utilizando `grupos`\n",
    "\n",
    "Até agora, utilizamos padrões para extrair substrings completos. Muitas vezes, no entanto, queremos utilizar um REGEX para extrair múltiplas informações de um mesmo string a partir de uma estrutura determinada. Para isto, usaremos grupos!\n",
    "\n",
    "https://docs.python.org/3/howto/regex.html#grouping"
   ]
  },
  {
   "cell_type": "code",
   "execution_count": 112,
   "metadata": {
    "ExecuteTime": {
     "end_time": "2022-01-07T00:06:46.165483Z",
     "start_time": "2022-01-07T00:06:46.153516Z"
    }
   },
   "outputs": [],
   "source": [
    "text = '''\n",
    "From: author@example.com\n",
    "User-Agent: Thunderbird 1.5.0.9 (X11/20061227)\n",
    "MIME-Version: 1.0\n",
    "To: editor@example.com\n",
    "'''"
   ]
  },
  {
   "cell_type": "code",
   "execution_count": 113,
   "metadata": {
    "ExecuteTime": {
     "end_time": "2022-01-07T00:06:46.696516Z",
     "start_time": "2022-01-07T00:06:46.676571Z"
    }
   },
   "outputs": [
    {
     "data": {
      "text/plain": [
       "[('From', ' author@example.com'),\n",
       " ('User-Agent', ' Thunderbird 1.5.0.9 (X11/20061227)'),\n",
       " ('MIME-Version', ' 1.0'),\n",
       " ('To', ' editor@example.com')]"
      ]
     },
     "execution_count": 113,
     "metadata": {},
     "output_type": "execute_result"
    }
   ],
   "source": [
    "pattern = r'(.*):(.*)'\n",
    "re.findall(pattern, text)"
   ]
  },
  {
   "cell_type": "code",
   "execution_count": 116,
   "metadata": {},
   "outputs": [
    {
     "data": {
      "text/plain": [
       "{'From': 'author@example.com',\n",
       " 'User-Agent': 'Thunderbird 1.5.0.9 (X11/20061227)',\n",
       " 'MIME-Version': '1.0',\n",
       " 'To': 'editor@example.com'}"
      ]
     },
     "execution_count": 116,
     "metadata": {},
     "output_type": "execute_result"
    }
   ],
   "source": [
    "{upla[0] : upla[1].strip() for upla in re.findall(pattern, text)}"
   ]
  },
  {
   "cell_type": "markdown",
   "metadata": {},
   "source": [
    "O resultado de um REGEX feito a partir de um padrão com grupos é uma lista de tuplas. Cada elemento da lista corresponde à um match do padrão completo e cada elemento da tupla corresponde à um grupo do padrão (mesmo que este grupo esteja vazio):"
   ]
  },
  {
   "cell_type": "code",
   "execution_count": 120,
   "metadata": {},
   "outputs": [
    {
     "data": {
      "text/plain": [
       "[('From', ''),\n",
       " ('User-Agent', ' Thunderbird 1.5.0.9 (X11/20061227)'),\n",
       " ('MIME-Version', ' 1.0'),\n",
       " ('To', ' editor@example.com')]"
      ]
     },
     "execution_count": 120,
     "metadata": {},
     "output_type": "execute_result"
    }
   ],
   "source": [
    "text = '''\n",
    "From:\n",
    "User-Agent: Thunderbird 1.5.0.9 (X11/20061227)\n",
    "MIME-Version: 1.0\n",
    "To: editor@example.com\n",
    "\n",
    "Ola o meu nome é Pedro\n",
    "'''\n",
    "pattern = r'(.*):(.*)'\n",
    "re.findall(pattern, text)"
   ]
  },
  {
   "cell_type": "markdown",
   "metadata": {},
   "source": [
    "### Desafio - Separação de Códgio Internacional, DDDs e Telefones\n",
    "\n",
    "Uma tarefa comum que encontramos no tratamento de `strings` é a separação de um string semi-estruturado (por exemplo, um telefone) em seus componentes."
   ]
  },
  {
   "cell_type": "code",
   "execution_count": 121,
   "metadata": {},
   "outputs": [],
   "source": [
    "lista_telefone = ['+55(19)35613675', '+55(11)29934999', '+1(678)818977222', '+1(544)932226172']"
   ]
  },
  {
   "cell_type": "code",
   "execution_count": 130,
   "metadata": {},
   "outputs": [
    {
     "data": {
      "text/plain": [
       "[('55', '19', '35613675'),\n",
       " ('55', '11', '29934999'),\n",
       " ('1', '678', '818977222'),\n",
       " ('1', '544', '932226172')]"
      ]
     },
     "execution_count": 130,
     "metadata": {},
     "output_type": "execute_result"
    }
   ],
   "source": [
    "pattern = r'\\+(\\d{1,3})\\((\\d+)\\)(\\d+)'\n",
    "[re.findall(pattern, telefone)[0] for telefone in lista_telefone]"
   ]
  },
  {
   "cell_type": "code",
   "execution_count": 128,
   "metadata": {},
   "outputs": [
    {
     "data": {
      "text/html": [
       "<div>\n",
       "<style scoped>\n",
       "    .dataframe tbody tr th:only-of-type {\n",
       "        vertical-align: middle;\n",
       "    }\n",
       "\n",
       "    .dataframe tbody tr th {\n",
       "        vertical-align: top;\n",
       "    }\n",
       "\n",
       "    .dataframe thead th {\n",
       "        text-align: right;\n",
       "    }\n",
       "</style>\n",
       "<table border=\"1\" class=\"dataframe\">\n",
       "  <thead>\n",
       "    <tr style=\"text-align: right;\">\n",
       "      <th></th>\n",
       "      <th>ddi</th>\n",
       "      <th>ddd</th>\n",
       "      <th>numero</th>\n",
       "    </tr>\n",
       "  </thead>\n",
       "  <tbody>\n",
       "    <tr>\n",
       "      <th>0</th>\n",
       "      <td>55</td>\n",
       "      <td>19</td>\n",
       "      <td>35613675</td>\n",
       "    </tr>\n",
       "    <tr>\n",
       "      <th>1</th>\n",
       "      <td>55</td>\n",
       "      <td>11</td>\n",
       "      <td>29934999</td>\n",
       "    </tr>\n",
       "    <tr>\n",
       "      <th>2</th>\n",
       "      <td>1</td>\n",
       "      <td>678</td>\n",
       "      <td>818977222</td>\n",
       "    </tr>\n",
       "    <tr>\n",
       "      <th>3</th>\n",
       "      <td>1</td>\n",
       "      <td>544</td>\n",
       "      <td>932226172</td>\n",
       "    </tr>\n",
       "  </tbody>\n",
       "</table>\n",
       "</div>"
      ],
      "text/plain": [
       "  ddi  ddd     numero\n",
       "0  55   19   35613675\n",
       "1  55   11   29934999\n",
       "2   1  678  818977222\n",
       "3   1  544  932226172"
      ]
     },
     "execution_count": 128,
     "metadata": {},
     "output_type": "execute_result"
    }
   ],
   "source": [
    "pd.DataFrame([re.findall(pattern, telefone)[0] for telefone in lista_telefone],\n",
    "            columns = [ \"ddi\", \"ddd\", \"numero\"])"
   ]
  },
  {
   "cell_type": "markdown",
   "metadata": {},
   "source": [
    "# Voltamos 21h17"
   ]
  },
  {
   "cell_type": "code",
   "execution_count": 132,
   "metadata": {},
   "outputs": [],
   "source": [
    "from datetime import datetime"
   ]
  },
  {
   "cell_type": "code",
   "execution_count": 133,
   "metadata": {},
   "outputs": [
    {
     "data": {
      "text/plain": [
       "datetime.datetime(2022, 8, 25, 0, 0)"
      ]
     },
     "execution_count": 133,
     "metadata": {},
     "output_type": "execute_result"
    }
   ],
   "source": [
    "datetime(2022, 8, 25)"
   ]
  },
  {
   "cell_type": "code",
   "execution_count": 139,
   "metadata": {},
   "outputs": [],
   "source": [
    "dict_estacao = {\"Jan\" : \"Inverno\", \"Feb\": \"Verao\"}\n",
    "teste = pd.DataFrame({\"mes\": [\"Jan\"]  *5 + [\"Feb\"] * 10})"
   ]
  },
  {
   "cell_type": "code",
   "execution_count": 140,
   "metadata": {},
   "outputs": [
    {
     "data": {
      "text/plain": [
       "{'Jan': 'Inverno', 'Feb': 'Verao'}"
      ]
     },
     "execution_count": 140,
     "metadata": {},
     "output_type": "execute_result"
    }
   ],
   "source": [
    "dict_estacao"
   ]
  },
  {
   "cell_type": "code",
   "execution_count": 142,
   "metadata": {},
   "outputs": [],
   "source": [
    "teste['estacao'] = teste['mes'].map(dict_estacao)"
   ]
  },
  {
   "cell_type": "code",
   "execution_count": 143,
   "metadata": {},
   "outputs": [
    {
     "data": {
      "text/html": [
       "<div>\n",
       "<style scoped>\n",
       "    .dataframe tbody tr th:only-of-type {\n",
       "        vertical-align: middle;\n",
       "    }\n",
       "\n",
       "    .dataframe tbody tr th {\n",
       "        vertical-align: top;\n",
       "    }\n",
       "\n",
       "    .dataframe thead th {\n",
       "        text-align: right;\n",
       "    }\n",
       "</style>\n",
       "<table border=\"1\" class=\"dataframe\">\n",
       "  <thead>\n",
       "    <tr style=\"text-align: right;\">\n",
       "      <th></th>\n",
       "      <th>mes</th>\n",
       "      <th>estacao</th>\n",
       "    </tr>\n",
       "  </thead>\n",
       "  <tbody>\n",
       "    <tr>\n",
       "      <th>0</th>\n",
       "      <td>Jan</td>\n",
       "      <td>Inverno</td>\n",
       "    </tr>\n",
       "    <tr>\n",
       "      <th>1</th>\n",
       "      <td>Jan</td>\n",
       "      <td>Inverno</td>\n",
       "    </tr>\n",
       "    <tr>\n",
       "      <th>2</th>\n",
       "      <td>Jan</td>\n",
       "      <td>Inverno</td>\n",
       "    </tr>\n",
       "    <tr>\n",
       "      <th>3</th>\n",
       "      <td>Jan</td>\n",
       "      <td>Inverno</td>\n",
       "    </tr>\n",
       "    <tr>\n",
       "      <th>4</th>\n",
       "      <td>Jan</td>\n",
       "      <td>Inverno</td>\n",
       "    </tr>\n",
       "    <tr>\n",
       "      <th>5</th>\n",
       "      <td>Feb</td>\n",
       "      <td>Verao</td>\n",
       "    </tr>\n",
       "    <tr>\n",
       "      <th>6</th>\n",
       "      <td>Feb</td>\n",
       "      <td>Verao</td>\n",
       "    </tr>\n",
       "    <tr>\n",
       "      <th>7</th>\n",
       "      <td>Feb</td>\n",
       "      <td>Verao</td>\n",
       "    </tr>\n",
       "    <tr>\n",
       "      <th>8</th>\n",
       "      <td>Feb</td>\n",
       "      <td>Verao</td>\n",
       "    </tr>\n",
       "    <tr>\n",
       "      <th>9</th>\n",
       "      <td>Feb</td>\n",
       "      <td>Verao</td>\n",
       "    </tr>\n",
       "    <tr>\n",
       "      <th>10</th>\n",
       "      <td>Feb</td>\n",
       "      <td>Verao</td>\n",
       "    </tr>\n",
       "    <tr>\n",
       "      <th>11</th>\n",
       "      <td>Feb</td>\n",
       "      <td>Verao</td>\n",
       "    </tr>\n",
       "    <tr>\n",
       "      <th>12</th>\n",
       "      <td>Feb</td>\n",
       "      <td>Verao</td>\n",
       "    </tr>\n",
       "    <tr>\n",
       "      <th>13</th>\n",
       "      <td>Feb</td>\n",
       "      <td>Verao</td>\n",
       "    </tr>\n",
       "    <tr>\n",
       "      <th>14</th>\n",
       "      <td>Feb</td>\n",
       "      <td>Verao</td>\n",
       "    </tr>\n",
       "  </tbody>\n",
       "</table>\n",
       "</div>"
      ],
      "text/plain": [
       "    mes  estacao\n",
       "0   Jan  Inverno\n",
       "1   Jan  Inverno\n",
       "2   Jan  Inverno\n",
       "3   Jan  Inverno\n",
       "4   Jan  Inverno\n",
       "5   Feb    Verao\n",
       "6   Feb    Verao\n",
       "7   Feb    Verao\n",
       "8   Feb    Verao\n",
       "9   Feb    Verao\n",
       "10  Feb    Verao\n",
       "11  Feb    Verao\n",
       "12  Feb    Verao\n",
       "13  Feb    Verao\n",
       "14  Feb    Verao"
      ]
     },
     "execution_count": 143,
     "metadata": {},
     "output_type": "execute_result"
    }
   ],
   "source": [
    "teste"
   ]
  },
  {
   "cell_type": "code",
   "execution_count": null,
   "metadata": {},
   "outputs": [],
   "source": []
  }
 ],
 "metadata": {
  "hide_input": false,
  "kernelspec": {
   "display_name": "Python 3 (ipykernel)",
   "language": "python",
   "name": "python3"
  },
  "language_info": {
   "codemirror_mode": {
    "name": "ipython",
    "version": 3
   },
   "file_extension": ".py",
   "mimetype": "text/x-python",
   "name": "python",
   "nbconvert_exporter": "python",
   "pygments_lexer": "ipython3",
   "version": "3.9.13"
  },
  "toc": {
   "base_numbering": 1,
   "nav_menu": {},
   "number_sections": true,
   "sideBar": true,
   "skip_h1_title": false,
   "title_cell": "Table of Contents",
   "title_sidebar": "Contents",
   "toc_cell": false,
   "toc_position": {
    "height": "calc(100% - 180px)",
    "left": "10px",
    "top": "150px",
    "width": "258.182px"
   },
   "toc_section_display": true,
   "toc_window_display": false
  },
  "toc-autonumbering": false,
  "varInspector": {
   "cols": {
    "lenName": 16,
    "lenType": 16,
    "lenVar": 40
   },
   "kernels_config": {
    "python": {
     "delete_cmd_postfix": "",
     "delete_cmd_prefix": "del ",
     "library": "var_list.py",
     "varRefreshCmd": "print(var_dic_list())"
    },
    "r": {
     "delete_cmd_postfix": ") ",
     "delete_cmd_prefix": "rm(",
     "library": "var_list.r",
     "varRefreshCmd": "cat(var_dic_list()) "
    }
   },
   "types_to_exclude": [
    "module",
    "function",
    "builtin_function_or_method",
    "instance",
    "_Feature"
   ],
   "window_display": false
  },
  "vscode": {
   "interpreter": {
    "hash": "014f4a4a5af8f0104b12c029e500f4146d6d785e8cf714d2a35b7a9514230cd3"
   }
  }
 },
 "nbformat": 4,
 "nbformat_minor": 4
}
