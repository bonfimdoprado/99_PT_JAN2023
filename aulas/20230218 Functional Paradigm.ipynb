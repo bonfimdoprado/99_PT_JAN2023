{
 "cells": [
  {
   "cell_type": "code",
   "execution_count": 37,
   "metadata": {
    "ExecuteTime": {
     "end_time": "2022-01-08T13:10:04.323413Z",
     "start_time": "2022-01-08T13:10:03.820962Z"
    }
   },
   "outputs": [],
   "source": [
    "import re\n",
    "import numpy as np\n",
    "import pandas as pd\n"
   ]
  },
  {
   "cell_type": "markdown",
   "metadata": {},
   "source": [
    "# O Paradigma Funcional\n",
    "\n",
    "Vamos recapitular quais paradigmas de programação utilizamos até aqui:\n",
    "\n",
    "**Paradigma Imperativo**\n",
    "- O programa é composto por um estado e instruções que modificam este estado:\n",
    "\n",
    "```python\n",
    "x = 0\n",
    "for i in range(10):\n",
    "    x = (x + i)*2\n",
    "print x\n",
    "```\n",
    "- Forma mais simples de programação, é o paradigma das linguagens mais antigas (C, Fortran e COBOL por exemplo).\n",
    "\n",
    "**Orientação à Objetos (OOP)**\n",
    "- O estado e as instruções que operam sobre esse estado são parte de um **objeto**:\n",
    "\n",
    "```python\n",
    "class Casa:\n",
    "    def __init__(self):\n",
    "        self.porta = 'Aberta'\n",
    "    \n",
    "    def fechar_porta(self):\n",
    "        self.porta = 'Fechada'\n",
    "\n",
    "    def abrir_porta(self):\n",
    "        self.porta = 'Aberta'\n",
    "```\n",
    "- OOP é um paradigma muito comum hoje em dia, presente em linguagens como C++, Java e Python.\n",
    "\n",
    "**Functional Programming**\n",
    "- Não existe estado, apenas funções: o programa é uma sequência de aplicação de funções ao input:\n",
    "```python\n",
    "def somar_2(x):\n",
    "    return x + 2\n",
    "```\n",
    "```python\n",
    "def mult_4(x):\n",
    "    return x * 4\n",
    "```\n",
    "```python\n",
    "saida = somar_2(mult_4(somar_2(entrada)))\n",
    "```\n",
    "- No paradigma funcional funções são variáveis.\n",
    "- Paradigma que surgiu com a linguagem LISP, nos anos 70, e hoje em dia sobrevive nas áreas de dados através de linguagens como R, Julia, Python (em parte)."
   ]
  },
  {
   "cell_type": "markdown",
   "metadata": {},
   "source": [
    "## Funções são variáveis\n",
    "\n",
    "Mesmo quando consturímos uma função utilizando `def`, o resultado é uma variável com uma função dentro!"
   ]
  },
  {
   "cell_type": "code",
   "execution_count": 38,
   "metadata": {
    "ExecuteTime": {
     "end_time": "2022-01-08T13:12:09.210867Z",
     "start_time": "2022-01-08T13:12:09.194910Z"
    }
   },
   "outputs": [],
   "source": [
    "soma_1 = lambda x: x + 1\n"
   ]
  },
  {
   "cell_type": "code",
   "execution_count": 39,
   "metadata": {},
   "outputs": [
    {
     "data": {
      "text/plain": [
       "<function __main__.<lambda>(x)>"
      ]
     },
     "execution_count": 39,
     "metadata": {},
     "output_type": "execute_result"
    }
   ],
   "source": [
    "soma_1\n"
   ]
  },
  {
   "cell_type": "code",
   "execution_count": 41,
   "metadata": {},
   "outputs": [
    {
     "data": {
      "text/plain": [
       "2"
      ]
     },
     "execution_count": 41,
     "metadata": {},
     "output_type": "execute_result"
    }
   ],
   "source": [
    "soma_1(1)"
   ]
  },
  {
   "cell_type": "code",
   "execution_count": 42,
   "metadata": {},
   "outputs": [],
   "source": [
    "def soma_1_c(x):\n",
    "    return x + 1\n"
   ]
  },
  {
   "cell_type": "code",
   "execution_count": 44,
   "metadata": {},
   "outputs": [
    {
     "data": {
      "text/plain": [
       "2"
      ]
     },
     "execution_count": 44,
     "metadata": {},
     "output_type": "execute_result"
    }
   ],
   "source": [
    "soma_1_c(1)\n"
   ]
  },
  {
   "cell_type": "code",
   "execution_count": 45,
   "metadata": {
    "ExecuteTime": {
     "end_time": "2022-01-08T13:12:17.104938Z",
     "start_time": "2022-01-08T13:12:17.087959Z"
    }
   },
   "outputs": [
    {
     "data": {
      "text/plain": [
       "12"
      ]
     },
     "execution_count": 45,
     "metadata": {},
     "output_type": "execute_result"
    }
   ],
   "source": [
    "soma_1(soma_1_c(10))\n"
   ]
  },
  {
   "cell_type": "markdown",
   "metadata": {},
   "source": [
    "Podemos utilizar esse comportamento para criar funções a partir de outras funções:"
   ]
  },
  {
   "cell_type": "code",
   "execution_count": 46,
   "metadata": {
    "ExecuteTime": {
     "end_time": "2022-01-08T13:13:12.044380Z",
     "start_time": "2022-01-08T13:13:12.031417Z"
    }
   },
   "outputs": [],
   "source": [
    "somar_n = lambda x, n: x + n\n"
   ]
  },
  {
   "cell_type": "code",
   "execution_count": 47,
   "metadata": {
    "ExecuteTime": {
     "end_time": "2022-01-08T13:13:12.452025Z",
     "start_time": "2022-01-08T13:13:12.442069Z"
    }
   },
   "outputs": [],
   "source": [
    "soma_1 = lambda x: somar_n(x, 1)\n"
   ]
  },
  {
   "cell_type": "code",
   "execution_count": 48,
   "metadata": {
    "ExecuteTime": {
     "end_time": "2022-01-08T13:13:12.980249Z",
     "start_time": "2022-01-08T13:13:12.967272Z"
    }
   },
   "outputs": [
    {
     "data": {
      "text/plain": [
       "11"
      ]
     },
     "execution_count": 48,
     "metadata": {},
     "output_type": "execute_result"
    }
   ],
   "source": [
    "soma_1(10)\n"
   ]
  },
  {
   "cell_type": "markdown",
   "metadata": {},
   "source": [
    "## O Conceito de `map`\n",
    "\n",
    "Já vimos que podemos mapear uma função à uma `Series` do Pandas através do método `.map()`. Agora veremos como fazer a mesma coisa para qualquer iterável."
   ]
  },
  {
   "cell_type": "code",
   "execution_count": 49,
   "metadata": {
    "ExecuteTime": {
     "end_time": "2022-01-08T13:14:59.671615Z",
     "start_time": "2022-01-08T13:14:59.655657Z"
    }
   },
   "outputs": [],
   "source": [
    "lista_exemplo = [10, 12, 34, 23, 2, 6, 7]\n"
   ]
  },
  {
   "cell_type": "code",
   "execution_count": 50,
   "metadata": {
    "ExecuteTime": {
     "end_time": "2022-01-08T13:15:12.435569Z",
     "start_time": "2022-01-08T13:15:12.425597Z"
    }
   },
   "outputs": [],
   "source": [
    "def div_2(x):\n",
    "    return x / 2\n"
   ]
  },
  {
   "cell_type": "markdown",
   "metadata": {},
   "source": [
    "**Como podemos aplicar a função `div_2` acima à `lista_exemplo`?**"
   ]
  },
  {
   "cell_type": "code",
   "execution_count": 51,
   "metadata": {
    "ExecuteTime": {
     "end_time": "2022-01-08T13:15:36.881231Z",
     "start_time": "2022-01-08T13:15:36.632896Z"
    },
    "scrolled": true
   },
   "outputs": [
    {
     "ename": "TypeError",
     "evalue": "unsupported operand type(s) for /: 'list' and 'int'",
     "output_type": "error",
     "traceback": [
      "\u001b[0;31m---------------------------------------------------------------------------\u001b[0m",
      "\u001b[0;31mTypeError\u001b[0m                                 Traceback (most recent call last)",
      "\u001b[0;32m/var/folders/c2/4vv1dtt97gl9bn1lvw8rf0k40000gn/T/ipykernel_31009/1637013660.py\u001b[0m in \u001b[0;36m<module>\u001b[0;34m\u001b[0m\n\u001b[0;32m----> 1\u001b[0;31m \u001b[0mdiv_2\u001b[0m\u001b[0;34m(\u001b[0m\u001b[0mlista_exemplo\u001b[0m\u001b[0;34m)\u001b[0m\u001b[0;34m\u001b[0m\u001b[0;34m\u001b[0m\u001b[0m\n\u001b[0m",
      "\u001b[0;32m/var/folders/c2/4vv1dtt97gl9bn1lvw8rf0k40000gn/T/ipykernel_31009/4134885848.py\u001b[0m in \u001b[0;36mdiv_2\u001b[0;34m(x)\u001b[0m\n\u001b[1;32m      1\u001b[0m \u001b[0;32mdef\u001b[0m \u001b[0mdiv_2\u001b[0m\u001b[0;34m(\u001b[0m\u001b[0mx\u001b[0m\u001b[0;34m)\u001b[0m\u001b[0;34m:\u001b[0m\u001b[0;34m\u001b[0m\u001b[0;34m\u001b[0m\u001b[0m\n\u001b[0;32m----> 2\u001b[0;31m     \u001b[0;32mreturn\u001b[0m \u001b[0mx\u001b[0m \u001b[0;34m/\u001b[0m \u001b[0;36m2\u001b[0m\u001b[0;34m\u001b[0m\u001b[0;34m\u001b[0m\u001b[0m\n\u001b[0m",
      "\u001b[0;31mTypeError\u001b[0m: unsupported operand type(s) for /: 'list' and 'int'"
     ]
    }
   ],
   "source": [
    "div_2(lista_exemplo)\n"
   ]
  },
  {
   "cell_type": "markdown",
   "metadata": {},
   "source": [
    "Não conseguimos aplicar a função diretamente: afinal, `div_2` espera receber 1 argumento inteiro, e `lista_exemplos` é uma lista!\n",
    "\n",
    "Podemos utilizar programação imperativa e construir um loop:"
   ]
  },
  {
   "cell_type": "code",
   "execution_count": 53,
   "metadata": {
    "ExecuteTime": {
     "end_time": "2022-01-08T13:17:14.355876Z",
     "start_time": "2022-01-08T13:17:14.340891Z"
    }
   },
   "outputs": [
    {
     "name": "stdout",
     "output_type": "stream",
     "text": [
      "[10, 12, 34, 23, 2, 6, 7]\n",
      "[5.0, 6.0, 17.0, 11.5, 1.0, 3.0, 3.5]\n"
     ]
    }
   ],
   "source": [
    "new_list = []\n",
    "\n",
    "for item in lista_exemplo:\n",
    "    new_list.append(div_2(item))\n",
    "print(lista_exemplo)\n",
    "print(new_list)\n"
   ]
  },
  {
   "cell_type": "markdown",
   "metadata": {},
   "source": [
    "Outra forma, já da programação funcional, são os lists comprehensions:"
   ]
  },
  {
   "cell_type": "code",
   "execution_count": 54,
   "metadata": {
    "ExecuteTime": {
     "end_time": "2022-01-08T13:18:05.250407Z",
     "start_time": "2022-01-08T13:18:05.238441Z"
    }
   },
   "outputs": [
    {
     "data": {
      "text/plain": [
       "[5.0, 6.0, 17.0, 11.5, 1.0, 3.0, 3.5]"
      ]
     },
     "execution_count": 54,
     "metadata": {},
     "output_type": "execute_result"
    }
   ],
   "source": [
    "[div_2(item) for item in lista_exemplo]\n"
   ]
  },
  {
   "cell_type": "markdown",
   "metadata": {},
   "source": [
    "Uma terceira forma é através da **função** `map()`:"
   ]
  },
  {
   "cell_type": "code",
   "execution_count": 55,
   "metadata": {},
   "outputs": [
    {
     "data": {
      "text/plain": [
       "<map at 0x7f87a89bff10>"
      ]
     },
     "execution_count": 55,
     "metadata": {},
     "output_type": "execute_result"
    }
   ],
   "source": [
    "map(div_2, lista_exemplo)"
   ]
  },
  {
   "cell_type": "code",
   "execution_count": 56,
   "metadata": {
    "ExecuteTime": {
     "end_time": "2022-01-08T13:19:41.455605Z",
     "start_time": "2022-01-08T13:19:41.443610Z"
    }
   },
   "outputs": [
    {
     "name": "stdout",
     "output_type": "stream",
     "text": [
      "5.0\n",
      "6.0\n",
      "17.0\n",
      "11.5\n",
      "1.0\n",
      "3.0\n",
      "3.5\n"
     ]
    }
   ],
   "source": [
    "for i in map(div_2, lista_exemplo):\n",
    "    print(i)\n"
   ]
  },
  {
   "cell_type": "code",
   "execution_count": 58,
   "metadata": {},
   "outputs": [
    {
     "data": {
      "text/plain": [
       "[0, 1, 2, 3, 4, 5, 6, 7, 8, 9]"
      ]
     },
     "execution_count": 58,
     "metadata": {},
     "output_type": "execute_result"
    }
   ],
   "source": [
    "list(range(10))"
   ]
  },
  {
   "cell_type": "markdown",
   "metadata": {},
   "source": [
    "O resultado de `map()` é preguiçoso (*lazy*): isso significa que ele não é calculado até ser chamado diretamente. No exemplo acima utilizamos um loop para chamar cada elemento do resultado. Podemos transformar o resultado em uma lista, que forçará o Python a avaliar todas as execuções da função `div_2()`:"
   ]
  },
  {
   "cell_type": "code",
   "execution_count": 59,
   "metadata": {
    "ExecuteTime": {
     "end_time": "2022-01-08T13:19:52.547042Z",
     "start_time": "2022-01-08T13:19:52.528077Z"
    }
   },
   "outputs": [
    {
     "data": {
      "text/plain": [
       "[5.0, 6.0, 17.0, 11.5, 1.0, 3.0, 3.5]"
      ]
     },
     "execution_count": 59,
     "metadata": {},
     "output_type": "execute_result"
    }
   ],
   "source": [
    "list(map(div_2, lista_exemplo))\n"
   ]
  },
  {
   "cell_type": "markdown",
   "metadata": {},
   "source": [
    "Um comportamento curioso dos iteradores preguiçosos é que eles se esvaziam conforme chamamos os seus elementos:"
   ]
  },
  {
   "cell_type": "code",
   "execution_count": 60,
   "metadata": {
    "ExecuteTime": {
     "end_time": "2022-01-08T13:20:53.619882Z",
     "start_time": "2022-01-08T13:20:53.605921Z"
    }
   },
   "outputs": [
    {
     "name": "stdout",
     "output_type": "stream",
     "text": [
      "5.0\n",
      "6.0\n",
      "17.0\n",
      "11.5\n",
      "1.0\n",
      "3.0\n",
      "3.5\n"
     ]
    }
   ],
   "source": [
    "resultado_map = map(div_2, lista_exemplo)\n",
    "for i in resultado_map:\n",
    "    print(i)\n"
   ]
  },
  {
   "cell_type": "code",
   "execution_count": 61,
   "metadata": {},
   "outputs": [
    {
     "data": {
      "text/plain": [
       "<map at 0x7f87a89ebe20>"
      ]
     },
     "execution_count": 61,
     "metadata": {},
     "output_type": "execute_result"
    }
   ],
   "source": [
    "resultado_map"
   ]
  },
  {
   "cell_type": "markdown",
   "metadata": {},
   "source": [
    "Uma vez iterado, o objeto *esquece* os valores que:"
   ]
  },
  {
   "cell_type": "code",
   "execution_count": 64,
   "metadata": {},
   "outputs": [],
   "source": [
    "import time"
   ]
  },
  {
   "cell_type": "code",
   "execution_count": 66,
   "metadata": {},
   "outputs": [
    {
     "name": "stdout",
     "output_type": "stream",
     "text": [
      "5.0\n",
      "6.0\n"
     ]
    },
    {
     "ename": "KeyboardInterrupt",
     "evalue": "",
     "output_type": "error",
     "traceback": [
      "\u001b[0;31m---------------------------------------------------------------------------\u001b[0m",
      "\u001b[0;31mKeyboardInterrupt\u001b[0m                         Traceback (most recent call last)",
      "\u001b[0;32m/var/folders/c2/4vv1dtt97gl9bn1lvw8rf0k40000gn/T/ipykernel_31009/2546111846.py\u001b[0m in \u001b[0;36m<module>\u001b[0;34m\u001b[0m\n\u001b[1;32m      2\u001b[0m \u001b[0;32mfor\u001b[0m \u001b[0mi\u001b[0m \u001b[0;32min\u001b[0m \u001b[0mresultado_map\u001b[0m\u001b[0;34m:\u001b[0m\u001b[0;34m\u001b[0m\u001b[0;34m\u001b[0m\u001b[0m\n\u001b[1;32m      3\u001b[0m     \u001b[0mprint\u001b[0m\u001b[0;34m(\u001b[0m\u001b[0mi\u001b[0m\u001b[0;34m)\u001b[0m\u001b[0;34m\u001b[0m\u001b[0;34m\u001b[0m\u001b[0m\n\u001b[0;32m----> 4\u001b[0;31m     \u001b[0mtime\u001b[0m\u001b[0;34m.\u001b[0m\u001b[0msleep\u001b[0m\u001b[0;34m(\u001b[0m\u001b[0;36m5\u001b[0m\u001b[0;34m)\u001b[0m\u001b[0;34m\u001b[0m\u001b[0;34m\u001b[0m\u001b[0m\n\u001b[0m",
      "\u001b[0;31mKeyboardInterrupt\u001b[0m: "
     ]
    }
   ],
   "source": [
    "resultado_map = map(div_2, lista_exemplo)\n",
    "for i in resultado_map:\n",
    "    print(i)\n",
    "    time.sleep(5)"
   ]
  },
  {
   "cell_type": "code",
   "execution_count": 67,
   "metadata": {},
   "outputs": [
    {
     "data": {
      "text/plain": [
       "[17.0, 11.5, 1.0, 3.0, 3.5]"
      ]
     },
     "execution_count": 67,
     "metadata": {},
     "output_type": "execute_result"
    }
   ],
   "source": [
    "list(resultado_map)"
   ]
  },
  {
   "cell_type": "markdown",
   "metadata": {},
   "source": [
    "### Lazy evaluation\n",
    "\n",
    "A avaliação lazy é um conceito fundamental em Big Data: ela economiza memória e tempo de processamento realizando avaliações somente quando estas são necessárias."
   ]
  },
  {
   "cell_type": "code",
   "execution_count": 68,
   "metadata": {
    "ExecuteTime": {
     "end_time": "2022-01-08T13:26:26.452434Z",
     "start_time": "2022-01-08T13:26:26.442472Z"
    }
   },
   "outputs": [],
   "source": [
    "lista_telefones = [\n",
    "    19999571559,\n",
    "    \"(21) 2412-0107\",\n",
    "    \"(34) 99762-1166\",\n",
    "    \"91-4002-8282\",\n",
    "    \"(19) 3542-1820\",\n",
    "    \"(19) 3561-9525\",\n",
    "    \"(34) 3333-5802\",\n",
    "]\n",
    "pattern = r\"[0-9]{2}\"\n"
   ]
  },
  {
   "cell_type": "code",
   "execution_count": 71,
   "metadata": {},
   "outputs": [
    {
     "data": {
      "text/plain": [
       "'19'"
      ]
     },
     "execution_count": 71,
     "metadata": {},
     "output_type": "execute_result"
    }
   ],
   "source": [
    "re.findall(pattern, str(lista_telefones[0]))[0]"
   ]
  },
  {
   "cell_type": "code",
   "execution_count": 76,
   "metadata": {},
   "outputs": [
    {
     "data": {
      "text/plain": [
       "'2124120107'"
      ]
     },
     "execution_count": 76,
     "metadata": {},
     "output_type": "execute_result"
    }
   ],
   "source": [
    "\"\".join(re.findall(pattern, str(lista_telefones[1])))"
   ]
  },
  {
   "cell_type": "code",
   "execution_count": 72,
   "metadata": {
    "ExecuteTime": {
     "end_time": "2022-01-08T13:30:02.104002Z",
     "start_time": "2022-01-08T13:30:02.081054Z"
    }
   },
   "outputs": [
    {
     "name": "stdout",
     "output_type": "stream",
     "text": [
      "['19', '21', '34', '91', '19', '19', '34']\n"
     ]
    }
   ],
   "source": [
    "lista_dds = list(map(lambda x: re.findall(pattern, str(x))[0], lista_telefones))\n",
    "print(lista_dds)\n"
   ]
  },
  {
   "cell_type": "code",
   "execution_count": 73,
   "metadata": {
    "ExecuteTime": {
     "end_time": "2022-01-08T13:27:32.637277Z",
     "start_time": "2022-01-08T13:27:32.621321Z"
    }
   },
   "outputs": [
    {
     "name": "stdout",
     "output_type": "stream",
     "text": [
      "19\n",
      "21\n",
      "34\n",
      "91\n",
      "19\n",
      "19\n",
      "34\n"
     ]
    }
   ],
   "source": [
    "for ddd in map(lambda x: \"\".join(re.findall(pattern, str(x)))[:2], lista_telefones):\n",
    "    print(ddd)"
   ]
  },
  {
   "cell_type": "code",
   "execution_count": 74,
   "metadata": {},
   "outputs": [
    {
     "data": {
      "text/plain": [
       "['19', '21', '34', '91', '19', '19', '34']"
      ]
     },
     "execution_count": 74,
     "metadata": {},
     "output_type": "execute_result"
    }
   ],
   "source": [
    "list(map(lambda x: \"\".join(re.findall(pattern, str(x)))[:2], lista_telefones))"
   ]
  },
  {
   "cell_type": "markdown",
   "metadata": {},
   "source": [
    "## Filtrando iteráveis com `filter()`\n",
    "\n",
    "A segunda parte importante do paradigma funcional é a função `filter()`: ela nos permite filtrar os elementos de um iterável a partir de uma função que retorna valores booleanos. Assim como `map()`, `filter()` avalia (de forma preguiçosa) um iterável e retorna apenas os elementos onde a função aplicada retorna `True`.\n",
    "\n",
    "Vamos continuar o nosso exemplo com uma lista de telefones e uma função para extrair o DDD:"
   ]
  },
  {
   "cell_type": "code",
   "execution_count": 77,
   "metadata": {
    "ExecuteTime": {
     "end_time": "2022-01-08T13:33:05.030244Z",
     "start_time": "2022-01-08T13:33:05.020271Z"
    }
   },
   "outputs": [],
   "source": [
    "lista_telefones = [\n",
    "    19999571559,\n",
    "    \"(21) 2412-0107\",\n",
    "    \"(34) 99762-1166\",\n",
    "    \"91-4002-8282\",\n",
    "    \"(19) 3542-1820\",\n",
    "    \"(19) 3561-9525\",\n",
    "    \"(34) 3333-5802\",\n",
    "]\n",
    "\n",
    "\n",
    "def extrair_ddd(telefone):\n",
    "    \"\"\"\n",
    "    Recebe um telefone e retorna seu DDD\n",
    "\n",
    "    telefone (str or int): Telefone onde os dois primeiros digitios numéricos são o DDD\n",
    "    \"\"\"\n",
    "    pattern = r\"[0-9]{2}\"\n",
    "    return \"\".join(re.findall(pattern, str(telefone)))[:2]\n"
   ]
  },
  {
   "cell_type": "code",
   "execution_count": 80,
   "metadata": {},
   "outputs": [
    {
     "name": "stdout",
     "output_type": "stream",
     "text": [
      "19999571559\n",
      "(19) 3542-1820\n",
      "(19) 3561-9525\n"
     ]
    }
   ],
   "source": [
    "lista_19 = filter(lambda x: extrair_ddd(x) == \"19\", lista_telefones)\n",
    "for telefone in lista_19:\n",
    "    print(telefone)"
   ]
  },
  {
   "cell_type": "code",
   "execution_count": 81,
   "metadata": {
    "ExecuteTime": {
     "end_time": "2022-01-08T13:33:05.355788Z",
     "start_time": "2022-01-08T13:33:05.340802Z"
    }
   },
   "outputs": [
    {
     "name": "stdout",
     "output_type": "stream",
     "text": [
      "[19999571559, '(19) 3542-1820', '(19) 3561-9525']\n"
     ]
    }
   ],
   "source": [
    "lista_ddd_19 = list(filter(lambda x: extrair_ddd(x) == \"19\", lista_telefones))\n",
    "print(lista_ddd_19)\n"
   ]
  },
  {
   "cell_type": "markdown",
   "metadata": {},
   "source": [
    "Assim como o `map()`, podemos replicar o comportamento do `filter()` com uma list comprehension. A diferença é que tanto `map()` quanto `filter()` são *lazy*!"
   ]
  },
  {
   "cell_type": "code",
   "execution_count": 83,
   "metadata": {
    "ExecuteTime": {
     "end_time": "2022-01-08T13:34:40.293201Z",
     "start_time": "2022-01-08T13:34:40.275236Z"
    }
   },
   "outputs": [
    {
     "data": {
      "text/plain": [
       "[19999571559, '(19) 3542-1820', '(19) 3561-9525']"
      ]
     },
     "execution_count": 83,
     "metadata": {},
     "output_type": "execute_result"
    }
   ],
   "source": [
    "[telefone for telefone in lista_telefones if extrair_ddd(telefone) == \"19\"]\n"
   ]
  },
  {
   "cell_type": "markdown",
   "metadata": {},
   "source": [
    "# Voltamos 9h43!"
   ]
  },
  {
   "cell_type": "markdown",
   "metadata": {},
   "source": [
    "## Agregando iteráveis com `reduce()`\n",
    "\n",
    "A função `reduce()` cria a idéia de um `accumulator`. Imagine uma função `sum(x, y)` que calcula a soma de x e y. Podemos utilizar a função `reduce()` (da biblioteca `functools`) para tratar x como o `accumulator` e percorrer o iterador *acumulando* a aplicação da função.\n",
    "\n",
    "Vamos considerar a lista `[1,4,6,8]` e função soma:\n",
    "\n",
    "```python\n",
    "def sum_two_elements(a,b):\n",
    "    return a+b\n",
    "```\n",
    "\n",
    "podemos utilizar a função `reduce()` para somar os elementos de toda a lista:\n",
    "\n",
    "```python\n",
    "reduce( sum_two_elements, [1,4,6,8] )\n",
    "```\n",
    "\n",
    "Vamos ver o que cada etapa do `reduce()` foi:\n",
    "\n",
    "```python\n",
    "a = 0 # accumulator\n",
    "b = 1 # value\n",
    "a + b = 1 # so the accumulator receives this cummulative sum\n",
    "\n",
    "a = 1 # accumulator\n",
    "b = 4 # value\n",
    "a + b = 5\n",
    "...\n",
    "a = 5 # accumulator\n",
    "b = 6 # value \n",
    "a + b = 11\n",
    "...\n",
    "a = 11 # accumulator\n",
    "b = 8 # value\n",
    "a + b = 19\n",
    "\n",
    "return 19\n",
    "```"
   ]
  },
  {
   "cell_type": "code",
   "execution_count": 84,
   "metadata": {
    "ExecuteTime": {
     "end_time": "2022-01-08T13:40:26.699812Z",
     "start_time": "2022-01-08T13:40:26.690809Z"
    }
   },
   "outputs": [],
   "source": [
    "from functools import reduce\n"
   ]
  },
  {
   "cell_type": "markdown",
   "metadata": {},
   "source": [
    "### Exemplo 1: Números"
   ]
  },
  {
   "cell_type": "code",
   "execution_count": 89,
   "metadata": {
    "ExecuteTime": {
     "end_time": "2022-01-08T13:40:45.001881Z",
     "start_time": "2022-01-08T13:40:44.996892Z"
    }
   },
   "outputs": [],
   "source": [
    "def somar_ab(a, b):\n",
    "    print(f\"a={a}, b={b}\")\n",
    "    return a + b\n"
   ]
  },
  {
   "cell_type": "code",
   "execution_count": 90,
   "metadata": {
    "ExecuteTime": {
     "end_time": "2022-01-08T13:41:03.621781Z",
     "start_time": "2022-01-08T13:41:03.599837Z"
    },
    "scrolled": true
   },
   "outputs": [
    {
     "name": "stdout",
     "output_type": "stream",
     "text": [
      "a=1, b=4\n",
      "a=5, b=6\n",
      "a=11, b=8\n"
     ]
    },
    {
     "data": {
      "text/plain": [
       "19"
      ]
     },
     "execution_count": 90,
     "metadata": {},
     "output_type": "execute_result"
    }
   ],
   "source": [
    "lista_numeros = [1, 4, 6, 8]\n",
    "reduce(somar_ab, lista_numeros)\n"
   ]
  },
  {
   "cell_type": "code",
   "execution_count": 91,
   "metadata": {
    "ExecuteTime": {
     "end_time": "2022-01-08T13:45:31.605477Z",
     "start_time": "2022-01-08T13:45:31.598496Z"
    }
   },
   "outputs": [
    {
     "name": "stdout",
     "output_type": "stream",
     "text": [
      "a=2, b=10\n",
      "a=10, b=25\n",
      "a=25, b=1\n",
      "a=25, b=-10\n",
      "a=25, b=13\n",
      "a=25, b=40\n",
      "a=40, b=20\n"
     ]
    },
    {
     "data": {
      "text/plain": [
       "40"
      ]
     },
     "execution_count": 91,
     "metadata": {},
     "output_type": "execute_result"
    }
   ],
   "source": [
    "def comp_ab(x, y):\n",
    "    print(f\"a={x}, b={y}\")\n",
    "    if x > y:\n",
    "        return x\n",
    "    else:\n",
    "        return y\n",
    "\n",
    "\n",
    "reduce(comp_ab, [2, 10, 25, 1, -10, 13, 40, 20])\n"
   ]
  },
  {
   "cell_type": "markdown",
   "metadata": {},
   "source": [
    "### Exemplo 2: Strings"
   ]
  },
  {
   "cell_type": "code",
   "execution_count": 92,
   "metadata": {
    "ExecuteTime": {
     "end_time": "2022-01-08T13:46:48.190189Z",
     "start_time": "2022-01-08T13:46:48.182210Z"
    }
   },
   "outputs": [],
   "source": [
    "lista_letras = [\"P\", \"e\", \"d\", \"r\", \"o\"]\n"
   ]
  },
  {
   "cell_type": "code",
   "execution_count": 93,
   "metadata": {
    "ExecuteTime": {
     "end_time": "2022-01-08T13:46:49.230760Z",
     "start_time": "2022-01-08T13:46:49.222760Z"
    }
   },
   "outputs": [
    {
     "data": {
      "text/plain": [
       "'Pedro'"
      ]
     },
     "execution_count": 93,
     "metadata": {},
     "output_type": "execute_result"
    }
   ],
   "source": [
    "reduce(lambda x, y: x + y, lista_letras)\n"
   ]
  },
  {
   "cell_type": "markdown",
   "metadata": {},
   "source": [
    "Um exemplo prático é a utilização do reduce para selecionar o maior string de uma lista:"
   ]
  },
  {
   "cell_type": "code",
   "execution_count": 94,
   "metadata": {
    "ExecuteTime": {
     "end_time": "2022-01-08T13:47:22.941553Z",
     "start_time": "2022-01-08T13:47:22.933575Z"
    }
   },
   "outputs": [
    {
     "data": {
      "text/plain": [
       "'Maranhão'"
      ]
     },
     "execution_count": 94,
     "metadata": {},
     "output_type": "execute_result"
    }
   ],
   "source": [
    "lista_nomes = [\"Amapá\", \"Roraima\", \"Pará\", \"Piauí\", \"Maranhão\"]\n",
    "reduce(lambda x, y: x if len(x) > len(y) else y, lista_nomes)\n"
   ]
  },
  {
   "cell_type": "markdown",
   "metadata": {},
   "source": [
    "### Vendo as aplicações: `accumulate()`\n",
    "\n",
    "Nos exemplos acima utilizamos a função `print()` para ver o resultado de cada etapa do `reduce()`. Podemos utilizar a função `accumulate()` para ver o resultado de cada etapa como uma lista:"
   ]
  },
  {
   "cell_type": "code",
   "execution_count": 95,
   "metadata": {
    "ExecuteTime": {
     "end_time": "2022-01-08T13:49:13.634428Z",
     "start_time": "2022-01-08T13:49:13.619460Z"
    }
   },
   "outputs": [],
   "source": [
    "from itertools import accumulate\n"
   ]
  },
  {
   "cell_type": "code",
   "execution_count": 96,
   "metadata": {},
   "outputs": [
    {
     "data": {
      "text/plain": [
       "<itertools.accumulate at 0x7f87b905cf80>"
      ]
     },
     "execution_count": 96,
     "metadata": {},
     "output_type": "execute_result"
    }
   ],
   "source": [
    "accumulate(lista_numeros, lambda x, y: x + y)"
   ]
  },
  {
   "cell_type": "code",
   "execution_count": 97,
   "metadata": {
    "ExecuteTime": {
     "end_time": "2022-01-08T13:49:44.541318Z",
     "start_time": "2022-01-08T13:49:44.531346Z"
    }
   },
   "outputs": [
    {
     "data": {
      "text/plain": [
       "[1, 3, 6, 10, 15]"
      ]
     },
     "execution_count": 97,
     "metadata": {},
     "output_type": "execute_result"
    }
   ],
   "source": [
    "lista_numeros = [1, 2, 3, 4, 5]\n",
    "list(accumulate(lista_numeros, lambda x, y: x + y))\n"
   ]
  },
  {
   "cell_type": "code",
   "execution_count": 98,
   "metadata": {
    "ExecuteTime": {
     "end_time": "2022-01-08T13:50:01.715586Z",
     "start_time": "2022-01-08T13:50:01.701596Z"
    }
   },
   "outputs": [
    {
     "data": {
      "text/plain": [
       "['Amapá', 'Roraima', 'Roraima', 'Roraima', 'Maranhão']"
      ]
     },
     "execution_count": 98,
     "metadata": {},
     "output_type": "execute_result"
    }
   ],
   "source": [
    "lista_nomes = [\"Amapá\", \"Roraima\", \"Pará\", \"Piauí\", \"Maranhão\"]\n",
    "list(accumulate(lista_nomes, lambda x, y: x if len(x) > len(y) else y))\n"
   ]
  },
  {
   "cell_type": "markdown",
   "metadata": {},
   "source": [
    "# Paradigma Funcional no Pandas\n",
    "\n",
    "Até agora vimos como podemos utilizar as funções `map()`, `filter()` e `reduce()` para aplicar funções à, filtrar e reduzir iteráveis. Embora essas funções sejam extremamente úteis no contexto de dados (principalmente quando lidamos com dados extraídos de APIs ou *webscrapping*), em geral vamos entrar em contato com esses conceitos através do método `.apply()` de DataFrames e Series.\n",
    "\n",
    "Nos exemplos abaixo, utilizaremos esse método, primeiro sobre `Series`, onde ele se comporta exatamente como o método `.map()`."
   ]
  },
  {
   "cell_type": "code",
   "execution_count": 99,
   "metadata": {
    "ExecuteTime": {
     "end_time": "2022-01-08T13:53:10.689267Z",
     "start_time": "2022-01-08T13:53:09.762279Z"
    }
   },
   "outputs": [
    {
     "data": {
      "text/html": [
       "<div>\n",
       "<style scoped>\n",
       "    .dataframe tbody tr th:only-of-type {\n",
       "        vertical-align: middle;\n",
       "    }\n",
       "\n",
       "    .dataframe tbody tr th {\n",
       "        vertical-align: top;\n",
       "    }\n",
       "\n",
       "    .dataframe thead th {\n",
       "        text-align: right;\n",
       "    }\n",
       "</style>\n",
       "<table border=\"1\" class=\"dataframe\">\n",
       "  <thead>\n",
       "    <tr style=\"text-align: right;\">\n",
       "      <th></th>\n",
       "      <th>Species</th>\n",
       "      <th>BodyWt</th>\n",
       "      <th>BrainWt</th>\n",
       "      <th>NonDreaming</th>\n",
       "      <th>Dreaming</th>\n",
       "      <th>TotalSleep</th>\n",
       "      <th>LifeSpan</th>\n",
       "      <th>Gestation</th>\n",
       "      <th>Predation</th>\n",
       "      <th>Exposure</th>\n",
       "      <th>Danger</th>\n",
       "    </tr>\n",
       "  </thead>\n",
       "  <tbody>\n",
       "    <tr>\n",
       "      <th>0</th>\n",
       "      <td>Africanelephant</td>\n",
       "      <td>6654.000</td>\n",
       "      <td>5712.0</td>\n",
       "      <td>NaN</td>\n",
       "      <td>NaN</td>\n",
       "      <td>3.3</td>\n",
       "      <td>38.6</td>\n",
       "      <td>645.0</td>\n",
       "      <td>3</td>\n",
       "      <td>5</td>\n",
       "      <td>3</td>\n",
       "    </tr>\n",
       "    <tr>\n",
       "      <th>1</th>\n",
       "      <td>Africangiantpouchedrat</td>\n",
       "      <td>1.000</td>\n",
       "      <td>6.6</td>\n",
       "      <td>6.3</td>\n",
       "      <td>2.0</td>\n",
       "      <td>8.3</td>\n",
       "      <td>4.5</td>\n",
       "      <td>42.0</td>\n",
       "      <td>3</td>\n",
       "      <td>1</td>\n",
       "      <td>3</td>\n",
       "    </tr>\n",
       "    <tr>\n",
       "      <th>2</th>\n",
       "      <td>ArcticFox</td>\n",
       "      <td>3.385</td>\n",
       "      <td>44.5</td>\n",
       "      <td>NaN</td>\n",
       "      <td>NaN</td>\n",
       "      <td>12.5</td>\n",
       "      <td>14.0</td>\n",
       "      <td>60.0</td>\n",
       "      <td>1</td>\n",
       "      <td>1</td>\n",
       "      <td>1</td>\n",
       "    </tr>\n",
       "    <tr>\n",
       "      <th>3</th>\n",
       "      <td>Arcticgroundsquirrel</td>\n",
       "      <td>0.920</td>\n",
       "      <td>5.7</td>\n",
       "      <td>NaN</td>\n",
       "      <td>NaN</td>\n",
       "      <td>16.5</td>\n",
       "      <td>NaN</td>\n",
       "      <td>25.0</td>\n",
       "      <td>5</td>\n",
       "      <td>2</td>\n",
       "      <td>3</td>\n",
       "    </tr>\n",
       "    <tr>\n",
       "      <th>4</th>\n",
       "      <td>Asianelephant</td>\n",
       "      <td>2547.000</td>\n",
       "      <td>4603.0</td>\n",
       "      <td>2.1</td>\n",
       "      <td>1.8</td>\n",
       "      <td>3.9</td>\n",
       "      <td>69.0</td>\n",
       "      <td>624.0</td>\n",
       "      <td>3</td>\n",
       "      <td>5</td>\n",
       "      <td>4</td>\n",
       "    </tr>\n",
       "  </tbody>\n",
       "</table>\n",
       "</div>"
      ],
      "text/plain": [
       "                  Species    BodyWt  BrainWt  NonDreaming  Dreaming  \\\n",
       "0         Africanelephant  6654.000   5712.0          NaN       NaN   \n",
       "1  Africangiantpouchedrat     1.000      6.6          6.3       2.0   \n",
       "2               ArcticFox     3.385     44.5          NaN       NaN   \n",
       "3    Arcticgroundsquirrel     0.920      5.7          NaN       NaN   \n",
       "4           Asianelephant  2547.000   4603.0          2.1       1.8   \n",
       "\n",
       "   TotalSleep  LifeSpan  Gestation  Predation  Exposure  Danger  \n",
       "0         3.3      38.6      645.0          3         5       3  \n",
       "1         8.3       4.5       42.0          3         1       3  \n",
       "2        12.5      14.0       60.0          1         1       1  \n",
       "3        16.5       NaN       25.0          5         2       3  \n",
       "4         3.9      69.0      624.0          3         5       4  "
      ]
     },
     "execution_count": 99,
     "metadata": {},
     "output_type": "execute_result"
    }
   ],
   "source": [
    "file_address = \"http://www.statsci.org/data/general/sleep.txt\"\n",
    "tb_sleep = pd.read_csv(file_address, sep=\"\\t\")\n",
    "tb_sleep.head()\n"
   ]
  },
  {
   "cell_type": "markdown",
   "metadata": {},
   "source": [
    "## `.apply()` em Colunas (`Series`)\n",
    "\n",
    "O método `.apply()`, quando executado a partir de uma `Series` (uma coluna individual) funciona exatamente como o método `.map()`: ele retorna uma nova `Series` (coluna) com o resultado da aplicação de nossa função elemento a elemento na coluna a partir da qual foi invocado:"
   ]
  },
  {
   "cell_type": "code",
   "execution_count": 100,
   "metadata": {
    "ExecuteTime": {
     "end_time": "2022-01-08T13:54:14.278389Z",
     "start_time": "2022-01-08T13:54:14.255449Z"
    }
   },
   "outputs": [
    {
     "data": {
      "text/html": [
       "<div>\n",
       "<style scoped>\n",
       "    .dataframe tbody tr th:only-of-type {\n",
       "        vertical-align: middle;\n",
       "    }\n",
       "\n",
       "    .dataframe tbody tr th {\n",
       "        vertical-align: top;\n",
       "    }\n",
       "\n",
       "    .dataframe thead th {\n",
       "        text-align: right;\n",
       "    }\n",
       "</style>\n",
       "<table border=\"1\" class=\"dataframe\">\n",
       "  <thead>\n",
       "    <tr style=\"text-align: right;\">\n",
       "      <th></th>\n",
       "      <th>brain_wt_kg</th>\n",
       "      <th>ratio_brain</th>\n",
       "    </tr>\n",
       "  </thead>\n",
       "  <tbody>\n",
       "    <tr>\n",
       "      <th>count</th>\n",
       "      <td>62.000000</td>\n",
       "      <td>62.000000</td>\n",
       "    </tr>\n",
       "    <tr>\n",
       "      <th>mean</th>\n",
       "      <td>0.283134</td>\n",
       "      <td>0.009624</td>\n",
       "    </tr>\n",
       "    <tr>\n",
       "      <th>std</th>\n",
       "      <td>0.930279</td>\n",
       "      <td>0.008915</td>\n",
       "    </tr>\n",
       "    <tr>\n",
       "      <th>min</th>\n",
       "      <td>0.000140</td>\n",
       "      <td>0.000858</td>\n",
       "    </tr>\n",
       "    <tr>\n",
       "      <th>25%</th>\n",
       "      <td>0.004250</td>\n",
       "      <td>0.003103</td>\n",
       "    </tr>\n",
       "    <tr>\n",
       "      <th>50%</th>\n",
       "      <td>0.017250</td>\n",
       "      <td>0.006611</td>\n",
       "    </tr>\n",
       "    <tr>\n",
       "      <th>75%</th>\n",
       "      <td>0.166000</td>\n",
       "      <td>0.013668</td>\n",
       "    </tr>\n",
       "    <tr>\n",
       "      <th>max</th>\n",
       "      <td>5.712000</td>\n",
       "      <td>0.039604</td>\n",
       "    </tr>\n",
       "  </tbody>\n",
       "</table>\n",
       "</div>"
      ],
      "text/plain": [
       "       brain_wt_kg  ratio_brain\n",
       "count    62.000000    62.000000\n",
       "mean      0.283134     0.009624\n",
       "std       0.930279     0.008915\n",
       "min       0.000140     0.000858\n",
       "25%       0.004250     0.003103\n",
       "50%       0.017250     0.006611\n",
       "75%       0.166000     0.013668\n",
       "max       5.712000     0.039604"
      ]
     },
     "execution_count": 100,
     "metadata": {},
     "output_type": "execute_result"
    }
   ],
   "source": [
    "tb_sleep[\"brain_wt_kg\"] = tb_sleep[\"BrainWt\"] / 1000\n",
    "tb_sleep[\"ratio_brain\"] = tb_sleep[\"brain_wt_kg\"] / tb_sleep[\"BodyWt\"]\n",
    "tb_sleep[[\"brain_wt_kg\", \"ratio_brain\"]].describe()\n"
   ]
  },
  {
   "cell_type": "markdown",
   "metadata": {},
   "source": [
    "Vamos definir uma função para classificar a proporção entre o peso do cérebro e o peso total de cada animal:"
   ]
  },
  {
   "cell_type": "code",
   "execution_count": 101,
   "metadata": {
    "ExecuteTime": {
     "end_time": "2022-01-08T13:55:33.667187Z",
     "start_time": "2022-01-08T13:55:33.663197Z"
    }
   },
   "outputs": [],
   "source": [
    "def maior_1p(ratio):\n",
    "    if ratio > 0.01:\n",
    "        return \"Pesado\"\n",
    "    else:\n",
    "        return \"Leve\"\n"
   ]
  },
  {
   "cell_type": "markdown",
   "metadata": {},
   "source": [
    "Como podemos aplicar essa função à coluna `ratio_brain`?"
   ]
  },
  {
   "cell_type": "code",
   "execution_count": 102,
   "metadata": {
    "ExecuteTime": {
     "end_time": "2022-01-08T13:55:34.247994Z",
     "start_time": "2022-01-08T13:55:34.228048Z"
    }
   },
   "outputs": [
    {
     "ename": "ValueError",
     "evalue": "The truth value of a Series is ambiguous. Use a.empty, a.bool(), a.item(), a.any() or a.all().",
     "output_type": "error",
     "traceback": [
      "\u001b[0;31m---------------------------------------------------------------------------\u001b[0m",
      "\u001b[0;31mValueError\u001b[0m                                Traceback (most recent call last)",
      "\u001b[0;32m/var/folders/c2/4vv1dtt97gl9bn1lvw8rf0k40000gn/T/ipykernel_31009/1895245312.py\u001b[0m in \u001b[0;36m<module>\u001b[0;34m\u001b[0m\n\u001b[0;32m----> 1\u001b[0;31m \u001b[0mmaior_1p\u001b[0m\u001b[0;34m(\u001b[0m\u001b[0mtb_sleep\u001b[0m\u001b[0;34m[\u001b[0m\u001b[0;34m\"ratio_brain\"\u001b[0m\u001b[0;34m]\u001b[0m\u001b[0;34m)\u001b[0m\u001b[0;34m\u001b[0m\u001b[0;34m\u001b[0m\u001b[0m\n\u001b[0m",
      "\u001b[0;32m/var/folders/c2/4vv1dtt97gl9bn1lvw8rf0k40000gn/T/ipykernel_31009/1109866121.py\u001b[0m in \u001b[0;36mmaior_1p\u001b[0;34m(ratio)\u001b[0m\n\u001b[1;32m      1\u001b[0m \u001b[0;32mdef\u001b[0m \u001b[0mmaior_1p\u001b[0m\u001b[0;34m(\u001b[0m\u001b[0mratio\u001b[0m\u001b[0;34m)\u001b[0m\u001b[0;34m:\u001b[0m\u001b[0;34m\u001b[0m\u001b[0;34m\u001b[0m\u001b[0m\n\u001b[0;32m----> 2\u001b[0;31m     \u001b[0;32mif\u001b[0m \u001b[0mratio\u001b[0m \u001b[0;34m>\u001b[0m \u001b[0;36m0.01\u001b[0m\u001b[0;34m:\u001b[0m\u001b[0;34m\u001b[0m\u001b[0;34m\u001b[0m\u001b[0m\n\u001b[0m\u001b[1;32m      3\u001b[0m         \u001b[0;32mreturn\u001b[0m \u001b[0;34m\"Pesado\"\u001b[0m\u001b[0;34m\u001b[0m\u001b[0;34m\u001b[0m\u001b[0m\n\u001b[1;32m      4\u001b[0m     \u001b[0;32melse\u001b[0m\u001b[0;34m:\u001b[0m\u001b[0;34m\u001b[0m\u001b[0;34m\u001b[0m\u001b[0m\n\u001b[1;32m      5\u001b[0m         \u001b[0;32mreturn\u001b[0m \u001b[0;34m\"Leve\"\u001b[0m\u001b[0;34m\u001b[0m\u001b[0;34m\u001b[0m\u001b[0m\n",
      "\u001b[0;32m~/opt/anaconda3/lib/python3.9/site-packages/pandas/core/generic.py\u001b[0m in \u001b[0;36m__nonzero__\u001b[0;34m(self)\u001b[0m\n\u001b[1;32m   1525\u001b[0m     \u001b[0;34m@\u001b[0m\u001b[0mfinal\u001b[0m\u001b[0;34m\u001b[0m\u001b[0;34m\u001b[0m\u001b[0m\n\u001b[1;32m   1526\u001b[0m     \u001b[0;32mdef\u001b[0m \u001b[0m__nonzero__\u001b[0m\u001b[0;34m(\u001b[0m\u001b[0mself\u001b[0m\u001b[0;34m)\u001b[0m \u001b[0;34m->\u001b[0m \u001b[0mNoReturn\u001b[0m\u001b[0;34m:\u001b[0m\u001b[0;34m\u001b[0m\u001b[0;34m\u001b[0m\u001b[0m\n\u001b[0;32m-> 1527\u001b[0;31m         raise ValueError(\n\u001b[0m\u001b[1;32m   1528\u001b[0m             \u001b[0;34mf\"The truth value of a {type(self).__name__} is ambiguous. \"\u001b[0m\u001b[0;34m\u001b[0m\u001b[0;34m\u001b[0m\u001b[0m\n\u001b[1;32m   1529\u001b[0m             \u001b[0;34m\"Use a.empty, a.bool(), a.item(), a.any() or a.all().\"\u001b[0m\u001b[0;34m\u001b[0m\u001b[0;34m\u001b[0m\u001b[0m\n",
      "\u001b[0;31mValueError\u001b[0m: The truth value of a Series is ambiguous. Use a.empty, a.bool(), a.item(), a.any() or a.all()."
     ]
    }
   ],
   "source": [
    "maior_1p(tb_sleep[\"ratio_brain\"])\n"
   ]
  },
  {
   "cell_type": "markdown",
   "metadata": {},
   "source": [
    "A aplicação direta não funciona, afinal a função espera um número e `tb_sleep[\"ratio_brain\"]` é uma `Series`!\n",
    "\n",
    "Vamos utilizar o `.apply()` de `Series` (equivalente ao `.map()`):"
   ]
  },
  {
   "cell_type": "code",
   "execution_count": 103,
   "metadata": {},
   "outputs": [
    {
     "data": {
      "text/plain": [
       "0       Leve\n",
       "1       Leve\n",
       "2     Pesado\n",
       "3       Leve\n",
       "4       Leve\n",
       "       ...  \n",
       "57      Leve\n",
       "58    Pesado\n",
       "59    Pesado\n",
       "60      Leve\n",
       "61      Leve\n",
       "Name: ratio_brain, Length: 62, dtype: object"
      ]
     },
     "execution_count": 103,
     "metadata": {},
     "output_type": "execute_result"
    }
   ],
   "source": [
    "tb_sleep[\"ratio_brain\"].map(maior_1p)"
   ]
  },
  {
   "cell_type": "code",
   "execution_count": 104,
   "metadata": {
    "ExecuteTime": {
     "end_time": "2022-01-08T13:57:03.342003Z",
     "start_time": "2022-01-08T13:57:03.332003Z"
    }
   },
   "outputs": [],
   "source": [
    "tb_sleep[\"heavy_brain\"] = tb_sleep[\"ratio_brain\"].apply(maior_1p)\n"
   ]
  },
  {
   "cell_type": "code",
   "execution_count": 105,
   "metadata": {
    "ExecuteTime": {
     "end_time": "2022-01-08T13:57:04.059181Z",
     "start_time": "2022-01-08T13:57:04.037238Z"
    }
   },
   "outputs": [
    {
     "data": {
      "text/plain": [
       "count       62\n",
       "unique       2\n",
       "top       Leve\n",
       "freq        41\n",
       "Name: heavy_brain, dtype: object"
      ]
     },
     "execution_count": 105,
     "metadata": {},
     "output_type": "execute_result"
    }
   ],
   "source": [
    "tb_sleep[\"heavy_brain\"].describe()\n"
   ]
  },
  {
   "cell_type": "markdown",
   "metadata": {},
   "source": [
    "## `.apply()` em Tabelas (`DataFrame`)\n",
    "\n",
    "Podemos invocar o método `.apply()` a partir de DataFrames também! Enquanto o método `.apply()` de coluna passa para a função o **valor de cada observação**, o método `.apply()` de tabelas pode passar linhas ou colunas (dependendo do `axis` que escolhermos).\n",
    "\n",
    "Vamos começar analisando o comportamento desse método utilizando uma função comum do Python: `max`."
   ]
  },
  {
   "cell_type": "markdown",
   "metadata": {},
   "source": [
    "### Exemplo 1: Máximo entre colunas"
   ]
  },
  {
   "cell_type": "code",
   "execution_count": 107,
   "metadata": {},
   "outputs": [
    {
     "data": {
      "text/html": [
       "<div>\n",
       "<style scoped>\n",
       "    .dataframe tbody tr th:only-of-type {\n",
       "        vertical-align: middle;\n",
       "    }\n",
       "\n",
       "    .dataframe tbody tr th {\n",
       "        vertical-align: top;\n",
       "    }\n",
       "\n",
       "    .dataframe thead th {\n",
       "        text-align: right;\n",
       "    }\n",
       "</style>\n",
       "<table border=\"1\" class=\"dataframe\">\n",
       "  <thead>\n",
       "    <tr style=\"text-align: right;\">\n",
       "      <th></th>\n",
       "      <th>Predation</th>\n",
       "      <th>Exposure</th>\n",
       "      <th>Danger</th>\n",
       "    </tr>\n",
       "  </thead>\n",
       "  <tbody>\n",
       "    <tr>\n",
       "      <th>0</th>\n",
       "      <td>3</td>\n",
       "      <td>5</td>\n",
       "      <td>3</td>\n",
       "    </tr>\n",
       "    <tr>\n",
       "      <th>1</th>\n",
       "      <td>3</td>\n",
       "      <td>1</td>\n",
       "      <td>3</td>\n",
       "    </tr>\n",
       "    <tr>\n",
       "      <th>2</th>\n",
       "      <td>1</td>\n",
       "      <td>1</td>\n",
       "      <td>1</td>\n",
       "    </tr>\n",
       "    <tr>\n",
       "      <th>3</th>\n",
       "      <td>5</td>\n",
       "      <td>2</td>\n",
       "      <td>3</td>\n",
       "    </tr>\n",
       "    <tr>\n",
       "      <th>4</th>\n",
       "      <td>3</td>\n",
       "      <td>5</td>\n",
       "      <td>4</td>\n",
       "    </tr>\n",
       "    <tr>\n",
       "      <th>...</th>\n",
       "      <td>...</td>\n",
       "      <td>...</td>\n",
       "      <td>...</td>\n",
       "    </tr>\n",
       "    <tr>\n",
       "      <th>57</th>\n",
       "      <td>3</td>\n",
       "      <td>1</td>\n",
       "      <td>3</td>\n",
       "    </tr>\n",
       "    <tr>\n",
       "      <th>58</th>\n",
       "      <td>3</td>\n",
       "      <td>2</td>\n",
       "      <td>2</td>\n",
       "    </tr>\n",
       "    <tr>\n",
       "      <th>59</th>\n",
       "      <td>4</td>\n",
       "      <td>3</td>\n",
       "      <td>4</td>\n",
       "    </tr>\n",
       "    <tr>\n",
       "      <th>60</th>\n",
       "      <td>2</td>\n",
       "      <td>1</td>\n",
       "      <td>1</td>\n",
       "    </tr>\n",
       "    <tr>\n",
       "      <th>61</th>\n",
       "      <td>3</td>\n",
       "      <td>1</td>\n",
       "      <td>1</td>\n",
       "    </tr>\n",
       "  </tbody>\n",
       "</table>\n",
       "<p>62 rows × 3 columns</p>\n",
       "</div>"
      ],
      "text/plain": [
       "    Predation  Exposure  Danger\n",
       "0           3         5       3\n",
       "1           3         1       3\n",
       "2           1         1       1\n",
       "3           5         2       3\n",
       "4           3         5       4\n",
       "..        ...       ...     ...\n",
       "57          3         1       3\n",
       "58          3         2       2\n",
       "59          4         3       4\n",
       "60          2         1       1\n",
       "61          3         1       1\n",
       "\n",
       "[62 rows x 3 columns]"
      ]
     },
     "execution_count": 107,
     "metadata": {},
     "output_type": "execute_result"
    }
   ],
   "source": [
    "tb_sleep[[\"Predation\", \"Exposure\", \"Danger\"]]"
   ]
  },
  {
   "cell_type": "code",
   "execution_count": 106,
   "metadata": {
    "ExecuteTime": {
     "end_time": "2022-01-08T14:00:30.267149Z",
     "start_time": "2022-01-08T14:00:30.247206Z"
    }
   },
   "outputs": [
    {
     "data": {
      "text/plain": [
       "Predation    5\n",
       "Exposure     5\n",
       "Danger       5\n",
       "dtype: int64"
      ]
     },
     "execution_count": 106,
     "metadata": {},
     "output_type": "execute_result"
    }
   ],
   "source": [
    "tb_sleep[[\"Predation\", \"Exposure\", \"Danger\"]].apply(max)\n"
   ]
  },
  {
   "cell_type": "markdown",
   "metadata": {},
   "source": [
    "O comportamento padrão do `.apply()` de `DataFrames` é aplicar a função sobre as colunas: no caso acima ele retornou o máximo de cada coluna `[\"Predation\", \"Exposure\", \"Danger\"]`.\n",
    "\n",
    "E se quisermos calcular, para cada observação, qual o máximo entre essas três colunas?"
   ]
  },
  {
   "cell_type": "code",
   "execution_count": 108,
   "metadata": {},
   "outputs": [
    {
     "data": {
      "text/plain": [
       "0     5\n",
       "1     3\n",
       "2     1\n",
       "3     5\n",
       "4     5\n",
       "     ..\n",
       "57    3\n",
       "58    3\n",
       "59    4\n",
       "60    2\n",
       "61    3\n",
       "Length: 62, dtype: int64"
      ]
     },
     "execution_count": 108,
     "metadata": {},
     "output_type": "execute_result"
    }
   ],
   "source": [
    "tb_sleep[[\"Predation\", \"Exposure\", \"Danger\"]].apply(max, axis=1)\n"
   ]
  },
  {
   "cell_type": "code",
   "execution_count": 109,
   "metadata": {},
   "outputs": [
    {
     "data": {
      "text/html": [
       "<div>\n",
       "<style scoped>\n",
       "    .dataframe tbody tr th:only-of-type {\n",
       "        vertical-align: middle;\n",
       "    }\n",
       "\n",
       "    .dataframe tbody tr th {\n",
       "        vertical-align: top;\n",
       "    }\n",
       "\n",
       "    .dataframe thead th {\n",
       "        text-align: right;\n",
       "    }\n",
       "</style>\n",
       "<table border=\"1\" class=\"dataframe\">\n",
       "  <thead>\n",
       "    <tr style=\"text-align: right;\">\n",
       "      <th></th>\n",
       "      <th>Predation</th>\n",
       "      <th>Exposure</th>\n",
       "      <th>Danger</th>\n",
       "      <th>max_risco</th>\n",
       "    </tr>\n",
       "  </thead>\n",
       "  <tbody>\n",
       "    <tr>\n",
       "      <th>0</th>\n",
       "      <td>3</td>\n",
       "      <td>5</td>\n",
       "      <td>3</td>\n",
       "      <td>5</td>\n",
       "    </tr>\n",
       "    <tr>\n",
       "      <th>1</th>\n",
       "      <td>3</td>\n",
       "      <td>1</td>\n",
       "      <td>3</td>\n",
       "      <td>3</td>\n",
       "    </tr>\n",
       "    <tr>\n",
       "      <th>2</th>\n",
       "      <td>1</td>\n",
       "      <td>1</td>\n",
       "      <td>1</td>\n",
       "      <td>1</td>\n",
       "    </tr>\n",
       "    <tr>\n",
       "      <th>3</th>\n",
       "      <td>5</td>\n",
       "      <td>2</td>\n",
       "      <td>3</td>\n",
       "      <td>5</td>\n",
       "    </tr>\n",
       "    <tr>\n",
       "      <th>4</th>\n",
       "      <td>3</td>\n",
       "      <td>5</td>\n",
       "      <td>4</td>\n",
       "      <td>5</td>\n",
       "    </tr>\n",
       "  </tbody>\n",
       "</table>\n",
       "</div>"
      ],
      "text/plain": [
       "   Predation  Exposure  Danger  max_risco\n",
       "0          3         5       3          5\n",
       "1          3         1       3          3\n",
       "2          1         1       1          1\n",
       "3          5         2       3          5\n",
       "4          3         5       4          5"
      ]
     },
     "execution_count": 109,
     "metadata": {},
     "output_type": "execute_result"
    }
   ],
   "source": [
    "tb_sleep[\"max_risco\"] = tb_sleep[[\"Predation\", \"Exposure\", \"Danger\"]].apply(max, axis=1)\n",
    "tb_sleep[[\"Predation\", \"Exposure\", \"Danger\", \"max_risco\"]].head()\n"
   ]
  },
  {
   "cell_type": "code",
   "execution_count": 112,
   "metadata": {},
   "outputs": [
    {
     "data": {
      "text/plain": [
       "0     3\n",
       "1     1\n",
       "2     1\n",
       "3     2\n",
       "4     3\n",
       "     ..\n",
       "57    1\n",
       "58    2\n",
       "59    3\n",
       "60    1\n",
       "61    1\n",
       "Length: 62, dtype: int64"
      ]
     },
     "execution_count": 112,
     "metadata": {},
     "output_type": "execute_result"
    }
   ],
   "source": [
    "tb_sleep[[\"Predation\", \"Exposure\", \"Danger\"]].min(axis = 1)"
   ]
  },
  {
   "cell_type": "markdown",
   "metadata": {},
   "source": [
    "### Exemplo 2: `.apply()` e funções Lambda\n",
    "\n",
    "No exemplo acima a função `max` recebeu o iterável `[3, 5, 3]` na primeira linha e calculou o máximo entre eles. No entanto muitas vezes queremos aplicar mais do que uma função simples. \n",
    "\n",
    "Por exemplo, podemos calcular a diferença entre o risco máximo e o risco mínimo. Para tanto, utilizaremos uma função lambda:"
   ]
  },
  {
   "cell_type": "code",
   "execution_count": 113,
   "metadata": {},
   "outputs": [
    {
     "data": {
      "text/html": [
       "<div>\n",
       "<style scoped>\n",
       "    .dataframe tbody tr th:only-of-type {\n",
       "        vertical-align: middle;\n",
       "    }\n",
       "\n",
       "    .dataframe tbody tr th {\n",
       "        vertical-align: top;\n",
       "    }\n",
       "\n",
       "    .dataframe thead th {\n",
       "        text-align: right;\n",
       "    }\n",
       "</style>\n",
       "<table border=\"1\" class=\"dataframe\">\n",
       "  <thead>\n",
       "    <tr style=\"text-align: right;\">\n",
       "      <th></th>\n",
       "      <th>Predation</th>\n",
       "      <th>Exposure</th>\n",
       "      <th>Danger</th>\n",
       "      <th>max_risco</th>\n",
       "      <th>var_risco</th>\n",
       "    </tr>\n",
       "  </thead>\n",
       "  <tbody>\n",
       "    <tr>\n",
       "      <th>0</th>\n",
       "      <td>3</td>\n",
       "      <td>5</td>\n",
       "      <td>3</td>\n",
       "      <td>5</td>\n",
       "      <td>2</td>\n",
       "    </tr>\n",
       "    <tr>\n",
       "      <th>1</th>\n",
       "      <td>3</td>\n",
       "      <td>1</td>\n",
       "      <td>3</td>\n",
       "      <td>3</td>\n",
       "      <td>2</td>\n",
       "    </tr>\n",
       "    <tr>\n",
       "      <th>2</th>\n",
       "      <td>1</td>\n",
       "      <td>1</td>\n",
       "      <td>1</td>\n",
       "      <td>1</td>\n",
       "      <td>0</td>\n",
       "    </tr>\n",
       "    <tr>\n",
       "      <th>3</th>\n",
       "      <td>5</td>\n",
       "      <td>2</td>\n",
       "      <td>3</td>\n",
       "      <td>5</td>\n",
       "      <td>3</td>\n",
       "    </tr>\n",
       "    <tr>\n",
       "      <th>4</th>\n",
       "      <td>3</td>\n",
       "      <td>5</td>\n",
       "      <td>4</td>\n",
       "      <td>5</td>\n",
       "      <td>2</td>\n",
       "    </tr>\n",
       "  </tbody>\n",
       "</table>\n",
       "</div>"
      ],
      "text/plain": [
       "   Predation  Exposure  Danger  max_risco  var_risco\n",
       "0          3         5       3          5          2\n",
       "1          3         1       3          3          2\n",
       "2          1         1       1          1          0\n",
       "3          5         2       3          5          3\n",
       "4          3         5       4          5          2"
      ]
     },
     "execution_count": 113,
     "metadata": {},
     "output_type": "execute_result"
    }
   ],
   "source": [
    "tb_sleep[\"var_risco\"] = tb_sleep[[\"Predation\", \"Exposure\", \"Danger\"]].apply(\n",
    "    lambda x: max(x) - min(x), axis=1\n",
    ")\n",
    "tb_sleep[[\"Predation\", \"Exposure\", \"Danger\", \"max_risco\", \"var_risco\"]].head()\n"
   ]
  },
  {
   "cell_type": "markdown",
   "metadata": {},
   "source": [
    "Para visualizarmos o que está acontecendo, **precisamos entender o que o método `.apply()` esta passando como `x` para nossa função lambda**!"
   ]
  },
  {
   "cell_type": "markdown",
   "metadata": {},
   "source": [
    "### Exemplo 3: `.apply()` com argumentos\n",
    "\n",
    "Nos exemplos acima aplicamos uma função diretamente sobre uma linha (`max` e `min`) - já que estas funções transformam iteráveis em números.\n",
    "\n",
    "Outra aplicação comum é passar colunas específicas como argumentos particulares de uma função."
   ]
  },
  {
   "cell_type": "code",
   "execution_count": 115,
   "metadata": {},
   "outputs": [],
   "source": [
    "def diff_prop(a, b):\n",
    "    '''\n",
    "    Calcula (x-y)/(x+y).\n",
    "    Arguments:\n",
    "        x Float\n",
    "        y Float\n",
    "    Returns:\n",
    "        Float\n",
    "    '''\n",
    "    return (a-b)/(a+b)"
   ]
  },
  {
   "cell_type": "code",
   "execution_count": 116,
   "metadata": {},
   "outputs": [
    {
     "data": {
      "text/plain": [
       "0          NaN\n",
       "1     0.518072\n",
       "2          NaN\n",
       "3          NaN\n",
       "4     0.076923\n",
       "        ...   \n",
       "57    0.814815\n",
       "58    0.670886\n",
       "59    0.883495\n",
       "60    0.319588\n",
       "61         NaN\n",
       "Length: 62, dtype: float64"
      ]
     },
     "execution_count": 116,
     "metadata": {},
     "output_type": "execute_result"
    }
   ],
   "source": [
    "tb_sleep.apply(\n",
    "    lambda x: diff_prop(x['NonDreaming'], x['Dreaming']), axis=1\n",
    ")\n"
   ]
  },
  {
   "cell_type": "code",
   "execution_count": 117,
   "metadata": {},
   "outputs": [
    {
     "data": {
      "text/html": [
       "<div>\n",
       "<style scoped>\n",
       "    .dataframe tbody tr th:only-of-type {\n",
       "        vertical-align: middle;\n",
       "    }\n",
       "\n",
       "    .dataframe tbody tr th {\n",
       "        vertical-align: top;\n",
       "    }\n",
       "\n",
       "    .dataframe thead th {\n",
       "        text-align: right;\n",
       "    }\n",
       "</style>\n",
       "<table border=\"1\" class=\"dataframe\">\n",
       "  <thead>\n",
       "    <tr style=\"text-align: right;\">\n",
       "      <th></th>\n",
       "      <th>NonDreaming</th>\n",
       "      <th>Dreaming</th>\n",
       "      <th>PropNonDreaming</th>\n",
       "    </tr>\n",
       "  </thead>\n",
       "  <tbody>\n",
       "    <tr>\n",
       "      <th>0</th>\n",
       "      <td>NaN</td>\n",
       "      <td>NaN</td>\n",
       "      <td>NaN</td>\n",
       "    </tr>\n",
       "    <tr>\n",
       "      <th>1</th>\n",
       "      <td>6.3</td>\n",
       "      <td>2.0</td>\n",
       "      <td>0.518072</td>\n",
       "    </tr>\n",
       "    <tr>\n",
       "      <th>2</th>\n",
       "      <td>NaN</td>\n",
       "      <td>NaN</td>\n",
       "      <td>NaN</td>\n",
       "    </tr>\n",
       "    <tr>\n",
       "      <th>3</th>\n",
       "      <td>NaN</td>\n",
       "      <td>NaN</td>\n",
       "      <td>NaN</td>\n",
       "    </tr>\n",
       "    <tr>\n",
       "      <th>4</th>\n",
       "      <td>2.1</td>\n",
       "      <td>1.8</td>\n",
       "      <td>0.076923</td>\n",
       "    </tr>\n",
       "    <tr>\n",
       "      <th>...</th>\n",
       "      <td>...</td>\n",
       "      <td>...</td>\n",
       "      <td>...</td>\n",
       "    </tr>\n",
       "    <tr>\n",
       "      <th>57</th>\n",
       "      <td>4.9</td>\n",
       "      <td>0.5</td>\n",
       "      <td>0.814815</td>\n",
       "    </tr>\n",
       "    <tr>\n",
       "      <th>58</th>\n",
       "      <td>13.2</td>\n",
       "      <td>2.6</td>\n",
       "      <td>0.670886</td>\n",
       "    </tr>\n",
       "    <tr>\n",
       "      <th>59</th>\n",
       "      <td>9.7</td>\n",
       "      <td>0.6</td>\n",
       "      <td>0.883495</td>\n",
       "    </tr>\n",
       "    <tr>\n",
       "      <th>60</th>\n",
       "      <td>12.8</td>\n",
       "      <td>6.6</td>\n",
       "      <td>0.319588</td>\n",
       "    </tr>\n",
       "    <tr>\n",
       "      <th>61</th>\n",
       "      <td>NaN</td>\n",
       "      <td>NaN</td>\n",
       "      <td>NaN</td>\n",
       "    </tr>\n",
       "  </tbody>\n",
       "</table>\n",
       "<p>62 rows × 3 columns</p>\n",
       "</div>"
      ],
      "text/plain": [
       "    NonDreaming  Dreaming  PropNonDreaming\n",
       "0           NaN       NaN              NaN\n",
       "1           6.3       2.0         0.518072\n",
       "2           NaN       NaN              NaN\n",
       "3           NaN       NaN              NaN\n",
       "4           2.1       1.8         0.076923\n",
       "..          ...       ...              ...\n",
       "57          4.9       0.5         0.814815\n",
       "58         13.2       2.6         0.670886\n",
       "59          9.7       0.6         0.883495\n",
       "60         12.8       6.6         0.319588\n",
       "61          NaN       NaN              NaN\n",
       "\n",
       "[62 rows x 3 columns]"
      ]
     },
     "execution_count": 117,
     "metadata": {},
     "output_type": "execute_result"
    }
   ],
   "source": [
    "tb_sleep[\"PropNonDreaming\"] = tb_sleep.apply(\n",
    "    lambda x: diff_prop(x['NonDreaming'], x['Dreaming']), axis=1\n",
    ")\n",
    "tb_sleep[[\"NonDreaming\", \"Dreaming\", \"PropNonDreaming\"]]"
   ]
  },
  {
   "cell_type": "markdown",
   "metadata": {},
   "source": [
    "No exemplo acima utilizamos o fato que `x` nada mais que uma linha de nosso DataFrame. Podemos utilizar o **desempacotamento de argumentos** para realizar a mesma operação:"
   ]
  },
  {
   "cell_type": "code",
   "execution_count": 118,
   "metadata": {
    "ExecuteTime": {
     "end_time": "2022-01-08T12:44:25.476229Z",
     "start_time": "2022-01-08T12:44:25.326087Z"
    }
   },
   "outputs": [
    {
     "data": {
      "text/plain": [
       "0          NaN\n",
       "1     0.518072\n",
       "2          NaN\n",
       "3          NaN\n",
       "4     0.076923\n",
       "        ...   \n",
       "57    0.814815\n",
       "58    0.670886\n",
       "59    0.883495\n",
       "60    0.319588\n",
       "61         NaN\n",
       "Length: 62, dtype: float64"
      ]
     },
     "execution_count": 118,
     "metadata": {},
     "output_type": "execute_result"
    }
   ],
   "source": [
    "tb_sleep[[\"NonDreaming\", \"Dreaming\"]].apply(lambda x: diff_prop(*x), axis=1)\n"
   ]
  },
  {
   "cell_type": "code",
   "execution_count": 121,
   "metadata": {},
   "outputs": [
    {
     "data": {
      "text/plain": [
       "0          NaN\n",
       "1     0.240964\n",
       "2          NaN\n",
       "3          NaN\n",
       "4     0.461538\n",
       "        ...   \n",
       "57    0.092593\n",
       "58    0.164557\n",
       "59    0.058252\n",
       "60    0.340206\n",
       "61         NaN\n",
       "Length: 62, dtype: float64"
      ]
     },
     "execution_count": 121,
     "metadata": {},
     "output_type": "execute_result"
    }
   ],
   "source": [
    "tb_sleep[[\"NonDreaming\", \"Dreaming\"]].apply(lambda x: x['Dreaming']/np.sum(x), axis = 1)"
   ]
  },
  {
   "cell_type": "code",
   "execution_count": 124,
   "metadata": {},
   "outputs": [
    {
     "data": {
      "text/plain": [
       "0     0.257130\n",
       "1     0.404061\n",
       "2     0.000000\n",
       "3     0.374166\n",
       "4     0.204124\n",
       "        ...   \n",
       "57    0.404061\n",
       "58    0.202031\n",
       "59    0.128565\n",
       "60    0.353553\n",
       "61    0.565685\n",
       "Length: 62, dtype: float64"
      ]
     },
     "execution_count": 124,
     "metadata": {},
     "output_type": "execute_result"
    }
   ],
   "source": [
    "tb_sleep[[\"Predation\", \"Exposure\", \"Danger\"]].apply(lambda x: np.std(x)/np.mean(x), axis = 1)"
   ]
  },
  {
   "cell_type": "code",
   "execution_count": 125,
   "metadata": {},
   "outputs": [
    {
     "data": {
      "text/html": [
       "<div>\n",
       "<style scoped>\n",
       "    .dataframe tbody tr th:only-of-type {\n",
       "        vertical-align: middle;\n",
       "    }\n",
       "\n",
       "    .dataframe tbody tr th {\n",
       "        vertical-align: top;\n",
       "    }\n",
       "\n",
       "    .dataframe thead th {\n",
       "        text-align: right;\n",
       "    }\n",
       "</style>\n",
       "<table border=\"1\" class=\"dataframe\">\n",
       "  <thead>\n",
       "    <tr style=\"text-align: right;\">\n",
       "      <th></th>\n",
       "      <th>Predation</th>\n",
       "      <th>Exposure</th>\n",
       "      <th>Danger</th>\n",
       "    </tr>\n",
       "  </thead>\n",
       "  <tbody>\n",
       "    <tr>\n",
       "      <th>0</th>\n",
       "      <td>3</td>\n",
       "      <td>5</td>\n",
       "      <td>3</td>\n",
       "    </tr>\n",
       "    <tr>\n",
       "      <th>1</th>\n",
       "      <td>3</td>\n",
       "      <td>1</td>\n",
       "      <td>3</td>\n",
       "    </tr>\n",
       "    <tr>\n",
       "      <th>2</th>\n",
       "      <td>1</td>\n",
       "      <td>1</td>\n",
       "      <td>1</td>\n",
       "    </tr>\n",
       "    <tr>\n",
       "      <th>3</th>\n",
       "      <td>5</td>\n",
       "      <td>2</td>\n",
       "      <td>3</td>\n",
       "    </tr>\n",
       "    <tr>\n",
       "      <th>4</th>\n",
       "      <td>3</td>\n",
       "      <td>5</td>\n",
       "      <td>4</td>\n",
       "    </tr>\n",
       "    <tr>\n",
       "      <th>...</th>\n",
       "      <td>...</td>\n",
       "      <td>...</td>\n",
       "      <td>...</td>\n",
       "    </tr>\n",
       "    <tr>\n",
       "      <th>57</th>\n",
       "      <td>3</td>\n",
       "      <td>1</td>\n",
       "      <td>3</td>\n",
       "    </tr>\n",
       "    <tr>\n",
       "      <th>58</th>\n",
       "      <td>3</td>\n",
       "      <td>2</td>\n",
       "      <td>2</td>\n",
       "    </tr>\n",
       "    <tr>\n",
       "      <th>59</th>\n",
       "      <td>4</td>\n",
       "      <td>3</td>\n",
       "      <td>4</td>\n",
       "    </tr>\n",
       "    <tr>\n",
       "      <th>60</th>\n",
       "      <td>2</td>\n",
       "      <td>1</td>\n",
       "      <td>1</td>\n",
       "    </tr>\n",
       "    <tr>\n",
       "      <th>61</th>\n",
       "      <td>3</td>\n",
       "      <td>1</td>\n",
       "      <td>1</td>\n",
       "    </tr>\n",
       "  </tbody>\n",
       "</table>\n",
       "<p>62 rows × 3 columns</p>\n",
       "</div>"
      ],
      "text/plain": [
       "    Predation  Exposure  Danger\n",
       "0           3         5       3\n",
       "1           3         1       3\n",
       "2           1         1       1\n",
       "3           5         2       3\n",
       "4           3         5       4\n",
       "..        ...       ...     ...\n",
       "57          3         1       3\n",
       "58          3         2       2\n",
       "59          4         3       4\n",
       "60          2         1       1\n",
       "61          3         1       1\n",
       "\n",
       "[62 rows x 3 columns]"
      ]
     },
     "execution_count": 125,
     "metadata": {},
     "output_type": "execute_result"
    }
   ],
   "source": [
    "tb_sleep[[\"Predation\", \"Exposure\", \"Danger\"]]"
   ]
  },
  {
   "cell_type": "markdown",
   "metadata": {},
   "source": [
    "No caso acima, `x` é um iterável com os valores `NonDreaming` e `Dreaming` - `[6.3, 2.0]` na segunda linha de nosso DataFrame.\n",
    "\n",
    "Utilizamos `*x` como argumento da função diff_prop, desempacotando esse iterável, passando seu primeiro elemento como o primeiro argumento da função e seu segundo elemento como segundo argumento da função.\n",
    "\n",
    "Note que nesse caso, a ordem do filtro de colunas no inicio da linha (`tb_sleep[[\"NonDreaming\", \"Dreaming\"]].apply()`) é determinante no resultado!"
   ]
  },
  {
   "cell_type": "code",
   "execution_count": 126,
   "metadata": {},
   "outputs": [
    {
     "data": {
      "text/html": [
       "<div>\n",
       "<style scoped>\n",
       "    .dataframe tbody tr th:only-of-type {\n",
       "        vertical-align: middle;\n",
       "    }\n",
       "\n",
       "    .dataframe tbody tr th {\n",
       "        vertical-align: top;\n",
       "    }\n",
       "\n",
       "    .dataframe thead th {\n",
       "        text-align: right;\n",
       "    }\n",
       "</style>\n",
       "<table border=\"1\" class=\"dataframe\">\n",
       "  <thead>\n",
       "    <tr style=\"text-align: right;\">\n",
       "      <th></th>\n",
       "      <th>NonDreaming</th>\n",
       "      <th>Dreaming</th>\n",
       "      <th>non_prop</th>\n",
       "      <th>dre_prop</th>\n",
       "    </tr>\n",
       "  </thead>\n",
       "  <tbody>\n",
       "    <tr>\n",
       "      <th>0</th>\n",
       "      <td>NaN</td>\n",
       "      <td>NaN</td>\n",
       "      <td>NaN</td>\n",
       "      <td>NaN</td>\n",
       "    </tr>\n",
       "    <tr>\n",
       "      <th>1</th>\n",
       "      <td>6.3</td>\n",
       "      <td>2.0</td>\n",
       "      <td>0.518072</td>\n",
       "      <td>-0.518072</td>\n",
       "    </tr>\n",
       "    <tr>\n",
       "      <th>2</th>\n",
       "      <td>NaN</td>\n",
       "      <td>NaN</td>\n",
       "      <td>NaN</td>\n",
       "      <td>NaN</td>\n",
       "    </tr>\n",
       "    <tr>\n",
       "      <th>3</th>\n",
       "      <td>NaN</td>\n",
       "      <td>NaN</td>\n",
       "      <td>NaN</td>\n",
       "      <td>NaN</td>\n",
       "    </tr>\n",
       "    <tr>\n",
       "      <th>4</th>\n",
       "      <td>2.1</td>\n",
       "      <td>1.8</td>\n",
       "      <td>0.076923</td>\n",
       "      <td>-0.076923</td>\n",
       "    </tr>\n",
       "  </tbody>\n",
       "</table>\n",
       "</div>"
      ],
      "text/plain": [
       "   NonDreaming  Dreaming  non_prop  dre_prop\n",
       "0          NaN       NaN       NaN       NaN\n",
       "1          6.3       2.0  0.518072 -0.518072\n",
       "2          NaN       NaN       NaN       NaN\n",
       "3          NaN       NaN       NaN       NaN\n",
       "4          2.1       1.8  0.076923 -0.076923"
      ]
     },
     "execution_count": 126,
     "metadata": {},
     "output_type": "execute_result"
    }
   ],
   "source": [
    "tb_sleep['non_prop'] = tb_sleep[[\"NonDreaming\", \"Dreaming\"]].apply(lambda x: diff_prop(*x), axis=1)\n",
    "tb_sleep['dre_prop'] = tb_sleep[[\"Dreaming\", \"NonDreaming\"]].apply(lambda x: diff_prop(*x), axis=1)\n",
    "tb_sleep[[\"NonDreaming\", \"Dreaming\", \"non_prop\", \"dre_prop\"]].head()\n"
   ]
  },
  {
   "cell_type": "markdown",
   "metadata": {},
   "source": [
    "## Exemplo 4: `.apply()` com strings"
   ]
  },
  {
   "cell_type": "code",
   "execution_count": 127,
   "metadata": {
    "ExecuteTime": {
     "end_time": "2022-01-08T14:16:50.961251Z",
     "start_time": "2022-01-08T14:16:50.940307Z"
    }
   },
   "outputs": [
    {
     "data": {
      "text/html": [
       "<div>\n",
       "<style scoped>\n",
       "    .dataframe tbody tr th:only-of-type {\n",
       "        vertical-align: middle;\n",
       "    }\n",
       "\n",
       "    .dataframe tbody tr th {\n",
       "        vertical-align: top;\n",
       "    }\n",
       "\n",
       "    .dataframe thead th {\n",
       "        text-align: right;\n",
       "    }\n",
       "</style>\n",
       "<table border=\"1\" class=\"dataframe\">\n",
       "  <thead>\n",
       "    <tr style=\"text-align: right;\">\n",
       "      <th></th>\n",
       "      <th>ddd</th>\n",
       "      <th>telefone</th>\n",
       "    </tr>\n",
       "  </thead>\n",
       "  <tbody>\n",
       "    <tr>\n",
       "      <th>0</th>\n",
       "      <td>19</td>\n",
       "      <td>999571559</td>\n",
       "    </tr>\n",
       "    <tr>\n",
       "      <th>1</th>\n",
       "      <td>(11)</td>\n",
       "      <td>2412-0107</td>\n",
       "    </tr>\n",
       "    <tr>\n",
       "      <th>2</th>\n",
       "      <td>(33)</td>\n",
       "      <td>99762-1166</td>\n",
       "    </tr>\n",
       "    <tr>\n",
       "      <th>3</th>\n",
       "      <td>16</td>\n",
       "      <td>4002-8282</td>\n",
       "    </tr>\n",
       "    <tr>\n",
       "      <th>4</th>\n",
       "      <td>29</td>\n",
       "      <td>3542-1820</td>\n",
       "    </tr>\n",
       "    <tr>\n",
       "      <th>5</th>\n",
       "      <td>12</td>\n",
       "      <td>9-3561-9525</td>\n",
       "    </tr>\n",
       "    <tr>\n",
       "      <th>6</th>\n",
       "      <td>(34)</td>\n",
       "      <td>3333-5802</td>\n",
       "    </tr>\n",
       "  </tbody>\n",
       "</table>\n",
       "</div>"
      ],
      "text/plain": [
       "    ddd     telefone\n",
       "0    19    999571559\n",
       "1  (11)    2412-0107\n",
       "2  (33)   99762-1166\n",
       "3    16    4002-8282\n",
       "4    29    3542-1820\n",
       "5    12  9-3561-9525\n",
       "6  (34)    3333-5802"
      ]
     },
     "execution_count": 127,
     "metadata": {},
     "output_type": "execute_result"
    }
   ],
   "source": [
    "lista_telefones = [\n",
    "    999571559,\n",
    "    \"2412-0107\",\n",
    "    \"99762-1166\",\n",
    "    \"4002-8282\",\n",
    "    \"3542-1820\",\n",
    "    \"9-3561-9525\",\n",
    "    \"3333-5802\"\n",
    "]\n",
    "lista_ddd = [\n",
    "    19,\n",
    "    \"(11)\",\n",
    "    \"(33)\",\n",
    "    \"16\",\n",
    "    \"29\",\n",
    "    12,\n",
    "    \"(34)\",\n",
    "]\n",
    "tb_telefone = pd.DataFrame({\"ddd\" : lista_ddd, \"telefone\" : lista_telefones})\n",
    "tb_telefone\n"
   ]
  },
  {
   "cell_type": "code",
   "execution_count": 128,
   "metadata": {
    "ExecuteTime": {
     "end_time": "2022-01-08T14:17:27.589634Z",
     "start_time": "2022-01-08T14:17:27.574664Z"
    }
   },
   "outputs": [],
   "source": [
    "def limpar_telefone(ddd, telefone):\n",
    "    \"\"\"\n",
    "    Extrai o DDD de um telefone\n",
    "    telefone (str or numeric): telefone onde os dois primeiros digitos numéricos são o DDD\n",
    "    \"\"\"\n",
    "    pattern = r\"[0-9]+\"\n",
    "    ddd_limpo = \"\".join(re.findall(pattern, str(ddd)))\n",
    "    tel_limpo = \"\".join(re.findall(pattern, str(telefone)))\n",
    "    return f\"({ddd_limpo}){tel_limpo}\"\n"
   ]
  },
  {
   "cell_type": "code",
   "execution_count": 133,
   "metadata": {
    "ExecuteTime": {
     "end_time": "2022-01-08T14:17:46.513278Z",
     "start_time": "2022-01-08T14:17:46.500286Z"
    }
   },
   "outputs": [
    {
     "data": {
      "text/plain": [
       "'(19)35613870'"
      ]
     },
     "execution_count": 133,
     "metadata": {},
     "output_type": "execute_result"
    }
   ],
   "source": [
    "limpar_telefone(\"19\", '35-61-3870')\n"
   ]
  },
  {
   "cell_type": "code",
   "execution_count": 134,
   "metadata": {
    "ExecuteTime": {
     "end_time": "2022-01-08T14:19:16.891010Z",
     "start_time": "2022-01-08T14:19:16.874077Z"
    }
   },
   "outputs": [
    {
     "data": {
      "text/html": [
       "<div>\n",
       "<style scoped>\n",
       "    .dataframe tbody tr th:only-of-type {\n",
       "        vertical-align: middle;\n",
       "    }\n",
       "\n",
       "    .dataframe tbody tr th {\n",
       "        vertical-align: top;\n",
       "    }\n",
       "\n",
       "    .dataframe thead th {\n",
       "        text-align: right;\n",
       "    }\n",
       "</style>\n",
       "<table border=\"1\" class=\"dataframe\">\n",
       "  <thead>\n",
       "    <tr style=\"text-align: right;\">\n",
       "      <th></th>\n",
       "      <th>ddd</th>\n",
       "      <th>telefone</th>\n",
       "      <th>telefone_completo</th>\n",
       "    </tr>\n",
       "  </thead>\n",
       "  <tbody>\n",
       "    <tr>\n",
       "      <th>0</th>\n",
       "      <td>19</td>\n",
       "      <td>999571559</td>\n",
       "      <td>(19)999571559</td>\n",
       "    </tr>\n",
       "    <tr>\n",
       "      <th>1</th>\n",
       "      <td>(11)</td>\n",
       "      <td>2412-0107</td>\n",
       "      <td>(11)24120107</td>\n",
       "    </tr>\n",
       "    <tr>\n",
       "      <th>2</th>\n",
       "      <td>(33)</td>\n",
       "      <td>99762-1166</td>\n",
       "      <td>(33)997621166</td>\n",
       "    </tr>\n",
       "    <tr>\n",
       "      <th>3</th>\n",
       "      <td>16</td>\n",
       "      <td>4002-8282</td>\n",
       "      <td>(16)40028282</td>\n",
       "    </tr>\n",
       "    <tr>\n",
       "      <th>4</th>\n",
       "      <td>29</td>\n",
       "      <td>3542-1820</td>\n",
       "      <td>(29)35421820</td>\n",
       "    </tr>\n",
       "    <tr>\n",
       "      <th>5</th>\n",
       "      <td>12</td>\n",
       "      <td>9-3561-9525</td>\n",
       "      <td>(12)935619525</td>\n",
       "    </tr>\n",
       "    <tr>\n",
       "      <th>6</th>\n",
       "      <td>(34)</td>\n",
       "      <td>3333-5802</td>\n",
       "      <td>(34)33335802</td>\n",
       "    </tr>\n",
       "  </tbody>\n",
       "</table>\n",
       "</div>"
      ],
      "text/plain": [
       "    ddd     telefone telefone_completo\n",
       "0    19    999571559     (19)999571559\n",
       "1  (11)    2412-0107      (11)24120107\n",
       "2  (33)   99762-1166     (33)997621166\n",
       "3    16    4002-8282      (16)40028282\n",
       "4    29    3542-1820      (29)35421820\n",
       "5    12  9-3561-9525     (12)935619525\n",
       "6  (34)    3333-5802      (34)33335802"
      ]
     },
     "execution_count": 134,
     "metadata": {},
     "output_type": "execute_result"
    }
   ],
   "source": [
    "tb_telefone[\"telefone_completo\"] = tb_telefone[[\"ddd\", \"telefone\"]].apply(lambda x: limpar_telefone(*x), axis = 1)\n",
    "tb_telefone"
   ]
  },
  {
   "cell_type": "markdown",
   "metadata": {},
   "source": [
    "## Exemplo 5: `.apply()` com argumentos fixos\n",
    "\n",
    "Nos exemplos acimas, todos os argumentos das funções aplicadas originavam em colunas do DataFrame. Algumas vezes queremos *fixar* um dos parâmetros de uma função ao aplica-la sobre nosso DataFrame"
   ]
  },
  {
   "cell_type": "code",
   "execution_count": 135,
   "metadata": {
    "ExecuteTime": {
     "end_time": "2022-01-08T14:21:24.071709Z",
     "start_time": "2022-01-08T14:21:24.060768Z"
    }
   },
   "outputs": [],
   "source": [
    "def maior_custom(valor, patamar):\n",
    "    if valor > patamar:\n",
    "        return \"Pesado\"\n",
    "    else:\n",
    "        return \"Leve\"\n"
   ]
  },
  {
   "cell_type": "code",
   "execution_count": 136,
   "metadata": {
    "ExecuteTime": {
     "end_time": "2022-01-08T14:22:36.015263Z",
     "start_time": "2022-01-08T14:22:35.983349Z"
    }
   },
   "outputs": [
    {
     "ename": "TypeError",
     "evalue": "maior_custom() missing 1 required positional argument: 'patamar'",
     "output_type": "error",
     "traceback": [
      "\u001b[0;31m---------------------------------------------------------------------------\u001b[0m",
      "\u001b[0;31mTypeError\u001b[0m                                 Traceback (most recent call last)",
      "\u001b[0;32m/var/folders/c2/4vv1dtt97gl9bn1lvw8rf0k40000gn/T/ipykernel_31009/3127910727.py\u001b[0m in \u001b[0;36m<module>\u001b[0;34m\u001b[0m\n\u001b[0;32m----> 1\u001b[0;31m \u001b[0mtb_sleep\u001b[0m\u001b[0;34m[\u001b[0m\u001b[0;34m\"ratio_brain\"\u001b[0m\u001b[0;34m]\u001b[0m\u001b[0;34m.\u001b[0m\u001b[0mapply\u001b[0m\u001b[0;34m(\u001b[0m\u001b[0mmaior_custom\u001b[0m\u001b[0;34m)\u001b[0m\u001b[0;34m\u001b[0m\u001b[0;34m\u001b[0m\u001b[0m\n\u001b[0m",
      "\u001b[0;32m~/opt/anaconda3/lib/python3.9/site-packages/pandas/core/series.py\u001b[0m in \u001b[0;36mapply\u001b[0;34m(self, func, convert_dtype, args, **kwargs)\u001b[0m\n\u001b[1;32m   4769\u001b[0m         \u001b[0mdtype\u001b[0m\u001b[0;34m:\u001b[0m \u001b[0mfloat64\u001b[0m\u001b[0;34m\u001b[0m\u001b[0;34m\u001b[0m\u001b[0m\n\u001b[1;32m   4770\u001b[0m         \"\"\"\n\u001b[0;32m-> 4771\u001b[0;31m         \u001b[0;32mreturn\u001b[0m \u001b[0mSeriesApply\u001b[0m\u001b[0;34m(\u001b[0m\u001b[0mself\u001b[0m\u001b[0;34m,\u001b[0m \u001b[0mfunc\u001b[0m\u001b[0;34m,\u001b[0m \u001b[0mconvert_dtype\u001b[0m\u001b[0;34m,\u001b[0m \u001b[0margs\u001b[0m\u001b[0;34m,\u001b[0m \u001b[0mkwargs\u001b[0m\u001b[0;34m)\u001b[0m\u001b[0;34m.\u001b[0m\u001b[0mapply\u001b[0m\u001b[0;34m(\u001b[0m\u001b[0;34m)\u001b[0m\u001b[0;34m\u001b[0m\u001b[0;34m\u001b[0m\u001b[0m\n\u001b[0m\u001b[1;32m   4772\u001b[0m \u001b[0;34m\u001b[0m\u001b[0m\n\u001b[1;32m   4773\u001b[0m     def _reduce(\n",
      "\u001b[0;32m~/opt/anaconda3/lib/python3.9/site-packages/pandas/core/apply.py\u001b[0m in \u001b[0;36mapply\u001b[0;34m(self)\u001b[0m\n\u001b[1;32m   1103\u001b[0m \u001b[0;34m\u001b[0m\u001b[0m\n\u001b[1;32m   1104\u001b[0m         \u001b[0;31m# self.f is Callable\u001b[0m\u001b[0;34m\u001b[0m\u001b[0;34m\u001b[0m\u001b[0m\n\u001b[0;32m-> 1105\u001b[0;31m         \u001b[0;32mreturn\u001b[0m \u001b[0mself\u001b[0m\u001b[0;34m.\u001b[0m\u001b[0mapply_standard\u001b[0m\u001b[0;34m(\u001b[0m\u001b[0;34m)\u001b[0m\u001b[0;34m\u001b[0m\u001b[0;34m\u001b[0m\u001b[0m\n\u001b[0m\u001b[1;32m   1106\u001b[0m \u001b[0;34m\u001b[0m\u001b[0m\n\u001b[1;32m   1107\u001b[0m     \u001b[0;32mdef\u001b[0m \u001b[0magg\u001b[0m\u001b[0;34m(\u001b[0m\u001b[0mself\u001b[0m\u001b[0;34m)\u001b[0m\u001b[0;34m:\u001b[0m\u001b[0;34m\u001b[0m\u001b[0;34m\u001b[0m\u001b[0m\n",
      "\u001b[0;32m~/opt/anaconda3/lib/python3.9/site-packages/pandas/core/apply.py\u001b[0m in \u001b[0;36mapply_standard\u001b[0;34m(self)\u001b[0m\n\u001b[1;32m   1154\u001b[0m             \u001b[0;32melse\u001b[0m\u001b[0;34m:\u001b[0m\u001b[0;34m\u001b[0m\u001b[0;34m\u001b[0m\u001b[0m\n\u001b[1;32m   1155\u001b[0m                 \u001b[0mvalues\u001b[0m \u001b[0;34m=\u001b[0m \u001b[0mobj\u001b[0m\u001b[0;34m.\u001b[0m\u001b[0mastype\u001b[0m\u001b[0;34m(\u001b[0m\u001b[0mobject\u001b[0m\u001b[0;34m)\u001b[0m\u001b[0;34m.\u001b[0m\u001b[0m_values\u001b[0m\u001b[0;34m\u001b[0m\u001b[0;34m\u001b[0m\u001b[0m\n\u001b[0;32m-> 1156\u001b[0;31m                 mapped = lib.map_infer(\n\u001b[0m\u001b[1;32m   1157\u001b[0m                     \u001b[0mvalues\u001b[0m\u001b[0;34m,\u001b[0m\u001b[0;34m\u001b[0m\u001b[0;34m\u001b[0m\u001b[0m\n\u001b[1;32m   1158\u001b[0m                     \u001b[0mf\u001b[0m\u001b[0;34m,\u001b[0m\u001b[0;34m\u001b[0m\u001b[0;34m\u001b[0m\u001b[0m\n",
      "\u001b[0;32m~/opt/anaconda3/lib/python3.9/site-packages/pandas/_libs/lib.pyx\u001b[0m in \u001b[0;36mpandas._libs.lib.map_infer\u001b[0;34m()\u001b[0m\n",
      "\u001b[0;31mTypeError\u001b[0m: maior_custom() missing 1 required positional argument: 'patamar'"
     ]
    }
   ],
   "source": [
    "tb_sleep[\"ratio_brain\"].apply(maior_custom)\n"
   ]
  },
  {
   "cell_type": "code",
   "execution_count": 137,
   "metadata": {
    "ExecuteTime": {
     "end_time": "2022-01-08T14:22:25.898432Z",
     "start_time": "2022-01-08T14:22:25.877489Z"
    }
   },
   "outputs": [
    {
     "data": {
      "text/plain": [
       "0       Leve\n",
       "1     Pesado\n",
       "2     Pesado\n",
       "3     Pesado\n",
       "4       Leve\n",
       "       ...  \n",
       "57    Pesado\n",
       "58    Pesado\n",
       "59    Pesado\n",
       "60      Leve\n",
       "61      Leve\n",
       "Name: ratio_brain, Length: 62, dtype: object"
      ]
     },
     "execution_count": 137,
     "metadata": {},
     "output_type": "execute_result"
    }
   ],
   "source": [
    "tb_sleep[\"ratio_brain\"].map(lambda x: maior_custom(x, 0.005))\n"
   ]
  },
  {
   "cell_type": "markdown",
   "metadata": {},
   "source": [
    "# Voltamos 10h40!"
   ]
  },
  {
   "cell_type": "code",
   "execution_count": null,
   "metadata": {},
   "outputs": [],
   "source": []
  }
 ],
 "metadata": {
  "hide_input": false,
  "kernelspec": {
   "display_name": "Python 3 (ipykernel)",
   "language": "python",
   "name": "python3"
  },
  "language_info": {
   "codemirror_mode": {
    "name": "ipython",
    "version": 3
   },
   "file_extension": ".py",
   "mimetype": "text/x-python",
   "name": "python",
   "nbconvert_exporter": "python",
   "pygments_lexer": "ipython3",
   "version": "3.9.13"
  },
  "toc": {
   "base_numbering": 1,
   "nav_menu": {},
   "number_sections": true,
   "sideBar": true,
   "skip_h1_title": false,
   "title_cell": "Table of Contents",
   "title_sidebar": "Contents",
   "toc_cell": false,
   "toc_position": {},
   "toc_section_display": true,
   "toc_window_display": false
  },
  "varInspector": {
   "cols": {
    "lenName": 16,
    "lenType": 16,
    "lenVar": 40
   },
   "kernels_config": {
    "python": {
     "delete_cmd_postfix": "",
     "delete_cmd_prefix": "del ",
     "library": "var_list.py",
     "varRefreshCmd": "print(var_dic_list())"
    },
    "r": {
     "delete_cmd_postfix": ") ",
     "delete_cmd_prefix": "rm(",
     "library": "var_list.r",
     "varRefreshCmd": "cat(var_dic_list()) "
    }
   },
   "types_to_exclude": [
    "module",
    "function",
    "builtin_function_or_method",
    "instance",
    "_Feature"
   ],
   "window_display": false
  },
  "vscode": {
   "interpreter": {
    "hash": "014f4a4a5af8f0104b12c029e500f4146d6d785e8cf714d2a35b7a9514230cd3"
   }
  }
 },
 "nbformat": 4,
 "nbformat_minor": 4
}
