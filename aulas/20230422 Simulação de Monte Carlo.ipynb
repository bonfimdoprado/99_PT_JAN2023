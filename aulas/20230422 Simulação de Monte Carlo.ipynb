{
 "cells": [
  {
   "cell_type": "code",
   "execution_count": 1,
   "metadata": {},
   "outputs": [],
   "source": [
    "import numpy as np\n",
    "import scipy as sp\n",
    "import pandas as pd\n",
    "import seaborn as sns\n",
    "import matplotlib.pyplot as plt\n",
    "from multiprocess import Pool, cpu_count"
   ]
  },
  {
   "cell_type": "markdown",
   "metadata": {},
   "source": [
    "# Case I - Bar do Adriano\n",
    "\n",
    "Com um fim (?) da pandemia, o **Bar do Adriano** está fazendo muito sucesso. O seu dono, Adriano, está preocupado com as **filas que estão se formando fora do bar**, e com a **perda de clientes** (muitos desistem de esperar na fila).\n",
    "\n",
    "O bar é *bem simples*, contendo apenas um **balcão com 10 lugares**. Devido as leis de zoneamento da região, Adriano não pode instalar mesas fora do bar, e, portanto, está buscando alternativas. No entanto ele **teme que o aumento no número de clientes não seja suficiente para balancear o aumento de custo operacional e investimento necessário para expansão do balcão**.\n",
    "\n",
    "**Você foi contrado para estimar quantos clientes diferentes tamanhos de balcão poderiam atender**! Infelizmente, **Adriano não possui NENHUM dado sobre a operação de seu bar**, apenas algumas medições simples:\n",
    "\n",
    "1. *O bar fica aberto 3h por noite (vizinhos chatos...)*;\n",
    "1. *Em média, 50 clientes entram na fila por hora*;\n",
    "1. *Em média, um cliente fica 15m na fila antes de desistir*;\n",
    "1. *Uma vez sentados, clientes ficam, em média, 30m no balcão*;\n",
    "1. *O bar atualmente tem 10 bancos mas Adriano tem a possibilidade de investir e aumentar este número para 30*.\n",
    "\n",
    "**Conhecendo os rudimentos da Probabilidade, você decide utilizar simulação de Monte Carlo para construir esta estimativa!**"
   ]
  },
  {
   "cell_type": "code",
   "execution_count": 2,
   "metadata": {},
   "outputs": [],
   "source": [
    "# Parâmetros Observáveis (medido)\n",
    "NUM_MINUTOS = 180 # Minutos\n",
    "MEDIA_CHEGADA = 50/60 # Clientes/Minutio\n",
    "TEMPO_DESISTE = 15 # Minutos\n",
    "TEMPO_ESTADIA = 30 # Minutos\n",
    "TAMANHO_BALCAO = 10 # Número de Cadeiras\n",
    "# Distribuição Geométrica\n",
    "# Número de lances até primeira cara\n",
    "# Qual a probabilidade de você jogar X moedas antes de tirar uma cara.\n",
    "# Cada lance é um minuto do clienta na fila\n",
    "# Média de Minutos = 1 / probabilidade do cliente desistir\n",
    "# probabilidade = 1 / Média de Minutos\n",
    "p_desiste_minuto = 1/TEMPO_DESISTE\n",
    "\n",
    "# Variáveis Aleatórias\n",
    "# Número de clientes chegando no bar (R.V. média = 50/60)\n",
    "# Tempo balcao (R.V. média = 30m)\n",
    "# Abandono de file (R.V., teste bernoulli, com p = 1/15)\n",
    "rv_chegada = sp.stats.poisson(MEDIA_CHEGADA)\n",
    "rv_tempo_balcao = sp.stats.expon(TEMPO_ESTADIA)\n",
    "rv_abandono = sp.stats.bernoulli(p_desiste_minuto)\n",
    "\n",
    "# Estados\n",
    "balcao_bar = []\n",
    "fila = []\n",
    "\n",
    "# Observaveis\n",
    "n_cliente = 0\n",
    "n_abandono = 0\n",
    "n_cliente_atendido = 0\n",
    "tx_ocup = []"
   ]
  },
  {
   "cell_type": "code",
   "execution_count": 9,
   "metadata": {},
   "outputs": [
    {
     "data": {
      "text/plain": [
       "32.98676587017018"
      ]
     },
     "execution_count": 9,
     "metadata": {},
     "output_type": "execute_result"
    }
   ],
   "source": [
    "rv_tempo_balcao.rvs()"
   ]
  },
  {
   "cell_type": "code",
   "execution_count": null,
   "metadata": {},
   "outputs": [],
   "source": [
    "for i in range(NUM_MINUTOS):\n",
    "    # MODELANDO CHEGADA DE CLIENTES\n",
    "    num_clientes = rv_chegada.rvs()\n",
    "    if num_clientes > 0:\n",
    "        for cliente in range(num_clientes):\n",
    "            n_cliente += 1\n",
    "            tempo_estadia = int(rv_tempo_balcao.rvs())\n",
    "            minuto_saida = i + tempo_estadia\n",
    "            fila.append((n_cliente, i, minuto_saida))\n",
    "\n",
    "    # MODELANDO CLIENTES SAINDO DA FILA P/ BALCAO\n",
    "    while len(balcao_bar) < TAMANHO_BALCAO and len(fila) > 0:\n",
    "        cliente_atendido = fila.pop(0)\n",
    "        balcao_bar.append(cliente_atendido)\n",
    "        \n",
    "    # MODELANDO SAIDA DE CLIENTES DO BALCAO\n",
    "    if len(balcao_bar) > 0:\n",
    "        lista_saida = []\n",
    "        for cliente in balcao_bar:\n",
    "            if i >= cliente[2]:\n",
    "                lista_saida.append(cliente)\n",
    "        for cliente in lista_saida:\n",
    "            n_cliente_atendido += 1\n",
    "            balcao_bar.pop(balcao_bar.index(cliente))\n",
    "\n",
    "    # MODELANDO DESISTENCIA DA FILA\n",
    "    if len(fila) > 0:\n",
    "        lista_desiste = []\n",
    "        for cliente in fila:\n",
    "            if rv_abandono.rvs() == 1:\n",
    "                lista_desiste.append(cliente)\n",
    "        for cliente in lista_desiste:\n",
    "            n_abandono += 1\n",
    "            fila.pop(fila.index(cliente))\n",
    "\n",
    "    tx_ocup.append(len(balcao_bar)/TAMANHO_BALCAO)\n"
   ]
  },
  {
   "cell_type": "code",
   "execution_count": 10,
   "metadata": {},
   "outputs": [],
   "source": [
    "def simular_bar(tam_balcao):\n",
    "    NUM_MINUTOS = 180\n",
    "    MEDIA_CHEGADA = 50/60\n",
    "    TEMPO_DESISTE = 15\n",
    "    TEMPO_ESTADIA = 30\n",
    "    TAMANHO_BALCAO = tam_balcao\n",
    "\n",
    "    balcao_bar = []\n",
    "    fila = []\n",
    "    p_desiste_minuto = 1/TEMPO_DESISTE\n",
    "\n",
    "    rv_chegada = sp.stats.poisson(MEDIA_CHEGADA)\n",
    "    rv_tempo_balcao = sp.stats.expon(TEMPO_ESTADIA)\n",
    "    rv_abandono = sp.stats.bernoulli(p_desiste_minuto)\n",
    "\n",
    "    n_cliente = 0\n",
    "    n_abandono = 0\n",
    "    n_cliente_atendido = 0\n",
    "    tx_ocup = []\n",
    "    for i in range(NUM_MINUTOS):\n",
    "        # MODELANDO CHEGADA DE CLIENTES\n",
    "        num_clientes = rv_chegada.rvs()\n",
    "        if num_clientes > 0:\n",
    "            for cliente in range(num_clientes):\n",
    "                n_cliente += 1\n",
    "                tempo_estadia = int(rv_tempo_balcao.rvs())\n",
    "                minuto_saida = i + tempo_estadia\n",
    "                fila.append((n_cliente, i, minuto_saida))\n",
    "\n",
    "        # MODELANDO CLIENTES SAINDO DA FILA P/ BALCAO\n",
    "        while len(balcao_bar) < TAMANHO_BALCAO and len(fila) > 0:\n",
    "            cliente_atendido = fila.pop(0)\n",
    "            balcao_bar.append(cliente_atendido)\n",
    "            \n",
    "        # MODELANDO SAIDA DE CLIENTES DO BALCAO\n",
    "        if len(balcao_bar) > 0:\n",
    "            lista_saida = []\n",
    "            for cliente in balcao_bar:\n",
    "                if i >= cliente[2]:\n",
    "                    lista_saida.append(cliente)\n",
    "            for cliente in lista_saida:\n",
    "                n_cliente_atendido += 1\n",
    "                balcao_bar.pop(balcao_bar.index(cliente))\n",
    "\n",
    "        # MODELANDO DESISTENCIA DA FILA\n",
    "        if len(fila) > 0:\n",
    "            lista_desiste = []\n",
    "            for cliente in fila:\n",
    "                if rv_abandono.rvs() == 1:\n",
    "                    lista_desiste.append(cliente)\n",
    "            for cliente in lista_desiste:\n",
    "                n_abandono += 1\n",
    "                fila.pop(fila.index(cliente))\n",
    "\n",
    "        tx_ocup.append(len(balcao_bar)/TAMANHO_BALCAO)\n",
    "        \n",
    "    return (n_cliente, n_cliente_atendido, n_abandono, np.mean(tx_ocup), tam_balcao)"
   ]
  },
  {
   "cell_type": "code",
   "execution_count": null,
   "metadata": {},
   "outputs": [],
   "source": [
    "lista_resultados = []\n",
    "for it in range(500):\n",
    "    lista_resultados.append(simular_bar(10))\n",
    "\n"
   ]
  },
  {
   "cell_type": "code",
   "execution_count": null,
   "metadata": {},
   "outputs": [],
   "source": [
    "tb_resultados = pd.DataFrame(lista_resultados, columns = ['n_clientes', 'n_atendido', 'n_abandono', 'tx_ocup', 'tam_balcao'])\n",
    "fig, ax = plt.subplots(2, 2, figsize=(10,10))\n",
    "sns.boxplot(data = tb_resultados, y = 'n_clientes', ax = ax[0][0])\n",
    "sns.boxplot(data = tb_resultados, y = 'n_atendido', ax = ax[0][1])\n",
    "sns.boxplot(data = tb_resultados, y = 'n_abandono', ax = ax[1][0])\n",
    "sns.boxplot(data = tb_resultados, y = 'tx_ocup', ax = ax[1][1])\n"
   ]
  },
  {
   "cell_type": "code",
   "execution_count": 11,
   "metadata": {},
   "outputs": [],
   "source": [
    "pool = Pool(processes=cpu_count() - 1)\n",
    "lista_balcoes = [10] * 500 + [15] * 500\n",
    "lista_resultados = pool.map(simular_bar, lista_balcoes)"
   ]
  },
  {
   "cell_type": "code",
   "execution_count": 12,
   "metadata": {},
   "outputs": [
    {
     "data": {
      "text/plain": [
       "<AxesSubplot: xlabel='tam_balcao', ylabel='tx_ocup'>"
      ]
     },
     "execution_count": 12,
     "metadata": {},
     "output_type": "execute_result"
    },
    {
     "data": {
      "image/png": "[encoded data removed]",
      "text/plain": [
       "<Figure size 1000x1000 with 4 Axes>"
      ]
     },
     "metadata": {},
     "output_type": "display_data"
    }
   ],
   "source": [
    "tb_resultados = pd.DataFrame(lista_resultados, columns = ['n_clientes', 'n_atendido', 'n_abandono', 'tx_ocup', 'tam_balcao'])\n",
    "\n",
    "fig, ax = plt.subplots(2, 2, figsize=(10,10))\n",
    "sns.boxplot(data = tb_resultados, y = 'n_clientes', x = 'tam_balcao', ax = ax[0][0])\n",
    "sns.boxplot(data = tb_resultados, y = 'n_atendido', x = 'tam_balcao', ax = ax[0][1])\n",
    "sns.boxplot(data = tb_resultados, y = 'n_abandono', x = 'tam_balcao', ax = ax[1][0])\n",
    "sns.boxplot(data = tb_resultados, y = 'tx_ocup', x = 'tam_balcao', ax = ax[1][1])\n"
   ]
  },
  {
   "cell_type": "markdown",
   "metadata": {},
   "source": [
    "# Case II - Planejamento de Plantio\n",
    "\n",
    "**Você trabalha em uma indústria de sementes multi-nacional e foi encarregado de estimar o risco da produção de sementes de uma variedade específica para safra 2023.**\n",
    "\n",
    "A última etapa da produção de sementes é terceirizada: as diferentes variedades são enviadas para fazendeiros, que realizam o plantio, multiplicação e colheita do produto final.\n",
    "\n",
    "Todo ano é necessário **alocar a produção das diferentes variedades entre os diferentes produtores**. Infelizmente, a **produção agrícola é repleta de riscos** - o que leva a produção de sementes a ser, muitos anos, menor que a demanda por sementes!\n",
    "\n",
    "O **time de agronomia trabalhou para construir estimativas** de risco de produção levando em conta fatores qualitativos (localização do produtor, capital por ha., capacidade técnica...). Os **riscos estimados por produtos contém as informações abaixo**:\n",
    "\n",
    "- Média e desvio padrão da produtividade (em sacas de semente/ha);\n",
    "- Risco de Perda (probabilidade de perder toda produção);\n",
    "- Área Disponível para Plantio (em ha);\n",
    "\n",
    "**A meta para Safra de 2023 é 2000 Sacas de Semente de Soja**.\n",
    "\n",
    "Você foi encarregado de simular diferentes cenários para diferentes alocações de produção e calcular o risco associado a cada cenário - precisamos saber qual a **probabilidade de cada alocação produzir 20% a mais ou a menos que a meta** (2000 sacas)."
   ]
  },
  {
   "cell_type": "code",
   "execution_count": null,
   "metadata": {},
   "outputs": [],
   "source": [
    "produtor_a = [25, 2, 0.05, 5]\n",
    "produtor_b = [40, 15, 0.1, 25]\n",
    "produtor_c = [12, 1, 0.005, 50]\n",
    "produtor_d = [50, 3, 0.15, 30]\n",
    "produtores = [produtor_a, produtor_b, produtor_c, produtor_d]\n",
    "tb_produtores = pd.DataFrame(produtores, columns=['mu_prod', 'sd_prod', 'per_perda', 'area_disp'])\n",
    "tb_produtores"
   ]
  },
  {
   "cell_type": "code",
   "execution_count": null,
   "metadata": {},
   "outputs": [],
   "source": [
    "cenario_a = [5, 20, 5, 20]\n",
    "cenario_b = [1, 25, 50, 8]\n",
    "cenario_c = [3, 22, 40, 12]\n",
    "cenario_d = [2, 15, 50, 15]\n",
    "cenarios = [cenario_a, cenario_b, cenario_c, cenario_d]\n",
    "tb_cenarios = pd.DataFrame(cenarios, columns = ['aloc_A', 'aloc_B', 'aloc_C', 'aloc_D'])\n",
    "tb_cenarios"
   ]
  },
  {
   "cell_type": "code",
   "execution_count": null,
   "metadata": {},
   "outputs": [],
   "source": [
    "# SEU CÓDIGO AQUI!"
   ]
  },
  {
   "cell_type": "markdown",
   "metadata": {},
   "source": [
    "## Desafio\n",
    "\n",
    "Encontre a alocação com menor risco possível, respeitando o limite de produtividade de cada agricultor."
   ]
  },
  {
   "cell_type": "code",
   "execution_count": null,
   "metadata": {},
   "outputs": [],
   "source": [
    "# SEU CÓDIGO AQUI!"
   ]
  }
 ],
 "metadata": {
  "kernelspec": {
   "display_name": "Python 3 (ipykernel)",
   "language": "python",
   "name": "python3"
  },
  "language_info": {
   "codemirror_mode": {
    "name": "ipython",
    "version": 3
   },
   "file_extension": ".py",
   "mimetype": "text/x-python",
   "name": "python",
   "nbconvert_exporter": "python",
   "pygments_lexer": "ipython3",
   "version": "3.9.13"
  },
  "toc": {
   "base_numbering": 1,
   "nav_menu": {},
   "number_sections": true,
   "sideBar": true,
   "skip_h1_title": false,
   "title_cell": "Table of Contents",
   "title_sidebar": "Contents",
   "toc_cell": false,
   "toc_position": {},
   "toc_section_display": true,
   "toc_window_display": false
  },
  "vscode": {
   "interpreter": {
    "hash": "014f4a4a5af8f0104b12c029e500f4146d6d785e8cf714d2a35b7a9514230cd3"
   }
  }
 },
 "nbformat": 4,
 "nbformat_minor": 2
}
