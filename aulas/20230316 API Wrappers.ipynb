{
 "cells": [
  {
   "cell_type": "code",
   "execution_count": null,
   "metadata": {},
   "outputs": [],
   "source": [
    "import pandas as pd\n",
    "import numpy as np\n",
    "import sqlalchemy as sa"
   ]
  },
  {
   "cell_type": "code",
   "execution_count": null,
   "metadata": {},
   "outputs": [],
   "source": [
    "def read_sql(query, engine):\n",
    "    with engine.begin() as conn:\n",
    "        results = pd.read_sql_query(sa.text(query), conn)\n",
    "    return results\n",
    "    \n",
    "def execute_sql(query, engine):\n",
    "    with engine.begin() as conn:\n",
    "        results = conn.execute(\n",
    "            sa.text(query)\n",
    "            )\n",
    "    return results"
   ]
  },
  {
   "cell_type": "markdown",
   "metadata": {},
   "source": [
    "# API Wrappers\n",
    "\n",
    "No final da última aula vimos como construir um **wrapper** para uma API: uma classe que nos permite encapsular as etapas de autenticação e acesso à uma API. **Wrappers** nos permitem *abstrair* as camadas de conexão (como nosso script se comunicará com a API) das camadas de dados (o que vamos extrair de informação). Essa separação facilita a construção de códigos mais robustos - tanto à alterações na estrutura da API (simplificando o processo de atualização da camada de conexão) quanto aos requisitos de dados (simplificando o processo de alterações nos dados que extraímos).\n",
    "\n",
    "Muitas APIs contém **wrappers** pré-implementados através de bibliotecas, nos liberando para focar na extração e manipulação de dados e não na camada de conexão! Hoje veremos uma aplicação desenvolvida a partir do **wrapper** `spotipy` - uma biblioteca que facilita a conexão e extração de dados da plataforma de streaming **Spotify**.\n",
    "\n",
    "Alguns wrappers interessantes:\n",
    "\n",
    "* [Dados Abertos Brasil](https://pypi.org/project/DadosAbertosBrasil/)\n",
    "* [Dados Econômicos World Bank](https://pypi.org/project/wbgapi/)\n",
    "* [Meteostat para Dados Metereológicos](https://github.com/meteostat/meteostat-python)\n",
    "* [Yahoo! Finace](https://pypi.org/project/yfinance/)\n",
    "* [Lista extensiva de Wrappers Python](https://github.com/realpython/list-of-python-api-wrappers) para encontrar outros wrappers interessantes.\n",
    "\n",
    "Existem inúmeros wrappers pré-construídos - caso você deseje encontrar um wrapper para uma API específica seu melhor amigo será o Google (`python API nome_da_api`)!\n",
    "\n",
    "## Lidando com autenticação\n",
    "\n",
    "Como vimos na aula passada, o acesso à muitas APIs é autenticado. É uma boa idéia separar as chaves de autenticação, por exemplo um `token`, do nosso código Python: se tornarmos nosso código público, via GitHub por exemplo, não queremos que outras pessoas utilizem nossas credenciais para acessar uma API!\n",
    "\n",
    "Podemos utilizar a biblioteca `dotenv` para *esconder* nossas chaves em um arquivo a parte do nosso código:\n",
    "\n",
    "- Instale a biblioteca usando `!pip install dotenv` (ou `!pip install python-dotenv`)\n",
    "- Crie um arquivo texto com a extensão `.env` na mesma pasta que o seu código Python\n",
    "- Insira as as suas chaves de autenticação utilizando a notação abaixo:\n",
    "```\n",
    "API_KEY=\"l1noPOPAixCPM\"\n",
    "API_SECRET=\"GraGq0zrGhs1qvbA0xQXsZBKuTkK5MJ\"\n",
    "```\n",
    "- Utilize a função `dotenv.load_dotenv('nome_do_seu_arquivo.env')`\n",
    "- Agora podemos utilizar a biblioteca `os` para recuperar as variáveis escritas no arquivo utilizando `os.getenv('API_KEY')`\n",
    "\n",
    "A idéia por trás desse procedimento é que podemos armazenar nossas chaves em um arquivo separado do nosso código. Agora podemos adicionar o arquivo `.env` ao nosso `.gitignore` para que ele não seja sincronizado com nosso repositório!"
   ]
  },
  {
   "cell_type": "code",
   "execution_count": null,
   "metadata": {},
   "outputs": [],
   "source": [
    "!pip install python-dotenv"
   ]
  },
  {
   "cell_type": "code",
   "execution_count": null,
   "metadata": {},
   "outputs": [],
   "source": [
    "import os\n",
    "from dotenv import load_dotenv"
   ]
  },
  {
   "cell_type": "markdown",
   "metadata": {},
   "source": [
    "Agora vamos carregar o arquivo `exemplo_aula.env` e verificar que a variável `API_KEY` foi carregada corretamente:"
   ]
  },
  {
   "cell_type": "code",
   "execution_count": null,
   "metadata": {},
   "outputs": [],
   "source": [
    "load_dotenv('credentials/exemplo_aula.env')"
   ]
  },
  {
   "cell_type": "code",
   "execution_count": null,
   "metadata": {},
   "outputs": [],
   "source": [
    "print(os.getenv('api_secret'))"
   ]
  },
  {
   "cell_type": "markdown",
   "metadata": {},
   "source": [
    "# Spotipy\n",
    "\n",
    "Para vermos como wrapper funcionam utilizaremos a biblioteca `spotipy`, que funciona como **wrapper para o Spotify**.\n",
    "\n",
    "A maior parte dos **wrappers** não fazem parte da instalação padrão do Anaconda, logo precisamos instalá-la utilizando `!pip`."
   ]
  },
  {
   "cell_type": "code",
   "execution_count": null,
   "metadata": {},
   "outputs": [],
   "source": [
    "!pip install spotipy"
   ]
  },
  {
   "cell_type": "markdown",
   "metadata": {},
   "source": [
    "Além da própria biblioteca, vamos importar a classe `SpotifyClientCredentials` para fazer a autenticação na API do Spotify."
   ]
  },
  {
   "cell_type": "code",
   "execution_count": null,
   "metadata": {},
   "outputs": [],
   "source": [
    "import spotipy\n",
    "from spotipy.oauth2 import SpotifyClientCredentials"
   ]
  },
  {
   "cell_type": "markdown",
   "metadata": {},
   "source": [
    "## Definindo o Problema\n",
    "\n",
    "Antes de mergulharmos na biblioteca `spotipy`, vamos entender o que queremos fazer com os dados desta API.\n",
    "\n",
    "Além de fornecer dados sobre a popularidade de artistas, músicas mais tocadas, etc, a API do Spotify fornece dados quantitativos sobre as músicas disponíveis no serviço de streaming. Essas informações são chamadas de *Audio Features*.\n",
    "\n",
    "Para entender o que são as *Audio Features* devemos ler a (extensa) [documentação](https://developer.spotify.com/documentation/web-api/reference/#/operations/get-several-audio-features) da API.\n",
    "\n",
    "Nosso objetivo é utilizar essas informações (disponíveis por faixa) para quantificar e diferenciar festivais musicais acontencedo no verão de 2022 na Europa. O primeiro passo é carregar uma tabela com os dados de *headliners* para cada festival:"
   ]
  },
  {
   "cell_type": "code",
   "execution_count": null,
   "metadata": {},
   "outputs": [],
   "source": [
    "import pandas as pd\n",
    "\n",
    "def read_from_gsheets(spreadsheet_link):\n",
    "    \"\"\"\n",
    "    Transform Google Sheets URL into a CSV file\n",
    "    \"\"\"\n",
    "    working_spreadsheet = spreadsheet_link.replace(\n",
    "        \"/edit?usp=sharing\", \"/export?format=csv\"\n",
    "    )\n",
    "\n",
    "    return pd.read_csv(working_spreadsheet)\n"
   ]
  },
  {
   "cell_type": "code",
   "execution_count": null,
   "metadata": {},
   "outputs": [],
   "source": [
    "tb_festivals = read_from_gsheets(\n",
    "    \"https://docs.google.com/spreadsheets/d/1aUiwstZKEENiw3KAT1CCCXcji1iLWdCL_HwngvLxzJc/edit?usp=sharing\"\n",
    ")\n",
    "tb_festivals.head(10)\n"
   ]
  },
  {
   "cell_type": "markdown",
   "metadata": {},
   "source": [
    "## Conectando ao Spotify\n",
    "\n",
    "Para nos conectarmos com a API do Spotify precisamos criar um par de `CLIENT_ID` e `CLIENT_SECRET`. Podemos fazer isso através do dashboard de desenvolvedor do Spotify: https://developer.spotify.com.\n",
    "\n",
    "Vamos guardar o par de chaves criado em um arquivo `.env` e carrega-lo utilizando a função `load_dotenv`:"
   ]
  },
  {
   "cell_type": "code",
   "execution_count": null,
   "metadata": {},
   "outputs": [],
   "source": [
    "load_dotenv('credentials/spotify.env')"
   ]
  },
  {
   "cell_type": "markdown",
   "metadata": {},
   "source": [
    "Agora vamos utilizar a classe `SpotifyClientCredentials` para criar o gerenciador de autenticação da API. Utilizando este gerenciador, podemos inicializar a conexão com a API utilizando a classe `spotipy.Spotify`:"
   ]
  },
  {
   "cell_type": "code",
   "execution_count": null,
   "metadata": {},
   "outputs": [],
   "source": [
    "auth_manager = SpotifyClientCredentials(\n",
    "    client_id=os.getenv('CLIENT_ID'), \n",
    "    client_secret=os.getenv('CLIENT_SECRET')\n",
    ")\n",
    "spotify = spotipy.Spotify(client_credentials_manager=auth_manager)"
   ]
  },
  {
   "cell_type": "markdown",
   "metadata": {},
   "source": [
    "### Investigando Audio Features\n",
    "\n",
    "Vamos investigar o que são os *audio features* de algumas músicas para entender como extrair essa informação.\n",
    "\n",
    "Inicialmente, precisamos do *url* de cada faixa no Spotify:"
   ]
  },
  {
   "cell_type": "code",
   "execution_count": null,
   "metadata": {},
   "outputs": [],
   "source": [
    "dict_songs = {\n",
    "    \"kate_bush\": \"https://open.spotify.com/track/75FEaRjZTKLhTrFGsfMUXR?si=26398bff72014b5a\",\n",
    "    \"slayer\": \"https://open.spotify.com/track/4fiOTntQKr24p07FvQDHZE?si=148a03ca6ba844fb\",\n",
    "    \"nin\": \"https://open.spotify.com/track/27tX58NOpv1YKQ0abW7EPy?si=09484ca5e58d454a\",\n",
    "    \"cardi_b\": \"https://open.spotify.com/track/58q2HKrzhC3ozto2nDdN4z?si=6f755b3e29d841ad\",\n",
    "}\n"
   ]
  },
  {
   "cell_type": "markdown",
   "metadata": {},
   "source": [
    "Agora vamos utilizar o método `audio_features` para extrair, a partir de um URL de faixa do Spotify, os dados de uma música específica:"
   ]
  },
  {
   "cell_type": "code",
   "execution_count": null,
   "metadata": {},
   "outputs": [],
   "source": [
    "spotify.audio_features(dict_songs[\"kate_bush\"])"
   ]
  },
  {
   "cell_type": "markdown",
   "metadata": {},
   "source": [
    "## Conectando **Festivais** à **Audio Features**\n",
    "\n",
    "Agora que vimos como extrair *audio features* a partir de um URI de faixa, vamos mapear o caminho que utilizaremos para conectar nossa tabela de *headliners* aos *audio features*.\n",
    "\n",
    "Precisamos *sair* de uma tabela de **nomes de artista** para o **URI de faixa** para algumas faixas de cada artista. O primeiro passo então é buscar informações sobre o artista a partir do nome deste!\n",
    "\n",
    "### Extraindo Artistas\n",
    "\n",
    "Para buscar *strings* na API do Spotify podemos utilizar o método `.search()`. Vamos utilizar este método para buscar um artista específico e investigar os resultados."
   ]
  },
  {
   "cell_type": "code",
   "execution_count": null,
   "metadata": {},
   "outputs": [],
   "source": [
    "search_result = spotify.search(q=\"Cardi B\", type=\"artist\")\n",
    "print(search_result)"
   ]
  },
  {
   "cell_type": "markdown",
   "metadata": {},
   "source": [
    "Um dicionário bem complexo... Podemos tentar tratar esse dicionário utilizando a função `json_normalize()` da biblioteca Pandas:"
   ]
  },
  {
   "cell_type": "code",
   "execution_count": null,
   "metadata": {},
   "outputs": [],
   "source": [
    "pd.json_normalize(search_result)"
   ]
  },
  {
   "cell_type": "markdown",
   "metadata": {},
   "source": [
    "Obviamente o resultado não foi o esperado... Precisamos investigar mais diretamente o resultado do método:"
   ]
  },
  {
   "cell_type": "code",
   "execution_count": null,
   "metadata": {},
   "outputs": [],
   "source": [
    "search_result.keys()"
   ]
  },
  {
   "cell_type": "code",
   "execution_count": null,
   "metadata": {},
   "outputs": [],
   "source": [
    "search_result['artists'].keys()"
   ]
  },
  {
   "cell_type": "code",
   "execution_count": null,
   "metadata": {},
   "outputs": [],
   "source": [
    "search_result['artists']['items'][0]"
   ]
  },
  {
   "cell_type": "markdown",
   "metadata": {},
   "source": [
    "Com o URI em mãos, podemos utilizar o método `.artist()` para trazer apenas um artista específico:"
   ]
  },
  {
   "cell_type": "code",
   "execution_count": null,
   "metadata": {},
   "outputs": [],
   "source": [
    "dict_cardib = search_result['artists']['items'][0]\n",
    "dict_cardib"
   ]
  },
  {
   "cell_type": "code",
   "execution_count": null,
   "metadata": {},
   "outputs": [],
   "source": [
    "spotify.artist(dict_cardib['uri'])"
   ]
  },
  {
   "cell_type": "markdown",
   "metadata": {},
   "source": [
    "### Extraindo Faixas\n",
    "\n",
    "Agora precisamos transformar o URI de artista em um conjunto de faixas. Como extrair todas as músicas de um dado artista pode demorar muito, vamos utilizar o método `.artist_top_tracks()` para extrair dados das 10 maiores músicas de cada artista:"
   ]
  },
  {
   "cell_type": "code",
   "execution_count": null,
   "metadata": {},
   "outputs": [],
   "source": [
    "top_10_tracks = spotify.artist_top_tracks(dict_cardib['uri'])\n",
    "top_10_tracks"
   ]
  },
  {
   "cell_type": "markdown",
   "metadata": {},
   "source": [
    "Outro dicionário complexo... Novamente, tentemos trata-lo utilizando `json_normalize()`"
   ]
  },
  {
   "cell_type": "code",
   "execution_count": null,
   "metadata": {},
   "outputs": [],
   "source": [
    "pd.json_normalize(top_10_tracks)"
   ]
  },
  {
   "cell_type": "markdown",
   "metadata": {},
   "source": [
    "Novamente, não é o resultado esperado..."
   ]
  },
  {
   "cell_type": "code",
   "execution_count": null,
   "metadata": {},
   "outputs": [],
   "source": [
    "top_10_tracks.keys()"
   ]
  },
  {
   "cell_type": "code",
   "execution_count": null,
   "metadata": {},
   "outputs": [],
   "source": [
    "type(top_10_tracks['tracks'])"
   ]
  },
  {
   "cell_type": "code",
   "execution_count": null,
   "metadata": {},
   "outputs": [],
   "source": [
    "len(top_10_tracks['tracks'])"
   ]
  },
  {
   "cell_type": "code",
   "execution_count": null,
   "metadata": {},
   "outputs": [],
   "source": [
    "top_10_tracks['tracks'][0].keys()"
   ]
  },
  {
   "cell_type": "code",
   "execution_count": null,
   "metadata": {},
   "outputs": [],
   "source": [
    "top_10_tracks['tracks'][0]"
   ]
  },
  {
   "cell_type": "code",
   "execution_count": null,
   "metadata": {},
   "outputs": [],
   "source": [
    "[track['name'] for track in top_10_tracks['tracks']]"
   ]
  },
  {
   "cell_type": "code",
   "execution_count": null,
   "metadata": {},
   "outputs": [],
   "source": [
    "[track['uri'] for track in top_10_tracks['tracks']]"
   ]
  },
  {
   "cell_type": "code",
   "execution_count": null,
   "metadata": {},
   "outputs": [],
   "source": [
    "top10_cardib_uri = [track['uri'] for track in top_10_tracks['tracks']]"
   ]
  },
  {
   "cell_type": "code",
   "execution_count": null,
   "metadata": {},
   "outputs": [],
   "source": [
    "top10_cardib_uri"
   ]
  },
  {
   "cell_type": "markdown",
   "metadata": {},
   "source": [
    "### Extraindo Audio Features\n",
    "\n",
    "Agora, com o URI de cada uma das 10 maiores músicas de um artista, podemos utilizar o método `.audio_features()` para extrair os *audio features* de cada uma dessas músicas:"
   ]
  },
  {
   "cell_type": "code",
   "execution_count": null,
   "metadata": {},
   "outputs": [],
   "source": [
    "spotify.audio_features(top10_cardib_uri[3])"
   ]
  },
  {
   "cell_type": "markdown",
   "metadata": {},
   "source": [
    "## Construindo nosso DB\n",
    "\n",
    "Para construir um DB que possa responder nossa pergunta original, precisamos:\n",
    "\n",
    "1. Consolidar os métodos que analisamos nas etapas anteriores;\n",
    "1. Determinar quais **entidades** nosso banco representará;\n",
    "1. Escrever o código para extrair as informações necessárias e carrega-la no DB.\n",
    "\n",
    "Podemos estruturar nosso DB ao longo de 3 tabelas:\n",
    "\n",
    "1. **`headliner`**: tabela com a relação entre festivais e artistas;\n",
    "1. **`artist`**: tabela com informação de artistas;\n",
    "1. **`track`**: tabela com Audio Features (e outras informações de faixa).\n",
    "\n",
    "Antes de mais nada vamos nos conectar ao nosso DB:"
   ]
  },
  {
   "cell_type": "code",
   "execution_count": null,
   "metadata": {},
   "outputs": [],
   "source": [
    "import sqlalchemy as sa\n",
    "load_dotenv('credentials/mysql.env')\n",
    "url_banco = \"localhost\"\n",
    "nome_db = \"spotify\"\n",
    "conn_str = f\"mysql+pymysql://{os.getenv('MYSQL_USER')}:{os.getenv('MYSQL_PASS')}@{url_banco}/{nome_db}\"\n",
    "engine = sa.create_engine(conn_str)\n",
    "\n",
    "tb_festivals.to_sql('fiifoofuu', engine, index = False, if_exists = 'replace')"
   ]
  },
  {
   "cell_type": "markdown",
   "metadata": {},
   "source": [
    "### Tabela `headliner`\n",
    "\n",
    "A tabela `headliner` deve conter as informações de quais artistas vão tocar em quais festivais. Poderíamos utilizar a tabela que carregamos do Google Sheets diretamente, mas isso faria o cruzamento entre **headliner** e **artist** pelo nome do artista (que pode ser frágil).\n",
    "\n",
    "Vamos utilizar a API do Spotify para enriquecer a nossa tabela original com os URIs de cada artista:"
   ]
  },
  {
   "cell_type": "code",
   "execution_count": null,
   "metadata": {},
   "outputs": [],
   "source": [
    "tb_festivals.head()"
   ]
  },
  {
   "cell_type": "code",
   "execution_count": null,
   "metadata": {},
   "outputs": [],
   "source": [
    "array_headliner = tb_festivals['headliners'].unique()\n",
    "array_headliner[0:10]"
   ]
  },
  {
   "cell_type": "markdown",
   "metadata": {},
   "source": [
    "Agora, precisamos criar um loop percorrendo nosso array de artistas extraindo o URI de cada um:"
   ]
  },
  {
   "cell_type": "code",
   "execution_count": null,
   "metadata": {},
   "outputs": [],
   "source": [
    "dict_uri = dict()\n",
    "for artista in array_headliner:\n",
    "    try:\n",
    "        search_result = spotify.search(q=artista, type=\"artist\")\n",
    "        dict_uri[artista] = search_result['artists']['items'][0]['uri']\n",
    "    except IndexError as e:\n",
    "        dict_uri[artista] = np.nan"
   ]
  },
  {
   "cell_type": "code",
   "execution_count": null,
   "metadata": {},
   "outputs": [],
   "source": [
    "dict_uri"
   ]
  },
  {
   "cell_type": "code",
   "execution_count": null,
   "metadata": {},
   "outputs": [],
   "source": [
    "tb_festivals['artist_uri'] = tb_festivals['headliners'].map(dict_uri)\n",
    "tb_festivals.head()"
   ]
  },
  {
   "cell_type": "code",
   "execution_count": null,
   "metadata": {},
   "outputs": [],
   "source": [
    "tb_festivals.to_sql('headliner', engine, index = False, if_exists = 'replace')"
   ]
  },
  {
   "cell_type": "markdown",
   "metadata": {},
   "source": [
    "### Tabela `artist`\n",
    "\n",
    "A tabela `artist` deve conter informações dos artistas presentes na tabela `headliner`. Vamos começar selecionando apenas os URIs distintos da tabela `headliner`:"
   ]
  },
  {
   "cell_type": "code",
   "execution_count": null,
   "metadata": {},
   "outputs": [],
   "source": [
    "artist_uri = engine.execute('SELECT DISTINCT artist_uri FROM headliner').fetchall()\n",
    "artist_uri"
   ]
  },
  {
   "cell_type": "code",
   "execution_count": null,
   "metadata": {},
   "outputs": [],
   "source": [
    "len(artist_uri)"
   ]
  },
  {
   "cell_type": "markdown",
   "metadata": {},
   "source": [
    "Utilizaremos mais um loop para extrair os dados relevantes (desempacotar o `dict`) de cada artista, guardando o resultando em uma lista:"
   ]
  },
  {
   "cell_type": "code",
   "execution_count": null,
   "metadata": {},
   "outputs": [],
   "source": [
    "dados_artista = []\n",
    "for artista in artist_uri:\n",
    "    search_result = spotify.artist(artista[0])\n",
    "    dados_artista.append(\n",
    "        (\n",
    "            search_result['uri'],\n",
    "            search_result['name'],\n",
    "            search_result['popularity'],\n",
    "            search_result['followers']['total']\n",
    "        )\n",
    "    )\n",
    "dados_artista[0:5]"
   ]
  },
  {
   "cell_type": "code",
   "execution_count": null,
   "metadata": {},
   "outputs": [],
   "source": [
    "nomes_colunas = ['artist_uri', 'artist_name', 'popularity', 'followers']\n",
    "tb_artista = pd.DataFrame(dados_artista, \n",
    "                          columns = nomes_colunas)\n",
    "tb_artista.head()"
   ]
  },
  {
   "cell_type": "code",
   "execution_count": null,
   "metadata": {},
   "outputs": [],
   "source": [
    "tb_artista.to_sql('artist', engine, index = False, if_exists = 'replace')"
   ]
  },
  {
   "cell_type": "markdown",
   "metadata": {},
   "source": [
    "### Tabela `tracks`\n",
    "\n",
    "Agora, com os URIs de cada artista, podemos utilizar os métodos `.artist_top_tracks()` e `.audio_features()` para extrair as informações de cada faixa (tanto informações gerais, como o nome, quanto os *audio features* em si):"
   ]
  },
  {
   "cell_type": "code",
   "execution_count": null,
   "metadata": {},
   "outputs": [],
   "source": [
    "top_10_tracks = spotify.artist_top_tracks('spotify:artist:0C0XlULifJtAgn6ZNCW2eu')\n",
    "top_10_tracks"
   ]
  },
  {
   "cell_type": "markdown",
   "metadata": {},
   "source": [
    "Vamos investigar o resultado da API - lembrando que nosso objetivo é encontrar o **URI** de cada uma das 10 maiores músicas de cada artista:"
   ]
  },
  {
   "cell_type": "code",
   "execution_count": null,
   "metadata": {},
   "outputs": [],
   "source": [
    "# EXERCICIO\n",
    "top_10_tracks"
   ]
  },
  {
   "cell_type": "markdown",
   "metadata": {},
   "source": [
    "Depois que encontramos o **URI** podemos usar a função `audio_features()` para extrair as *audio features* de cada música do top 10 de cada artista:"
   ]
  },
  {
   "cell_type": "code",
   "execution_count": null,
   "metadata": {},
   "outputs": [],
   "source": [
    "spotify.audio_features(top_10_tracks['tracks'][0]['uri'])"
   ]
  },
  {
   "cell_type": "markdown",
   "metadata": {},
   "source": [
    "Agora estamos prontos para construir um loop para percorrer todos os nossos artisitas, extrair suas 10 faixas mais importantes e extrair a informação relativa à cada uma destas:"
   ]
  },
  {
   "cell_type": "code",
   "execution_count": null,
   "metadata": {},
   "outputs": [],
   "source": [
    "track_data = []\n",
    "\n",
    "for artist in artist_uri:\n",
    "    top_tracks = spotify.artist_top_tracks(artist[0])\n",
    "    for track in top_tracks['tracks']:\n",
    "        track_au = spotify.audio_features(track['uri'])[0]\n",
    "        track_au['name'] = track['name']\n",
    "        track_au['popularity'] = track['popularity']\n",
    "        track_au['explicit'] = track['explicit']\n",
    "        track_au['artist_uri'] = artist[0]\n",
    "        track_data.append(track_au)"
   ]
  },
  {
   "cell_type": "code",
   "execution_count": null,
   "metadata": {},
   "outputs": [],
   "source": [
    "tb_tracks = pd.DataFrame(track_data)\n",
    "tb_tracks.head()"
   ]
  },
  {
   "cell_type": "code",
   "execution_count": null,
   "metadata": {},
   "outputs": [],
   "source": [
    "tb_tracks.to_sql('track', engine, index = False, if_exists = 'replace')"
   ]
  },
  {
   "cell_type": "markdown",
   "metadata": {},
   "source": [
    "## Usando nosso DB"
   ]
  },
  {
   "cell_type": "code",
   "execution_count": null,
   "metadata": {
    "scrolled": true
   },
   "outputs": [],
   "source": [
    "query_festival = '''\n",
    "    SELECT\n",
    "        h.festival,\n",
    "        AVG(t.valence) AS feliz,\n",
    "        AVG(t.energy) AS energia,\n",
    "        AVG(t.danceability) AS dancavel,\n",
    "        AVG(a.popularity) AS pop,\n",
    "        AVG(a.followers) AS seguidores\n",
    "    FROM \n",
    "        headliner h JOIN\n",
    "        artist a ON (h.artist_uri = a.artist_uri) JOIN\n",
    "        track t ON (a.artist_uri = t.artist_uri)\n",
    "    GROUP BY\n",
    "        h.festival \n",
    "'''\n",
    "tb_festival_au = pd.read_sql(query_festival, engine)\n",
    "tb_festival_au.head()"
   ]
  },
  {
   "cell_type": "code",
   "execution_count": null,
   "metadata": {},
   "outputs": [],
   "source": [
    "tb_festival_au.sort_values('seguidores', ascending = False).head()"
   ]
  }
 ],
 "metadata": {
  "kernelspec": {
   "display_name": "Python 3 (ipykernel)",
   "language": "python",
   "name": "python3"
  },
  "language_info": {
   "codemirror_mode": {
    "name": "ipython",
    "version": 3
   },
   "file_extension": ".py",
   "mimetype": "text/x-python",
   "name": "python",
   "nbconvert_exporter": "python",
   "pygments_lexer": "ipython3",
   "version": "3.9.13"
  },
  "toc": {
   "base_numbering": 1,
   "nav_menu": {},
   "number_sections": true,
   "sideBar": true,
   "skip_h1_title": false,
   "title_cell": "Table of Contents",
   "title_sidebar": "Contents",
   "toc_cell": false,
   "toc_position": {},
   "toc_section_display": true,
   "toc_window_display": false
  },
  "vscode": {
   "interpreter": {
    "hash": "014f4a4a5af8f0104b12c029e500f4146d6d785e8cf714d2a35b7a9514230cd3"
   }
  }
 },
 "nbformat": 4,
 "nbformat_minor": 2
}
