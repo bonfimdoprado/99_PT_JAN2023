{
 "cells": [
  {
   "cell_type": "markdown",
   "metadata": {},
   "source": [
    "# APIs\n",
    "\n",
    "APIs são mecanismos que permitem que dois componentes de software se comuniquem usando um conjunto de definições e protocolos. Por exemplo, o sistema de software do instituto meteorológico contém dados meteorológicos diários. O aplicativo meteorológico em seu telefone “fala” com este sistema por meio de APIs e mostra atualizações meteorológicas diárias no telefone.\n",
    "\n",
    "API significa Application Programming Interface (Interface de Programação de Aplicação). No contexto de APIs, a palavra Aplicação refere-se a qualquer software com uma função distinta. A interface pode ser pensada como um contrato de serviço entre duas aplicações. Esse contrato define como as duas se comunicam usando solicitações e respostas. A documentação de suas respectivas APIs contém informações sobre como os desenvolvedores devem estruturar essas solicitações e respostas.\n",
    "\n",
    "![image.png](images/api.jpeg)\n",
    "\n",
    "`client`: O cliente\n",
    "\n",
    "`api`: O garçom\n",
    "\n",
    "`o serviço (banco de dados, web application, twitter, spotify)`: O pizzaiolo\n",
    "\n",
    "# Web APIs\n",
    "\n",
    "## Some Examples\n",
    "\n",
    "### API endpoints\n",
    "\n",
    "**NASA API**: http://api.open-notify.org/\n",
    "- http://api.open-notify.org/iss-now.json\n",
    "    - Documentation: http://open-notify.org/Open-Notify-API/ISS-Location-Now/\n",
    "\n",
    "**Meme API**\n",
    "\n",
    "- http://apimeme.com/?ref=apilist.fun\n",
    "- http://apimeme.com/meme?meme=Doge&top=Analista&bottom=de_Dados\n",
    "    \n",
    "\n",
    "**Public APIs**\n",
    "\n",
    "- https://github.com/public-apis/public-apis"
   ]
  },
  {
   "cell_type": "markdown",
   "metadata": {},
   "source": [
    "## Acessando APIs via Requests\n",
    "\n",
    "`Requests` é uma biblioteca Python que nos permite interagir com servidores [HTTP](https://en.wikipedia.org/wiki/Hypertext_Transfer_Protocol). Essa biblioteca pode ser utilizada para baixar páginas, arquivos e **interagir com APIs**.\n",
    "\n",
    "\n",
    "\n",
    "[Documentação - requests](https://requests.readthedocs.io)"
   ]
  },
  {
   "cell_type": "code",
   "execution_count": null,
   "metadata": {
    "scrolled": true
   },
   "outputs": [],
   "source": [
    "! pip3 install requests"
   ]
  },
  {
   "cell_type": "code",
   "execution_count": 1,
   "metadata": {
    "ExecuteTime": {
     "end_time": "2022-01-18T22:45:18.436827Z",
     "start_time": "2022-01-18T22:45:18.432829Z"
    }
   },
   "outputs": [],
   "source": [
    "import requests, time"
   ]
  },
  {
   "cell_type": "markdown",
   "metadata": {},
   "source": [
    "### Utilizando `requests`\n",
    "\n",
    "Vamos começar acessando uma API simples que nos permite extrair, a cada 5s, a posição da [ISS](https://en.wikipedia.org/wiki/International_Space_Station).\n",
    "\n",
    "O primeiro passo é descobrir o `endpoint` desta API. O `endpoint` é o URL através do qual acessamos uma API!"
   ]
  },
  {
   "cell_type": "code",
   "execution_count": 2,
   "metadata": {},
   "outputs": [],
   "source": [
    "endpoint = 'http://api.open-notify.org/iss-now.json'"
   ]
  },
  {
   "cell_type": "markdown",
   "metadata": {},
   "source": [
    "Com nosso URL em mãos, podemos utilizar a biblioteca `requests` para extrair a informação da API:"
   ]
  },
  {
   "cell_type": "code",
   "execution_count": 5,
   "metadata": {
    "ExecuteTime": {
     "end_time": "2022-01-18T22:47:39.587516Z",
     "start_time": "2022-01-18T22:47:39.152345Z"
    }
   },
   "outputs": [],
   "source": [
    "response = requests.get(endpoint)"
   ]
  },
  {
   "cell_type": "markdown",
   "metadata": {},
   "source": [
    "O que é o objeto que guardamos na variável `response`?"
   ]
  },
  {
   "cell_type": "code",
   "execution_count": 8,
   "metadata": {
    "ExecuteTime": {
     "end_time": "2022-01-18T22:47:44.233847Z",
     "start_time": "2022-01-18T22:47:44.222876Z"
    }
   },
   "outputs": [
    {
     "data": {
      "text/plain": [
       "<Response [200]>"
      ]
     },
     "execution_count": 8,
     "metadata": {},
     "output_type": "execute_result"
    }
   ],
   "source": [
    "response"
   ]
  },
  {
   "attachments": {},
   "cell_type": "markdown",
   "metadata": {},
   "source": [
    "O objeto é do tipo `response` e ele contém o código HTTP associado ao nosso request:\n",
    "\n",
    "![image.png](images/http_status_codes.jpeg)\n",
    "\n",
    "Com este código podemos saber se a nossa comunicação com o servidor de certo ou não (e porque não deu certo).\n",
    "\n",
    "https://www.tutorialspoint.com/http/http_status_codes.htm\n",
    "\n",
    "Para extrair a informação que a API nos retornou (no caso de um sucesso), podemos utilizar o método `.json()`. "
   ]
  },
  {
   "cell_type": "code",
   "execution_count": 9,
   "metadata": {},
   "outputs": [
    {
     "data": {
      "text/plain": [
       "{'iss_position': {'longitude': '94.7610', 'latitude': '7.1936'},\n",
       " 'message': 'success',\n",
       " 'timestamp': 1678834217}"
      ]
     },
     "execution_count": 9,
     "metadata": {},
     "output_type": "execute_result"
    }
   ],
   "source": [
    "response.json()"
   ]
  },
  {
   "cell_type": "markdown",
   "metadata": {},
   "source": [
    "Como nosso *request* teve sucesso (status 200), o método `.json()` nos retorna o resultado como um dicionário ou uma lista:"
   ]
  },
  {
   "cell_type": "code",
   "execution_count": 10,
   "metadata": {},
   "outputs": [
    {
     "data": {
      "text/plain": [
       "dict"
      ]
     },
     "execution_count": 10,
     "metadata": {},
     "output_type": "execute_result"
    }
   ],
   "source": [
    "resultado = response.json()\n",
    "type(resultado)"
   ]
  },
  {
   "cell_type": "code",
   "execution_count": 17,
   "metadata": {},
   "outputs": [
    {
     "data": {
      "text/plain": [
       "dict_keys(['iss_position', 'message', 'timestamp'])"
      ]
     },
     "execution_count": 17,
     "metadata": {},
     "output_type": "execute_result"
    }
   ],
   "source": [
    "resultado.keys()"
   ]
  },
  {
   "cell_type": "markdown",
   "metadata": {},
   "source": [
    "#### Erros de HTTP\n",
    "\n",
    "Um problema comum ao construirmos scripts que acessam API é a tratativa de erros HTTP. Caso a API não retorne o que esperamos as etapas subsequentes de nosso programa podem falhar. As tratativas de erro HTTP são fundamentais em qualquer programa que tenha extraia informações (seja de uma API, seja via web-scrapping).\n",
    "\n",
    "Vamos simular um erro tentando acessar um endpoint inexistente:"
   ]
  },
  {
   "cell_type": "code",
   "execution_count": 18,
   "metadata": {
    "ExecuteTime": {
     "end_time": "2022-01-18T22:53:22.301544Z",
     "start_time": "2022-01-18T22:53:21.886748Z"
    }
   },
   "outputs": [
    {
     "data": {
      "text/plain": [
       "<Response [404]>"
      ]
     },
     "execution_count": 18,
     "metadata": {},
     "output_type": "execute_result"
    }
   ],
   "source": [
    "response = requests.get('http://api.open-notify.org/coisas_aleatória.json')\n",
    "response"
   ]
  },
  {
   "cell_type": "markdown",
   "metadata": {},
   "source": [
    "Através do objeto `Response` já vemos que o status da execução não é de sucesso: 404 indica um **Client Error**. Podemos utilizar o atributo `.status_code` deste objeto para extrair o código de status diretamente:"
   ]
  },
  {
   "cell_type": "code",
   "execution_count": 21,
   "metadata": {
    "ExecuteTime": {
     "end_time": "2022-01-18T22:53:52.159080Z",
     "start_time": "2022-01-18T22:53:52.146108Z"
    }
   },
   "outputs": [
    {
     "data": {
      "text/plain": [
       "404"
      ]
     },
     "execution_count": 21,
     "metadata": {},
     "output_type": "execute_result"
    }
   ],
   "source": [
    "response.status_code"
   ]
  },
  {
   "cell_type": "code",
   "execution_count": 23,
   "metadata": {},
   "outputs": [
    {
     "data": {
      "text/plain": [
       "True"
      ]
     },
     "execution_count": 23,
     "metadata": {},
     "output_type": "execute_result"
    }
   ],
   "source": [
    "response.status_code == 404"
   ]
  },
  {
   "cell_type": "markdown",
   "metadata": {},
   "source": [
    "Poderíamos tratar os diferentes códigos de status através de condicionais. No entanto, como são muitos códigos diferentes e esta é uma tarefa muito comum, o objeto `Response` contém um método que realiza essa tratativa: `.raise_for_status()`"
   ]
  },
  {
   "cell_type": "code",
   "execution_count": 24,
   "metadata": {
    "ExecuteTime": {
     "end_time": "2022-01-18T22:54:18.417927Z",
     "start_time": "2022-01-18T22:54:18.400975Z"
    }
   },
   "outputs": [
    {
     "ename": "HTTPError",
     "evalue": "404 Client Error: Not Found for url: http://api.open-notify.org/coisas_aleat%C3%B3ria.json",
     "output_type": "error",
     "traceback": [
      "\u001b[0;31m---------------------------------------------------------------------------\u001b[0m",
      "\u001b[0;31mHTTPError\u001b[0m                                 Traceback (most recent call last)",
      "\u001b[0;32m/var/folders/c2/4vv1dtt97gl9bn1lvw8rf0k40000gn/T/ipykernel_17815/2008070275.py\u001b[0m in \u001b[0;36m<module>\u001b[0;34m\u001b[0m\n\u001b[0;32m----> 1\u001b[0;31m \u001b[0mresponse\u001b[0m\u001b[0;34m.\u001b[0m\u001b[0mraise_for_status\u001b[0m\u001b[0;34m(\u001b[0m\u001b[0;34m)\u001b[0m\u001b[0;34m\u001b[0m\u001b[0;34m\u001b[0m\u001b[0m\n\u001b[0m",
      "\u001b[0;32m~/opt/anaconda3/lib/python3.9/site-packages/requests/models.py\u001b[0m in \u001b[0;36mraise_for_status\u001b[0;34m(self)\u001b[0m\n\u001b[1;32m   1019\u001b[0m \u001b[0;34m\u001b[0m\u001b[0m\n\u001b[1;32m   1020\u001b[0m         \u001b[0;32mif\u001b[0m \u001b[0mhttp_error_msg\u001b[0m\u001b[0;34m:\u001b[0m\u001b[0;34m\u001b[0m\u001b[0;34m\u001b[0m\u001b[0m\n\u001b[0;32m-> 1021\u001b[0;31m             \u001b[0;32mraise\u001b[0m \u001b[0mHTTPError\u001b[0m\u001b[0;34m(\u001b[0m\u001b[0mhttp_error_msg\u001b[0m\u001b[0;34m,\u001b[0m \u001b[0mresponse\u001b[0m\u001b[0;34m=\u001b[0m\u001b[0mself\u001b[0m\u001b[0;34m)\u001b[0m\u001b[0;34m\u001b[0m\u001b[0;34m\u001b[0m\u001b[0m\n\u001b[0m\u001b[1;32m   1022\u001b[0m \u001b[0;34m\u001b[0m\u001b[0m\n\u001b[1;32m   1023\u001b[0m     \u001b[0;32mdef\u001b[0m \u001b[0mclose\u001b[0m\u001b[0;34m(\u001b[0m\u001b[0mself\u001b[0m\u001b[0;34m)\u001b[0m\u001b[0;34m:\u001b[0m\u001b[0;34m\u001b[0m\u001b[0;34m\u001b[0m\u001b[0m\n",
      "\u001b[0;31mHTTPError\u001b[0m: 404 Client Error: Not Found for url: http://api.open-notify.org/coisas_aleat%C3%B3ria.json"
     ]
    }
   ],
   "source": [
    "response.raise_for_status()"
   ]
  },
  {
   "cell_type": "markdown",
   "metadata": {},
   "source": [
    "O método `.raise_for_status()` *levanta* um erro toda vez que um código que não seja sucesso é retornado. Sendo assim, podemos utilizar um `try:` e `except:` para tratar este `HTTPError`!"
   ]
  },
  {
   "cell_type": "code",
   "execution_count": 25,
   "metadata": {},
   "outputs": [
    {
     "name": "stdout",
     "output_type": "stream",
     "text": [
      "Falha na comunicação com o servidor:\n",
      " 404 Client Error: Not Found for url: http://api.open-notify.org/coisas_aleat%C3%B3ria.json\n",
      "None\n"
     ]
    }
   ],
   "source": [
    "from requests import HTTPError\n",
    "\n",
    "try:\n",
    "    response = requests.get('http://api.open-notify.org/coisas_aleatória.json')\n",
    "    response.raise_for_status()\n",
    "    resultado = response.json()\n",
    "except HTTPError as e:\n",
    "    print(f'Falha na comunicação com o servidor:\\n {e}')\n",
    "    resultado = None\n",
    "\n",
    "print(resultado)"
   ]
  },
  {
   "cell_type": "markdown",
   "metadata": {},
   "source": [
    "Vamos comparar o resultado do bloco acima utilizando o *endpoint* real da API:"
   ]
  },
  {
   "cell_type": "code",
   "execution_count": 29,
   "metadata": {
    "ExecuteTime": {
     "end_time": "2022-01-18T22:54:56.625471Z",
     "start_time": "2022-01-18T22:54:56.204568Z"
    }
   },
   "outputs": [
    {
     "name": "stdout",
     "output_type": "stream",
     "text": [
      "{'iss_position': {'longitude': '114.8058', 'latitude': '-19.8265'}, 'message': 'success', 'timestamp': 1678834756}\n"
     ]
    }
   ],
   "source": [
    "try:\n",
    "    response = requests.get('http://api.open-notify.org/iss-now.json')\n",
    "    response.raise_for_status()\n",
    "    resultado = response.json()\n",
    "except HTTPError as e:\n",
    "    print(f'Falha na comunicação com o servidor:\\n {e}')\n",
    "    resultado = None\n",
    "\n",
    "print(resultado)"
   ]
  },
  {
   "cell_type": "markdown",
   "metadata": {},
   "source": [
    "## Utilizando APIs I\n",
    "\n",
    "Até agora vimos como podemos acessar, extrair informações e tratar erros de uma API através de métodos e funções fundamentais. Vamos utilizar este conhecimento para construir um `DataFrame` com as posições da ISS."
   ]
  },
  {
   "cell_type": "code",
   "execution_count": 30,
   "metadata": {
    "ExecuteTime": {
     "end_time": "2022-01-18T23:01:12.034525Z",
     "start_time": "2022-01-18T23:01:10.999750Z"
    }
   },
   "outputs": [],
   "source": [
    "from datetime import datetime\n",
    "import pandas as pd\n",
    "\n",
    "response = requests.get('http://api.open-notify.org/iss-now.json')\n",
    "results = response.json()"
   ]
  },
  {
   "cell_type": "markdown",
   "metadata": {},
   "source": [
    "A primeira etapa de qualquer construção envolvendo uma ou mais APIs é a exploração do objeto retornado."
   ]
  },
  {
   "cell_type": "code",
   "execution_count": 31,
   "metadata": {
    "ExecuteTime": {
     "end_time": "2022-01-18T23:01:27.875699Z",
     "start_time": "2022-01-18T23:01:27.861741Z"
    }
   },
   "outputs": [
    {
     "data": {
      "text/plain": [
       "dict"
      ]
     },
     "execution_count": 31,
     "metadata": {},
     "output_type": "execute_result"
    }
   ],
   "source": [
    "type(results)"
   ]
  },
  {
   "cell_type": "markdown",
   "metadata": {},
   "source": [
    "A API da ISS retorna um dicionário: vamos analisar como este dicionário está estruturado:"
   ]
  },
  {
   "cell_type": "code",
   "execution_count": 32,
   "metadata": {},
   "outputs": [
    {
     "data": {
      "text/plain": [
       "dict_keys(['iss_position', 'message', 'timestamp'])"
      ]
     },
     "execution_count": 32,
     "metadata": {},
     "output_type": "execute_result"
    }
   ],
   "source": [
    "results.keys()"
   ]
  },
  {
   "cell_type": "markdown",
   "metadata": {},
   "source": [
    "Vamos investigar como as informações estão estruturadas dentro destas chaves:"
   ]
  },
  {
   "cell_type": "code",
   "execution_count": 37,
   "metadata": {},
   "outputs": [
    {
     "data": {
      "text/plain": [
       "{'iss_position': {'longitude': '126.1510', 'latitude': '-31.4683'},\n",
       " 'message': 'success',\n",
       " 'timestamp': 1678835006}"
      ]
     },
     "execution_count": 37,
     "metadata": {},
     "output_type": "execute_result"
    }
   ],
   "source": [
    "results"
   ]
  },
  {
   "cell_type": "code",
   "execution_count": 34,
   "metadata": {},
   "outputs": [
    {
     "name": "stdout",
     "output_type": "stream",
     "text": [
      "iss_position: <class 'dict'>\n",
      "message: <class 'str'>\n",
      "timestamp: <class 'int'>\n"
     ]
    }
   ],
   "source": [
    "for chave in results.keys():\n",
    "    print(f\"{chave}: {type(results[chave])}\")"
   ]
  },
  {
   "cell_type": "code",
   "execution_count": 36,
   "metadata": {},
   "outputs": [
    {
     "data": {
      "text/plain": [
       "1678835006"
      ]
     },
     "execution_count": 36,
     "metadata": {},
     "output_type": "execute_result"
    }
   ],
   "source": [
    "results[chave]"
   ]
  },
  {
   "cell_type": "markdown",
   "metadata": {},
   "source": [
    "As chaves `message` e `timestamp` são tipos simples (`str` e `int` respectivamente). Já a chave `iss_position` é outro dicionário:"
   ]
  },
  {
   "cell_type": "code",
   "execution_count": 40,
   "metadata": {},
   "outputs": [
    {
     "data": {
      "text/plain": [
       "{'longitude': '126.1510', 'latitude': '-31.4683'}"
      ]
     },
     "execution_count": 40,
     "metadata": {},
     "output_type": "execute_result"
    }
   ],
   "source": [
    "results['iss_position']"
   ]
  },
  {
   "cell_type": "code",
   "execution_count": 39,
   "metadata": {},
   "outputs": [
    {
     "data": {
      "text/plain": [
       "'126.1510'"
      ]
     },
     "execution_count": 39,
     "metadata": {},
     "output_type": "execute_result"
    }
   ],
   "source": [
    "results['iss_position']['longitude']"
   ]
  },
  {
   "cell_type": "markdown",
   "metadata": {},
   "source": [
    "O resultado desta API é muito simples - temos 3 chaves, sendo que 2 são de interesse para nós:\n",
    "\n",
    "1. `iss_position` contém duas chaves, `latitude` e `longitude`, contendo a posição da ISS;\n",
    "1. `timestamp` contém o **timestamp** associado a esta posição.\n",
    "\n",
    "Primeiro, vamos utilizar a função `fromtimestamp()` do módulo `datetime` para converter nosso `timestamp` em um objeto `DateTime`:"
   ]
  },
  {
   "cell_type": "code",
   "execution_count": 41,
   "metadata": {},
   "outputs": [
    {
     "data": {
      "text/plain": [
       "1678835006"
      ]
     },
     "execution_count": 41,
     "metadata": {},
     "output_type": "execute_result"
    }
   ],
   "source": [
    "results['timestamp']"
   ]
  },
  {
   "cell_type": "code",
   "execution_count": 42,
   "metadata": {
    "ExecuteTime": {
     "end_time": "2022-01-18T23:02:10.364614Z",
     "start_time": "2022-01-18T23:02:10.349655Z"
    }
   },
   "outputs": [
    {
     "name": "stdout",
     "output_type": "stream",
     "text": [
      "2023-03-14 20:03:26\n"
     ]
    }
   ],
   "source": [
    "data_hora = datetime.fromtimestamp(results['timestamp'])\n",
    "print(data_hora)"
   ]
  },
  {
   "cell_type": "markdown",
   "metadata": {},
   "source": [
    "Agora que vimos como transformar este resultado, podemos construir um loop para criar uma tabela com a posição da ISS a cada 10s, por 1 minuto:"
   ]
  },
  {
   "cell_type": "code",
   "execution_count": 43,
   "metadata": {
    "ExecuteTime": {
     "end_time": "2022-01-18T23:07:00.945117Z",
     "start_time": "2022-01-18T23:05:58.291247Z"
    }
   },
   "outputs": [],
   "source": [
    "lat = []\n",
    "long = []\n",
    "data_hora = []\n",
    "\n",
    "for i in range(6):\n",
    "    response = requests.get('http://api.open-notify.org/iss-now.json')\n",
    "    results = response.json()\n",
    "\n",
    "    lat.append(float(results['iss_position']['latitude']))\n",
    "    long.append(float(results['iss_position']['longitude']))\n",
    "    data_hora.append(datetime.fromtimestamp(results['timestamp']))\n",
    "\n",
    "    time.sleep(10)"
   ]
  },
  {
   "cell_type": "code",
   "execution_count": 46,
   "metadata": {},
   "outputs": [
    {
     "data": {
      "text/plain": [
       "[datetime.datetime(2023, 3, 14, 20, 8, 54),\n",
       " datetime.datetime(2023, 3, 14, 20, 9, 5),\n",
       " datetime.datetime(2023, 3, 14, 20, 9, 15),\n",
       " datetime.datetime(2023, 3, 14, 20, 9, 26),\n",
       " datetime.datetime(2023, 3, 14, 20, 9, 36),\n",
       " datetime.datetime(2023, 3, 14, 20, 9, 46)]"
      ]
     },
     "execution_count": 46,
     "metadata": {},
     "output_type": "execute_result"
    }
   ],
   "source": [
    "data_hora"
   ]
  },
  {
   "cell_type": "markdown",
   "metadata": {},
   "source": [
    "Agora vamos construir nosso `DataFrame` a partir das listas que criamos em nosso loop:"
   ]
  },
  {
   "cell_type": "code",
   "execution_count": 47,
   "metadata": {
    "ExecuteTime": {
     "end_time": "2022-01-18T23:08:16.379210Z",
     "start_time": "2022-01-18T23:08:16.363253Z"
    }
   },
   "outputs": [],
   "source": [
    "tb_iss = pd.DataFrame({'lat': lat, 'long':long, 'time':data_hora})"
   ]
  },
  {
   "cell_type": "code",
   "execution_count": 48,
   "metadata": {
    "ExecuteTime": {
     "end_time": "2022-01-18T23:08:17.997854Z",
     "start_time": "2022-01-18T23:08:17.973916Z"
    }
   },
   "outputs": [
    {
     "data": {
      "text/html": [
       "<div>\n",
       "<style scoped>\n",
       "    .dataframe tbody tr th:only-of-type {\n",
       "        vertical-align: middle;\n",
       "    }\n",
       "\n",
       "    .dataframe tbody tr th {\n",
       "        vertical-align: top;\n",
       "    }\n",
       "\n",
       "    .dataframe thead th {\n",
       "        text-align: right;\n",
       "    }\n",
       "</style>\n",
       "<table border=\"1\" class=\"dataframe\">\n",
       "  <thead>\n",
       "    <tr style=\"text-align: right;\">\n",
       "      <th></th>\n",
       "      <th>lat</th>\n",
       "      <th>long</th>\n",
       "      <th>time</th>\n",
       "    </tr>\n",
       "  </thead>\n",
       "  <tbody>\n",
       "    <tr>\n",
       "      <th>0</th>\n",
       "      <td>-44.2510</td>\n",
       "      <td>146.2612</td>\n",
       "      <td>2023-03-14 20:08:54</td>\n",
       "    </tr>\n",
       "    <tr>\n",
       "      <th>1</th>\n",
       "      <td>-44.5859</td>\n",
       "      <td>147.0412</td>\n",
       "      <td>2023-03-14 20:09:05</td>\n",
       "    </tr>\n",
       "    <tr>\n",
       "      <th>2</th>\n",
       "      <td>-44.9147</td>\n",
       "      <td>147.8306</td>\n",
       "      <td>2023-03-14 20:09:15</td>\n",
       "    </tr>\n",
       "    <tr>\n",
       "      <th>3</th>\n",
       "      <td>-45.2375</td>\n",
       "      <td>148.6295</td>\n",
       "      <td>2023-03-14 20:09:26</td>\n",
       "    </tr>\n",
       "    <tr>\n",
       "      <th>4</th>\n",
       "      <td>-45.5539</td>\n",
       "      <td>149.4380</td>\n",
       "      <td>2023-03-14 20:09:36</td>\n",
       "    </tr>\n",
       "    <tr>\n",
       "      <th>5</th>\n",
       "      <td>-45.8494</td>\n",
       "      <td>150.2169</td>\n",
       "      <td>2023-03-14 20:09:46</td>\n",
       "    </tr>\n",
       "  </tbody>\n",
       "</table>\n",
       "</div>"
      ],
      "text/plain": [
       "       lat      long                time\n",
       "0 -44.2510  146.2612 2023-03-14 20:08:54\n",
       "1 -44.5859  147.0412 2023-03-14 20:09:05\n",
       "2 -44.9147  147.8306 2023-03-14 20:09:15\n",
       "3 -45.2375  148.6295 2023-03-14 20:09:26\n",
       "4 -45.5539  149.4380 2023-03-14 20:09:36\n",
       "5 -45.8494  150.2169 2023-03-14 20:09:46"
      ]
     },
     "execution_count": 48,
     "metadata": {},
     "output_type": "execute_result"
    }
   ],
   "source": [
    "tb_iss"
   ]
  },
  {
   "cell_type": "code",
   "execution_count": 49,
   "metadata": {},
   "outputs": [
    {
     "name": "stdout",
     "output_type": "stream",
     "text": [
      "<class 'pandas.core.frame.DataFrame'>\n",
      "RangeIndex: 6 entries, 0 to 5\n",
      "Data columns (total 3 columns):\n",
      " #   Column  Non-Null Count  Dtype         \n",
      "---  ------  --------------  -----         \n",
      " 0   lat     6 non-null      float64       \n",
      " 1   long    6 non-null      float64       \n",
      " 2   time    6 non-null      datetime64[ns]\n",
      "dtypes: datetime64[ns](1), float64(2)\n",
      "memory usage: 272.0 bytes\n"
     ]
    }
   ],
   "source": [
    "tb_iss.info()"
   ]
  },
  {
   "cell_type": "markdown",
   "metadata": {},
   "source": [
    "## Utilizando APIs II\n",
    "\n",
    "A API da ISS é extremamente rudimentar: ela não possui nem autenticação nem parâmetros, simplesmente retorna a posição atual da ISS. Muitas APIs são mais complexas do que isso, necessitando de autenticação e possibilitando a utilização de parâmetros:\n",
    "\n",
    "1. **Autenticação**: muitas APIs precisam que o seu programa se autentique, ou seja, se identifique. Muitas vezes isso é feito através do site que disponibiliza a API e requer a criação de um usuário;\n",
    "1. **Parâmetros**: parâmetros são informações que passamos para a API utilizadas para determinar que informação será retornada.\n",
    "\n",
    "No próximo exemplo utilizaremos a [WeatherAPI](https://www.weatherapi.com). Esta API retorna informações climáticas para um dado local. Ela é autenticada (através de um *token*) e necessita de uma parametrização (a latitude e longitude do local para o qual queremos extrair as informações).\n",
    "\n",
    "Primeiro vamos criar especificar todos os parâmetros necessários para a consulta à esta API:"
   ]
  },
  {
   "cell_type": "code",
   "execution_count": 51,
   "metadata": {
    "ExecuteTime": {
     "end_time": "2022-01-18T23:28:25.283706Z",
     "start_time": "2022-01-18T23:28:25.182970Z"
    }
   },
   "outputs": [],
   "source": [
    "token = 'bfef1b47e3b8462199b191725221801'\n",
    "endpoint = 'http://api.weatherapi.com/v1/current.json'\n",
    "\n",
    "header = {'key' : token}\n",
    "query = {'q' : '-21.996160,-47.426420'}"
   ]
  },
  {
   "cell_type": "markdown",
   "metadata": {},
   "source": [
    "Utilizamos dois dicionários para especificar tanto a autenticação quanto a parametrização de nosso request:\n",
    "\n",
    "1. `header`: é um dicionário que contém apenas uma chave, `key`, na qual guardamos nosso token identificador;\n",
    "1. `query`: é um dicionário que contém apenas uma chave, `q`, na qual guardamos um string de latitude e longitude.\n",
    "\n",
    "O nome das chaves foi determinado lendo a documentação da API: https://www.weatherapi.com/docs/.\n",
    "\n",
    "Agora vamos utilizar nossos dicionários e a função `request()` para extrair as informações metereológicas da latitude **-21,996160** e longitude **-47,426420**"
   ]
  },
  {
   "cell_type": "code",
   "execution_count": 52,
   "metadata": {},
   "outputs": [],
   "source": [
    "response = requests.request('GET', endpoint,\n",
    "                            headers=header, \n",
    "                            params=query)\n",
    "results = response.json()"
   ]
  },
  {
   "cell_type": "code",
   "execution_count": 53,
   "metadata": {},
   "outputs": [
    {
     "data": {
      "text/plain": [
       "<Response [200]>"
      ]
     },
     "execution_count": 53,
     "metadata": {},
     "output_type": "execute_result"
    }
   ],
   "source": [
    "response"
   ]
  },
  {
   "cell_type": "markdown",
   "metadata": {},
   "source": [
    "Utilizamos o argumento `headers =` para passar ao `request()` nossos parâmetros de autenticação, e o argumento `params =` para passar os parâmetros de busca."
   ]
  },
  {
   "cell_type": "code",
   "execution_count": 54,
   "metadata": {
    "ExecuteTime": {
     "end_time": "2022-01-18T23:28:27.222423Z",
     "start_time": "2022-01-18T23:28:27.208432Z"
    }
   },
   "outputs": [
    {
     "data": {
      "text/plain": [
       "{'location': {'name': 'Pirassununga',\n",
       "  'region': 'Sao Paulo',\n",
       "  'country': 'Brazil',\n",
       "  'lat': -22.0,\n",
       "  'lon': -47.43,\n",
       "  'tz_id': 'America/Sao_Paulo',\n",
       "  'localtime_epoch': 1678836326,\n",
       "  'localtime': '2023-03-14 20:25'},\n",
       " 'current': {'last_updated_epoch': 1678835700,\n",
       "  'last_updated': '2023-03-14 20:15',\n",
       "  'temp_c': 22.0,\n",
       "  'temp_f': 71.6,\n",
       "  'is_day': 0,\n",
       "  'condition': {'text': 'Partly cloudy',\n",
       "   'icon': '//cdn.weatherapi.com/weather/64x64/night/116.png',\n",
       "   'code': 1003},\n",
       "  'wind_mph': 4.3,\n",
       "  'wind_kph': 6.8,\n",
       "  'wind_degree': 160,\n",
       "  'wind_dir': 'SSE',\n",
       "  'pressure_mb': 1017.0,\n",
       "  'pressure_in': 30.03,\n",
       "  'precip_mm': 1.0,\n",
       "  'precip_in': 0.04,\n",
       "  'humidity': 94,\n",
       "  'cloud': 75,\n",
       "  'feelslike_c': 24.5,\n",
       "  'feelslike_f': 76.1,\n",
       "  'vis_km': 10.0,\n",
       "  'vis_miles': 6.0,\n",
       "  'uv': 1.0,\n",
       "  'gust_mph': 6.5,\n",
       "  'gust_kph': 10.4}}"
      ]
     },
     "execution_count": 54,
     "metadata": {},
     "output_type": "execute_result"
    }
   ],
   "source": [
    "results"
   ]
  },
  {
   "cell_type": "markdown",
   "metadata": {},
   "source": [
    "Esta API é muito mais complexa que a API da ISS: não só pela autenticação e parametrização, mas também pela complexidade dos resultados retornados.\n",
    "\n",
    "Primeiro, vamos construir uma aplicação simples cujo objetivo é guardar apenas as informações temperatura, humidade, pressão do ar e velocidade do vento. Para isso precisamos investigar o resultado retornado e determinar quais chaves iremos guardar:"
   ]
  },
  {
   "cell_type": "code",
   "execution_count": 61,
   "metadata": {},
   "outputs": [],
   "source": [
    "# EXERCICIO\n",
    "# Extrair as informações de temperatura, humidade, pressão do ar e velocidade do vento \n",
    "# para a lista de latitudes e longitudes abaixo.\n",
    "lista_latlong = [\n",
    "    '-23.57,-46.69', \n",
    "    '-1.34,-48.60', \n",
    "    '-7.99,-34.87', \n",
    "    '6.51,3.39',\n",
    "    '33.69,-84.44', \n",
    "    '69.00, 33.13'\n",
    "]"
   ]
  },
  {
   "cell_type": "code",
   "execution_count": 62,
   "metadata": {},
   "outputs": [
    {
     "data": {
      "text/plain": [
       "dict_keys(['location', 'current'])"
      ]
     },
     "execution_count": 62,
     "metadata": {},
     "output_type": "execute_result"
    }
   ],
   "source": [
    "results.keys()"
   ]
  },
  {
   "cell_type": "code",
   "execution_count": 63,
   "metadata": {},
   "outputs": [
    {
     "data": {
      "text/plain": [
       "dict_keys(['name', 'region', 'country', 'lat', 'lon', 'tz_id', 'localtime_epoch', 'localtime'])"
      ]
     },
     "execution_count": 63,
     "metadata": {},
     "output_type": "execute_result"
    }
   ],
   "source": [
    "results['location'].keys()"
   ]
  },
  {
   "cell_type": "code",
   "execution_count": 64,
   "metadata": {},
   "outputs": [],
   "source": [
    "temp = []\n",
    "hum = []\n",
    "press = []\n",
    "vel_vento = []\n",
    "nome_lugar = []\n",
    "token = 'bfef1b47e3b8462199b191725221801'\n",
    "endpoint = 'http://api.weatherapi.com/v1/current.json'\n",
    "header = {'key' : token}\n",
    "\n",
    "for latlong in lista_latlong:\n",
    "    query = {'q' : latlong}\n",
    "    response = requests.request('GET', endpoint, headers=header, params=query)\n",
    "    results = response.json()\n",
    "    temp.append(results['current']['temp_c'])\n",
    "    hum.append(results['current']['humidity'])\n",
    "    press.append(results['current']['pressure_mb'])\n",
    "    vel_vento.append(results['current']['wind_kph'])\n",
    "    nome_lugar.append(results['location']['name'])"
   ]
  },
  {
   "cell_type": "code",
   "execution_count": 65,
   "metadata": {},
   "outputs": [
    {
     "data": {
      "text/plain": [
       "['Taboao Da Serra', 'Belem', 'Olinda', 'Lagos', 'East Point', 'Murmansk']"
      ]
     },
     "execution_count": 65,
     "metadata": {},
     "output_type": "execute_result"
    }
   ],
   "source": [
    "nome_lugar"
   ]
  },
  {
   "cell_type": "code",
   "execution_count": 66,
   "metadata": {},
   "outputs": [],
   "source": [
    "tb_clima = pd.DataFrame({'nome': nome_lugar, 'vel_vento' : vel_vento, 'temp' : temp})"
   ]
  },
  {
   "cell_type": "code",
   "execution_count": 67,
   "metadata": {},
   "outputs": [
    {
     "data": {
      "text/html": [
       "<div>\n",
       "<style scoped>\n",
       "    .dataframe tbody tr th:only-of-type {\n",
       "        vertical-align: middle;\n",
       "    }\n",
       "\n",
       "    .dataframe tbody tr th {\n",
       "        vertical-align: top;\n",
       "    }\n",
       "\n",
       "    .dataframe thead th {\n",
       "        text-align: right;\n",
       "    }\n",
       "</style>\n",
       "<table border=\"1\" class=\"dataframe\">\n",
       "  <thead>\n",
       "    <tr style=\"text-align: right;\">\n",
       "      <th></th>\n",
       "      <th>nome</th>\n",
       "      <th>vel_vento</th>\n",
       "      <th>temp</th>\n",
       "    </tr>\n",
       "  </thead>\n",
       "  <tbody>\n",
       "    <tr>\n",
       "      <th>0</th>\n",
       "      <td>Taboao Da Serra</td>\n",
       "      <td>11.2</td>\n",
       "      <td>21.0</td>\n",
       "    </tr>\n",
       "    <tr>\n",
       "      <th>1</th>\n",
       "      <td>Belem</td>\n",
       "      <td>6.8</td>\n",
       "      <td>26.0</td>\n",
       "    </tr>\n",
       "    <tr>\n",
       "      <th>2</th>\n",
       "      <td>Olinda</td>\n",
       "      <td>13.0</td>\n",
       "      <td>28.0</td>\n",
       "    </tr>\n",
       "    <tr>\n",
       "      <th>3</th>\n",
       "      <td>Lagos</td>\n",
       "      <td>6.8</td>\n",
       "      <td>28.0</td>\n",
       "    </tr>\n",
       "    <tr>\n",
       "      <th>4</th>\n",
       "      <td>East Point</td>\n",
       "      <td>22.0</td>\n",
       "      <td>9.4</td>\n",
       "    </tr>\n",
       "    <tr>\n",
       "      <th>5</th>\n",
       "      <td>Murmansk</td>\n",
       "      <td>3.6</td>\n",
       "      <td>-8.0</td>\n",
       "    </tr>\n",
       "  </tbody>\n",
       "</table>\n",
       "</div>"
      ],
      "text/plain": [
       "              nome  vel_vento  temp\n",
       "0  Taboao Da Serra       11.2  21.0\n",
       "1            Belem        6.8  26.0\n",
       "2           Olinda       13.0  28.0\n",
       "3            Lagos        6.8  28.0\n",
       "4       East Point       22.0   9.4\n",
       "5         Murmansk        3.6  -8.0"
      ]
     },
     "execution_count": 67,
     "metadata": {},
     "output_type": "execute_result"
    }
   ],
   "source": [
    "tb_clima"
   ]
  },
  {
   "cell_type": "markdown",
   "metadata": {},
   "source": [
    "### Utilizando `json_normalize()`\n",
    "\n",
    "No exercicio acima, guardamos apenas um sub-conjunto das informações extraídas. No entanto, muitas vezes é mais prático guardar todas as informações para depois filtra-la.\n",
    "\n",
    "Para simplificar este processo podemos utilizar a função `json_normalize()` da biblioteca Pandas."
   ]
  },
  {
   "cell_type": "code",
   "execution_count": 68,
   "metadata": {
    "ExecuteTime": {
     "end_time": "2022-01-18T19:36:43.542242Z",
     "start_time": "2022-01-18T19:36:43.213092Z"
    },
    "scrolled": true
   },
   "outputs": [
    {
     "name": "stdout",
     "output_type": "stream",
     "text": [
      "{'location': {'name': 'Pirassununga', 'region': 'Sao Paulo', 'country': 'Brazil', 'lat': -21.99, 'lon': -47.42, 'tz_id': 'America/Sao_Paulo', 'localtime_epoch': 1678837105, 'localtime': '2023-03-14 20:38'}, 'current': {'last_updated_epoch': 1678836600, 'last_updated': '2023-03-14 20:30', 'temp_c': 22.0, 'temp_f': 71.6, 'is_day': 0, 'condition': {'text': 'Partly cloudy', 'icon': '//cdn.weatherapi.com/weather/64x64/night/116.png', 'code': 1003}, 'wind_mph': 4.3, 'wind_kph': 6.8, 'wind_degree': 160, 'wind_dir': 'SSE', 'pressure_mb': 1017.0, 'pressure_in': 30.03, 'precip_mm': 1.0, 'precip_in': 0.04, 'humidity': 94, 'cloud': 75, 'feelslike_c': 24.5, 'feelslike_f': 76.1, 'vis_km': 10.0, 'vis_miles': 6.0, 'uv': 1.0, 'gust_mph': 6.5, 'gust_kph': 10.4}}\n"
     ]
    }
   ],
   "source": [
    "# Verificar variável response.json()\n",
    "token = 'bfef1b47e3b8462199b191725221801'\n",
    "\n",
    "endpoint = 'http://api.weatherapi.com/v1/current.json'\n",
    "header = {'key' : token}\n",
    "query = {'q' : '-21.99,-47.42'}\n",
    "\n",
    "\n",
    "response = requests.request('GET', endpoint, headers=header, params=query)\n",
    "results = response.json()\n",
    "print(results)"
   ]
  },
  {
   "cell_type": "code",
   "execution_count": 70,
   "metadata": {},
   "outputs": [
    {
     "data": {
      "text/plain": [
       "dict_keys(['location', 'current'])"
      ]
     },
     "execution_count": 70,
     "metadata": {},
     "output_type": "execute_result"
    }
   ],
   "source": [
    "results.keys()"
   ]
  },
  {
   "cell_type": "code",
   "execution_count": 72,
   "metadata": {},
   "outputs": [
    {
     "data": {
      "text/plain": [
       "24.5"
      ]
     },
     "execution_count": 72,
     "metadata": {},
     "output_type": "execute_result"
    }
   ],
   "source": [
    "results['current']['feelslike_c']"
   ]
  },
  {
   "cell_type": "code",
   "execution_count": 69,
   "metadata": {},
   "outputs": [
    {
     "data": {
      "text/html": [
       "<div>\n",
       "<style scoped>\n",
       "    .dataframe tbody tr th:only-of-type {\n",
       "        vertical-align: middle;\n",
       "    }\n",
       "\n",
       "    .dataframe tbody tr th {\n",
       "        vertical-align: top;\n",
       "    }\n",
       "\n",
       "    .dataframe thead th {\n",
       "        text-align: right;\n",
       "    }\n",
       "</style>\n",
       "<table border=\"1\" class=\"dataframe\">\n",
       "  <thead>\n",
       "    <tr style=\"text-align: right;\">\n",
       "      <th></th>\n",
       "      <th>location.name</th>\n",
       "      <th>location.region</th>\n",
       "      <th>location.country</th>\n",
       "      <th>location.lat</th>\n",
       "      <th>location.lon</th>\n",
       "      <th>location.tz_id</th>\n",
       "      <th>location.localtime_epoch</th>\n",
       "      <th>location.localtime</th>\n",
       "      <th>current.last_updated_epoch</th>\n",
       "      <th>current.last_updated</th>\n",
       "      <th>...</th>\n",
       "      <th>current.precip_in</th>\n",
       "      <th>current.humidity</th>\n",
       "      <th>current.cloud</th>\n",
       "      <th>current.feelslike_c</th>\n",
       "      <th>current.feelslike_f</th>\n",
       "      <th>current.vis_km</th>\n",
       "      <th>current.vis_miles</th>\n",
       "      <th>current.uv</th>\n",
       "      <th>current.gust_mph</th>\n",
       "      <th>current.gust_kph</th>\n",
       "    </tr>\n",
       "  </thead>\n",
       "  <tbody>\n",
       "    <tr>\n",
       "      <th>0</th>\n",
       "      <td>Pirassununga</td>\n",
       "      <td>Sao Paulo</td>\n",
       "      <td>Brazil</td>\n",
       "      <td>-21.99</td>\n",
       "      <td>-47.42</td>\n",
       "      <td>America/Sao_Paulo</td>\n",
       "      <td>1678837105</td>\n",
       "      <td>2023-03-14 20:38</td>\n",
       "      <td>1678836600</td>\n",
       "      <td>2023-03-14 20:30</td>\n",
       "      <td>...</td>\n",
       "      <td>0.04</td>\n",
       "      <td>94</td>\n",
       "      <td>75</td>\n",
       "      <td>24.5</td>\n",
       "      <td>76.1</td>\n",
       "      <td>10.0</td>\n",
       "      <td>6.0</td>\n",
       "      <td>1.0</td>\n",
       "      <td>6.5</td>\n",
       "      <td>10.4</td>\n",
       "    </tr>\n",
       "  </tbody>\n",
       "</table>\n",
       "<p>1 rows × 33 columns</p>\n",
       "</div>"
      ],
      "text/plain": [
       "  location.name location.region location.country  location.lat  location.lon  \\\n",
       "0  Pirassununga       Sao Paulo           Brazil        -21.99        -47.42   \n",
       "\n",
       "      location.tz_id  location.localtime_epoch location.localtime  \\\n",
       "0  America/Sao_Paulo                1678837105   2023-03-14 20:38   \n",
       "\n",
       "   current.last_updated_epoch current.last_updated  ...  current.precip_in  \\\n",
       "0                  1678836600     2023-03-14 20:30  ...               0.04   \n",
       "\n",
       "   current.humidity  current.cloud current.feelslike_c current.feelslike_f  \\\n",
       "0                94             75                24.5                76.1   \n",
       "\n",
       "   current.vis_km  current.vis_miles  current.uv  current.gust_mph  \\\n",
       "0            10.0                6.0         1.0               6.5   \n",
       "\n",
       "  current.gust_kph  \n",
       "0             10.4  \n",
       "\n",
       "[1 rows x 33 columns]"
      ]
     },
     "execution_count": 69,
     "metadata": {},
     "output_type": "execute_result"
    }
   ],
   "source": [
    "pd.json_normalize(results)"
   ]
  },
  {
   "cell_type": "markdown",
   "metadata": {},
   "source": [
    "Primeiro vamos construir um loop para percorrer uma lista de latitudes e longitudes e armazenar os dicionários de resultados em uma lista:"
   ]
  },
  {
   "cell_type": "code",
   "execution_count": 73,
   "metadata": {
    "ExecuteTime": {
     "end_time": "2022-01-18T23:35:30.645338Z",
     "start_time": "2022-01-18T23:35:30.628384Z"
    }
   },
   "outputs": [],
   "source": [
    "lista_latlong = [\n",
    "    '-23.57,-46.69', \n",
    "    '-1.34,-48.60', \n",
    "    '-7.99,-34.87', \n",
    "    '6.51,3.39',\n",
    "    '33.69,-84.44', \n",
    "    '69.00, 33.13'\n",
    "]"
   ]
  },
  {
   "cell_type": "code",
   "execution_count": 74,
   "metadata": {
    "ExecuteTime": {
     "end_time": "2022-01-18T23:35:39.757620Z",
     "start_time": "2022-01-18T23:35:37.874455Z"
    }
   },
   "outputs": [],
   "source": [
    "token = 'bfef1b47e3b8462199b191725221801'\n",
    "endpoint = 'http://api.weatherapi.com/v1/current.json'\n",
    "header = {'key' : token}\n",
    "lista_resultados = []\n",
    "for latlong in lista_latlong:\n",
    "    query = {'q' : latlong}\n",
    "    response = requests.request('GET', endpoint, headers=header, params=query)\n",
    "    results = response.json()\n",
    "    lista_resultados.append(results)"
   ]
  },
  {
   "cell_type": "code",
   "execution_count": 76,
   "metadata": {},
   "outputs": [
    {
     "data": {
      "text/plain": [
       "{'location': {'name': 'Belem',\n",
       "  'region': 'Para',\n",
       "  'country': 'Brazil',\n",
       "  'lat': -1.34,\n",
       "  'lon': -48.6,\n",
       "  'tz_id': 'America/Belem',\n",
       "  'localtime_epoch': 1678837229,\n",
       "  'localtime': '2023-03-14 20:40'},\n",
       " 'current': {'last_updated_epoch': 1678836600,\n",
       "  'last_updated': '2023-03-14 20:30',\n",
       "  'temp_c': 26.0,\n",
       "  'temp_f': 78.8,\n",
       "  'is_day': 0,\n",
       "  'condition': {'text': 'Partly cloudy',\n",
       "   'icon': '//cdn.weatherapi.com/weather/64x64/night/116.png',\n",
       "   'code': 1003},\n",
       "  'wind_mph': 4.3,\n",
       "  'wind_kph': 6.8,\n",
       "  'wind_degree': 310,\n",
       "  'wind_dir': 'NW',\n",
       "  'pressure_mb': 1012.0,\n",
       "  'pressure_in': 29.88,\n",
       "  'precip_mm': 16.4,\n",
       "  'precip_in': 0.65,\n",
       "  'humidity': 89,\n",
       "  'cloud': 75,\n",
       "  'feelslike_c': 30.4,\n",
       "  'feelslike_f': 86.7,\n",
       "  'vis_km': 10.0,\n",
       "  'vis_miles': 6.0,\n",
       "  'uv': 1.0,\n",
       "  'gust_mph': 0.7,\n",
       "  'gust_kph': 1.1}}"
      ]
     },
     "execution_count": 76,
     "metadata": {},
     "output_type": "execute_result"
    }
   ],
   "source": [
    "lista_resultados[1]"
   ]
  },
  {
   "cell_type": "markdown",
   "metadata": {},
   "source": [
    "A variável `lista_resultados` é uma `list` de `dicts`: cada elemento desta lista contém as informações de uma localização específica em um dicionário.\n",
    "\n",
    "Agora, vamos utilizar a função `json_normalize()` da biblioteca `Pandas` para transformar esta lista em um `DataFrame`, onde cada linha será correspondente à cada elemento da lista:"
   ]
  },
  {
   "cell_type": "code",
   "execution_count": 77,
   "metadata": {
    "ExecuteTime": {
     "end_time": "2022-01-18T23:43:31.249978Z",
     "start_time": "2022-01-18T23:43:31.237013Z"
    }
   },
   "outputs": [
    {
     "data": {
      "text/html": [
       "<div>\n",
       "<style scoped>\n",
       "    .dataframe tbody tr th:only-of-type {\n",
       "        vertical-align: middle;\n",
       "    }\n",
       "\n",
       "    .dataframe tbody tr th {\n",
       "        vertical-align: top;\n",
       "    }\n",
       "\n",
       "    .dataframe thead th {\n",
       "        text-align: right;\n",
       "    }\n",
       "</style>\n",
       "<table border=\"1\" class=\"dataframe\">\n",
       "  <thead>\n",
       "    <tr style=\"text-align: right;\">\n",
       "      <th></th>\n",
       "      <th>location.name</th>\n",
       "      <th>location.region</th>\n",
       "      <th>location.country</th>\n",
       "      <th>location.lat</th>\n",
       "      <th>location.lon</th>\n",
       "      <th>location.tz_id</th>\n",
       "      <th>location.localtime_epoch</th>\n",
       "      <th>location.localtime</th>\n",
       "      <th>current.last_updated_epoch</th>\n",
       "      <th>current.last_updated</th>\n",
       "      <th>...</th>\n",
       "      <th>current.precip_in</th>\n",
       "      <th>current.humidity</th>\n",
       "      <th>current.cloud</th>\n",
       "      <th>current.feelslike_c</th>\n",
       "      <th>current.feelslike_f</th>\n",
       "      <th>current.vis_km</th>\n",
       "      <th>current.vis_miles</th>\n",
       "      <th>current.uv</th>\n",
       "      <th>current.gust_mph</th>\n",
       "      <th>current.gust_kph</th>\n",
       "    </tr>\n",
       "  </thead>\n",
       "  <tbody>\n",
       "    <tr>\n",
       "      <th>0</th>\n",
       "      <td>Taboao Da Serra</td>\n",
       "      <td>Sao Paulo</td>\n",
       "      <td>Brazil</td>\n",
       "      <td>-23.57</td>\n",
       "      <td>-46.69</td>\n",
       "      <td>America/Sao_Paulo</td>\n",
       "      <td>1678837229</td>\n",
       "      <td>2023-03-14 20:40</td>\n",
       "      <td>1678836600</td>\n",
       "      <td>2023-03-14 20:30</td>\n",
       "      <td>...</td>\n",
       "      <td>0.02</td>\n",
       "      <td>94</td>\n",
       "      <td>100</td>\n",
       "      <td>21.0</td>\n",
       "      <td>69.8</td>\n",
       "      <td>10.0</td>\n",
       "      <td>6.0</td>\n",
       "      <td>1.0</td>\n",
       "      <td>7.4</td>\n",
       "      <td>11.9</td>\n",
       "    </tr>\n",
       "    <tr>\n",
       "      <th>1</th>\n",
       "      <td>Belem</td>\n",
       "      <td>Para</td>\n",
       "      <td>Brazil</td>\n",
       "      <td>-1.34</td>\n",
       "      <td>-48.60</td>\n",
       "      <td>America/Belem</td>\n",
       "      <td>1678837229</td>\n",
       "      <td>2023-03-14 20:40</td>\n",
       "      <td>1678836600</td>\n",
       "      <td>2023-03-14 20:30</td>\n",
       "      <td>...</td>\n",
       "      <td>0.65</td>\n",
       "      <td>89</td>\n",
       "      <td>75</td>\n",
       "      <td>30.4</td>\n",
       "      <td>86.7</td>\n",
       "      <td>10.0</td>\n",
       "      <td>6.0</td>\n",
       "      <td>1.0</td>\n",
       "      <td>0.7</td>\n",
       "      <td>1.1</td>\n",
       "    </tr>\n",
       "    <tr>\n",
       "      <th>2</th>\n",
       "      <td>Olinda</td>\n",
       "      <td>Pernambuco</td>\n",
       "      <td>Brazil</td>\n",
       "      <td>-7.99</td>\n",
       "      <td>-34.87</td>\n",
       "      <td>America/Recife</td>\n",
       "      <td>1678837230</td>\n",
       "      <td>2023-03-14 20:40</td>\n",
       "      <td>1678836600</td>\n",
       "      <td>2023-03-14 20:30</td>\n",
       "      <td>...</td>\n",
       "      <td>0.00</td>\n",
       "      <td>70</td>\n",
       "      <td>50</td>\n",
       "      <td>31.8</td>\n",
       "      <td>89.3</td>\n",
       "      <td>10.0</td>\n",
       "      <td>6.0</td>\n",
       "      <td>1.0</td>\n",
       "      <td>16.3</td>\n",
       "      <td>26.3</td>\n",
       "    </tr>\n",
       "    <tr>\n",
       "      <th>3</th>\n",
       "      <td>Lagos</td>\n",
       "      <td>Lagos</td>\n",
       "      <td>Nigeria</td>\n",
       "      <td>6.51</td>\n",
       "      <td>3.39</td>\n",
       "      <td>Africa/Lagos</td>\n",
       "      <td>1678837231</td>\n",
       "      <td>2023-03-15 0:40</td>\n",
       "      <td>1678836600</td>\n",
       "      <td>2023-03-15 00:30</td>\n",
       "      <td>...</td>\n",
       "      <td>0.00</td>\n",
       "      <td>84</td>\n",
       "      <td>25</td>\n",
       "      <td>31.9</td>\n",
       "      <td>89.3</td>\n",
       "      <td>10.0</td>\n",
       "      <td>6.0</td>\n",
       "      <td>1.0</td>\n",
       "      <td>18.3</td>\n",
       "      <td>29.5</td>\n",
       "    </tr>\n",
       "    <tr>\n",
       "      <th>4</th>\n",
       "      <td>East Point</td>\n",
       "      <td>Georgia</td>\n",
       "      <td>United States of America</td>\n",
       "      <td>33.69</td>\n",
       "      <td>-84.44</td>\n",
       "      <td>America/New_York</td>\n",
       "      <td>1678837231</td>\n",
       "      <td>2023-03-14 19:40</td>\n",
       "      <td>1678836600</td>\n",
       "      <td>2023-03-14 19:30</td>\n",
       "      <td>...</td>\n",
       "      <td>0.00</td>\n",
       "      <td>35</td>\n",
       "      <td>0</td>\n",
       "      <td>5.4</td>\n",
       "      <td>41.7</td>\n",
       "      <td>16.0</td>\n",
       "      <td>9.0</td>\n",
       "      <td>3.0</td>\n",
       "      <td>13.4</td>\n",
       "      <td>21.6</td>\n",
       "    </tr>\n",
       "    <tr>\n",
       "      <th>5</th>\n",
       "      <td>Murmansk</td>\n",
       "      <td>Murmansk</td>\n",
       "      <td>Russia</td>\n",
       "      <td>69.00</td>\n",
       "      <td>33.13</td>\n",
       "      <td>Europe/Moscow</td>\n",
       "      <td>1678837231</td>\n",
       "      <td>2023-03-15 2:40</td>\n",
       "      <td>1678836600</td>\n",
       "      <td>2023-03-15 02:30</td>\n",
       "      <td>...</td>\n",
       "      <td>0.08</td>\n",
       "      <td>85</td>\n",
       "      <td>37</td>\n",
       "      <td>-12.0</td>\n",
       "      <td>10.5</td>\n",
       "      <td>10.0</td>\n",
       "      <td>6.0</td>\n",
       "      <td>1.0</td>\n",
       "      <td>7.8</td>\n",
       "      <td>12.6</td>\n",
       "    </tr>\n",
       "  </tbody>\n",
       "</table>\n",
       "<p>6 rows × 33 columns</p>\n",
       "</div>"
      ],
      "text/plain": [
       "     location.name location.region          location.country  location.lat  \\\n",
       "0  Taboao Da Serra       Sao Paulo                    Brazil        -23.57   \n",
       "1            Belem            Para                    Brazil         -1.34   \n",
       "2           Olinda      Pernambuco                    Brazil         -7.99   \n",
       "3            Lagos           Lagos                   Nigeria          6.51   \n",
       "4       East Point         Georgia  United States of America         33.69   \n",
       "5         Murmansk        Murmansk                    Russia         69.00   \n",
       "\n",
       "   location.lon     location.tz_id  location.localtime_epoch  \\\n",
       "0        -46.69  America/Sao_Paulo                1678837229   \n",
       "1        -48.60      America/Belem                1678837229   \n",
       "2        -34.87     America/Recife                1678837230   \n",
       "3          3.39       Africa/Lagos                1678837231   \n",
       "4        -84.44   America/New_York                1678837231   \n",
       "5         33.13      Europe/Moscow                1678837231   \n",
       "\n",
       "  location.localtime  current.last_updated_epoch current.last_updated  ...  \\\n",
       "0   2023-03-14 20:40                  1678836600     2023-03-14 20:30  ...   \n",
       "1   2023-03-14 20:40                  1678836600     2023-03-14 20:30  ...   \n",
       "2   2023-03-14 20:40                  1678836600     2023-03-14 20:30  ...   \n",
       "3    2023-03-15 0:40                  1678836600     2023-03-15 00:30  ...   \n",
       "4   2023-03-14 19:40                  1678836600     2023-03-14 19:30  ...   \n",
       "5    2023-03-15 2:40                  1678836600     2023-03-15 02:30  ...   \n",
       "\n",
       "   current.precip_in  current.humidity  current.cloud current.feelslike_c  \\\n",
       "0               0.02                94            100                21.0   \n",
       "1               0.65                89             75                30.4   \n",
       "2               0.00                70             50                31.8   \n",
       "3               0.00                84             25                31.9   \n",
       "4               0.00                35              0                 5.4   \n",
       "5               0.08                85             37               -12.0   \n",
       "\n",
       "  current.feelslike_f  current.vis_km  current.vis_miles  current.uv  \\\n",
       "0                69.8            10.0                6.0         1.0   \n",
       "1                86.7            10.0                6.0         1.0   \n",
       "2                89.3            10.0                6.0         1.0   \n",
       "3                89.3            10.0                6.0         1.0   \n",
       "4                41.7            16.0                9.0         3.0   \n",
       "5                10.5            10.0                6.0         1.0   \n",
       "\n",
       "   current.gust_mph current.gust_kph  \n",
       "0               7.4             11.9  \n",
       "1               0.7              1.1  \n",
       "2              16.3             26.3  \n",
       "3              18.3             29.5  \n",
       "4              13.4             21.6  \n",
       "5               7.8             12.6  \n",
       "\n",
       "[6 rows x 33 columns]"
      ]
     },
     "execution_count": 77,
     "metadata": {},
     "output_type": "execute_result"
    }
   ],
   "source": [
    "tb_weather = pd.json_normalize(lista_resultados)\n",
    "tb_weather\n"
   ]
  },
  {
   "cell_type": "markdown",
   "metadata": {},
   "source": [
    "A função transformou os dicionários hierarquicos em colunas individuais: para evitar a colisão de nomes de colunas, utilizou-se a notação de `.`: por exemplo, o sub-dicionário `location`, que contém campos relativos à localização, foi armazenado nas colunas `location.name`, `location.region`, etc..."
   ]
  },
  {
   "cell_type": "code",
   "execution_count": 78,
   "metadata": {
    "ExecuteTime": {
     "end_time": "2022-01-18T23:43:59.578999Z",
     "start_time": "2022-01-18T23:43:59.563041Z"
    }
   },
   "outputs": [
    {
     "data": {
      "text/plain": [
       "Index(['location.name', 'location.region', 'location.country', 'location.lat',\n",
       "       'location.lon', 'location.tz_id', 'location.localtime_epoch',\n",
       "       'location.localtime', 'current.last_updated_epoch',\n",
       "       'current.last_updated', 'current.temp_c', 'current.temp_f',\n",
       "       'current.is_day', 'current.condition.text', 'current.condition.icon',\n",
       "       'current.condition.code', 'current.wind_mph', 'current.wind_kph',\n",
       "       'current.wind_degree', 'current.wind_dir', 'current.pressure_mb',\n",
       "       'current.pressure_in', 'current.precip_mm', 'current.precip_in',\n",
       "       'current.humidity', 'current.cloud', 'current.feelslike_c',\n",
       "       'current.feelslike_f', 'current.vis_km', 'current.vis_miles',\n",
       "       'current.uv', 'current.gust_mph', 'current.gust_kph'],\n",
       "      dtype='object')"
      ]
     },
     "execution_count": 78,
     "metadata": {},
     "output_type": "execute_result"
    }
   ],
   "source": [
    "tb_weather.columns"
   ]
  },
  {
   "cell_type": "code",
   "execution_count": 79,
   "metadata": {
    "ExecuteTime": {
     "end_time": "2022-01-18T23:44:02.513231Z",
     "start_time": "2022-01-18T23:44:02.421477Z"
    }
   },
   "outputs": [
    {
     "data": {
      "text/html": [
       "<div>\n",
       "<style scoped>\n",
       "    .dataframe tbody tr th:only-of-type {\n",
       "        vertical-align: middle;\n",
       "    }\n",
       "\n",
       "    .dataframe tbody tr th {\n",
       "        vertical-align: top;\n",
       "    }\n",
       "\n",
       "    .dataframe thead th {\n",
       "        text-align: right;\n",
       "    }\n",
       "</style>\n",
       "<table border=\"1\" class=\"dataframe\">\n",
       "  <thead>\n",
       "    <tr style=\"text-align: right;\">\n",
       "      <th></th>\n",
       "      <th>location.lat</th>\n",
       "      <th>location.lon</th>\n",
       "      <th>location.localtime_epoch</th>\n",
       "      <th>current.last_updated_epoch</th>\n",
       "      <th>current.temp_c</th>\n",
       "      <th>current.temp_f</th>\n",
       "      <th>current.is_day</th>\n",
       "      <th>current.condition.code</th>\n",
       "      <th>current.wind_mph</th>\n",
       "      <th>current.wind_kph</th>\n",
       "      <th>...</th>\n",
       "      <th>current.precip_in</th>\n",
       "      <th>current.humidity</th>\n",
       "      <th>current.cloud</th>\n",
       "      <th>current.feelslike_c</th>\n",
       "      <th>current.feelslike_f</th>\n",
       "      <th>current.vis_km</th>\n",
       "      <th>current.vis_miles</th>\n",
       "      <th>current.uv</th>\n",
       "      <th>current.gust_mph</th>\n",
       "      <th>current.gust_kph</th>\n",
       "    </tr>\n",
       "  </thead>\n",
       "  <tbody>\n",
       "    <tr>\n",
       "      <th>count</th>\n",
       "      <td>6.000000</td>\n",
       "      <td>6.000000</td>\n",
       "      <td>6.000000e+00</td>\n",
       "      <td>6.000000e+00</td>\n",
       "      <td>6.000000</td>\n",
       "      <td>6.000000</td>\n",
       "      <td>6.000000</td>\n",
       "      <td>6.000000</td>\n",
       "      <td>6.000000</td>\n",
       "      <td>6.000000</td>\n",
       "      <td>...</td>\n",
       "      <td>6.000000</td>\n",
       "      <td>6.000000</td>\n",
       "      <td>6.000000</td>\n",
       "      <td>6.000000</td>\n",
       "      <td>6.000000</td>\n",
       "      <td>6.00000</td>\n",
       "      <td>6.000000</td>\n",
       "      <td>6.000000</td>\n",
       "      <td>6.000000</td>\n",
       "      <td>6.000000</td>\n",
       "    </tr>\n",
       "    <tr>\n",
       "      <th>mean</th>\n",
       "      <td>12.716667</td>\n",
       "      <td>-29.680000</td>\n",
       "      <td>1.678837e+09</td>\n",
       "      <td>1.678837e+09</td>\n",
       "      <td>17.216667</td>\n",
       "      <td>62.983333</td>\n",
       "      <td>0.166667</td>\n",
       "      <td>1003.500000</td>\n",
       "      <td>6.383333</td>\n",
       "      <td>10.266667</td>\n",
       "      <td>...</td>\n",
       "      <td>0.125000</td>\n",
       "      <td>76.166667</td>\n",
       "      <td>47.833333</td>\n",
       "      <td>18.083333</td>\n",
       "      <td>64.550000</td>\n",
       "      <td>11.00000</td>\n",
       "      <td>6.500000</td>\n",
       "      <td>1.333333</td>\n",
       "      <td>10.650000</td>\n",
       "      <td>17.166667</td>\n",
       "    </tr>\n",
       "    <tr>\n",
       "      <th>std</th>\n",
       "      <td>33.434399</td>\n",
       "      <td>41.741158</td>\n",
       "      <td>9.831921e-01</td>\n",
       "      <td>0.000000e+00</td>\n",
       "      <td>14.418102</td>\n",
       "      <td>25.957536</td>\n",
       "      <td>0.408248</td>\n",
       "      <td>2.949576</td>\n",
       "      <td>3.655361</td>\n",
       "      <td>5.924413</td>\n",
       "      <td>...</td>\n",
       "      <td>0.259056</td>\n",
       "      <td>21.701766</td>\n",
       "      <td>35.751457</td>\n",
       "      <td>17.917189</td>\n",
       "      <td>32.208182</td>\n",
       "      <td>2.44949</td>\n",
       "      <td>1.224745</td>\n",
       "      <td>0.816497</td>\n",
       "      <td>6.568029</td>\n",
       "      <td>10.601069</td>\n",
       "    </tr>\n",
       "    <tr>\n",
       "      <th>min</th>\n",
       "      <td>-23.570000</td>\n",
       "      <td>-84.440000</td>\n",
       "      <td>1.678837e+09</td>\n",
       "      <td>1.678837e+09</td>\n",
       "      <td>-8.000000</td>\n",
       "      <td>17.600000</td>\n",
       "      <td>0.000000</td>\n",
       "      <td>1000.000000</td>\n",
       "      <td>2.200000</td>\n",
       "      <td>3.600000</td>\n",
       "      <td>...</td>\n",
       "      <td>0.000000</td>\n",
       "      <td>35.000000</td>\n",
       "      <td>0.000000</td>\n",
       "      <td>-12.000000</td>\n",
       "      <td>10.500000</td>\n",
       "      <td>10.00000</td>\n",
       "      <td>6.000000</td>\n",
       "      <td>1.000000</td>\n",
       "      <td>0.700000</td>\n",
       "      <td>1.100000</td>\n",
       "    </tr>\n",
       "    <tr>\n",
       "      <th>25%</th>\n",
       "      <td>-6.327500</td>\n",
       "      <td>-48.122500</td>\n",
       "      <td>1.678837e+09</td>\n",
       "      <td>1.678837e+09</td>\n",
       "      <td>11.475000</td>\n",
       "      <td>52.625000</td>\n",
       "      <td>0.000000</td>\n",
       "      <td>1003.000000</td>\n",
       "      <td>4.300000</td>\n",
       "      <td>6.800000</td>\n",
       "      <td>...</td>\n",
       "      <td>0.000000</td>\n",
       "      <td>73.500000</td>\n",
       "      <td>28.000000</td>\n",
       "      <td>9.300000</td>\n",
       "      <td>48.725000</td>\n",
       "      <td>10.00000</td>\n",
       "      <td>6.000000</td>\n",
       "      <td>1.000000</td>\n",
       "      <td>7.500000</td>\n",
       "      <td>12.075000</td>\n",
       "    </tr>\n",
       "    <tr>\n",
       "      <th>50%</th>\n",
       "      <td>2.585000</td>\n",
       "      <td>-40.780000</td>\n",
       "      <td>1.678837e+09</td>\n",
       "      <td>1.678837e+09</td>\n",
       "      <td>23.500000</td>\n",
       "      <td>74.300000</td>\n",
       "      <td>0.000000</td>\n",
       "      <td>1003.000000</td>\n",
       "      <td>5.600000</td>\n",
       "      <td>9.000000</td>\n",
       "      <td>...</td>\n",
       "      <td>0.010000</td>\n",
       "      <td>84.500000</td>\n",
       "      <td>43.500000</td>\n",
       "      <td>25.700000</td>\n",
       "      <td>78.250000</td>\n",
       "      <td>10.00000</td>\n",
       "      <td>6.000000</td>\n",
       "      <td>1.000000</td>\n",
       "      <td>10.600000</td>\n",
       "      <td>17.100000</td>\n",
       "    </tr>\n",
       "    <tr>\n",
       "      <th>75%</th>\n",
       "      <td>26.895000</td>\n",
       "      <td>-6.175000</td>\n",
       "      <td>1.678837e+09</td>\n",
       "      <td>1.678837e+09</td>\n",
       "      <td>27.500000</td>\n",
       "      <td>81.500000</td>\n",
       "      <td>0.000000</td>\n",
       "      <td>1003.000000</td>\n",
       "      <td>7.800000</td>\n",
       "      <td>12.550000</td>\n",
       "      <td>...</td>\n",
       "      <td>0.065000</td>\n",
       "      <td>88.000000</td>\n",
       "      <td>68.750000</td>\n",
       "      <td>31.450000</td>\n",
       "      <td>88.650000</td>\n",
       "      <td>10.00000</td>\n",
       "      <td>6.000000</td>\n",
       "      <td>1.000000</td>\n",
       "      <td>15.575000</td>\n",
       "      <td>25.125000</td>\n",
       "    </tr>\n",
       "    <tr>\n",
       "      <th>max</th>\n",
       "      <td>69.000000</td>\n",
       "      <td>33.130000</td>\n",
       "      <td>1.678837e+09</td>\n",
       "      <td>1.678837e+09</td>\n",
       "      <td>28.000000</td>\n",
       "      <td>82.400000</td>\n",
       "      <td>1.000000</td>\n",
       "      <td>1009.000000</td>\n",
       "      <td>12.500000</td>\n",
       "      <td>20.200000</td>\n",
       "      <td>...</td>\n",
       "      <td>0.650000</td>\n",
       "      <td>94.000000</td>\n",
       "      <td>100.000000</td>\n",
       "      <td>31.900000</td>\n",
       "      <td>89.300000</td>\n",
       "      <td>16.00000</td>\n",
       "      <td>9.000000</td>\n",
       "      <td>3.000000</td>\n",
       "      <td>18.300000</td>\n",
       "      <td>29.500000</td>\n",
       "    </tr>\n",
       "  </tbody>\n",
       "</table>\n",
       "<p>8 rows × 24 columns</p>\n",
       "</div>"
      ],
      "text/plain": [
       "       location.lat  location.lon  location.localtime_epoch  \\\n",
       "count      6.000000      6.000000              6.000000e+00   \n",
       "mean      12.716667    -29.680000              1.678837e+09   \n",
       "std       33.434399     41.741158              9.831921e-01   \n",
       "min      -23.570000    -84.440000              1.678837e+09   \n",
       "25%       -6.327500    -48.122500              1.678837e+09   \n",
       "50%        2.585000    -40.780000              1.678837e+09   \n",
       "75%       26.895000     -6.175000              1.678837e+09   \n",
       "max       69.000000     33.130000              1.678837e+09   \n",
       "\n",
       "       current.last_updated_epoch  current.temp_c  current.temp_f  \\\n",
       "count                6.000000e+00        6.000000        6.000000   \n",
       "mean                 1.678837e+09       17.216667       62.983333   \n",
       "std                  0.000000e+00       14.418102       25.957536   \n",
       "min                  1.678837e+09       -8.000000       17.600000   \n",
       "25%                  1.678837e+09       11.475000       52.625000   \n",
       "50%                  1.678837e+09       23.500000       74.300000   \n",
       "75%                  1.678837e+09       27.500000       81.500000   \n",
       "max                  1.678837e+09       28.000000       82.400000   \n",
       "\n",
       "       current.is_day  current.condition.code  current.wind_mph  \\\n",
       "count        6.000000                6.000000          6.000000   \n",
       "mean         0.166667             1003.500000          6.383333   \n",
       "std          0.408248                2.949576          3.655361   \n",
       "min          0.000000             1000.000000          2.200000   \n",
       "25%          0.000000             1003.000000          4.300000   \n",
       "50%          0.000000             1003.000000          5.600000   \n",
       "75%          0.000000             1003.000000          7.800000   \n",
       "max          1.000000             1009.000000         12.500000   \n",
       "\n",
       "       current.wind_kph  ...  current.precip_in  current.humidity  \\\n",
       "count          6.000000  ...           6.000000          6.000000   \n",
       "mean          10.266667  ...           0.125000         76.166667   \n",
       "std            5.924413  ...           0.259056         21.701766   \n",
       "min            3.600000  ...           0.000000         35.000000   \n",
       "25%            6.800000  ...           0.000000         73.500000   \n",
       "50%            9.000000  ...           0.010000         84.500000   \n",
       "75%           12.550000  ...           0.065000         88.000000   \n",
       "max           20.200000  ...           0.650000         94.000000   \n",
       "\n",
       "       current.cloud  current.feelslike_c  current.feelslike_f  \\\n",
       "count       6.000000             6.000000             6.000000   \n",
       "mean       47.833333            18.083333            64.550000   \n",
       "std        35.751457            17.917189            32.208182   \n",
       "min         0.000000           -12.000000            10.500000   \n",
       "25%        28.000000             9.300000            48.725000   \n",
       "50%        43.500000            25.700000            78.250000   \n",
       "75%        68.750000            31.450000            88.650000   \n",
       "max       100.000000            31.900000            89.300000   \n",
       "\n",
       "       current.vis_km  current.vis_miles  current.uv  current.gust_mph  \\\n",
       "count         6.00000           6.000000    6.000000          6.000000   \n",
       "mean         11.00000           6.500000    1.333333         10.650000   \n",
       "std           2.44949           1.224745    0.816497          6.568029   \n",
       "min          10.00000           6.000000    1.000000          0.700000   \n",
       "25%          10.00000           6.000000    1.000000          7.500000   \n",
       "50%          10.00000           6.000000    1.000000         10.600000   \n",
       "75%          10.00000           6.000000    1.000000         15.575000   \n",
       "max          16.00000           9.000000    3.000000         18.300000   \n",
       "\n",
       "       current.gust_kph  \n",
       "count          6.000000  \n",
       "mean          17.166667  \n",
       "std           10.601069  \n",
       "min            1.100000  \n",
       "25%           12.075000  \n",
       "50%           17.100000  \n",
       "75%           25.125000  \n",
       "max           29.500000  \n",
       "\n",
       "[8 rows x 24 columns]"
      ]
     },
     "execution_count": 79,
     "metadata": {},
     "output_type": "execute_result"
    }
   ],
   "source": [
    "tb_weather.describe()"
   ]
  },
  {
   "cell_type": "markdown",
   "metadata": {},
   "source": [
    "# Encapsulando APIs \n",
    "\n",
    "Muitas vezes as funções de uma API são encapsuladas em um **wrapper**: uma classe que contém todo o código necessário para autenticar e parametrizar queries em uma dada API. Vamos construir um **wrapper** para a nossa tarefa acima."
   ]
  },
  {
   "cell_type": "code",
   "execution_count": 81,
   "metadata": {},
   "outputs": [],
   "source": [
    "class WeatherAPI:\n",
    "    '''\n",
    "    Wrapper para a API https://www.weatherapi.com/docs/\n",
    "    '''\n",
    "    def __init__(self, token):\n",
    "        '''\n",
    "        Inicializa o wrapper.\n",
    "        token Str: Token de identificação do usuário da API\n",
    "        '''\n",
    "        self.header = {'key' : token}\n",
    "\n",
    "    def query_latlong(self, lat, long):\n",
    "        '''\n",
    "        Busca dados meterológicos atuais para uma localização específica\n",
    "        lat Float: latitude da localização\n",
    "        long Float: longitude da localização\n",
    "        '''\n",
    "        query = {'q' : f\"{lat:.4f},{long:.4f}\"}\n",
    "        try:\n",
    "            response = requests.request('GET', endpoint, \n",
    "                                        headers=self.header, \n",
    "                                        params=query)\n",
    "            response.raise_for_status()\n",
    "            return response.json()\n",
    "        except HTTPError as e:\n",
    "            print(e)\n",
    "            return None\n",
    "    "
   ]
  },
  {
   "cell_type": "code",
   "execution_count": 82,
   "metadata": {},
   "outputs": [],
   "source": [
    "minha_api = WeatherAPI('bfef1b47e3b8462199b191725221801')"
   ]
  },
  {
   "cell_type": "code",
   "execution_count": 84,
   "metadata": {},
   "outputs": [
    {
     "data": {
      "text/plain": [
       "{'key': 'bfef1b47e3b8462199b191725221801'}"
      ]
     },
     "execution_count": 84,
     "metadata": {},
     "output_type": "execute_result"
    }
   ],
   "source": [
    "minha_api.header"
   ]
  },
  {
   "cell_type": "code",
   "execution_count": 86,
   "metadata": {},
   "outputs": [
    {
     "data": {
      "text/plain": [
       "{'location': {'name': 'Bezono',\n",
       "  'region': 'Mahajanga',\n",
       "  'country': 'Madagascar',\n",
       "  'lat': -15.0,\n",
       "  'lon': 49.0,\n",
       "  'tz_id': 'Indian/Antananarivo',\n",
       "  'localtime_epoch': 1678837736,\n",
       "  'localtime': '2023-03-15 2:48'},\n",
       " 'current': {'last_updated_epoch': 1678837500,\n",
       "  'last_updated': '2023-03-15 02:45',\n",
       "  'temp_c': 18.7,\n",
       "  'temp_f': 65.7,\n",
       "  'is_day': 0,\n",
       "  'condition': {'text': 'Partly cloudy',\n",
       "   'icon': '//cdn.weatherapi.com/weather/64x64/night/116.png',\n",
       "   'code': 1003},\n",
       "  'wind_mph': 3.6,\n",
       "  'wind_kph': 5.8,\n",
       "  'wind_degree': 102,\n",
       "  'wind_dir': 'ESE',\n",
       "  'pressure_mb': 1012.0,\n",
       "  'pressure_in': 29.87,\n",
       "  'precip_mm': 0.0,\n",
       "  'precip_in': 0.0,\n",
       "  'humidity': 88,\n",
       "  'cloud': 30,\n",
       "  'feelslike_c': 18.7,\n",
       "  'feelslike_f': 65.7,\n",
       "  'vis_km': 10.0,\n",
       "  'vis_miles': 6.0,\n",
       "  'uv': 1.0,\n",
       "  'gust_mph': 5.6,\n",
       "  'gust_kph': 9.0}}"
      ]
     },
     "execution_count": 86,
     "metadata": {},
     "output_type": "execute_result"
    }
   ],
   "source": [
    "minha_api.query_latlong(-15, 49)"
   ]
  },
  {
   "cell_type": "code",
   "execution_count": null,
   "metadata": {},
   "outputs": [],
   "source": []
  }
 ],
 "metadata": {
  "hide_input": false,
  "kernelspec": {
   "display_name": "Python 3 (ipykernel)",
   "language": "python",
   "name": "python3"
  },
  "language_info": {
   "codemirror_mode": {
    "name": "ipython",
    "version": 3
   },
   "file_extension": ".py",
   "mimetype": "text/x-python",
   "name": "python",
   "nbconvert_exporter": "python",
   "pygments_lexer": "ipython3",
   "version": "3.9.13"
  },
  "toc": {
   "base_numbering": 1,
   "nav_menu": {},
   "number_sections": true,
   "sideBar": true,
   "skip_h1_title": false,
   "title_cell": "Table of Contents",
   "title_sidebar": "Contents",
   "toc_cell": false,
   "toc_position": {},
   "toc_section_display": true,
   "toc_window_display": false
  },
  "varInspector": {
   "cols": {
    "lenName": 16,
    "lenType": 16,
    "lenVar": 40
   },
   "kernels_config": {
    "python": {
     "delete_cmd_postfix": "",
     "delete_cmd_prefix": "del ",
     "library": "var_list.py",
     "varRefreshCmd": "print(var_dic_list())"
    },
    "r": {
     "delete_cmd_postfix": ") ",
     "delete_cmd_prefix": "rm(",
     "library": "var_list.r",
     "varRefreshCmd": "cat(var_dic_list()) "
    }
   },
   "types_to_exclude": [
    "module",
    "function",
    "builtin_function_or_method",
    "instance",
    "_Feature"
   ],
   "window_display": false
  },
  "vscode": {
   "interpreter": {
    "hash": "014f4a4a5af8f0104b12c029e500f4146d6d785e8cf714d2a35b7a9514230cd3"
   }
  }
 },
 "nbformat": 4,
 "nbformat_minor": 4
}
