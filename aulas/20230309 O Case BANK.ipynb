{
 "cells": [
  {
   "cell_type": "code",
   "execution_count": 1,
   "id": "92560ab5",
   "metadata": {},
   "outputs": [],
   "source": [
    "import pandas as pd\n",
    "import sqlalchemy as sa\n"
   ]
  },
  {
   "cell_type": "markdown",
   "id": "d815d6c0",
   "metadata": {},
   "source": [
    "# Case BANK\n",
    "\n",
    "## Conexão com SQL"
   ]
  },
  {
   "cell_type": "code",
   "execution_count": 15,
   "id": "e09cd6cf",
   "metadata": {},
   "outputs": [],
   "source": [
    "def read_sql(query, engine):\n",
    "    with engine.begin() as conn:\n",
    "        results = pd.read_sql_query(sa.text(query), conn)\n",
    "    return results\n",
    "    \n",
    "def execute_sql(query, engine):\n",
    "    with engine.begin() as conn:\n",
    "        results = conn.execute(\n",
    "            sa.text(query)\n",
    "            )\n",
    "    return results"
   ]
  },
  {
   "cell_type": "code",
   "execution_count": 16,
   "id": "61b043f8",
   "metadata": {},
   "outputs": [],
   "source": [
    "user = \"root\"\n",
    "password = \"swpmlu23-\"\n",
    "url_banco = \"localhost\"\n",
    "nome_db = \"bank\"\n",
    "conn_str = f\"mysql+pymysql://{user}:{password}@{url_banco}/{nome_db}\"\n",
    "engine = sa.create_engine(conn_str)"
   ]
  },
  {
   "cell_type": "markdown",
   "id": "620e9fdf",
   "metadata": {},
   "source": [
    "## Criando Views"
   ]
  },
  {
   "cell_type": "code",
   "execution_count": 17,
   "id": "21e0cbfe",
   "metadata": {},
   "outputs": [
    {
     "data": {
      "text/plain": [
       "<sqlalchemy.engine.cursor.LegacyCursorResult at 0x7faea1d661f0>"
      ]
     },
     "execution_count": 17,
     "metadata": {},
     "output_type": "execute_result"
    }
   ],
   "source": [
    "query_loan_client = '''\n",
    "CREATE VIEW loan_client AS (\n",
    "    SELECT \n",
    "        c.client_id,\n",
    "        l.loan_id,\n",
    "        STR_TO_DATE(a.`date`,\"%y%m%d\") AS dt_criacao_conta,\n",
    "        STR_TO_DATE(l.`date` ,\"%y%m%d\") AS dt_emprestimo,\n",
    "        CASE \n",
    "            WHEN l.status = \"A\" OR l.status = \"C\" THEN 0\n",
    "            ELSE 1\n",
    "        END AS status_devedor,\n",
    "        l.amount,\n",
    "        l.duration \n",
    "    FROM \n",
    "        bank.loan l JOIN\n",
    "        bank.account a ON (l.account_id = a.account_id) JOIN \n",
    "        bank.disp d ON (a.account_id = d.account_id) JOIN \n",
    "        bank.client c ON (d.client_id = c.client_id)\n",
    "    WHERE\n",
    "        d.`type` = \"OWNER\"\n",
    "    )\n",
    "'''\n",
    "execute_sql(query_loan_client, engine)"
   ]
  },
  {
   "cell_type": "code",
   "execution_count": 18,
   "id": "11beca70",
   "metadata": {},
   "outputs": [
    {
     "data": {
      "text/plain": [
       "<sqlalchemy.engine.cursor.LegacyCursorResult at 0x7fae610b5d90>"
      ]
     },
     "execution_count": 18,
     "metadata": {},
     "output_type": "execute_result"
    }
   ],
   "source": [
    "query_loan_trans = '''\n",
    "CREATE VIEW loan_trans AS (\n",
    "    SELECT\n",
    "        l.loan_id,\n",
    "        l.account_id,\n",
    "        t.trans_id,\n",
    "        STR_TO_DATE(l.`date`,\"%y%m%d\") AS dt_loan_date,\n",
    "        STR_TO_DATE(t.`date`,\"%y%m%d\") AS dt_trans_date,\n",
    "        CASE\n",
    "            WHEN t.`type` = \"PRIJEM\" THEN \"CREDITO\"\n",
    "            ELSE \"RETIRADA\"\n",
    "        END AS tipo_trans,\n",
    "        t.amount,\n",
    "        CASE \n",
    "            WHEN t.`type` = \"PRIJEM\" THEN t.amount\n",
    "            ELSE -1*t.amount\n",
    "        END AS amount_com_sinal,\n",
    "        t.balance,\n",
    "        DATEDIFF(STR_TO_DATE(l.`date`,\"%y%m%d\"),  STR_TO_DATE(t.`date`,\"%y%m%d\")) AS dias_ate_emprestimo\n",
    "    FROM \n",
    "        bank.loan l JOIN\n",
    "        bank.trans t ON (l.account_id = t.account_id)\n",
    "    HAVING \n",
    "        dt_trans_date <= dt_loan_date\n",
    "    ORDER BY \n",
    "        l.loan_id,\n",
    "        dt_trans_date\n",
    ")\n",
    "'''\n",
    "execute_sql(query_loan_trans, engine)"
   ]
  },
  {
   "cell_type": "markdown",
   "id": "55136c2c",
   "metadata": {},
   "source": [
    "## Análise de Transações"
   ]
  },
  {
   "cell_type": "code",
   "execution_count": 42,
   "id": "140f66b9",
   "metadata": {},
   "outputs": [],
   "source": [
    "query_client_loan_trans = '''\n",
    "    WITH agg_trans AS (\n",
    "    SELECT\n",
    "        lt.loan_id,\n",
    "        SUM(\n",
    "            CASE\n",
    "                WHEN lt.tipo_trans = \"CREDITO\" THEN lt.amount\n",
    "                ELSE 0\n",
    "            END\n",
    "        ) AS total_deposito,\n",
    "        SUM(\n",
    "            CASE\n",
    "                WHEN lt.tipo_trans = \"CREDITO\" AND lt.dias_ate_emprestimo <= 90 THEN lt.amount\n",
    "                ELSE 0\n",
    "            END\n",
    "        ) AS total_deposito_90,\n",
    "        SUM(\n",
    "            CASE\n",
    "                WHEN lt.tipo_trans = \"CREDITO\" AND lt.dias_ate_emprestimo <= 90 THEN 1\n",
    "                ELSE 0\n",
    "            END\n",
    "        ) AS num_deposito_90,\n",
    "        SUM(\n",
    "            CASE\n",
    "                WHEN lt.tipo_trans = \"RETIRADA\" THEN lt.amount\n",
    "                ELSE 0\n",
    "            END\n",
    "        ) AS total_retirada,\n",
    "        SUM(\n",
    "            CASE\n",
    "                WHEN lt.tipo_trans = \"RETIRADA\" AND lt.dias_ate_emprestimo <= 90 THEN lt.amount\n",
    "                ELSE 0\n",
    "            END\n",
    "        ) AS total_retirada_90,\n",
    "        SUM(\n",
    "            CASE\n",
    "                WHEN lt.tipo_trans = \"RETIRADA\" AND lt.dias_ate_emprestimo <= 90 THEN 1\n",
    "                ELSE 0\n",
    "            END\n",
    "        ) AS num_retirada_90,\n",
    "        SUM(\n",
    "            CASE\n",
    "                WHEN lt.balance < 0 THEN 1\n",
    "                ELSE 0\n",
    "            END\n",
    "        ) AS num_saldo_negativo,\n",
    "        SUM(\n",
    "            CASE\n",
    "                WHEN lt.balance < 0 AND lt.dias_ate_emprestimo <= 90 THEN 1\n",
    "                ELSE 0\n",
    "            END\n",
    "        ) AS num_saldo_negativo_90,\n",
    "        AVG(lt.balance) AS saldo_medio\n",
    "    FROM \n",
    "        bank.loan_trans lt \n",
    "    GROUP BY\n",
    "        lt.loan_id)\n",
    "SELECT \n",
    "    *\n",
    "FROM \n",
    "    bank.loan_client lc JOIN\n",
    "    agg_trans ON (lc.loan_id = agg_trans.loan_id)\n",
    "'''\n",
    "tb_clt = read_sql(query_client_loan_trans, engine)"
   ]
  },
  {
   "cell_type": "code",
   "execution_count": 43,
   "id": "05b48d71",
   "metadata": {},
   "outputs": [
    {
     "data": {
      "text/plain": [
       "Index(['client_id', 'loan_id', 'dt_criacao_conta', 'dt_emprestimo',\n",
       "       'status_devedor', 'amount', 'duration', 'loan_id', 'total_deposito',\n",
       "       'total_deposito_90', 'num_deposito_90', 'total_retirada',\n",
       "       'total_retirada_90', 'num_retirada_90', 'num_saldo_negativo',\n",
       "       'num_saldo_negativo_90', 'saldo_medio'],\n",
       "      dtype='object')"
      ]
     },
     "execution_count": 43,
     "metadata": {},
     "output_type": "execute_result"
    }
   ],
   "source": [
    "tb_clt.columns"
   ]
  },
  {
   "cell_type": "code",
   "execution_count": 44,
   "id": "32766709",
   "metadata": {},
   "outputs": [
    {
     "data": {
      "text/html": [
       "<div>\n",
       "<style scoped>\n",
       "    .dataframe tbody tr th:only-of-type {\n",
       "        vertical-align: middle;\n",
       "    }\n",
       "\n",
       "    .dataframe tbody tr th {\n",
       "        vertical-align: top;\n",
       "    }\n",
       "\n",
       "    .dataframe thead th {\n",
       "        text-align: right;\n",
       "    }\n",
       "</style>\n",
       "<table border=\"1\" class=\"dataframe\">\n",
       "  <thead>\n",
       "    <tr style=\"text-align: right;\">\n",
       "      <th></th>\n",
       "      <th>status_devedor</th>\n",
       "      <th>total_deposito</th>\n",
       "      <th>total_deposito_90</th>\n",
       "      <th>num_deposito_90</th>\n",
       "      <th>total_retirada</th>\n",
       "      <th>total_retirada_90</th>\n",
       "      <th>num_retirada_90</th>\n",
       "      <th>saldo_medio</th>\n",
       "    </tr>\n",
       "  </thead>\n",
       "  <tbody>\n",
       "    <tr>\n",
       "      <th>0</th>\n",
       "      <td>0</td>\n",
       "      <td>297061.96</td>\n",
       "      <td>67257.48</td>\n",
       "      <td>6.34</td>\n",
       "      <td>281201.98</td>\n",
       "      <td>71197.78</td>\n",
       "      <td>11.24</td>\n",
       "      <td>44037.78</td>\n",
       "    </tr>\n",
       "    <tr>\n",
       "      <th>1</th>\n",
       "      <td>1</td>\n",
       "      <td>278733.17</td>\n",
       "      <td>57558.61</td>\n",
       "      <td>6.72</td>\n",
       "      <td>254299.29</td>\n",
       "      <td>61787.30</td>\n",
       "      <td>9.49</td>\n",
       "      <td>37093.79</td>\n",
       "    </tr>\n",
       "  </tbody>\n",
       "</table>\n",
       "</div>"
      ],
      "text/plain": [
       "   status_devedor  total_deposito  total_deposito_90  num_deposito_90  \\\n",
       "0               0       297061.96           67257.48             6.34   \n",
       "1               1       278733.17           57558.61             6.72   \n",
       "\n",
       "   total_retirada  total_retirada_90  num_retirada_90  saldo_medio  \n",
       "0       281201.98           71197.78            11.24     44037.78  \n",
       "1       254299.29           61787.30             9.49     37093.79  "
      ]
     },
     "execution_count": 44,
     "metadata": {},
     "output_type": "execute_result"
    }
   ],
   "source": [
    "tb_clt.groupby('status_devedor')[['total_deposito',\n",
    "       'total_deposito_90', 'num_deposito_90', 'total_retirada',\n",
    "       'total_retirada_90', 'num_retirada_90', 'saldo_medio']].mean().reset_index().round(2)"
   ]
  },
  {
   "cell_type": "code",
   "execution_count": 45,
   "id": "a311b80b",
   "metadata": {},
   "outputs": [
    {
     "data": {
      "text/plain": [
       "status_devedor\n",
       "0    3.496213\n",
       "1    7.353995\n",
       "Name: prop_emprestimo_saldo, dtype: float64"
      ]
     },
     "execution_count": 45,
     "metadata": {},
     "output_type": "execute_result"
    }
   ],
   "source": [
    "tb_clt['prop_emprestimo_saldo'] = tb_clt['amount']/tb_clt['saldo_medio']\n",
    "tb_clt.groupby('status_devedor')['prop_emprestimo_saldo'].mean()"
   ]
  },
  {
   "cell_type": "code",
   "execution_count": 46,
   "id": "8419db2d",
   "metadata": {},
   "outputs": [
    {
     "data": {
      "text/plain": [
       "status_devedor\n",
       "0     15.239609\n",
       "1    132.125712\n",
       "Name: prop_emprestimo_deposito, dtype: float64"
      ]
     },
     "execution_count": 46,
     "metadata": {},
     "output_type": "execute_result"
    }
   ],
   "source": [
    "tb_clt['prop_emprestimo_deposito'] = tb_clt['amount']/tb_clt['total_deposito_90']\n",
    "tb_clt.groupby('status_devedor')['prop_emprestimo_deposito'].mean()"
   ]
  },
  {
   "cell_type": "code",
   "execution_count": 47,
   "id": "bc2d92cb",
   "metadata": {},
   "outputs": [
    {
     "data": {
      "text/plain": [
       "Index(['client_id', 'loan_id', 'dt_criacao_conta', 'dt_emprestimo',\n",
       "       'status_devedor', 'amount', 'duration', 'loan_id', 'total_deposito',\n",
       "       'total_deposito_90', 'num_deposito_90', 'total_retirada',\n",
       "       'total_retirada_90', 'num_retirada_90', 'num_saldo_negativo',\n",
       "       'num_saldo_negativo_90', 'saldo_medio', 'prop_emprestimo_saldo',\n",
       "       'prop_emprestimo_deposito'],\n",
       "      dtype='object')"
      ]
     },
     "execution_count": 47,
     "metadata": {},
     "output_type": "execute_result"
    }
   ],
   "source": [
    "tb_clt.columns"
   ]
  },
  {
   "cell_type": "code",
   "execution_count": 48,
   "id": "d3cb07fa",
   "metadata": {},
   "outputs": [],
   "source": [
    "# Isto é uma gambiarra para não re-escrever nosso view!\n",
    "tb_clt['parcela'] = tb_clt['amount']/tb_clt['duration']\n",
    "tb_clt['deposito_medio_90'] = tb_clt['total_deposito_90']/tb_clt['num_deposito_90']\n",
    "tb_clt['prop_parcela_deposito_mu'] = tb_clt['parcela']/tb_clt['deposito_medio_90']"
   ]
  },
  {
   "cell_type": "code",
   "execution_count": 49,
   "id": "15349925",
   "metadata": {},
   "outputs": [
    {
     "data": {
      "text/plain": [
       "status_devedor\n",
       "0    1.382537\n",
       "1    7.963385\n",
       "Name: prop_parcela_deposito_mu, dtype: float64"
      ]
     },
     "execution_count": 49,
     "metadata": {},
     "output_type": "execute_result"
    }
   ],
   "source": [
    "tb_clt.groupby('status_devedor')['prop_parcela_deposito_mu'].mean()"
   ]
  },
  {
   "cell_type": "code",
   "execution_count": 51,
   "id": "796ae11f",
   "metadata": {},
   "outputs": [
    {
     "data": {
      "text/html": [
       "<div>\n",
       "<style scoped>\n",
       "    .dataframe tbody tr th:only-of-type {\n",
       "        vertical-align: middle;\n",
       "    }\n",
       "\n",
       "    .dataframe tbody tr th {\n",
       "        vertical-align: top;\n",
       "    }\n",
       "\n",
       "    .dataframe thead th {\n",
       "        text-align: right;\n",
       "    }\n",
       "</style>\n",
       "<table border=\"1\" class=\"dataframe\">\n",
       "  <thead>\n",
       "    <tr style=\"text-align: right;\">\n",
       "      <th></th>\n",
       "      <th>status_devedor</th>\n",
       "      <th>num_saldo_negativo</th>\n",
       "      <th>num_saldo_negativo_90</th>\n",
       "    </tr>\n",
       "  </thead>\n",
       "  <tbody>\n",
       "    <tr>\n",
       "      <th>0</th>\n",
       "      <td>0</td>\n",
       "      <td>0.000000</td>\n",
       "      <td>0.000000</td>\n",
       "    </tr>\n",
       "    <tr>\n",
       "      <th>1</th>\n",
       "      <td>1</td>\n",
       "      <td>1.592105</td>\n",
       "      <td>0.907895</td>\n",
       "    </tr>\n",
       "  </tbody>\n",
       "</table>\n",
       "</div>"
      ],
      "text/plain": [
       "   status_devedor  num_saldo_negativo  num_saldo_negativo_90\n",
       "0               0            0.000000               0.000000\n",
       "1               1            1.592105               0.907895"
      ]
     },
     "execution_count": 51,
     "metadata": {},
     "output_type": "execute_result"
    }
   ],
   "source": [
    "tb_clt.groupby('status_devedor')[['num_saldo_negativo', 'num_saldo_negativo_90']].mean().reset_index()"
   ]
  },
  {
   "cell_type": "markdown",
   "id": "3942e991",
   "metadata": {},
   "source": [
    "## Análise Demográfica"
   ]
  },
  {
   "cell_type": "code",
   "execution_count": 55,
   "id": "936c5af8",
   "metadata": {},
   "outputs": [],
   "source": [
    "query_distrito = '''\n",
    "WITH d AS\n",
    "(\n",
    "    SELECT\n",
    "        d.A1 AS district_id,\n",
    "        d.A2 AS district_name,\n",
    "        d.A3 AS region_name,\n",
    "        d.a4 AS population,\n",
    "        d.A11 AS average_salary,\n",
    "        d.A12 AS desemprego_95,\n",
    "        d.A13 AS desemprego_96,\n",
    "        d.A10 AS urbanizacao,\n",
    "        d.a15/d.a4*1000 AS crimes_1k_95,\n",
    "        d.a16/d.a4*1000 AS crimes_1k_96\n",
    "    FROM \n",
    "        bank.district d\n",
    ")\n",
    "SELECT\n",
    "    lc.*,\n",
    "    d.*\n",
    "FROM \n",
    "    d JOIN\n",
    "    bank.client c ON (d.district_id = c.district_id) JOIN \n",
    "    bank.loan_client lc ON (c.client_id = lc.client_id)\n",
    "'''\n",
    "tb_distrito = read_sql(query_distrito, engine)"
   ]
  },
  {
   "cell_type": "code",
   "execution_count": 56,
   "id": "aad9d055",
   "metadata": {},
   "outputs": [
    {
     "data": {
      "text/html": [
       "<div>\n",
       "<style scoped>\n",
       "    .dataframe tbody tr th:only-of-type {\n",
       "        vertical-align: middle;\n",
       "    }\n",
       "\n",
       "    .dataframe tbody tr th {\n",
       "        vertical-align: top;\n",
       "    }\n",
       "\n",
       "    .dataframe thead th {\n",
       "        text-align: right;\n",
       "    }\n",
       "</style>\n",
       "<table border=\"1\" class=\"dataframe\">\n",
       "  <thead>\n",
       "    <tr style=\"text-align: right;\">\n",
       "      <th></th>\n",
       "      <th>client_id</th>\n",
       "      <th>loan_id</th>\n",
       "      <th>dt_criacao_conta</th>\n",
       "      <th>dt_emprestimo</th>\n",
       "      <th>status_devedor</th>\n",
       "      <th>amount</th>\n",
       "      <th>duration</th>\n",
       "      <th>district_id</th>\n",
       "      <th>district_name</th>\n",
       "      <th>region_name</th>\n",
       "      <th>population</th>\n",
       "      <th>average_salary</th>\n",
       "      <th>desemprego_95</th>\n",
       "      <th>desemprego_96</th>\n",
       "      <th>urbanizacao</th>\n",
       "      <th>crimes_1k_95</th>\n",
       "      <th>crimes_1k_96</th>\n",
       "    </tr>\n",
       "  </thead>\n",
       "  <tbody>\n",
       "    <tr>\n",
       "      <th>0</th>\n",
       "      <td>2</td>\n",
       "      <td>4959</td>\n",
       "      <td>1993-02-26</td>\n",
       "      <td>1994-01-05</td>\n",
       "      <td>0</td>\n",
       "      <td>80952</td>\n",
       "      <td>24</td>\n",
       "      <td>1</td>\n",
       "      <td>Hl.m. Praha</td>\n",
       "      <td>Prague</td>\n",
       "      <td>1204953</td>\n",
       "      <td>12541</td>\n",
       "      <td>0.29</td>\n",
       "      <td>0.43</td>\n",
       "      <td>100.0</td>\n",
       "      <td>71.1040</td>\n",
       "      <td>82.2497</td>\n",
       "    </tr>\n",
       "    <tr>\n",
       "      <th>1</th>\n",
       "      <td>25</td>\n",
       "      <td>4961</td>\n",
       "      <td>1995-04-07</td>\n",
       "      <td>1996-04-29</td>\n",
       "      <td>1</td>\n",
       "      <td>30276</td>\n",
       "      <td>12</td>\n",
       "      <td>21</td>\n",
       "      <td>Tabor</td>\n",
       "      <td>south Bohemia</td>\n",
       "      <td>103347</td>\n",
       "      <td>9104</td>\n",
       "      <td>1.51</td>\n",
       "      <td>2.07</td>\n",
       "      <td>67.0</td>\n",
       "      <td>22.2454</td>\n",
       "      <td>22.7776</td>\n",
       "    </tr>\n",
       "    <tr>\n",
       "      <th>2</th>\n",
       "      <td>31</td>\n",
       "      <td>4962</td>\n",
       "      <td>1996-07-28</td>\n",
       "      <td>1997-12-08</td>\n",
       "      <td>0</td>\n",
       "      <td>30276</td>\n",
       "      <td>12</td>\n",
       "      <td>68</td>\n",
       "      <td>Frydek - Mistek</td>\n",
       "      <td>north Moravia</td>\n",
       "      <td>228848</td>\n",
       "      <td>9893</td>\n",
       "      <td>4.09</td>\n",
       "      <td>4.72</td>\n",
       "      <td>57.2</td>\n",
       "      <td>24.5709</td>\n",
       "      <td>25.7245</td>\n",
       "    </tr>\n",
       "    <tr>\n",
       "      <th>3</th>\n",
       "      <td>45</td>\n",
       "      <td>4967</td>\n",
       "      <td>1997-08-18</td>\n",
       "      <td>1998-10-14</td>\n",
       "      <td>1</td>\n",
       "      <td>318480</td>\n",
       "      <td>60</td>\n",
       "      <td>20</td>\n",
       "      <td>Strakonice</td>\n",
       "      <td>south Bohemia</td>\n",
       "      <td>70646</td>\n",
       "      <td>8547</td>\n",
       "      <td>2.65</td>\n",
       "      <td>3.64</td>\n",
       "      <td>58.4</td>\n",
       "      <td>22.1244</td>\n",
       "      <td>21.8271</td>\n",
       "    </tr>\n",
       "    <tr>\n",
       "      <th>4</th>\n",
       "      <td>46</td>\n",
       "      <td>4968</td>\n",
       "      <td>1997-08-08</td>\n",
       "      <td>1998-04-19</td>\n",
       "      <td>0</td>\n",
       "      <td>110736</td>\n",
       "      <td>48</td>\n",
       "      <td>19</td>\n",
       "      <td>Prachatice</td>\n",
       "      <td>south Bohemia</td>\n",
       "      <td>51428</td>\n",
       "      <td>8402</td>\n",
       "      <td>3.13</td>\n",
       "      <td>3.98</td>\n",
       "      <td>52.7</td>\n",
       "      <td>19.4252</td>\n",
       "      <td>21.3697</td>\n",
       "    </tr>\n",
       "  </tbody>\n",
       "</table>\n",
       "</div>"
      ],
      "text/plain": [
       "   client_id  loan_id dt_criacao_conta dt_emprestimo  status_devedor  amount  \\\n",
       "0          2     4959       1993-02-26    1994-01-05               0   80952   \n",
       "1         25     4961       1995-04-07    1996-04-29               1   30276   \n",
       "2         31     4962       1996-07-28    1997-12-08               0   30276   \n",
       "3         45     4967       1997-08-18    1998-10-14               1  318480   \n",
       "4         46     4968       1997-08-08    1998-04-19               0  110736   \n",
       "\n",
       "   duration  district_id    district_name    region_name  population  \\\n",
       "0        24            1      Hl.m. Praha         Prague     1204953   \n",
       "1        12           21            Tabor  south Bohemia      103347   \n",
       "2        12           68  Frydek - Mistek  north Moravia      228848   \n",
       "3        60           20       Strakonice  south Bohemia       70646   \n",
       "4        48           19       Prachatice  south Bohemia       51428   \n",
       "\n",
       "   average_salary  desemprego_95  desemprego_96  urbanizacao  crimes_1k_95  \\\n",
       "0           12541           0.29           0.43        100.0       71.1040   \n",
       "1            9104           1.51           2.07         67.0       22.2454   \n",
       "2            9893           4.09           4.72         57.2       24.5709   \n",
       "3            8547           2.65           3.64         58.4       22.1244   \n",
       "4            8402           3.13           3.98         52.7       19.4252   \n",
       "\n",
       "   crimes_1k_96  \n",
       "0       82.2497  \n",
       "1       22.7776  \n",
       "2       25.7245  \n",
       "3       21.8271  \n",
       "4       21.3697  "
      ]
     },
     "execution_count": 56,
     "metadata": {},
     "output_type": "execute_result"
    }
   ],
   "source": [
    "tb_distrito.head()"
   ]
  },
  {
   "cell_type": "code",
   "execution_count": 57,
   "id": "f06090cf",
   "metadata": {},
   "outputs": [
    {
     "data": {
      "text/plain": [
       "Index(['client_id', 'loan_id', 'dt_criacao_conta', 'dt_emprestimo',\n",
       "       'status_devedor', 'amount', 'duration', 'district_id', 'district_name',\n",
       "       'region_name', 'population', 'average_salary', 'desemprego_95',\n",
       "       'desemprego_96', 'urbanizacao', 'crimes_1k_95', 'crimes_1k_96'],\n",
       "      dtype='object')"
      ]
     },
     "execution_count": 57,
     "metadata": {},
     "output_type": "execute_result"
    }
   ],
   "source": [
    "tb_distrito.columns"
   ]
  },
  {
   "cell_type": "code",
   "execution_count": 61,
   "id": "3a9dc9fe",
   "metadata": {},
   "outputs": [
    {
     "data": {
      "text/html": [
       "<div>\n",
       "<style scoped>\n",
       "    .dataframe tbody tr th:only-of-type {\n",
       "        vertical-align: middle;\n",
       "    }\n",
       "\n",
       "    .dataframe tbody tr th {\n",
       "        vertical-align: top;\n",
       "    }\n",
       "\n",
       "    .dataframe thead th {\n",
       "        text-align: right;\n",
       "    }\n",
       "</style>\n",
       "<table border=\"1\" class=\"dataframe\">\n",
       "  <thead>\n",
       "    <tr style=\"text-align: right;\">\n",
       "      <th></th>\n",
       "      <th>population</th>\n",
       "      <th>average_salary</th>\n",
       "      <th>desemprego_95</th>\n",
       "      <th>desemprego_96</th>\n",
       "      <th>urbanizacao</th>\n",
       "      <th>crimes_1k_95</th>\n",
       "      <th>crimes_1k_96</th>\n",
       "    </tr>\n",
       "    <tr>\n",
       "      <th>status_devedor</th>\n",
       "      <th></th>\n",
       "      <th></th>\n",
       "      <th></th>\n",
       "      <th></th>\n",
       "      <th></th>\n",
       "      <th></th>\n",
       "      <th></th>\n",
       "    </tr>\n",
       "  </thead>\n",
       "  <tbody>\n",
       "    <tr>\n",
       "      <th>0</th>\n",
       "      <td>267634.531353</td>\n",
       "      <td>9483.674917</td>\n",
       "      <td>2.858663</td>\n",
       "      <td>3.524191</td>\n",
       "      <td>67.897690</td>\n",
       "      <td>34.528956</td>\n",
       "      <td>36.703092</td>\n",
       "    </tr>\n",
       "    <tr>\n",
       "      <th>1</th>\n",
       "      <td>233625.881579</td>\n",
       "      <td>9354.052632</td>\n",
       "      <td>2.976974</td>\n",
       "      <td>3.770132</td>\n",
       "      <td>67.594737</td>\n",
       "      <td>33.108537</td>\n",
       "      <td>35.350088</td>\n",
       "    </tr>\n",
       "  </tbody>\n",
       "</table>\n",
       "</div>"
      ],
      "text/plain": [
       "                   population  average_salary  desemprego_95  desemprego_96  \\\n",
       "status_devedor                                                                \n",
       "0               267634.531353     9483.674917       2.858663       3.524191   \n",
       "1               233625.881579     9354.052632       2.976974       3.770132   \n",
       "\n",
       "                urbanizacao  crimes_1k_95  crimes_1k_96  \n",
       "status_devedor                                           \n",
       "0                 67.897690     34.528956     36.703092  \n",
       "1                 67.594737     33.108537     35.350088  "
      ]
     },
     "execution_count": 61,
     "metadata": {},
     "output_type": "execute_result"
    }
   ],
   "source": [
    "tb_distrito.groupby('status_devedor')[['population', 'average_salary', 'desemprego_95', 'desemprego_96', 'urbanizacao', 'crimes_1k_95', 'crimes_1k_96']].mean()"
   ]
  },
  {
   "cell_type": "code",
   "execution_count": 64,
   "id": "8042b729",
   "metadata": {},
   "outputs": [
    {
     "data": {
      "text/plain": [
       "0.25    1.51\n",
       "0.50    2.77\n",
       "0.75    3.85\n",
       "Name: desemprego_95, dtype: float64"
      ]
     },
     "execution_count": 64,
     "metadata": {},
     "output_type": "execute_result"
    }
   ],
   "source": [
    "tb_distrito['desemprego_95'].quantile([0.25, 0.5, 0.75])"
   ]
  },
  {
   "cell_type": "code",
   "execution_count": null,
   "id": "acd774d2",
   "metadata": {},
   "outputs": [],
   "source": []
  }
 ],
 "metadata": {
  "kernelspec": {
   "display_name": "Python 3 (ipykernel)",
   "language": "python",
   "name": "python3"
  },
  "language_info": {
   "codemirror_mode": {
    "name": "ipython",
    "version": 3
   },
   "file_extension": ".py",
   "mimetype": "text/x-python",
   "name": "python",
   "nbconvert_exporter": "python",
   "pygments_lexer": "ipython3",
   "version": "3.9.13"
  },
  "toc": {
   "base_numbering": 1,
   "nav_menu": {},
   "number_sections": true,
   "sideBar": true,
   "skip_h1_title": false,
   "title_cell": "Table of Contents",
   "title_sidebar": "Contents",
   "toc_cell": false,
   "toc_position": {},
   "toc_section_display": true,
   "toc_window_display": false
  }
 },
 "nbformat": 4,
 "nbformat_minor": 5
}
