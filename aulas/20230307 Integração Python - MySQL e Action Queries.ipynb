{
 "cells": [
  {
   "cell_type": "markdown",
   "metadata": {},
   "source": [
    "# Integração Python-SQL\n",
    "\n",
    "Até agora vimos como construir *queries* dentro de um ambiente SQL (através do cliente *DBeaver*). Embora a utilização de um cliente seja fundamental para explorar o banco de dados e construir *queries* de forma mais rápida, ele não contém ferramentas analíticas (tabelas, funções matemáticas complexas, gráficos, modelos, etc).\n",
    "\n",
    "Para acessar funções analíticas podemos utilizar outras ferramentas como **clientes** do nosso banco de dados: desde o Excel até Python e Tableau. Na aula de hoje veremos como conectar o Python ao nosso servidor MySQL e extrair dados para análise.\n",
    "\n",
    "Vamos utilizar a biblioteca **pymysql** para realizar essa conexão. Além disso utilizaremos a biblioteca **sqlalchemy** para executar queries em nosso banco.\n",
    "\n",
    "## PyMySQL + SQLAlchemy"
   ]
  },
  {
   "cell_type": "code",
   "execution_count": null,
   "metadata": {},
   "outputs": [],
   "source": [
    "!pip install pymysql"
   ]
  },
  {
   "cell_type": "code",
   "execution_count": null,
   "metadata": {},
   "outputs": [],
   "source": [
    "from sqlalchemy import create_engine"
   ]
  },
  {
   "cell_type": "markdown",
   "metadata": {},
   "source": [
    "Primeiro precisamos especificar os **parâmetros de conexão** ao nosso banco de dados:"
   ]
  },
  {
   "cell_type": "code",
   "execution_count": null,
   "metadata": {},
   "outputs": [],
   "source": [
    "user = \"root\"\n",
    "password = \"swpmlu23-\"\n",
    "url_banco = \"localhost\"\n",
    "nome_db = \"bank\"\n",
    "conn_str = f\"mysql+pymysql://{user}:{password}@{url_banco}/{nome_db}\"\n",
    "print(conn_str)"
   ]
  },
  {
   "cell_type": "markdown",
   "metadata": {},
   "source": [
    "Agora vamos utilizar o string de conexão `conn_str` para criar um objeto `engine`:"
   ]
  },
  {
   "cell_type": "code",
   "execution_count": null,
   "metadata": {},
   "outputs": [],
   "source": [
    "engine = create_engine(conn_str)\n",
    "print(engine)"
   ]
  },
  {
   "cell_type": "markdown",
   "metadata": {},
   "source": [
    "Para executar um query basta utilizarmos o método `.execute()` de um `Engine`:"
   ]
  },
  {
   "cell_type": "code",
   "execution_count": null,
   "metadata": {},
   "outputs": [],
   "source": [
    "results = engine.execute(\"SELECT * FROM account\")\n",
    "print(results)"
   ]
  },
  {
   "cell_type": "markdown",
   "metadata": {},
   "source": [
    "O resultado do método é um **cursor**: ele ainda não contém os resultados de nosso query. Para extrair-los utilizaremos o método `.fetchall()`:"
   ]
  },
  {
   "cell_type": "code",
   "execution_count": null,
   "metadata": {},
   "outputs": [],
   "source": [
    "dados = results.fetchall()\n",
    "dados"
   ]
  },
  {
   "cell_type": "markdown",
   "metadata": {},
   "source": [
    "## Utilizando Pandas\n",
    "\n",
    "O resultado do método `.fetchall()` é uma lista. Embora listas sejam facilmente transformadas em `DataFrames`, podemos economizar esforços utilizando a função `read_sql_query()` da biblioteca Pandas."
   ]
  },
  {
   "cell_type": "code",
   "execution_count": null,
   "metadata": {},
   "outputs": [],
   "source": [
    "import pandas as pd"
   ]
  },
  {
   "cell_type": "markdown",
   "metadata": {},
   "source": [
    "Para utilizarmos está função precisaremos do nosso `Engine`, criado através da **SQLAlchemy** na primeira parte da aula."
   ]
  },
  {
   "cell_type": "code",
   "execution_count": null,
   "metadata": {},
   "outputs": [],
   "source": [
    "tb_account = pd.read_sql_query(\"SELECT * FROM account\", engine)\n",
    "tb_account.head()"
   ]
  },
  {
   "cell_type": "markdown",
   "metadata": {},
   "source": [
    "Os queries que vimos acima são *one-liners*: simples o suficiente para serem escritos em uma linha de código. Conforme a complexidade de nossos queries aumenta, devemos utilizar *strings multi-line* ou arquivos `.sql` para guardar nossos queries:"
   ]
  },
  {
   "cell_type": "code",
   "execution_count": null,
   "metadata": {},
   "outputs": [],
   "source": [
    "query_loan = '''\n",
    "'''\n",
    "tb_district_loan = pd.read_sql_query(query_loan, engine)\n",
    "tb_district_loan.head()"
   ]
  },
  {
   "cell_type": "markdown",
   "metadata": {},
   "source": [
    "Outra forma de estruturar nossos queries é salvando-os em arquivos externos `.sql` - dessa forma mantemos separados Python e SQL de uma forma simples:"
   ]
  },
  {
   "cell_type": "code",
   "execution_count": null,
   "metadata": {},
   "outputs": [],
   "source": [
    "fd = open('queries/QUERY_DISTRICT_LOAN.sql', 'r')\n",
    "sqlFile = fd.read()\n",
    "fd.close()\n",
    "print(sqlFile)"
   ]
  },
  {
   "cell_type": "code",
   "execution_count": null,
   "metadata": {},
   "outputs": [],
   "source": [
    "tb_district_loan = pd.read_sql_query(sqlFile, engine)\n",
    "tb_district_loan.head()"
   ]
  },
  {
   "cell_type": "markdown",
   "metadata": {},
   "source": [
    "# Action Queries\n",
    "\n",
    "Action queries (o **C**, **U** e **D** em **CRUD**) são queries que realizam alterações em nosso DB:\n",
    "\n",
    "1) **CREATE** nos permite criar tabelas e DBs através dos queries:\n",
    "    * **CREATE TABLE *nome_tabela* (*coluna_1* *tipo*, *coluna_2* *tipo*, *...*)** para criar tabelas;\n",
    "    * **CREATE DATABASE *nome_db*** para criar DBs;\n",
    "    * **INSERT INTO *nome_tabela* VALUES (*valor1*, *valor2*, *...*)** para inserir uma nova linha na tabela *nome_tabela* com valores igual à *valor1*, *valor2*, *...*\n",
    "1) **UPDATE** nos permite alterar uma estrutura existente em nosso DB;\n",
    "    * **ALTER TABLE *nome_tabela* ADD PRIMARY KEY *nome_coluna*** para criar uma chave primaria em uma tabela existente; \n",
    "    * **ALTER TABLE *nome_tabela* ADD FOREIGN KEY (*nome_coluna*) REFERENCES *nome_outra_tabela*(*nome_coluna_2*)** para criar um relação entre as tabelas *nome_tabela* e *nome_outra_tabela* através das colunas *nome_coluna* e *nome_coluna_2*;\n",
    "    * **UPDATE *nome_tabela* SET *coluna_1* = *valor1*, *coluna_2* = *valor2* ... WHERE *condição*** para alterar os valores das colunas *coluna_1*, *coluna_2*, *...*, em todas as linhas onde *condição* é verdadeira.\n",
    "1) **DELETE** nos permite excluir objetos do nosso DB;\n",
    "    * **DROP DATABASE IF EXISTS *nome_db*** para excluir o DB *nome_db* caso ele exista;\n",
    "    * **DROP TABLE IF EXISTS *nome_db.nome_tabela*** para excluir a tabela *nome_tabela* do DB *nome_db*;\n",
    "    * **DROP TABLE IF EXISTS *nome_db.nome_tabela* CASCADE** para excluir a tabela *nome_tabela* do DB *nome_db* e todas as tabelas que dependam de *nome_tabela*;\n",
    "    * **DELETE FROM *nome_tabela* WHERE *condição*** para excluir todas as linhas ta tabela *nome_tabela* onde *condição* seja verdadeira.\n",
    "\n",
    "    Vamos criar parte do nosso DB da Ironhack que criamos no sábado utilizando os queries acima:"
   ]
  },
  {
   "cell_type": "code",
   "execution_count": null,
   "metadata": {},
   "outputs": [],
   "source": [
    "engine.execute(\"DROP DATABASE ironhack\")"
   ]
  },
  {
   "cell_type": "code",
   "execution_count": null,
   "metadata": {},
   "outputs": [],
   "source": [
    "engine.execute(\"CREATE DATABASE ironhack\")"
   ]
  },
  {
   "cell_type": "markdown",
   "metadata": {},
   "source": [
    "Com o DB criado, vamos criar as tabelas `aluno`, `turma` e `matricula`:"
   ]
  },
  {
   "cell_type": "code",
   "execution_count": null,
   "metadata": {},
   "outputs": [],
   "source": [
    "query_aluno = '''\n",
    "    CREATE TABLE ironhack.aluno (\n",
    "        id_aluno int NOT NULL PRIMARY KEY,\n",
    "        nome varchar(255) NOT NULL,\n",
    "        email varchar(255)\n",
    "    )\n",
    "'''\n",
    "\n",
    "query_turma = '''\n",
    "    CREATE TABLE ironhack.turma (\n",
    "        id_turma int NOT NULL PRIMARY KEY,\n",
    "        area varchar(255) NOT NULL,\n",
    "        tipo varchar(255) NOT NULL,\n",
    "        campus varchar(255) NOT NULL,\n",
    "        data_inicio date NOT NULL\n",
    "    )\n",
    "'''\n",
    "\n",
    "query_matricula = '''\n",
    "    CREATE TABLE ironhack.matricula (\n",
    "        id_matricula int NOT NULL PRIMARY KEY,\n",
    "        id_aluno int NOT NULL,\n",
    "        id_turma int NOT NULL,\n",
    "        data_matricula date NOT NULL,\n",
    "        FOREIGN KEY (id_turma) REFERENCES ironhack.turma(id_turma)\n",
    "    )\n",
    "'''"
   ]
  },
  {
   "cell_type": "markdown",
   "metadata": {},
   "source": [
    "Vamos utilizar os queries acima para criar as três tabelas em nosso DB:"
   ]
  },
  {
   "cell_type": "code",
   "execution_count": null,
   "metadata": {},
   "outputs": [],
   "source": [
    "engine.execute(query_aluno)\n",
    "engine.execute(query_turma)\n",
    "engine.execute(query_matricula)"
   ]
  },
  {
   "cell_type": "markdown",
   "metadata": {},
   "source": [
    "No DB acima não declaramos a relação entre a tabela `matricula` e a tabela `aluno`. Vamos utilizar o **ALTER TABLE** para adicionar essa relação:"
   ]
  },
  {
   "cell_type": "code",
   "execution_count": null,
   "metadata": {},
   "outputs": [],
   "source": [
    "query_fk = '''\n",
    "    ALTER TABLE ironhack.matricula\n",
    "    ADD FOREIGN KEY (id_aluno)\n",
    "    REFERENCES ironhack.aluno(id_aluno)\n",
    "'''\n",
    "\n",
    "engine.execute(query_fk)"
   ]
  },
  {
   "cell_type": "markdown",
   "metadata": {},
   "source": [
    "Agora vamos criar os dados de nossa escola:"
   ]
  },
  {
   "cell_type": "code",
   "execution_count": null,
   "metadata": {},
   "outputs": [],
   "source": [
    "lista_alunos = [\n",
    "    (1, 'Guilherme', 'guilherme_93@gmail.com'),\n",
    "    (2, 'Guilherme', 'guilherme_71@gmail.com'),\n",
    "    (3, 'Alexa', 'alexa@gmail.com'),\n",
    "    (4, 'Breno', 'breno@gmail.com'),\n",
    "    (5, 'Thomas', 'thomas@gmail.com'),\n",
    "    (6, 'Matheus', 'matheus@gmail.com'),\n",
    "    (7, 'José', 'jose@gmail.com'),\n",
    "    (8, 'Maria', 'maria@gmail.com'),\n",
    "    (9, 'Madalena', 'madalena@gmail.com'),\n",
    "    (10, 'Miguel', 'miguel@gmail.com'),\n",
    "    (11, 'Berenice', 'berenice@gmail.com')\n",
    "]"
   ]
  },
  {
   "cell_type": "code",
   "execution_count": null,
   "metadata": {},
   "outputs": [],
   "source": [
    "lista_turmas = [\n",
    "    (99, 'DA', 'PT', 'SAO_RMT'),\n",
    "    (54, 'WD', 'FT', 'SAO_RMT'),\n",
    "    (112, 'DA', 'FT', 'MEX_RMT')\n",
    "]"
   ]
  },
  {
   "cell_type": "code",
   "execution_count": null,
   "metadata": {},
   "outputs": [],
   "source": [
    "lista_matriculas = [\n",
    "    (1, 1, 99),\n",
    "    (2, 2, 99),\n",
    "    (3, 3, 99),\n",
    "    (4, 4, 99),\n",
    "    (5, 5, 99),\n",
    "    (6, 6, 99),\n",
    "    (7, 5, 54),\n",
    "    (8, 7, 54),\n",
    "    (9, 8, 54),\n",
    "    (10, 9, 54),\n",
    "    (11, 10, 112),\n",
    "    (11, 11, 112),\n",
    "]"
   ]
  },
  {
   "cell_type": "markdown",
   "metadata": {},
   "source": [
    "Como nossas tabelas tem relações de **depêndencia**, representandas pelas `FOREIGN KEYS`, precisamos começar inserindo os valores nas tabelas **independentes** (em nosso caso, as tabelas `aluno` e `turma`).\n",
    "\n",
    "Vamos redefinir nosso `engine` para conectarmos o novo DB:"
   ]
  },
  {
   "cell_type": "code",
   "execution_count": null,
   "metadata": {},
   "outputs": [],
   "source": [
    "user = \"root\"\n",
    "password = \"swpmlu23-\"\n",
    "url_banco = \"localhost\"\n",
    "nome_db = \"ironhack\"\n",
    "conn_str = f\"mysql+pymysql://{user}:{password}@{url_banco}/{nome_db}\"\n",
    "engine = create_engine(conn_str)"
   ]
  },
  {
   "cell_type": "markdown",
   "metadata": {},
   "source": [
    "Poderíamos usar um query simples de `INSERT` junto com um loop para inserirmos os dados diretamente através do engine. Mas a biblioteca SQLAlchemy nos fornece um caminho mais simples e eficientes através do objeto `MetaData`:"
   ]
  },
  {
   "cell_type": "code",
   "execution_count": null,
   "metadata": {},
   "outputs": [],
   "source": [
    "from sqlalchemy import MetaData"
   ]
  },
  {
   "cell_type": "code",
   "execution_count": null,
   "metadata": {},
   "outputs": [],
   "source": [
    "meta = MetaData(bind=engine)\n",
    "meta.reflect()"
   ]
  },
  {
   "cell_type": "markdown",
   "metadata": {},
   "source": [
    "Vamos utilizar o objeto `meta` para acessar *simbolicamente* a nossa tabela `aluno`:"
   ]
  },
  {
   "cell_type": "code",
   "execution_count": null,
   "metadata": {},
   "outputs": [],
   "source": [
    "tb_db_alunos = meta.tables['aluno']"
   ]
  },
  {
   "cell_type": "markdown",
   "metadata": {},
   "source": [
    "A partir do novo objeto `tb_db_alunos` podemos utilizar o método `.insert().values()` para inserir em massa os nossos dados na tabela."
   ]
  },
  {
   "cell_type": "code",
   "execution_count": null,
   "metadata": {},
   "outputs": [],
   "source": [
    "load_alunos = tb_db_alunos.insert().values(lista_alunos)\n",
    "engine.execute(load_alunos)"
   ]
  }
 ],
 "metadata": {
  "kernelspec": {
   "display_name": "Python 3 (ipykernel)",
   "language": "python",
   "name": "python3"
  },
  "language_info": {
   "codemirror_mode": {
    "name": "ipython",
    "version": 3
   },
   "file_extension": ".py",
   "mimetype": "text/x-python",
   "name": "python",
   "nbconvert_exporter": "python",
   "pygments_lexer": "ipython3",
   "version": "3.9.13"
  },
  "toc": {
   "base_numbering": 1,
   "nav_menu": {},
   "number_sections": true,
   "sideBar": true,
   "skip_h1_title": false,
   "title_cell": "Table of Contents",
   "title_sidebar": "Contents",
   "toc_cell": false,
   "toc_position": {},
   "toc_section_display": true,
   "toc_window_display": false
  },
  "vscode": {
   "interpreter": {
    "hash": "31f2aee4e71d21fbe5cf8b01ff0e069b9275f58929596ceb00d14d90e3e16cd6"
   }
  }
 },
 "nbformat": 4,
 "nbformat_minor": 2
}
