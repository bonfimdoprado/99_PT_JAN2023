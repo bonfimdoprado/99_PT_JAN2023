{
 "cells": [
  {
   "cell_type": "markdown",
   "id": "79a76776",
   "metadata": {
    "toc": true
   },
   "source": [
    "<h1>Table of Contents<span class=\"tocSkip\"></span></h1>\n",
    "<div class=\"toc\"><ul class=\"toc-item\"><li><span><a href=\"#Estatísticas-Descritivas\" data-toc-modified-id=\"Estatísticas-Descritivas-1\"><span class=\"toc-item-num\">1&nbsp;&nbsp;</span>Estatísticas Descritivas</a></span><ul class=\"toc-item\"><li><span><a href=\"#Geyser-dataset\" data-toc-modified-id=\"Geyser-dataset-1.1\"><span class=\"toc-item-num\">1.1&nbsp;&nbsp;</span>Geyser dataset</a></span></li><li><span><a href=\"#Localização\" data-toc-modified-id=\"Localização-1.2\"><span class=\"toc-item-num\">1.2&nbsp;&nbsp;</span>Localização</a></span><ul class=\"toc-item\"><li><span><a href=\"#Média\" data-toc-modified-id=\"Média-1.2.1\"><span class=\"toc-item-num\">1.2.1&nbsp;&nbsp;</span>Média</a></span><ul class=\"toc-item\"><li><span><a href=\"#Limitações-da-Média\" data-toc-modified-id=\"Limitações-da-Média-1.2.1.1\"><span class=\"toc-item-num\">1.2.1.1&nbsp;&nbsp;</span>Limitações da Média</a></span></li></ul></li><li><span><a href=\"#Mediana\" data-toc-modified-id=\"Mediana-1.2.2\"><span class=\"toc-item-num\">1.2.2&nbsp;&nbsp;</span>Mediana</a></span><ul class=\"toc-item\"><li><span><a href=\"#Limitações-da-Mediana\" data-toc-modified-id=\"Limitações-da-Mediana-1.2.2.1\"><span class=\"toc-item-num\">1.2.2.1&nbsp;&nbsp;</span>Limitações da Mediana</a></span></li><li><span><a href=\"#Outros-Quantis\" data-toc-modified-id=\"Outros-Quantis-1.2.2.2\"><span class=\"toc-item-num\">1.2.2.2&nbsp;&nbsp;</span>Outros Quantis</a></span></li></ul></li><li><span><a href=\"#Moda\" data-toc-modified-id=\"Moda-1.2.3\"><span class=\"toc-item-num\">1.2.3&nbsp;&nbsp;</span>Moda</a></span></li></ul></li><li><span><a href=\"#Dispersão\" data-toc-modified-id=\"Dispersão-1.3\"><span class=\"toc-item-num\">1.3&nbsp;&nbsp;</span>Dispersão</a></span><ul class=\"toc-item\"><li><span><a href=\"#Desvio-padrão\" data-toc-modified-id=\"Desvio-padrão-1.3.1\"><span class=\"toc-item-num\">1.3.1&nbsp;&nbsp;</span>Desvio padrão</a></span><ul class=\"toc-item\"><li><span><a href=\"#Aplicação-I---Encontrando-Outliers\" data-toc-modified-id=\"Aplicação-I---Encontrando-Outliers-1.3.1.1\"><span class=\"toc-item-num\">1.3.1.1&nbsp;&nbsp;</span>Aplicação I - Encontrando Outliers</a></span></li><li><span><a href=\"#Aplicação-II---Coeficiente-de-Variação\" data-toc-modified-id=\"Aplicação-II---Coeficiente-de-Variação-1.3.1.2\"><span class=\"toc-item-num\">1.3.1.2&nbsp;&nbsp;</span>Aplicação II - Coeficiente de Variação</a></span></li></ul></li><li><span><a href=\"#Limitações-do-Desvio-Padrão\" data-toc-modified-id=\"Limitações-do-Desvio-Padrão-1.3.2\"><span class=\"toc-item-num\">1.3.2&nbsp;&nbsp;</span>Limitações do Desvio Padrão</a></span></li></ul></li><li><span><a href=\"#IQR-(Amplitude-interquartil)\" data-toc-modified-id=\"IQR-(Amplitude-interquartil)-1.4\"><span class=\"toc-item-num\">1.4&nbsp;&nbsp;</span>IQR (Amplitude interquartil)</a></span></li></ul></li><li><span><a href=\"#21h36m\" data-toc-modified-id=\"21h36m-2\"><span class=\"toc-item-num\">2&nbsp;&nbsp;</span>21h36m</a></span><ul class=\"toc-item\"><li><ul class=\"toc-item\"><li><ul class=\"toc-item\"><li><span><a href=\"#Aplicação-III---Econtrando-Outliers-II\" data-toc-modified-id=\"Aplicação-III---Econtrando-Outliers-II-2.0.0.1\"><span class=\"toc-item-num\">2.0.0.1&nbsp;&nbsp;</span>Aplicação III - Econtrando Outliers II</a></span></li></ul></li></ul></li><li><span><a href=\"#Apendice---Usando-Dados-Sintéticos\" data-toc-modified-id=\"Apendice---Usando-Dados-Sintéticos-2.1\"><span class=\"toc-item-num\">2.1&nbsp;&nbsp;</span>Apendice - Usando Dados Sintéticos</a></span><ul class=\"toc-item\"><li><span><a href=\"#Simulando-dados\" data-toc-modified-id=\"Simulando-dados-2.1.1\"><span class=\"toc-item-num\">2.1.1&nbsp;&nbsp;</span>Simulando dados</a></span></li><li><span><a href=\"#Diferença-de-localização\" data-toc-modified-id=\"Diferença-de-localização-2.1.2\"><span class=\"toc-item-num\">2.1.2&nbsp;&nbsp;</span>Diferença de localização</a></span></li><li><span><a href=\"#Diferença-de-dispersão\" data-toc-modified-id=\"Diferença-de-dispersão-2.1.3\"><span class=\"toc-item-num\">2.1.3&nbsp;&nbsp;</span>Diferença de dispersão</a></span></li><li><span><a href=\"#Diferença-de-Dispersão-e-Localização\" data-toc-modified-id=\"Diferença-de-Dispersão-e-Localização-2.1.4\"><span class=\"toc-item-num\">2.1.4&nbsp;&nbsp;</span>Diferença de Dispersão e Localização</a></span></li></ul></li></ul></li></ul></div>"
   ]
  },
  {
   "cell_type": "markdown",
   "id": "a6b7f89f",
   "metadata": {},
   "source": [
    "# Estatísticas Descritivas\n",
    "\n",
    "Uma das principais ferramentas na investigação de um conjunto de dados são as **estatísticas descritivas**. Estatísticas descritivas são **funções** (no sentido matemático) que resumem um vetor de dados (por exemplo, uma coluna do Pandas) em **um número**. O exemplo clássico de estatística descrita é a **média**: dado um conjunto de observações (alturas de indivíduos), podemos calcular a **altura média** desses indivíduos.\n",
    "\n",
    "\n",
    "\n",
    "Além de serem úteis na exploração de um conjunto de dados, as estatísticas descritivas nos permitem fazer **inferências** sobre uma população a partir de uma amostra dessa população: \n",
    "\n",
    "> Um cientista político deseja descobrir como a população de um país se sente com relação à diferentes candidatos em uma eleição, pedindo que cada pessoa de uma nota de 0 à 10 para cada candidato. Obviamente, este cientista não tem como entrevistar todas as pessoas de um país, ele precisará conduzir sua entrevista para uma amostra da população. A **inferência estatística** nos permite estimar as estatísticas descritivas de uma população a partir dessas mesmas estatísticas em uma amostra. Desta forma, o cientista poderá **estimar**, com grau de confiabilidade conhecido, as opções da população como um todo a partir de uma amostra aleatória.\n",
    "\n",
    "A **inferência estatística** nos permite estimar dados de uma população através de observações conduzidas sobre uma amostra. O caminho reverso, a **amostragem**, nos permite criar observações a partir de uma população conhecida. Este tipo de análise é usado predominantemente de duas: \n",
    "\n",
    "1. **DOEs** (*design of experiments*): utilizamos estimativas dos parâmetros de uma população para criar uma estratégia de amostragem em um experimento;\n",
    "    * No exemplo acima, o cientista político precisa calcular o grau de confiabilidade para diferentes tamanhos de amostra.\n",
    "1. **Simulação de Monte Carlo**: utilizamos estimativas dos parâmetros de uma população para simular um processo.\n",
    "    * Podemos utilizar parâmetros mensurados em um cruzamento para simular como diferentes volumetrias de carro podem impactar o trânsito em uma avênida.\n",
    "\n",
    "![image.png](images/inference.png)"
   ]
  },
  {
   "cell_type": "markdown",
   "id": "3718444c",
   "metadata": {},
   "source": [
    "## Geyser dataset\n",
    "\n",
    "Vamos analisar como diferentes estatísticas descritivas podem ser utilizadas e quando devemos evitar uma ou outra medida. Para essa aula utilizaremos o conjunto de dados `Geyser` que contém três variáveis relacionadas à erupções do geiser *Old Faithful* no parque de Yellowstone nos EUA:\n",
    "\n",
    "1. O tempo desde a última erupção (variável continua);\n",
    "1. A duração da erupção (variável continua);\n",
    "1. O tipo de erupção (variável discreta).\n",
    "\n",
    "Fonte: https://stat.ethz.ch/R-manual/R-devel/library/datasets/html/faithful.html"
   ]
  },
  {
   "cell_type": "code",
   "execution_count": 1,
   "id": "98bca730",
   "metadata": {
    "ExecuteTime": {
     "end_time": "2022-02-24T22:46:47.164774Z",
     "start_time": "2022-02-24T22:46:44.977981Z"
    }
   },
   "outputs": [],
   "source": [
    "import pandas as pd\n",
    "import numpy as np\n",
    "\n",
    "import seaborn as sns\n",
    "from matplotlib import pyplot as plt\n",
    "sns.set_theme('paper')"
   ]
  },
  {
   "cell_type": "code",
   "execution_count": 2,
   "id": "8d0c733c",
   "metadata": {
    "ExecuteTime": {
     "end_time": "2022-02-24T22:46:55.576557Z",
     "start_time": "2022-02-24T22:46:55.557605Z"
    }
   },
   "outputs": [],
   "source": [
    "tb_geyser = sns.load_dataset('geyser')"
   ]
  },
  {
   "cell_type": "code",
   "execution_count": 3,
   "id": "86cb4838",
   "metadata": {
    "ExecuteTime": {
     "end_time": "2022-02-24T22:46:56.648122Z",
     "start_time": "2022-02-24T22:46:56.625183Z"
    }
   },
   "outputs": [
    {
     "data": {
      "text/html": [
       "<div>\n",
       "<style scoped>\n",
       "    .dataframe tbody tr th:only-of-type {\n",
       "        vertical-align: middle;\n",
       "    }\n",
       "\n",
       "    .dataframe tbody tr th {\n",
       "        vertical-align: top;\n",
       "    }\n",
       "\n",
       "    .dataframe thead th {\n",
       "        text-align: right;\n",
       "    }\n",
       "</style>\n",
       "<table border=\"1\" class=\"dataframe\">\n",
       "  <thead>\n",
       "    <tr style=\"text-align: right;\">\n",
       "      <th></th>\n",
       "      <th>duration</th>\n",
       "      <th>waiting</th>\n",
       "      <th>kind</th>\n",
       "    </tr>\n",
       "  </thead>\n",
       "  <tbody>\n",
       "    <tr>\n",
       "      <th>0</th>\n",
       "      <td>3.600</td>\n",
       "      <td>79</td>\n",
       "      <td>long</td>\n",
       "    </tr>\n",
       "    <tr>\n",
       "      <th>1</th>\n",
       "      <td>1.800</td>\n",
       "      <td>54</td>\n",
       "      <td>short</td>\n",
       "    </tr>\n",
       "    <tr>\n",
       "      <th>2</th>\n",
       "      <td>3.333</td>\n",
       "      <td>74</td>\n",
       "      <td>long</td>\n",
       "    </tr>\n",
       "    <tr>\n",
       "      <th>3</th>\n",
       "      <td>2.283</td>\n",
       "      <td>62</td>\n",
       "      <td>short</td>\n",
       "    </tr>\n",
       "    <tr>\n",
       "      <th>4</th>\n",
       "      <td>4.533</td>\n",
       "      <td>85</td>\n",
       "      <td>long</td>\n",
       "    </tr>\n",
       "  </tbody>\n",
       "</table>\n",
       "</div>"
      ],
      "text/plain": [
       "   duration  waiting   kind\n",
       "0     3.600       79   long\n",
       "1     1.800       54  short\n",
       "2     3.333       74   long\n",
       "3     2.283       62  short\n",
       "4     4.533       85   long"
      ]
     },
     "execution_count": 3,
     "metadata": {},
     "output_type": "execute_result"
    }
   ],
   "source": [
    "tb_geyser.head()"
   ]
  },
  {
   "cell_type": "code",
   "execution_count": 4,
   "id": "991ec89f",
   "metadata": {
    "ExecuteTime": {
     "end_time": "2022-02-24T22:47:20.146639Z",
     "start_time": "2022-02-24T22:47:20.122702Z"
    }
   },
   "outputs": [
    {
     "data": {
      "text/html": [
       "<div>\n",
       "<style scoped>\n",
       "    .dataframe tbody tr th:only-of-type {\n",
       "        vertical-align: middle;\n",
       "    }\n",
       "\n",
       "    .dataframe tbody tr th {\n",
       "        vertical-align: top;\n",
       "    }\n",
       "\n",
       "    .dataframe thead th {\n",
       "        text-align: right;\n",
       "    }\n",
       "</style>\n",
       "<table border=\"1\" class=\"dataframe\">\n",
       "  <thead>\n",
       "    <tr style=\"text-align: right;\">\n",
       "      <th></th>\n",
       "      <th>duration</th>\n",
       "      <th>waiting</th>\n",
       "    </tr>\n",
       "  </thead>\n",
       "  <tbody>\n",
       "    <tr>\n",
       "      <th>count</th>\n",
       "      <td>272.000000</td>\n",
       "      <td>272.000000</td>\n",
       "    </tr>\n",
       "    <tr>\n",
       "      <th>mean</th>\n",
       "      <td>3.487783</td>\n",
       "      <td>70.897059</td>\n",
       "    </tr>\n",
       "    <tr>\n",
       "      <th>std</th>\n",
       "      <td>1.141371</td>\n",
       "      <td>13.594974</td>\n",
       "    </tr>\n",
       "    <tr>\n",
       "      <th>min</th>\n",
       "      <td>1.600000</td>\n",
       "      <td>43.000000</td>\n",
       "    </tr>\n",
       "    <tr>\n",
       "      <th>25%</th>\n",
       "      <td>2.162750</td>\n",
       "      <td>58.000000</td>\n",
       "    </tr>\n",
       "    <tr>\n",
       "      <th>50%</th>\n",
       "      <td>4.000000</td>\n",
       "      <td>76.000000</td>\n",
       "    </tr>\n",
       "    <tr>\n",
       "      <th>75%</th>\n",
       "      <td>4.454250</td>\n",
       "      <td>82.000000</td>\n",
       "    </tr>\n",
       "    <tr>\n",
       "      <th>max</th>\n",
       "      <td>5.100000</td>\n",
       "      <td>96.000000</td>\n",
       "    </tr>\n",
       "  </tbody>\n",
       "</table>\n",
       "</div>"
      ],
      "text/plain": [
       "         duration     waiting\n",
       "count  272.000000  272.000000\n",
       "mean     3.487783   70.897059\n",
       "std      1.141371   13.594974\n",
       "min      1.600000   43.000000\n",
       "25%      2.162750   58.000000\n",
       "50%      4.000000   76.000000\n",
       "75%      4.454250   82.000000\n",
       "max      5.100000   96.000000"
      ]
     },
     "execution_count": 4,
     "metadata": {},
     "output_type": "execute_result"
    }
   ],
   "source": [
    "tb_geyser.describe()"
   ]
  },
  {
   "cell_type": "markdown",
   "id": "22bf91f4",
   "metadata": {},
   "source": [
    "## Localização\n",
    "\n",
    "As primeiras estatísticas descritivas de hoje serão as as **medidas de localização** (ou *medidas de altura*). Essas medidas nos permitem estimar ao redor que qual ponto uma distribuição se concentram. Focaremos nossa análise em três medidas específicas:\n",
    "\n",
    "1. **Média** (ou *esperança*);\n",
    "1. **Mediana** (o *segundo quartil*);\n",
    "1. **Moda**\n",
    "\n",
    "### Média\n",
    "\n",
    "A **média** é a medida de localização mais conhecida (e, provavelmente, o conceito estatístico mais difundido). Ela é definida como a somatória de todas as observações divida pelo número de observações e, na estatítisca, é comunmente representada pela letra Mu:\n",
    "\n",
    "$$\\mu=\\frac{\\sum_{i=1}^n x_{i}}{n} $$\n",
    "\n",
    "Vamos começar construindo uma função para calcular a média:\n"
   ]
  },
  {
   "cell_type": "code",
   "execution_count": 5,
   "id": "72bd3d06",
   "metadata": {
    "ExecuteTime": {
     "end_time": "2022-02-24T22:52:28.751675Z",
     "start_time": "2022-02-24T22:52:28.740715Z"
    }
   },
   "outputs": [],
   "source": [
    "def meu_mu(vetor):\n",
    "    total = sum(vetor)\n",
    "    numero_elementos = len(vetor)\n",
    "    media = total/numero_elementos\n",
    "    return media"
   ]
  },
  {
   "cell_type": "code",
   "execution_count": 6,
   "id": "7495bf23",
   "metadata": {
    "ExecuteTime": {
     "end_time": "2022-02-24T22:52:34.366410Z",
     "start_time": "2022-02-24T22:52:34.359428Z"
    }
   },
   "outputs": [
    {
     "data": {
      "text/plain": [
       "70.8970588235294"
      ]
     },
     "execution_count": 6,
     "metadata": {},
     "output_type": "execute_result"
    }
   ],
   "source": [
    "meu_mu(tb_geyser['waiting'])"
   ]
  },
  {
   "cell_type": "markdown",
   "id": "9aadd26e",
   "metadata": {},
   "source": [
    "Podemos utilizar a função `mean()` para calcular a média de qualquer iterável numérico no Python:"
   ]
  },
  {
   "cell_type": "code",
   "execution_count": 9,
   "id": "b2ad5940",
   "metadata": {},
   "outputs": [
    {
     "data": {
      "text/plain": [
       "0      79\n",
       "1      54\n",
       "2      74\n",
       "3      62\n",
       "4      85\n",
       "       ..\n",
       "267    81\n",
       "268    46\n",
       "269    90\n",
       "270    46\n",
       "271    74\n",
       "Name: waiting, Length: 272, dtype: int64"
      ]
     },
     "execution_count": 9,
     "metadata": {},
     "output_type": "execute_result"
    }
   ],
   "source": [
    "tb_geyser['waiting']"
   ]
  },
  {
   "cell_type": "code",
   "execution_count": 7,
   "id": "9dda2920",
   "metadata": {
    "ExecuteTime": {
     "end_time": "2022-02-24T22:54:11.405291Z",
     "start_time": "2022-02-24T22:54:11.392325Z"
    }
   },
   "outputs": [
    {
     "data": {
      "text/plain": [
       "70.8970588235294"
      ]
     },
     "execution_count": 7,
     "metadata": {},
     "output_type": "execute_result"
    }
   ],
   "source": [
    "np.mean(tb_geyser['waiting'])"
   ]
  },
  {
   "cell_type": "markdown",
   "id": "f6dabde7",
   "metadata": {},
   "source": [
    "ou então podemos utilizar o método `.mean()` para calcular a média de uma (ou mais) colunas de um `DataFrame`:"
   ]
  },
  {
   "cell_type": "code",
   "execution_count": 8,
   "id": "cbdb3b2a",
   "metadata": {
    "ExecuteTime": {
     "end_time": "2022-02-24T22:54:28.321951Z",
     "start_time": "2022-02-24T22:54:28.309983Z"
    }
   },
   "outputs": [
    {
     "data": {
      "text/plain": [
       "70.8970588235294"
      ]
     },
     "execution_count": 8,
     "metadata": {},
     "output_type": "execute_result"
    }
   ],
   "source": [
    "tb_geyser['waiting'].mean()"
   ]
  },
  {
   "cell_type": "code",
   "execution_count": 10,
   "id": "1245ccff",
   "metadata": {},
   "outputs": [
    {
     "data": {
      "text/plain": [
       "waiting     70.897059\n",
       "duration     3.487783\n",
       "dtype: float64"
      ]
     },
     "execution_count": 10,
     "metadata": {},
     "output_type": "execute_result"
    }
   ],
   "source": [
    "tb_geyser[['waiting','duration']].mean()"
   ]
  },
  {
   "cell_type": "markdown",
   "id": "265e7b4f",
   "metadata": {},
   "source": [
    "#### Limitações da Média\n",
    "\n",
    "Toda estatística descritiva é um extremamente reducionista: no caso acima estamos **reduzindo 272 observações a apenas um número!** Essa redução é comum à todas as estatísticas descritivas e por isso é extramemente importante conhecermos as limitações de cada uma dessas funções.\n",
    "\n",
    "Vamos começar analisando as **duas principais limitações da média**: distribuições multi-modais e sensibilidade à outliers.\n",
    "\n",
    "##### Multimodalidade\n",
    "\n",
    "Muitas vezes uma variável contém observações de duas populações distintas: por exemplo, a altura de homens e mulheres. Vamos ver como isso acontece em nosso dataset:"
   ]
  },
  {
   "cell_type": "code",
   "execution_count": 11,
   "id": "e2fbc68f",
   "metadata": {},
   "outputs": [
    {
     "data": {
      "text/plain": [
       "3.4877830882352936"
      ]
     },
     "execution_count": 11,
     "metadata": {},
     "output_type": "execute_result"
    }
   ],
   "source": [
    "tb_geyser['duration'].mean()"
   ]
  },
  {
   "cell_type": "code",
   "execution_count": 20,
   "id": "bdd29fd2",
   "metadata": {},
   "outputs": [],
   "source": [
    "tb_geyser['classif_dur'] = pd.cut(tb_geyser['duration'], 20)"
   ]
  },
  {
   "cell_type": "code",
   "execution_count": 21,
   "id": "18baa1ef",
   "metadata": {},
   "outputs": [
    {
     "data": {
      "image/png": "[encoded data removed]",
      "text/plain": [
       "<Figure size 640x480 with 1 Axes>"
      ]
     },
     "metadata": {},
     "output_type": "display_data"
    }
   ],
   "source": [
    "sns.countplot(data = tb_geyser, x = 'classif_dur');"
   ]
  },
  {
   "cell_type": "code",
   "execution_count": 12,
   "id": "462e376f",
   "metadata": {},
   "outputs": [
    {
     "data": {
      "image/png": "[encoded data removed]",
      "text/plain": [
       "<Figure size 640x480 with 1 Axes>"
      ]
     },
     "metadata": {},
     "output_type": "display_data"
    }
   ],
   "source": [
    "sns.histplot(data = tb_geyser, x = 'duration').set(title='Distribuição de Durações das Erupções')\n",
    "plt.axvline(tb_geyser['duration'].mean(), color = 'red');"
   ]
  },
  {
   "cell_type": "markdown",
   "id": "700d0e59",
   "metadata": {},
   "source": [
    "Como podemos ver, a média da duração das erupções está localizada em uma região com pouquissímas observações! Na verdade, nossa variável tem uma distribuição **bimodal**: aparentemente temos uma mistura de duas distribuições.\n",
    "\n",
    "Neste caso, seria apropriado analisar a nossa variável **condicionada** à outra variável que a separe as duas distribuições:"
   ]
  },
  {
   "cell_type": "code",
   "execution_count": 22,
   "id": "edf325cc",
   "metadata": {},
   "outputs": [
    {
     "data": {
      "image/png": "[encoded data removed]",
      "text/plain": [
       "<Figure size 640x480 with 1 Axes>"
      ]
     },
     "metadata": {},
     "output_type": "display_data"
    }
   ],
   "source": [
    "sns.histplot(data = tb_geyser, x = 'duration', hue = 'kind').set(title='Distribuição de Durações das Erupções')\n",
    "mask_short = tb_geyser['kind'] == 'short'\n",
    "plt.axvline(tb_geyser.loc[mask_short,'duration'].mean(), color = 'orange');\n",
    "plt.axvline(tb_geyser.loc[~mask_short,'duration'].mean(), color = 'blue');"
   ]
  },
  {
   "cell_type": "code",
   "execution_count": 23,
   "id": "3f2f26ed",
   "metadata": {},
   "outputs": [
    {
     "data": {
      "text/plain": [
       "kind\n",
       "long     4.29793\n",
       "short    2.09433\n",
       "Name: duration, dtype: float64"
      ]
     },
     "execution_count": 23,
     "metadata": {},
     "output_type": "execute_result"
    }
   ],
   "source": [
    "tb_geyser.groupby('kind')['duration'].mean()"
   ]
  },
  {
   "cell_type": "markdown",
   "id": "fb38701d",
   "metadata": {},
   "source": [
    "##### Sensibilidade à Outliers\n",
    "\n",
    "Outliers são observações que se destacam em uma amostra por terem valores extremos. Eles podem ocorrer por razões reais (a distribuição de renda por exemplo) ou artificiais (erros na coleta de dados).\n",
    "\n",
    "Para entendermos o impacto de observações extremas sobre a média vamos utilizar o conceito da **contribuição à média** de cada observação:\n",
    "\n",
    "$$\\mu=\\frac{\\sum_{i=1}^n x_{i}}{n} = \\frac{x_{1}}{n}+\\frac{x_{2}}{n}+\\frac{x_{3}}{n}+...+\\frac{x_{n}}{n}$$\n",
    "\n",
    "Cada observação contribui seu valor dividido pelo número de observações à média, ou seja, quanto maior a observação e menor a amostra, mais *peso* os valores extremos terão sobre a média! Vamos ver esse comportamento sobre um conjunto sintético de dados:"
   ]
  },
  {
   "cell_type": "code",
   "execution_count": 24,
   "id": "96ae6838",
   "metadata": {
    "ExecuteTime": {
     "end_time": "2022-02-24T22:55:42.207219Z",
     "start_time": "2022-02-24T22:55:42.193259Z"
    }
   },
   "outputs": [
    {
     "data": {
      "text/plain": [
       "589.4117647058823"
      ]
     },
     "execution_count": 24,
     "metadata": {},
     "output_type": "execute_result"
    }
   ],
   "source": [
    "a = [1, 1, 1, 2, \n",
    "     1, 1, 1, 2,\n",
    "     1, 1, 1, 2,\n",
    "     1, 1, 1, 2,\n",
    "     10000]\n",
    "np.mean(a)"
   ]
  },
  {
   "cell_type": "markdown",
   "id": "f0939af7",
   "metadata": {},
   "source": [
    "A lista acima contém 12 observações com valor *1*, 4 com valor *2* e 1 com valor *10000*. Podemos utilizar a fórmula acima para calcular o quanto cada observação contribui para a média:"
   ]
  },
  {
   "cell_type": "code",
   "execution_count": 25,
   "id": "f2568b11",
   "metadata": {
    "ExecuteTime": {
     "end_time": "2022-02-24T22:59:03.871885Z",
     "start_time": "2022-02-24T22:59:03.857925Z"
    }
   },
   "outputs": [
    {
     "name": "stdout",
     "output_type": "stream",
     "text": [
      "Observações com valor 1 contribuiram 0.7058823529411765 p/ a média\n",
      "Observações com valor 2 contribuiram 0.47058823529411764 p/ a média\n",
      "Observações com valor 10.000 contribuiram 588.2352941176471 p/ a média\n"
     ]
    }
   ],
   "source": [
    "print(f\"Observações com valor 1 contribuiram {12 * 1 /len(a)} p/ a média\")\n",
    "print(f\"Observações com valor 2 contribuiram {4 * 2/len(a)} p/ a média\")\n",
    "print(f\"Observações com valor 10.000 contribuiram {1 * 10000/len(a)} p/ a média\")\n"
   ]
  },
  {
   "cell_type": "code",
   "execution_count": 27,
   "id": "49218ec8",
   "metadata": {},
   "outputs": [
    {
     "data": {
      "text/plain": [
       "588.2352941176471"
      ]
     },
     "execution_count": 27,
     "metadata": {},
     "output_type": "execute_result"
    }
   ],
   "source": [
    "(1 * 10000/len(a))"
   ]
  },
  {
   "cell_type": "code",
   "execution_count": 26,
   "id": "cd0fdf7e",
   "metadata": {},
   "outputs": [
    {
     "data": {
      "text/plain": [
       "0.9980039920159681"
      ]
     },
     "execution_count": 26,
     "metadata": {},
     "output_type": "execute_result"
    }
   ],
   "source": [
    "(1 * 10000/len(a))/np.mean(a)"
   ]
  },
  {
   "cell_type": "markdown",
   "id": "3499d753",
   "metadata": {},
   "source": [
    "Podemos ver que a última observação, com valor 10000 é responsável por mais que 99% do valor da média! Essa sensibilidade da média faz com que ela não seja uma boa descrição para conjuntos com outliers. Vamos verificar isso criando o conjunto `b`, com todas as observações de `a` exceto aquela com valor 10.000, e calcular a média deste novo conjunto."
   ]
  },
  {
   "cell_type": "code",
   "execution_count": 28,
   "id": "35efdb6b",
   "metadata": {},
   "outputs": [
    {
     "data": {
      "text/plain": [
       "1.25"
      ]
     },
     "execution_count": 28,
     "metadata": {},
     "output_type": "execute_result"
    }
   ],
   "source": [
    "b = [1, 1, 1, 2, \n",
    "     1, 1, 1, 2,\n",
    "     1, 1, 1, 2,\n",
    "     1, 1, 1, 2]\n",
    "np.mean(b)"
   ]
  },
  {
   "cell_type": "markdown",
   "id": "2d09f9f7",
   "metadata": {},
   "source": [
    "Como podemos tratar casos como este? Um caminho seria excluir valores extremos, mas devemos evitar excluir valores sem antes ter uma compreensão mais profunda sobre um conjunto de dados. Para resolver este problema podemos utilizar outra medida de localização: **a mediana**!\n",
    "\n",
    "### Mediana\n",
    "\n",
    "Enquanto a média é um cálculo feito a partir dos valores das observações, a mediana é um algoritmo. Quando calculamos a mediana estamos aplicando as etapas abaixo:\n",
    "\n",
    "1. **Ordenamos** nossas observações **da menor para maior**;\n",
    "1. **Contamos** o número de observações (**vamos chamá-lo de *n***);\n",
    "1. **Procuramos** em nossa lista de observações ordenadas **a observação com índice *n/2***, ou seja, o elemento no meio da lista ordenada;\n",
    "1. **A mediana é o valor deste observação**.\n",
    "\n",
    "Vamos construir uma função para encontrar a mediana de um vetor de observações:"
   ]
  },
  {
   "cell_type": "code",
   "execution_count": 29,
   "id": "1d29bcac",
   "metadata": {
    "ExecuteTime": {
     "end_time": "2022-02-24T23:00:11.943623Z",
     "start_time": "2022-02-24T23:00:11.931627Z"
    }
   },
   "outputs": [],
   "source": [
    "def minha_mediana(vetor):\n",
    "    # ORDENAMOS\n",
    "    vetor_ordenado = sorted(list(vetor))\n",
    "    \n",
    "    # CONTAMOS\n",
    "    posicao_meio = int(len(vetor_ordenado)/2)\n",
    "\n",
    "    # PROCURAMOS\n",
    "    mediana = vetor_ordenado[posicao_meio]\n",
    "    return mediana"
   ]
  },
  {
   "cell_type": "code",
   "execution_count": 31,
   "id": "b0cec011",
   "metadata": {},
   "outputs": [],
   "source": [
    "a = [1, 1, 1, 2, \n",
    "     1, 1, 1, 2,\n",
    "     1, 1, 1, 2,\n",
    "     1, 1, 1, 2,\n",
    "     10000]"
   ]
  },
  {
   "cell_type": "code",
   "execution_count": 33,
   "id": "3f771aab",
   "metadata": {},
   "outputs": [
    {
     "data": {
      "text/plain": [
       "(array([16.,  0.,  0.,  0.,  0.,  0.,  0.,  0.,  0.,  1.]),\n",
       " array([1.0000e+00, 1.0009e+03, 2.0008e+03, 3.0007e+03, 4.0006e+03,\n",
       "        5.0005e+03, 6.0004e+03, 7.0003e+03, 8.0002e+03, 9.0001e+03,\n",
       "        1.0000e+04]),\n",
       " <BarContainer object of 10 artists>)"
      ]
     },
     "execution_count": 33,
     "metadata": {},
     "output_type": "execute_result"
    },
    {
     "data": {
      "image/png": "[encoded data removed]",
      "text/plain": [
       "<Figure size 640x480 with 1 Axes>"
      ]
     },
     "metadata": {},
     "output_type": "display_data"
    }
   ],
   "source": [
    "plt.hist(a)"
   ]
  },
  {
   "cell_type": "code",
   "execution_count": 32,
   "id": "5517abc3",
   "metadata": {
    "ExecuteTime": {
     "end_time": "2022-02-24T23:00:19.552123Z",
     "start_time": "2022-02-24T23:00:19.545154Z"
    }
   },
   "outputs": [
    {
     "data": {
      "text/plain": [
       "1"
      ]
     },
     "execution_count": 32,
     "metadata": {},
     "output_type": "execute_result"
    }
   ],
   "source": [
    "minha_mediana(a)"
   ]
  },
  {
   "cell_type": "code",
   "execution_count": 34,
   "id": "db7ef12c",
   "metadata": {},
   "outputs": [
    {
     "data": {
      "text/plain": [
       "589.4117647058823"
      ]
     },
     "execution_count": 34,
     "metadata": {},
     "output_type": "execute_result"
    }
   ],
   "source": [
    "meu_mu(a)"
   ]
  },
  {
   "cell_type": "markdown",
   "id": "011bd8d6",
   "metadata": {},
   "source": [
    "**Porque a mediana resolve o problema de sensibilidade à outliers?**\n",
    "\n",
    "Podemos calcular a mediana utilizando nossa própria função:"
   ]
  },
  {
   "cell_type": "code",
   "execution_count": 35,
   "id": "5306e453",
   "metadata": {
    "ExecuteTime": {
     "end_time": "2022-02-24T23:02:27.114534Z",
     "start_time": "2022-02-24T23:02:27.098576Z"
    }
   },
   "outputs": [
    {
     "data": {
      "text/plain": [
       "4.0"
      ]
     },
     "execution_count": 35,
     "metadata": {},
     "output_type": "execute_result"
    }
   ],
   "source": [
    "minha_mediana(tb_geyser['duration'])"
   ]
  },
  {
   "cell_type": "markdown",
   "id": "702901b8",
   "metadata": {},
   "source": [
    "ou podemos utilizar a função `median()`"
   ]
  },
  {
   "cell_type": "code",
   "execution_count": 36,
   "id": "7673e653",
   "metadata": {},
   "outputs": [
    {
     "data": {
      "text/plain": [
       "4.0"
      ]
     },
     "execution_count": 36,
     "metadata": {},
     "output_type": "execute_result"
    }
   ],
   "source": [
    "np.median(tb_geyser['duration'])"
   ]
  },
  {
   "cell_type": "markdown",
   "id": "d54a890f",
   "metadata": {},
   "source": [
    "ou então usando o método `.median()` dos `DataFrames`"
   ]
  },
  {
   "cell_type": "code",
   "execution_count": 37,
   "id": "bd4816cc",
   "metadata": {
    "ExecuteTime": {
     "end_time": "2022-02-24T23:02:40.904008Z",
     "start_time": "2022-02-24T23:02:40.886955Z"
    }
   },
   "outputs": [
    {
     "data": {
      "text/plain": [
       "4.0"
      ]
     },
     "execution_count": 37,
     "metadata": {},
     "output_type": "execute_result"
    }
   ],
   "source": [
    "tb_geyser['duration'].median()"
   ]
  },
  {
   "cell_type": "markdown",
   "id": "fc1ff69c",
   "metadata": {},
   "source": [
    "#### Limitações da Mediana\n",
    "\n",
    "A mediana possui duas limitações importantes:\n",
    "\n",
    "1. **Multi-modalidade** dos dados (assim como a média);\n",
    "1. Solução algoritmica.\n",
    "\n",
    "A segunda limitação é mais teórica que prática: mesmo em dados muito extensos o cálculo da mediana é rápido e, a não ser que estejamos desenvolvendo algoritmos de machine learning, raramente ela será um problema! Vamos focar nossos esforços em ver o impacto da bimodalidade de nossas erupções:"
   ]
  },
  {
   "cell_type": "code",
   "execution_count": 38,
   "id": "9b7eb1ca",
   "metadata": {},
   "outputs": [
    {
     "data": {
      "image/png": "[encoded data removed]",
      "text/plain": [
       "<Figure size 640x480 with 1 Axes>"
      ]
     },
     "metadata": {},
     "output_type": "display_data"
    }
   ],
   "source": [
    "sns.histplot(data = tb_geyser, x = 'duration').set(title='Distribuição de Durações das Erupções')\n",
    "plt.axvline(tb_geyser['duration'].median(), color = 'red');"
   ]
  },
  {
   "cell_type": "markdown",
   "id": "337e74ac",
   "metadata": {},
   "source": [
    "Um pouco melhor que a média (pelo menos está dentro da segunda distribuição...) mas ainda assim não representa bem a diferença entre os dois tipos de erupção. A tratativa é a mesma que demos à média:"
   ]
  },
  {
   "cell_type": "code",
   "execution_count": 39,
   "id": "95901a1d",
   "metadata": {
    "ExecuteTime": {
     "end_time": "2022-02-24T23:03:34.049390Z",
     "start_time": "2022-02-24T23:03:34.023579Z"
    }
   },
   "outputs": [
    {
     "data": {
      "image/png": "[encoded data removed]",
      "text/plain": [
       "<Figure size 640x480 with 1 Axes>"
      ]
     },
     "metadata": {},
     "output_type": "display_data"
    }
   ],
   "source": [
    "sns.histplot(data = tb_geyser, x = 'duration', hue = 'kind').set(title='Distribuição de Durações das Erupções')\n",
    "mask_short = tb_geyser['kind'] == 'short'\n",
    "plt.axvline(tb_geyser.loc[mask_short,'duration'].median(), color = 'orange');\n",
    "plt.axvline(tb_geyser.loc[~mask_short,'duration'].median(), color = 'blue');"
   ]
  },
  {
   "cell_type": "markdown",
   "id": "25b99b9e",
   "metadata": {},
   "source": [
    "Vamos comparar a média e a mediana neste mesmo gráfico:"
   ]
  },
  {
   "cell_type": "code",
   "execution_count": 40,
   "id": "23b554cc",
   "metadata": {},
   "outputs": [
    {
     "data": {
      "image/png": "[encoded data removed]",
      "text/plain": [
       "<Figure size 640x480 with 1 Axes>"
      ]
     },
     "metadata": {},
     "output_type": "display_data"
    }
   ],
   "source": [
    "sns.histplot(data = tb_geyser, x = 'duration', hue = 'kind').set(title='Distribuição de Durações das Erupções')\n",
    "mask_short = tb_geyser['kind'] == 'short'\n",
    "plt.axvline(tb_geyser.loc[mask_short,'duration'].mean(), color = 'red');\n",
    "plt.axvline(tb_geyser.loc[~mask_short,'duration'].mean(), color = 'purple');\n",
    "plt.axvline(tb_geyser.loc[mask_short,'duration'].median(), color = 'orange');\n",
    "plt.axvline(tb_geyser.loc[~mask_short,'duration'].median(), color = 'blue');"
   ]
  },
  {
   "cell_type": "code",
   "execution_count": 42,
   "id": "fc3097fa",
   "metadata": {
    "ExecuteTime": {
     "end_time": "2022-02-24T23:04:42.739154Z",
     "start_time": "2022-02-24T23:04:42.712225Z"
    }
   },
   "outputs": [
    {
     "data": {
      "text/html": [
       "<div>\n",
       "<style scoped>\n",
       "    .dataframe tbody tr th:only-of-type {\n",
       "        vertical-align: middle;\n",
       "    }\n",
       "\n",
       "    .dataframe tbody tr th {\n",
       "        vertical-align: top;\n",
       "    }\n",
       "\n",
       "    .dataframe thead th {\n",
       "        text-align: right;\n",
       "    }\n",
       "</style>\n",
       "<table border=\"1\" class=\"dataframe\">\n",
       "  <thead>\n",
       "    <tr style=\"text-align: right;\">\n",
       "      <th></th>\n",
       "      <th>mean</th>\n",
       "      <th>median</th>\n",
       "    </tr>\n",
       "    <tr>\n",
       "      <th>kind</th>\n",
       "      <th></th>\n",
       "      <th></th>\n",
       "    </tr>\n",
       "  </thead>\n",
       "  <tbody>\n",
       "    <tr>\n",
       "      <th>long</th>\n",
       "      <td>4.29793</td>\n",
       "      <td>4.350</td>\n",
       "    </tr>\n",
       "    <tr>\n",
       "      <th>short</th>\n",
       "      <td>2.09433</td>\n",
       "      <td>1.983</td>\n",
       "    </tr>\n",
       "  </tbody>\n",
       "</table>\n",
       "</div>"
      ],
      "text/plain": [
       "          mean  median\n",
       "kind                  \n",
       "long   4.29793   4.350\n",
       "short  2.09433   1.983"
      ]
     },
     "execution_count": 42,
     "metadata": {},
     "output_type": "execute_result"
    }
   ],
   "source": [
    "tb_geyser.groupby('kind')['duration'].agg(['mean', 'median'])"
   ]
  },
  {
   "cell_type": "markdown",
   "id": "86556431",
   "metadata": {},
   "source": [
    "Embora a média e a mediana da distribuição das erupções longas sejam semelhantes, temos uma diferença maior entre as duas medidas para erupções curtas. Será que temos outliers entre essas erupções curtas? Veremos como podemos determinar isto ao final da aula!"
   ]
  },
  {
   "cell_type": "markdown",
   "id": "b6254c8c",
   "metadata": {},
   "source": [
    "#### Outros Quantis\n",
    "\n",
    "A mediana é definida como a observação de uma variável tal que 50% das observações estejam abaixo dela e 50% acima. E se trocassemos essas proporções? Por exemplo, e se procurasse-mos a observação tal que 20% das observações estejam abaixo dela e 80% acima?\n",
    "\n",
    "Essa medida chama-se quantil: o quantil 50 é a mediana, enquanto o quantil no exemplo acima é o quantil 20. Logo, o quantil X de uma variável é o valor da observação tal que X% das observações estejam abaixo deste valor!\n",
    "\n",
    "Nem todos os quantis nascem iguais: três deles são mais *importantes* que o resto e são chamados de **quartis**. Os **quartis** separam nossas observações em 4 grupos de tamanho igual (com o mesmo número de observações):\n",
    "\n",
    "1. O **primeiro quartil**, ou quantil 25, é o valor tal que 25% das observações estão abaixo deste valor;\n",
    "1. O **segundo quartil**, ou mediana, é o valor tal que 50% das observações estão abaixo deste valor;\n",
    "1. O **terceiro quartil**, ou mediana, é o valor tal que 75% das observações estão abaixo deste valor;\n",
    "\n",
    "Podemos utilizar o método `.describe()` para ver os quartis de uma variável:"
   ]
  },
  {
   "cell_type": "code",
   "execution_count": 48,
   "id": "f5c0d74b",
   "metadata": {},
   "outputs": [
    {
     "data": {
      "text/html": [
       "<div>\n",
       "<style scoped>\n",
       "    .dataframe tbody tr th:only-of-type {\n",
       "        vertical-align: middle;\n",
       "    }\n",
       "\n",
       "    .dataframe tbody tr th {\n",
       "        vertical-align: top;\n",
       "    }\n",
       "\n",
       "    .dataframe thead th {\n",
       "        text-align: right;\n",
       "    }\n",
       "</style>\n",
       "<table border=\"1\" class=\"dataframe\">\n",
       "  <thead>\n",
       "    <tr style=\"text-align: right;\">\n",
       "      <th></th>\n",
       "      <th>duration</th>\n",
       "      <th>waiting</th>\n",
       "    </tr>\n",
       "  </thead>\n",
       "  <tbody>\n",
       "    <tr>\n",
       "      <th>count</th>\n",
       "      <td>272.000000</td>\n",
       "      <td>272.000000</td>\n",
       "    </tr>\n",
       "    <tr>\n",
       "      <th>mean</th>\n",
       "      <td>3.487783</td>\n",
       "      <td>70.897059</td>\n",
       "    </tr>\n",
       "    <tr>\n",
       "      <th>std</th>\n",
       "      <td>1.141371</td>\n",
       "      <td>13.594974</td>\n",
       "    </tr>\n",
       "    <tr>\n",
       "      <th>min</th>\n",
       "      <td>1.600000</td>\n",
       "      <td>43.000000</td>\n",
       "    </tr>\n",
       "    <tr>\n",
       "      <th>25%</th>\n",
       "      <td>2.162750</td>\n",
       "      <td>58.000000</td>\n",
       "    </tr>\n",
       "    <tr>\n",
       "      <th>50%</th>\n",
       "      <td>4.000000</td>\n",
       "      <td>76.000000</td>\n",
       "    </tr>\n",
       "    <tr>\n",
       "      <th>75%</th>\n",
       "      <td>4.454250</td>\n",
       "      <td>82.000000</td>\n",
       "    </tr>\n",
       "    <tr>\n",
       "      <th>max</th>\n",
       "      <td>5.100000</td>\n",
       "      <td>96.000000</td>\n",
       "    </tr>\n",
       "  </tbody>\n",
       "</table>\n",
       "</div>"
      ],
      "text/plain": [
       "         duration     waiting\n",
       "count  272.000000  272.000000\n",
       "mean     3.487783   70.897059\n",
       "std      1.141371   13.594974\n",
       "min      1.600000   43.000000\n",
       "25%      2.162750   58.000000\n",
       "50%      4.000000   76.000000\n",
       "75%      4.454250   82.000000\n",
       "max      5.100000   96.000000"
      ]
     },
     "execution_count": 48,
     "metadata": {},
     "output_type": "execute_result"
    }
   ],
   "source": [
    "tb_geyser.describe()"
   ]
  },
  {
   "cell_type": "markdown",
   "id": "b201682a",
   "metadata": {},
   "source": [
    "Também podemos utilizar a função `quantile()` para calcular qualquer quantil de uma variável:"
   ]
  },
  {
   "cell_type": "code",
   "execution_count": 49,
   "id": "08d26136",
   "metadata": {},
   "outputs": [
    {
     "data": {
      "text/plain": [
       "58.0"
      ]
     },
     "execution_count": 49,
     "metadata": {},
     "output_type": "execute_result"
    }
   ],
   "source": [
    "np.quantile(tb_geyser['waiting'], 0.25) #aka Q1"
   ]
  },
  {
   "cell_type": "markdown",
   "id": "98b6253f",
   "metadata": {},
   "source": [
    "Podemos passar uma lista a esta função para extrair múltiplos quantis simultaneamente:"
   ]
  },
  {
   "cell_type": "code",
   "execution_count": 50,
   "id": "a1740a6e",
   "metadata": {},
   "outputs": [
    {
     "data": {
      "text/plain": [
       "array([58., 76., 82.])"
      ]
     },
     "execution_count": 50,
     "metadata": {},
     "output_type": "execute_result"
    }
   ],
   "source": [
    "np.quantile(tb_geyser['waiting'], [0.25, 0.5, 0.75])"
   ]
  },
  {
   "cell_type": "markdown",
   "id": "78173275",
   "metadata": {},
   "source": [
    "ou podemos utilizar o método `.quantile()` dos `DataFrames`:"
   ]
  },
  {
   "cell_type": "code",
   "execution_count": 51,
   "id": "272b545a",
   "metadata": {},
   "outputs": [
    {
     "data": {
      "text/plain": [
       "0.25    58.0\n",
       "0.50    76.0\n",
       "0.75    82.0\n",
       "Name: waiting, dtype: float64"
      ]
     },
     "execution_count": 51,
     "metadata": {},
     "output_type": "execute_result"
    }
   ],
   "source": [
    "tb_geyser['waiting'].quantile([0.25, 0.5, 0.75])"
   ]
  },
  {
   "cell_type": "markdown",
   "id": "f3f38077",
   "metadata": {},
   "source": [
    "### Moda\n",
    "\n",
    "As duas medidas que analisamos anteriormente só são definidas para variáveis continuas. E se precisarmos estimar a localização de uma variável categórica? A forma mais comum de fazê-lo é através da **moda**. A **moda** é definida como **o valor mais comum entre todas as observações**."
   ]
  },
  {
   "cell_type": "code",
   "execution_count": 52,
   "id": "48eb8e1f",
   "metadata": {},
   "outputs": [
    {
     "data": {
      "text/plain": [
       "long     172\n",
       "short    100\n",
       "Name: kind, dtype: int64"
      ]
     },
     "execution_count": 52,
     "metadata": {},
     "output_type": "execute_result"
    }
   ],
   "source": [
    "tb_geyser['kind'].value_counts()"
   ]
  },
  {
   "cell_type": "code",
   "execution_count": 53,
   "id": "c747a758",
   "metadata": {},
   "outputs": [
    {
     "data": {
      "text/html": [
       "<div>\n",
       "<style scoped>\n",
       "    .dataframe tbody tr th:only-of-type {\n",
       "        vertical-align: middle;\n",
       "    }\n",
       "\n",
       "    .dataframe tbody tr th {\n",
       "        vertical-align: top;\n",
       "    }\n",
       "\n",
       "    .dataframe thead th {\n",
       "        text-align: right;\n",
       "    }\n",
       "</style>\n",
       "<table border=\"1\" class=\"dataframe\">\n",
       "  <thead>\n",
       "    <tr style=\"text-align: right;\">\n",
       "      <th></th>\n",
       "      <th>duration</th>\n",
       "      <th>waiting</th>\n",
       "      <th>kind</th>\n",
       "      <th>classif_dur</th>\n",
       "    </tr>\n",
       "  </thead>\n",
       "  <tbody>\n",
       "    <tr>\n",
       "      <th>0</th>\n",
       "      <td>3.600</td>\n",
       "      <td>79</td>\n",
       "      <td>long</td>\n",
       "      <td>(3.525, 3.7]</td>\n",
       "    </tr>\n",
       "    <tr>\n",
       "      <th>1</th>\n",
       "      <td>1.800</td>\n",
       "      <td>54</td>\n",
       "      <td>short</td>\n",
       "      <td>(1.775, 1.95]</td>\n",
       "    </tr>\n",
       "    <tr>\n",
       "      <th>2</th>\n",
       "      <td>3.333</td>\n",
       "      <td>74</td>\n",
       "      <td>long</td>\n",
       "      <td>(3.175, 3.35]</td>\n",
       "    </tr>\n",
       "    <tr>\n",
       "      <th>3</th>\n",
       "      <td>2.283</td>\n",
       "      <td>62</td>\n",
       "      <td>short</td>\n",
       "      <td>(2.125, 2.3]</td>\n",
       "    </tr>\n",
       "    <tr>\n",
       "      <th>4</th>\n",
       "      <td>4.533</td>\n",
       "      <td>85</td>\n",
       "      <td>long</td>\n",
       "      <td>(4.4, 4.575]</td>\n",
       "    </tr>\n",
       "  </tbody>\n",
       "</table>\n",
       "</div>"
      ],
      "text/plain": [
       "   duration  waiting   kind    classif_dur\n",
       "0     3.600       79   long   (3.525, 3.7]\n",
       "1     1.800       54  short  (1.775, 1.95]\n",
       "2     3.333       74   long  (3.175, 3.35]\n",
       "3     2.283       62  short   (2.125, 2.3]\n",
       "4     4.533       85   long   (4.4, 4.575]"
      ]
     },
     "execution_count": 53,
     "metadata": {},
     "output_type": "execute_result"
    }
   ],
   "source": [
    "tb_geyser.head()"
   ]
  },
  {
   "cell_type": "markdown",
   "id": "74fcc3e0",
   "metadata": {},
   "source": [
    "A **moda** de nossa variável `kind` é *long* com 172 observações. Para variáveis continuas não temos como calcular a moda diretamente: pequenas diferenças decimais tornam praticamente impossível que duas observações tenham exatamente o mesmo valor.\n",
    "\n",
    "Para calcular a moda de variáveis continuas devemos **discretiza-las** antes: vamos utilizar a função `cut()` para discretizar as variáveis `waiting` e `duration`:"
   ]
  },
  {
   "cell_type": "code",
   "execution_count": 54,
   "id": "bbb3a64d",
   "metadata": {},
   "outputs": [],
   "source": [
    "tb_geyser['duration_cat'] = pd.cut(tb_geyser['duration'], 5)\n",
    "tb_geyser['waiting_cat'] = pd.cut(tb_geyser['waiting'], 5)"
   ]
  },
  {
   "cell_type": "code",
   "execution_count": 55,
   "id": "a863e715",
   "metadata": {},
   "outputs": [
    {
     "data": {
      "text/html": [
       "<div>\n",
       "<style scoped>\n",
       "    .dataframe tbody tr th:only-of-type {\n",
       "        vertical-align: middle;\n",
       "    }\n",
       "\n",
       "    .dataframe tbody tr th {\n",
       "        vertical-align: top;\n",
       "    }\n",
       "\n",
       "    .dataframe thead th {\n",
       "        text-align: right;\n",
       "    }\n",
       "</style>\n",
       "<table border=\"1\" class=\"dataframe\">\n",
       "  <thead>\n",
       "    <tr style=\"text-align: right;\">\n",
       "      <th></th>\n",
       "      <th>duration</th>\n",
       "      <th>waiting</th>\n",
       "      <th>kind</th>\n",
       "      <th>classif_dur</th>\n",
       "      <th>duration_cat</th>\n",
       "      <th>waiting_cat</th>\n",
       "    </tr>\n",
       "  </thead>\n",
       "  <tbody>\n",
       "    <tr>\n",
       "      <th>0</th>\n",
       "      <td>3.600</td>\n",
       "      <td>79</td>\n",
       "      <td>long</td>\n",
       "      <td>(3.525, 3.7]</td>\n",
       "      <td>(3.0, 3.7]</td>\n",
       "      <td>(74.8, 85.4]</td>\n",
       "    </tr>\n",
       "    <tr>\n",
       "      <th>1</th>\n",
       "      <td>1.800</td>\n",
       "      <td>54</td>\n",
       "      <td>short</td>\n",
       "      <td>(1.775, 1.95]</td>\n",
       "      <td>(1.596, 2.3]</td>\n",
       "      <td>(53.6, 64.2]</td>\n",
       "    </tr>\n",
       "    <tr>\n",
       "      <th>2</th>\n",
       "      <td>3.333</td>\n",
       "      <td>74</td>\n",
       "      <td>long</td>\n",
       "      <td>(3.175, 3.35]</td>\n",
       "      <td>(3.0, 3.7]</td>\n",
       "      <td>(64.2, 74.8]</td>\n",
       "    </tr>\n",
       "    <tr>\n",
       "      <th>3</th>\n",
       "      <td>2.283</td>\n",
       "      <td>62</td>\n",
       "      <td>short</td>\n",
       "      <td>(2.125, 2.3]</td>\n",
       "      <td>(1.596, 2.3]</td>\n",
       "      <td>(53.6, 64.2]</td>\n",
       "    </tr>\n",
       "    <tr>\n",
       "      <th>4</th>\n",
       "      <td>4.533</td>\n",
       "      <td>85</td>\n",
       "      <td>long</td>\n",
       "      <td>(4.4, 4.575]</td>\n",
       "      <td>(4.4, 5.1]</td>\n",
       "      <td>(74.8, 85.4]</td>\n",
       "    </tr>\n",
       "    <tr>\n",
       "      <th>...</th>\n",
       "      <td>...</td>\n",
       "      <td>...</td>\n",
       "      <td>...</td>\n",
       "      <td>...</td>\n",
       "      <td>...</td>\n",
       "      <td>...</td>\n",
       "    </tr>\n",
       "    <tr>\n",
       "      <th>267</th>\n",
       "      <td>4.117</td>\n",
       "      <td>81</td>\n",
       "      <td>long</td>\n",
       "      <td>(4.05, 4.225]</td>\n",
       "      <td>(3.7, 4.4]</td>\n",
       "      <td>(74.8, 85.4]</td>\n",
       "    </tr>\n",
       "    <tr>\n",
       "      <th>268</th>\n",
       "      <td>2.150</td>\n",
       "      <td>46</td>\n",
       "      <td>short</td>\n",
       "      <td>(2.125, 2.3]</td>\n",
       "      <td>(1.596, 2.3]</td>\n",
       "      <td>(42.947, 53.6]</td>\n",
       "    </tr>\n",
       "    <tr>\n",
       "      <th>269</th>\n",
       "      <td>4.417</td>\n",
       "      <td>90</td>\n",
       "      <td>long</td>\n",
       "      <td>(4.4, 4.575]</td>\n",
       "      <td>(4.4, 5.1]</td>\n",
       "      <td>(85.4, 96.0]</td>\n",
       "    </tr>\n",
       "    <tr>\n",
       "      <th>270</th>\n",
       "      <td>1.817</td>\n",
       "      <td>46</td>\n",
       "      <td>short</td>\n",
       "      <td>(1.775, 1.95]</td>\n",
       "      <td>(1.596, 2.3]</td>\n",
       "      <td>(42.947, 53.6]</td>\n",
       "    </tr>\n",
       "    <tr>\n",
       "      <th>271</th>\n",
       "      <td>4.467</td>\n",
       "      <td>74</td>\n",
       "      <td>long</td>\n",
       "      <td>(4.4, 4.575]</td>\n",
       "      <td>(4.4, 5.1]</td>\n",
       "      <td>(64.2, 74.8]</td>\n",
       "    </tr>\n",
       "  </tbody>\n",
       "</table>\n",
       "<p>272 rows × 6 columns</p>\n",
       "</div>"
      ],
      "text/plain": [
       "     duration  waiting   kind    classif_dur  duration_cat     waiting_cat\n",
       "0       3.600       79   long   (3.525, 3.7]    (3.0, 3.7]    (74.8, 85.4]\n",
       "1       1.800       54  short  (1.775, 1.95]  (1.596, 2.3]    (53.6, 64.2]\n",
       "2       3.333       74   long  (3.175, 3.35]    (3.0, 3.7]    (64.2, 74.8]\n",
       "3       2.283       62  short   (2.125, 2.3]  (1.596, 2.3]    (53.6, 64.2]\n",
       "4       4.533       85   long   (4.4, 4.575]    (4.4, 5.1]    (74.8, 85.4]\n",
       "..        ...      ...    ...            ...           ...             ...\n",
       "267     4.117       81   long  (4.05, 4.225]    (3.7, 4.4]    (74.8, 85.4]\n",
       "268     2.150       46  short   (2.125, 2.3]  (1.596, 2.3]  (42.947, 53.6]\n",
       "269     4.417       90   long   (4.4, 4.575]    (4.4, 5.1]    (85.4, 96.0]\n",
       "270     1.817       46  short  (1.775, 1.95]  (1.596, 2.3]  (42.947, 53.6]\n",
       "271     4.467       74   long   (4.4, 4.575]    (4.4, 5.1]    (64.2, 74.8]\n",
       "\n",
       "[272 rows x 6 columns]"
      ]
     },
     "execution_count": 55,
     "metadata": {},
     "output_type": "execute_result"
    }
   ],
   "source": [
    "tb_geyser"
   ]
  },
  {
   "cell_type": "markdown",
   "id": "0c7a827e",
   "metadata": {},
   "source": [
    "Agora podemos calcular a moda de nossas variáveis numéricas:"
   ]
  },
  {
   "cell_type": "code",
   "execution_count": 56,
   "id": "b0c31030",
   "metadata": {},
   "outputs": [
    {
     "data": {
      "text/html": [
       "<div>\n",
       "<style scoped>\n",
       "    .dataframe tbody tr th:only-of-type {\n",
       "        vertical-align: middle;\n",
       "    }\n",
       "\n",
       "    .dataframe tbody tr th {\n",
       "        vertical-align: top;\n",
       "    }\n",
       "\n",
       "    .dataframe thead th {\n",
       "        text-align: right;\n",
       "    }\n",
       "</style>\n",
       "<table border=\"1\" class=\"dataframe\">\n",
       "  <thead>\n",
       "    <tr style=\"text-align: right;\">\n",
       "      <th></th>\n",
       "      <th>kind</th>\n",
       "      <th>classif_dur</th>\n",
       "      <th>duration_cat</th>\n",
       "      <th>waiting_cat</th>\n",
       "    </tr>\n",
       "  </thead>\n",
       "  <tbody>\n",
       "    <tr>\n",
       "      <th>0</th>\n",
       "      <td>long</td>\n",
       "      <td>(1.775, 1.95]</td>\n",
       "      <td>(1.596, 2.3]</td>\n",
       "      <td>(74.8, 85.4]</td>\n",
       "    </tr>\n",
       "    <tr>\n",
       "      <th>1</th>\n",
       "      <td>NaN</td>\n",
       "      <td>NaN</td>\n",
       "      <td>(3.7, 4.4]</td>\n",
       "      <td>NaN</td>\n",
       "    </tr>\n",
       "  </tbody>\n",
       "</table>\n",
       "</div>"
      ],
      "text/plain": [
       "   kind    classif_dur  duration_cat   waiting_cat\n",
       "0  long  (1.775, 1.95]  (1.596, 2.3]  (74.8, 85.4]\n",
       "1   NaN            NaN    (3.7, 4.4]           NaN"
      ]
     },
     "execution_count": 56,
     "metadata": {},
     "output_type": "execute_result"
    }
   ],
   "source": [
    "tb_geyser.select_dtypes(include = ['object', 'category']).mode()"
   ]
  },
  {
   "cell_type": "markdown",
   "id": "8b15df96",
   "metadata": {},
   "source": [
    "No exemplo acima, podemos ver como a moda foi capaz de detectar a bi-modalidade da variável `duration`. Infelizmente, o uso da moda é muito dependente do número de categorias que utilizamos. Para contornar essa limitação podemos utilizar o **Estimador de Freedman Diaconis**, através da biblioteca NumPy:"
   ]
  },
  {
   "cell_type": "code",
   "execution_count": 57,
   "id": "73814acc",
   "metadata": {},
   "outputs": [
    {
     "data": {
      "text/html": [
       "<div>\n",
       "<style scoped>\n",
       "    .dataframe tbody tr th:only-of-type {\n",
       "        vertical-align: middle;\n",
       "    }\n",
       "\n",
       "    .dataframe tbody tr th {\n",
       "        vertical-align: top;\n",
       "    }\n",
       "\n",
       "    .dataframe thead th {\n",
       "        text-align: right;\n",
       "    }\n",
       "</style>\n",
       "<table border=\"1\" class=\"dataframe\">\n",
       "  <thead>\n",
       "    <tr style=\"text-align: right;\">\n",
       "      <th></th>\n",
       "      <th>kind</th>\n",
       "      <th>classif_dur</th>\n",
       "      <th>duration_cat</th>\n",
       "      <th>waiting_cat</th>\n",
       "    </tr>\n",
       "  </thead>\n",
       "  <tbody>\n",
       "    <tr>\n",
       "      <th>0</th>\n",
       "      <td>long</td>\n",
       "      <td>(1.775, 1.95]</td>\n",
       "      <td>(3.7, 4.4]</td>\n",
       "      <td>(76.125, 82.75]</td>\n",
       "    </tr>\n",
       "  </tbody>\n",
       "</table>\n",
       "</div>"
      ],
      "text/plain": [
       "   kind    classif_dur duration_cat      waiting_cat\n",
       "0  long  (1.775, 1.95]   (3.7, 4.4]  (76.125, 82.75]"
      ]
     },
     "execution_count": 57,
     "metadata": {},
     "output_type": "execute_result"
    }
   ],
   "source": [
    "tb_geyser['duration_cat'] = pd.cut(tb_geyser['duration'], np.histogram_bin_edges(tb_geyser['duration'], bins = 'fd'))\n",
    "tb_geyser['waiting_cat'] = pd.cut(tb_geyser['waiting'], np.histogram_bin_edges(tb_geyser['waiting'], bins = 'fd'))\n",
    "tb_geyser.select_dtypes(include = ['object', 'category']).mode()"
   ]
  },
  {
   "cell_type": "markdown",
   "id": "34cf816e",
   "metadata": {},
   "source": [
    "Agora vamos extrair utilizar o valor médio do intervalo da categoria como valor da nossa moda:"
   ]
  },
  {
   "cell_type": "code",
   "execution_count": 58,
   "id": "6628b5b6",
   "metadata": {},
   "outputs": [
    {
     "name": "stdout",
     "output_type": "stream",
     "text": [
      "4.050000000000001\n"
     ]
    }
   ],
   "source": [
    "moda_duration = tb_geyser.select_dtypes(include = ['object', 'category']).mode()['duration_cat'][0].mid\n",
    "print(moda_duration)"
   ]
  },
  {
   "cell_type": "markdown",
   "id": "9c0b470a",
   "metadata": {},
   "source": [
    "Como podemos ver, mudando o número de faixas não temos mais a capacidade de detectar a bi-modalidade da distribuição. Independemente, a moda é muito útil em casos de distribuições multi-modais pois, no pior caso, representará o centro de uma das distribuições presente em nosso dado:"
   ]
  },
  {
   "cell_type": "code",
   "execution_count": 59,
   "id": "73873f26",
   "metadata": {},
   "outputs": [],
   "source": [
    "moda_duration = tb_geyser.select_dtypes(include = ['object', 'category']).mode()['duration_cat'][0].mid\n",
    "media_duration = tb_geyser['duration'].mean()\n",
    "mediana_duration = tb_geyser['duration'].median()"
   ]
  },
  {
   "cell_type": "code",
   "execution_count": 60,
   "id": "285c5733",
   "metadata": {},
   "outputs": [
    {
     "data": {
      "image/png": "[encoded data removed]",
      "text/plain": [
       "<Figure size 640x480 with 1 Axes>"
      ]
     },
     "metadata": {},
     "output_type": "display_data"
    }
   ],
   "source": [
    "\n",
    "sns.histplot(data = tb_geyser, x = 'duration').set(title='Distribuição de Durações das Erupções')\n",
    "mask_short = tb_geyser['kind'] == 'short'\n",
    "plt.axvline(media_duration, color = 'red');\n",
    "plt.axvline(mediana_duration, color = 'blue');\n",
    "plt.axvline(moda_duration, color = 'black');"
   ]
  },
  {
   "cell_type": "markdown",
   "id": "8033374c",
   "metadata": {},
   "source": [
    "## Dispersão\n",
    "\n",
    "A segunda categoria de estatísticas descritivas que veremos hoje são as **medidas de dispersão**. Equanto as **medidas de localização** representam **o valor ao redor do qual nossa variável está distribuída**, as **medidas de dispersão** representam **quanto as observações diferem da centralidade**. \n",
    "\n",
    "Visualmente podemos dizer que a localização é onde nosso histograma está localizado (em torno de 4, de 40, de 150...) e a dispersão é o quão *aberto* é o histograma (de 1 à 5, de 0 à 20, de -15 à 30).\n",
    "\n",
    "### Desvio padrão\n",
    "\n",
    "A primeira medida de dispersão é diretamente relacionada à média: o desvio padrão. Vamos ver como podemos calcular o desvio padrão para entender melhor o que está quantidade mede. Primeiro, vamos criar uma nova variável, chamada de `duration_desvio` que conterá a diferênça de cada observação para a média:"
   ]
  },
  {
   "cell_type": "code",
   "execution_count": 61,
   "id": "b432cdd7",
   "metadata": {},
   "outputs": [],
   "source": [
    "tb_geyser_long = tb_geyser[tb_geyser['kind'] == 'long'].copy()"
   ]
  },
  {
   "cell_type": "code",
   "execution_count": 62,
   "id": "728abc16",
   "metadata": {
    "ExecuteTime": {
     "end_time": "2022-02-24T23:07:48.098331Z",
     "start_time": "2022-02-24T23:07:48.064423Z"
    }
   },
   "outputs": [],
   "source": [
    "tb_geyser_long['duration_desvio'] = tb_geyser_long['duration'] - np.mean(tb_geyser_long['duration'])"
   ]
  },
  {
   "cell_type": "code",
   "execution_count": 63,
   "id": "65907adf",
   "metadata": {
    "ExecuteTime": {
     "end_time": "2022-02-24T23:07:57.156415Z",
     "start_time": "2022-02-24T23:07:57.142454Z"
    }
   },
   "outputs": [
    {
     "data": {
      "text/plain": [
       "0     -0.69793\n",
       "2     -0.96493\n",
       "4      0.23507\n",
       "6      0.40207\n",
       "7     -0.69793\n",
       "        ...   \n",
       "263   -0.04793\n",
       "266    0.45207\n",
       "267   -0.18093\n",
       "269    0.11907\n",
       "271    0.16907\n",
       "Name: duration_desvio, Length: 172, dtype: float64"
      ]
     },
     "execution_count": 63,
     "metadata": {},
     "output_type": "execute_result"
    }
   ],
   "source": [
    "tb_geyser_long['duration_desvio']"
   ]
  },
  {
   "cell_type": "markdown",
   "id": "c632a600",
   "metadata": {},
   "source": [
    "Essa nova variável representa o quão distante da média cada observação está. Podemos tentar resumir a dispersão calculando a média dessa nova variável!"
   ]
  },
  {
   "cell_type": "code",
   "execution_count": 64,
   "id": "5554e81a",
   "metadata": {},
   "outputs": [
    {
     "data": {
      "text/plain": [
       "-2.8659245519393577e-16"
      ]
     },
     "execution_count": 64,
     "metadata": {},
     "output_type": "execute_result"
    }
   ],
   "source": [
    "tb_geyser_long['duration_desvio'].mean()"
   ]
  },
  {
   "cell_type": "markdown",
   "id": "43a00493",
   "metadata": {},
   "source": [
    "Segundo essa lógica, o desvio é praticamente 0! O que aconteceu e como podemos corrigir isto?"
   ]
  },
  {
   "cell_type": "code",
   "execution_count": 65,
   "id": "ce0e9a49",
   "metadata": {
    "ExecuteTime": {
     "end_time": "2022-02-24T23:09:56.819259Z",
     "start_time": "2022-02-24T23:09:56.804299Z"
    }
   },
   "outputs": [],
   "source": [
    "tb_geyser_long['duration_desvio_quadrado'] = tb_geyser_long['duration_desvio'] ** 2"
   ]
  },
  {
   "cell_type": "code",
   "execution_count": 66,
   "id": "d699dc21",
   "metadata": {
    "ExecuteTime": {
     "end_time": "2022-02-24T23:10:02.881836Z",
     "start_time": "2022-02-24T23:10:02.866849Z"
    }
   },
   "outputs": [
    {
     "data": {
      "text/plain": [
       "0      0.487107\n",
       "2      0.931090\n",
       "4      0.055258\n",
       "6      0.161660\n",
       "7      0.487107\n",
       "         ...   \n",
       "263    0.002297\n",
       "266    0.204367\n",
       "267    0.032736\n",
       "269    0.014178\n",
       "271    0.028585\n",
       "Name: duration_desvio_quadrado, Length: 172, dtype: float64"
      ]
     },
     "execution_count": 66,
     "metadata": {},
     "output_type": "execute_result"
    }
   ],
   "source": [
    "tb_geyser_long['duration_desvio_quadrado']"
   ]
  },
  {
   "cell_type": "markdown",
   "id": "e6f7e551",
   "metadata": {},
   "source": [
    "Agora, podemos calcular a média desse desvio ao quadrado:"
   ]
  },
  {
   "cell_type": "code",
   "execution_count": 67,
   "id": "cb723db6",
   "metadata": {
    "ExecuteTime": {
     "end_time": "2022-02-24T23:10:26.201589Z",
     "start_time": "2022-02-24T23:10:26.183635Z"
    }
   },
   "outputs": [
    {
     "data": {
      "text/plain": [
       "0.17761716955110868"
      ]
     },
     "execution_count": 67,
     "metadata": {},
     "output_type": "execute_result"
    }
   ],
   "source": [
    "tb_geyser_long['duration_desvio_quadrado'].mean()"
   ]
  },
  {
   "cell_type": "markdown",
   "id": "e37122fa",
   "metadata": {},
   "source": [
    "Infelizmente, nesse caso a unidade desta média não é mais minutos, e sim minutos ao quadrado! Vamos tomar a raiz quadrada para retornar a unidade para minutos:"
   ]
  },
  {
   "cell_type": "code",
   "execution_count": 68,
   "id": "4f4a0f84",
   "metadata": {
    "ExecuteTime": {
     "end_time": "2022-02-24T23:10:50.867475Z",
     "start_time": "2022-02-24T23:10:50.859499Z"
    }
   },
   "outputs": [
    {
     "data": {
      "text/plain": [
       "0.4214465203926931"
      ]
     },
     "execution_count": 68,
     "metadata": {},
     "output_type": "execute_result"
    }
   ],
   "source": [
    "np.sqrt(tb_geyser_long['duration_desvio_quadrado'].mean())"
   ]
  },
  {
   "cell_type": "markdown",
   "id": "7b41b796",
   "metadata": {},
   "source": [
    "Este número que calculamos é justamente o **desvio padrão** da variável `duration`! Podemos confirmar isso utilizando a função `std()`:"
   ]
  },
  {
   "cell_type": "code",
   "execution_count": 71,
   "id": "9991f1e5",
   "metadata": {},
   "outputs": [
    {
     "data": {
      "text/plain": [
       "4.29793023255814"
      ]
     },
     "execution_count": 71,
     "metadata": {},
     "output_type": "execute_result"
    }
   ],
   "source": [
    "np.mean(tb_geyser_long['duration'])"
   ]
  },
  {
   "cell_type": "code",
   "execution_count": 69,
   "id": "fd3c3929",
   "metadata": {
    "ExecuteTime": {
     "end_time": "2022-02-22T19:28:24.917055Z",
     "start_time": "2022-02-22T19:28:24.904089Z"
    }
   },
   "outputs": [
    {
     "data": {
      "text/plain": [
       "0.421446520392693"
      ]
     },
     "execution_count": 69,
     "metadata": {},
     "output_type": "execute_result"
    }
   ],
   "source": [
    "np.std(tb_geyser_long['duration'])"
   ]
  },
  {
   "cell_type": "markdown",
   "id": "876d734b",
   "metadata": {},
   "source": [
    "ou o método `.std()` dos `DataFrames`"
   ]
  },
  {
   "cell_type": "code",
   "execution_count": 70,
   "id": "d847597e",
   "metadata": {},
   "outputs": [
    {
     "data": {
      "text/plain": [
       "0.42267702380076"
      ]
     },
     "execution_count": 70,
     "metadata": {},
     "output_type": "execute_result"
    }
   ],
   "source": [
    "tb_geyser_long['duration'].std()"
   ]
  },
  {
   "cell_type": "markdown",
   "id": "0ff40a2c",
   "metadata": {},
   "source": [
    "A fórmula do desvio padrão que descreve as etapas que percorremos até aqui é bem simples:\n",
    "\n",
    "$$\\mu=\\frac{\\sum_{i=1}^n x_{i}}{n} $$\n",
    "\n",
    "$$\\sigma = \\sqrt{\\frac{\\sum_{i=1}^n (x_{i} - \\mu)^2}{n}}$$\n",
    "\n",
    "A letra grega utilizada tradicionalmente para representar o desvio padrão é o *sigma*.\n",
    "\n",
    "#### Aplicação I - Encontrando Outliers\n",
    "\n",
    "Uma utilização comum do desvio padrão é a marcação de outliers. Podemos utilizar a distância de cada observação para a média, medida em desvios padrões da variável, como um indicador de quão *longe* do centro da distribuição uma observação está"
   ]
  },
  {
   "cell_type": "code",
   "execution_count": 73,
   "id": "a665de2e",
   "metadata": {},
   "outputs": [
    {
     "data": {
      "text/plain": [
       "0     -0.69793\n",
       "2     -0.96493\n",
       "4      0.23507\n",
       "6      0.40207\n",
       "7     -0.69793\n",
       "        ...   \n",
       "263   -0.04793\n",
       "266    0.45207\n",
       "267   -0.18093\n",
       "269    0.11907\n",
       "271    0.16907\n",
       "Name: duration_desvio, Length: 172, dtype: float64"
      ]
     },
     "execution_count": 73,
     "metadata": {},
     "output_type": "execute_result"
    }
   ],
   "source": [
    "tb_geyser_long['duration_desvio']"
   ]
  },
  {
   "cell_type": "code",
   "execution_count": 76,
   "id": "a154b15a",
   "metadata": {},
   "outputs": [
    {
     "data": {
      "text/plain": [
       "0      1.651214\n",
       "2      2.282902\n",
       "4      0.556145\n",
       "6      0.951246\n",
       "7      1.651214\n",
       "         ...   \n",
       "263    0.113397\n",
       "266    1.069539\n",
       "267    0.428058\n",
       "269    0.281704\n",
       "271    0.399998\n",
       "Name: duration_desvio, Length: 172, dtype: float64"
      ]
     },
     "execution_count": 76,
     "metadata": {},
     "output_type": "execute_result"
    }
   ],
   "source": [
    "np.abs(tb_geyser_long['duration_desvio']/tb_geyser_long['duration'].std())"
   ]
  },
  {
   "cell_type": "code",
   "execution_count": 72,
   "id": "e6a62c3b",
   "metadata": {},
   "outputs": [
    {
     "data": {
      "image/png": "[encoded data removed]",
      "text/plain": [
       "<Figure size 640x480 with 1 Axes>"
      ]
     },
     "metadata": {},
     "output_type": "display_data"
    }
   ],
   "source": [
    "tb_geyser_long['score_outlier_dur'] = np.abs(tb_geyser_long['duration_desvio']/tb_geyser_long['duration'].std())\n",
    "fig, ax = plt.subplots()\n",
    "sns.histplot(data = tb_geyser_long, x = 'score_outlier_dur')\n",
    "fig.suptitle('Distribuição de Distância da Média')\n",
    "ax.set_xlabel('Desvios Padrões');"
   ]
  },
  {
   "cell_type": "code",
   "execution_count": 78,
   "id": "1506f50a",
   "metadata": {},
   "outputs": [
    {
     "data": {
      "text/plain": [
       "4.29793023255814"
      ]
     },
     "execution_count": 78,
     "metadata": {},
     "output_type": "execute_result"
    }
   ],
   "source": [
    "np.mean(tb_geyser_long['duration'])"
   ]
  },
  {
   "cell_type": "code",
   "execution_count": 80,
   "id": "5e6b29fb",
   "metadata": {},
   "outputs": [
    {
     "data": {
      "text/plain": [
       "0.842893040785386"
      ]
     },
     "execution_count": 80,
     "metadata": {},
     "output_type": "execute_result"
    }
   ],
   "source": [
    "np.std(tb_geyser_long['duration'])"
   ]
  },
  {
   "cell_type": "code",
   "execution_count": 84,
   "id": "f2fcc485",
   "metadata": {},
   "outputs": [
    {
     "data": {
      "text/plain": [
       "5.562269793736219"
      ]
     },
     "execution_count": 84,
     "metadata": {},
     "output_type": "execute_result"
    }
   ],
   "source": [
    "np.mean(tb_geyser_long['duration']) + np.std(tb_geyser_long['duration']) * 3"
   ]
  },
  {
   "cell_type": "code",
   "execution_count": null,
   "id": "b65478db",
   "metadata": {},
   "outputs": [],
   "source": [
    "# 2-sigmas: 4.29 + 0.42 * 2 OU 4.29 - 0.42 * 2\n",
    "# 2-sigmas: <5.14 ou >3.45\n",
    "\n",
    "# 3-sigmas: 4.29 + 0.42 * 3 OU 4.29 - 0.42 * 3\n",
    "# 3-sigmas: <5.56 ou >3.03"
   ]
  },
  {
   "cell_type": "markdown",
   "id": "ac1285b8",
   "metadata": {},
   "source": [
    "Uma regra comum utilizada marca todos os pontos a mais de 2 desvios padrões da média como outliers (esta regra se chama **Regra dos 3-sigmas**). Vamos realizar essa marcação para ver onde nossos outliers estão localizados:"
   ]
  },
  {
   "cell_type": "code",
   "execution_count": 77,
   "id": "d9019d18",
   "metadata": {},
   "outputs": [
    {
     "data": {
      "image/png": "[encoded data removed]",
      "text/plain": [
       "<Figure size 640x480 with 1 Axes>"
      ]
     },
     "metadata": {},
     "output_type": "display_data"
    }
   ],
   "source": [
    "tb_geyser_long['outlier'] = np.where(tb_geyser_long['score_outlier_dur'] > 2, True, False)\n",
    "fig, ax = plt.subplots()\n",
    "sns.histplot(data = tb_geyser_long, x = 'duration', hue = 'outlier')\n",
    "fig.suptitle('Distribuição de Duração da Erupção\\n com Marcação de Outliers')\n",
    "ax.set_xlabel('Minutos');"
   ]
  },
  {
   "cell_type": "markdown",
   "id": "26ae11f9",
   "metadata": {},
   "source": [
    "Podemos supor que as observações acima foram **mal classificadas**: talvez devessem pertencer ao grupo de erupções curtas!\n",
    "\n",
    "É claro que essa marcação depende da *regra* que utiliza 2 desvios padrões como ponto de marcação dos outliers. Está regra é calcada na **Desigualdade de Chebyshev**, que garante, para qualquer distribuição (não-exótica), que 75% da população esta à dois desvios padrões da média. Esta desigualdade é extremamente conservadora: em uma distribuição que se aproxima de uma normal (quase tudo, pelo teorema do limite central), essa porcentagem é mais próxima de 95%!\n",
    "\n",
    "#### Aplicação II - Coeficiente de Variação\n",
    "\n",
    "Embora o desvio padrão seja mensurado na mesma unidade da variável para qual foi calculado (minutos no exemplo acima), em aplicações reais ele é muitas vezes *condicionado* à média. Por exemplo, em um mercado queremos saber qual produto tem mais variabilidade nas vendas - muitas vezes vamos observar que o produto que, em média, vende mais tem um desvio padrão maior. **Isso representa uma dispersão maior?**\n",
    "\n",
    "Não necessariamente! Imagine que o **produto A** vende 100 unidades em média, com um desvio padrão = 5, enquanto o **produto B** vende em média 10 unidades com um desvio padrão = 4. **Qual produto, em sua opinião, apresenta mais variabilidade?**\n",
    "\n",
    "Uma forma de poder comparar a dispersão de dois grupos com médias distintas é através da **proporção entre o desvio padrão e a média** - esta medida se chama **coeficiente de variação**!"
   ]
  },
  {
   "cell_type": "code",
   "execution_count": 87,
   "id": "ca447dbb",
   "metadata": {},
   "outputs": [
    {
     "data": {
      "text/plain": [
       "1.2222222222222223"
      ]
     },
     "execution_count": 87,
     "metadata": {},
     "output_type": "execute_result"
    }
   ],
   "source": [
    "11/9"
   ]
  },
  {
   "cell_type": "code",
   "execution_count": 88,
   "id": "2291d4d4",
   "metadata": {},
   "outputs": [
    {
     "data": {
      "text/plain": [
       "3.8571428571428577"
      ]
     },
     "execution_count": 88,
     "metadata": {},
     "output_type": "execute_result"
    }
   ],
   "source": [
    "2.7/0.7"
   ]
  },
  {
   "cell_type": "code",
   "execution_count": 85,
   "id": "5744fe72",
   "metadata": {},
   "outputs": [
    {
     "data": {
      "text/plain": [
       "kind\n",
       "long     4.29793\n",
       "short    2.09433\n",
       "Name: duration, dtype: float64"
      ]
     },
     "execution_count": 85,
     "metadata": {},
     "output_type": "execute_result"
    }
   ],
   "source": [
    "tb_geyser.groupby('kind')['duration'].mean()"
   ]
  },
  {
   "cell_type": "code",
   "execution_count": 86,
   "id": "ef80cb4e",
   "metadata": {},
   "outputs": [
    {
     "data": {
      "text/plain": [
       "kind\n",
       "long     0.422677\n",
       "short    0.394762\n",
       "Name: duration, dtype: float64"
      ]
     },
     "execution_count": 86,
     "metadata": {},
     "output_type": "execute_result"
    }
   ],
   "source": [
    "tb_geyser.groupby('kind')['duration'].std()"
   ]
  },
  {
   "cell_type": "code",
   "execution_count": 89,
   "id": "6184c0d8",
   "metadata": {},
   "outputs": [
    {
     "data": {
      "text/plain": [
       "1.4869565217391303"
      ]
     },
     "execution_count": 89,
     "metadata": {},
     "output_type": "execute_result"
    }
   ],
   "source": [
    "(4.29 + 2 *0.42)/(4.29 - 2 *0.42)"
   ]
  },
  {
   "cell_type": "code",
   "execution_count": 90,
   "id": "d5eded2f",
   "metadata": {},
   "outputs": [
    {
     "data": {
      "text/plain": [
       "2.210445468509985"
      ]
     },
     "execution_count": 90,
     "metadata": {},
     "output_type": "execute_result"
    }
   ],
   "source": [
    "(2.09 + 2 * 0.394)/(2.09 - 2 * 0.394)"
   ]
  },
  {
   "cell_type": "code",
   "execution_count": 91,
   "id": "b6383320",
   "metadata": {},
   "outputs": [
    {
     "data": {
      "text/html": [
       "<div>\n",
       "<style scoped>\n",
       "    .dataframe tbody tr th:only-of-type {\n",
       "        vertical-align: middle;\n",
       "    }\n",
       "\n",
       "    .dataframe tbody tr th {\n",
       "        vertical-align: top;\n",
       "    }\n",
       "\n",
       "    .dataframe thead th {\n",
       "        text-align: right;\n",
       "    }\n",
       "</style>\n",
       "<table border=\"1\" class=\"dataframe\">\n",
       "  <thead>\n",
       "    <tr style=\"text-align: right;\">\n",
       "      <th></th>\n",
       "      <th>kind</th>\n",
       "      <th>mean</th>\n",
       "      <th>std</th>\n",
       "    </tr>\n",
       "  </thead>\n",
       "  <tbody>\n",
       "    <tr>\n",
       "      <th>0</th>\n",
       "      <td>long</td>\n",
       "      <td>4.29793</td>\n",
       "      <td>0.422677</td>\n",
       "    </tr>\n",
       "    <tr>\n",
       "      <th>1</th>\n",
       "      <td>short</td>\n",
       "      <td>2.09433</td>\n",
       "      <td>0.394762</td>\n",
       "    </tr>\n",
       "  </tbody>\n",
       "</table>\n",
       "</div>"
      ],
      "text/plain": [
       "    kind     mean       std\n",
       "0   long  4.29793  0.422677\n",
       "1  short  2.09433  0.394762"
      ]
     },
     "execution_count": 91,
     "metadata": {},
     "output_type": "execute_result"
    }
   ],
   "source": [
    "tb_geyser_ed = tb_geyser.groupby('kind')['duration'].agg(['mean', 'std']).reset_index()\n",
    "tb_geyser_ed"
   ]
  },
  {
   "cell_type": "code",
   "execution_count": 92,
   "id": "e62fd19e",
   "metadata": {},
   "outputs": [
    {
     "data": {
      "text/html": [
       "<div>\n",
       "<style scoped>\n",
       "    .dataframe tbody tr th:only-of-type {\n",
       "        vertical-align: middle;\n",
       "    }\n",
       "\n",
       "    .dataframe tbody tr th {\n",
       "        vertical-align: top;\n",
       "    }\n",
       "\n",
       "    .dataframe thead th {\n",
       "        text-align: right;\n",
       "    }\n",
       "</style>\n",
       "<table border=\"1\" class=\"dataframe\">\n",
       "  <thead>\n",
       "    <tr style=\"text-align: right;\">\n",
       "      <th></th>\n",
       "      <th>kind</th>\n",
       "      <th>mean</th>\n",
       "      <th>std</th>\n",
       "      <th>coef_var</th>\n",
       "    </tr>\n",
       "  </thead>\n",
       "  <tbody>\n",
       "    <tr>\n",
       "      <th>0</th>\n",
       "      <td>long</td>\n",
       "      <td>4.29793</td>\n",
       "      <td>0.422677</td>\n",
       "      <td>0.098344</td>\n",
       "    </tr>\n",
       "    <tr>\n",
       "      <th>1</th>\n",
       "      <td>short</td>\n",
       "      <td>2.09433</td>\n",
       "      <td>0.394762</td>\n",
       "      <td>0.188491</td>\n",
       "    </tr>\n",
       "  </tbody>\n",
       "</table>\n",
       "</div>"
      ],
      "text/plain": [
       "    kind     mean       std  coef_var\n",
       "0   long  4.29793  0.422677  0.098344\n",
       "1  short  2.09433  0.394762  0.188491"
      ]
     },
     "execution_count": 92,
     "metadata": {},
     "output_type": "execute_result"
    }
   ],
   "source": [
    "tb_geyser_ed['coef_var'] = tb_geyser_ed['std']/tb_geyser_ed['mean']\n",
    "tb_geyser_ed"
   ]
  },
  {
   "cell_type": "markdown",
   "id": "fb57f914",
   "metadata": {},
   "source": [
    "### Limitações do Desvio Padrão\n",
    "\n",
    "A principal limitação do desvio padrão surge quando consideramos distribuições assimétricas: como utilizamos o desvio padrão a partir da média, para distribuições simétricas estamos estimando uma dispersão simétrica.\n",
    "\n",
    "Vamos visualizar este problema nas erupções de curta duração:"
   ]
  },
  {
   "cell_type": "code",
   "execution_count": 111,
   "id": "996f110e",
   "metadata": {},
   "outputs": [
    {
     "data": {
      "image/png": "[encoded data removed]",
      "text/plain": [
       "<Figure size 640x480 with 1 Axes>"
      ]
     },
     "metadata": {},
     "output_type": "display_data"
    }
   ],
   "source": [
    "tb_geyser_short = tb_geyser[tb_geyser['kind'] == 'short'].copy()\n",
    "fig, ax = plt.subplots()\n",
    "sns.histplot(data = tb_geyser_short, x = 'duration')\n",
    "plt.axvline(tb_geyser_short['duration'].mean(), color = 'red')\n",
    "plt.axvline(tb_geyser_short['duration'].mean() - 2 * tb_geyser_short['duration'].std(), color = 'black')\n",
    "plt.axvline(tb_geyser_short['duration'].mean() + 2 * tb_geyser_short['duration'].std(), color = 'black')\n",
    "fig.suptitle('Distribuição da Duração de Erupções\\n com região à 2 desvios padrões da média');"
   ]
  },
  {
   "cell_type": "markdown",
   "id": "6c022a76",
   "metadata": {},
   "source": [
    "Como podemos ver no gráfico acima, a faixa projetada para a duração das erupções está deslocada em relação à distribuição observada: como a distribuição é assimétrica, ou seja, tem mais observações acima da média do que abaixo, a simetria da média e do desvio padrão não capturam a assimetria da dispersão.\n",
    "\n",
    "## IQR (Amplitude interquartil)\n",
    "\n",
    "Enquanto o desvio padrão é uma medida de dispersão relacionada à média, o **IQR** (*inter-quartile range*) é uma medida de dispersão relacionada à mediana. O IQR é definido como a diferença entre o primeiro e o terceiro quartil, ou seja, é a distância que contém 50% das observações de nosso dataset:"
   ]
  },
  {
   "cell_type": "code",
   "execution_count": 112,
   "id": "18f78456",
   "metadata": {
    "ExecuteTime": {
     "end_time": "2022-02-24T23:26:47.430316Z",
     "start_time": "2022-02-24T23:26:47.423363Z"
    }
   },
   "outputs": [
    {
     "name": "stdout",
     "output_type": "stream",
     "text": [
      "1.833\n"
     ]
    }
   ],
   "source": [
    "dur_p25 = np.quantile(tb_geyser_short['duration'], 0.25)\n",
    "print(dur_p25)"
   ]
  },
  {
   "cell_type": "code",
   "execution_count": 113,
   "id": "a683acdd",
   "metadata": {
    "ExecuteTime": {
     "end_time": "2022-02-24T23:26:58.528270Z",
     "start_time": "2022-02-24T23:26:58.516281Z"
    }
   },
   "outputs": [
    {
     "name": "stdout",
     "output_type": "stream",
     "text": [
      "2.221\n"
     ]
    }
   ],
   "source": [
    "dur_p75 = np.quantile(tb_geyser_short['duration'], 0.75)\n",
    "print(dur_p75)"
   ]
  },
  {
   "cell_type": "code",
   "execution_count": 114,
   "id": "925c9d61",
   "metadata": {
    "ExecuteTime": {
     "end_time": "2022-02-24T23:27:05.201374Z",
     "start_time": "2022-02-24T23:27:05.185416Z"
    }
   },
   "outputs": [
    {
     "name": "stdout",
     "output_type": "stream",
     "text": [
      "0.3880000000000001\n"
     ]
    }
   ],
   "source": [
    "print(dur_p75 - dur_p25)"
   ]
  },
  {
   "cell_type": "markdown",
   "id": "af8b642e",
   "metadata": {},
   "source": [
    "Vamos construir uma função para calcular, a partir de um vetor de observações numéricas, a distância inter-quartil:"
   ]
  },
  {
   "cell_type": "code",
   "execution_count": 115,
   "id": "3d8a97e0",
   "metadata": {
    "ExecuteTime": {
     "end_time": "2022-02-22T19:50:09.490912Z",
     "start_time": "2022-02-22T19:50:09.473960Z"
    }
   },
   "outputs": [],
   "source": [
    "def iqr(vetor):\n",
    "    dur_p25 = np.quantile(vetor, 0.25)\n",
    "    dur_p75 = np.quantile(vetor, 0.75)\n",
    "    return dur_p75 - dur_p25"
   ]
  },
  {
   "cell_type": "code",
   "execution_count": null,
   "id": "ba117971",
   "metadata": {},
   "outputs": [],
   "source": []
  },
  {
   "cell_type": "code",
   "execution_count": 116,
   "id": "fb1467f8",
   "metadata": {},
   "outputs": [
    {
     "data": {
      "text/plain": [
       "0.3880000000000001"
      ]
     },
     "execution_count": 116,
     "metadata": {},
     "output_type": "execute_result"
    }
   ],
   "source": [
    "iqr(tb_geyser_short['duration'])"
   ]
  },
  {
   "cell_type": "markdown",
   "id": "a293bec6",
   "metadata": {},
   "source": [
    "#### Aplicação III - Econtrando Outliers II\n",
    "\n",
    "Como a combinação média/desvio padrão apresentam dificuldade ao lidar com dados de distribuições assimétricas, vamos utilizar o IQR e os quartis para procurar outliers na duração de erupções do tipo curto.\n",
    "\n",
    "Vamos utilizar a distância inter-quartil para calcular limites inferiores e superiores em relação ao primeiro e terceiro quartis:"
   ]
  },
  {
   "cell_type": "code",
   "execution_count": 117,
   "id": "013888b9",
   "metadata": {},
   "outputs": [],
   "source": [
    "iqr_short = iqr(tb_geyser_short['duration'])\n",
    "lim_inf = tb_geyser_short['duration'].quantile(0.25) - 1.5*iqr_short\n",
    "lim_sup  = tb_geyser_short['duration'].quantile(0.75) + 1.5*iqr_short"
   ]
  },
  {
   "cell_type": "code",
   "execution_count": 118,
   "id": "1eb199f9",
   "metadata": {},
   "outputs": [
    {
     "data": {
      "text/plain": [
       "1.251"
      ]
     },
     "execution_count": 118,
     "metadata": {},
     "output_type": "execute_result"
    }
   ],
   "source": [
    "lim_inf"
   ]
  },
  {
   "cell_type": "code",
   "execution_count": 119,
   "id": "9ec22be7",
   "metadata": {},
   "outputs": [
    {
     "data": {
      "text/plain": [
       "2.8030000000000004"
      ]
     },
     "execution_count": 119,
     "metadata": {},
     "output_type": "execute_result"
    }
   ],
   "source": [
    "lim_sup"
   ]
  },
  {
   "cell_type": "markdown",
   "id": "01070ebb",
   "metadata": {},
   "source": [
    "No código acima podemos ver que o limite inferior é:\n",
    "$$Q25 - 1.5*IQR$$\n",
    "enquanto o limite superior é:\n",
    "$$Q75 + 1.5*IQR$$\n",
    "Podemos ver a assimetria dessa medida comparando a distância do limite inferior e superior para a mediana:"
   ]
  },
  {
   "cell_type": "code",
   "execution_count": 120,
   "id": "79c7ef90",
   "metadata": {},
   "outputs": [
    {
     "data": {
      "text/plain": [
       "0.7320000000000002"
      ]
     },
     "execution_count": 120,
     "metadata": {},
     "output_type": "execute_result"
    }
   ],
   "source": [
    "tb_geyser_short['duration'].median() - lim_inf"
   ]
  },
  {
   "cell_type": "code",
   "execution_count": 121,
   "id": "97f21612",
   "metadata": {},
   "outputs": [
    {
     "data": {
      "text/plain": [
       "0.8200000000000003"
      ]
     },
     "execution_count": 121,
     "metadata": {},
     "output_type": "execute_result"
    }
   ],
   "source": [
    "lim_sup - tb_geyser_short['duration'].median()"
   ]
  },
  {
   "cell_type": "markdown",
   "id": "d86f83ab",
   "metadata": {},
   "source": [
    "Agora vamos utiliza-los para classificar as observações em outliers:"
   ]
  },
  {
   "cell_type": "code",
   "execution_count": 122,
   "id": "4ec94b60",
   "metadata": {},
   "outputs": [
    {
     "data": {
      "image/png": "[encoded data removed]",
      "text/plain": [
       "<Figure size 640x480 with 1 Axes>"
      ]
     },
     "metadata": {},
     "output_type": "display_data"
    }
   ],
   "source": [
    "obs_lim_inf = tb_geyser_short['duration'] < lim_inf\n",
    "obs_lim_sup = tb_geyser_short['duration'] > lim_sup\n",
    "tb_geyser_short['outlier'] = False\n",
    "tb_geyser_short.loc[obs_lim_inf, 'outlier'] = True\n",
    "tb_geyser_short.loc[obs_lim_sup, 'outlier'] = True\n",
    "\n",
    "fig, ax = plt.subplots()\n",
    "sns.histplot(data = tb_geyser_short, x = 'duration', hue = 'outlier')\n",
    "plt.axvline(lim_inf);\n",
    "plt.axvline(lim_sup);\n",
    "plt.axvline(np.median(tb_geyser_short['duration']), color = \"red\")\n",
    "fig.suptitle('Distribuição de Duração da Erupção\\n com Marcação de Outliers')\n",
    "ax.set_xlabel('Minutos');"
   ]
  },
  {
   "cell_type": "markdown",
   "id": "298a2677",
   "metadata": {},
   "source": [
    "Vamos unir as duas classificações de outlier para analisarmos o padrão geral de outliers em duração de erupções:"
   ]
  },
  {
   "cell_type": "code",
   "execution_count": 123,
   "id": "1daf4a55",
   "metadata": {},
   "outputs": [
    {
     "data": {
      "image/png": "[encoded data removed]",
      "text/plain": [
       "<Figure size 640x480 with 1 Axes>"
      ]
     },
     "metadata": {},
     "output_type": "display_data"
    }
   ],
   "source": [
    "tb_geyser_out = pd.concat([tb_geyser_short, tb_geyser_long], axis = 0)\n",
    "\n",
    "fig, ax = plt.subplots()\n",
    "sns.histplot(data = tb_geyser_out, x = 'duration', hue = 'outlier')\n",
    "fig.suptitle('Distribuição de Duração da Erupção\\n com Marcação de Outliers')\n",
    "ax.set_xlabel('Minutos');"
   ]
  },
  {
   "cell_type": "markdown",
   "id": "3b242320",
   "metadata": {},
   "source": [
    "Ao analisar o padrão global podemos notar que existe uma região de duração das erupções onde não é claro se elas deveriam ser classificadas como longas ou curtas!"
   ]
  },
  {
   "cell_type": "markdown",
   "id": "1f93997a",
   "metadata": {},
   "source": [
    "## Apendice - Usando Dados Sintéticos\n",
    "\n",
    "Uma outra forma de visualizar diferenças entre distribuições com médias e desvio padrões diferentes é utilizando a simulação de Monte Carlo. Veremos mais sobre este assunto na próxima aula, quando aprenderemos como podemos gerar números aleatórios a partir de uma distribuição probabílistica conhecida.\n",
    "\n",
    "Por enquanto, vocês podem acompanhar após a aula as simulação de 3 distribuições: \n",
    "\n",
    "1. A primeira com média 0 e desvio padrão 1;\n",
    "1. A segunda com média 0 e desvio padrão 2;\n",
    "1. A terceira com média 2 e desvio padrão 1.\n",
    "\n",
    "Com essas simulações podemos visualizar diretamente os efeitos das diferenças de localização (variação da média) e de dispersão (variação do desvio padrão)."
   ]
  },
  {
   "cell_type": "markdown",
   "id": "ad7198fd",
   "metadata": {},
   "source": [
    "### Simulando dados\n",
    "\n",
    "Primeiro, vamos utilizar o sub-módulo `.random` da biblioteca `numpy` para criar amostras de distribuições normais com os parâmetros descritos acima."
   ]
  },
  {
   "cell_type": "code",
   "execution_count": null,
   "id": "f1349e85",
   "metadata": {
    "ExecuteTime": {
     "end_time": "2022-02-24T23:37:43.686327Z",
     "start_time": "2022-02-24T23:37:43.680343Z"
    }
   },
   "outputs": [],
   "source": [
    "mu_0_sd_1 = np.random.normal(0, 1, 1000)\n",
    "mu_0_sd_2 = np.random.normal(0, 2, 1000)\n",
    "mu_2_sd_1 = np.random.normal(2, 1, 1000)"
   ]
  },
  {
   "cell_type": "markdown",
   "id": "04786603",
   "metadata": {},
   "source": [
    "### Diferença de localização\n",
    "\n",
    "Percebam o que acontece quando comparamos duas distribuições com médias diferentes (0 e 2) e desvios padrões iguais (1):"
   ]
  },
  {
   "cell_type": "code",
   "execution_count": null,
   "id": "5ab956af",
   "metadata": {
    "ExecuteTime": {
     "end_time": "2022-02-24T23:37:47.528852Z",
     "start_time": "2022-02-24T23:37:46.993221Z"
    }
   },
   "outputs": [],
   "source": [
    "plt.figure(figsize=(8,6));\n",
    "plt.hist(mu_2_sd_1, bins=10, alpha=0.5, label=\"mu_2_sd_1\");\n",
    "plt.hist(mu_0_sd_1, bins=10, alpha=0.5, label=\"mu_0_sd_1\");\n",
    "plt.axvline(np.mean(mu_0_sd_1), color = 'blue');\n",
    "plt.axvline(np.mean(mu_2_sd_1), color = 'red');\n",
    "plt.xlabel(\"Dados Simulados\", size=14)\n",
    "plt.ylabel(\"Contagem\", size=14);\n",
    "plt.title(\"Distribuições Normais mu = 0 e mu = 2, sigma = 1\");\n",
    "plt.legend(loc='upper right');"
   ]
  },
  {
   "cell_type": "markdown",
   "id": "d310c3de",
   "metadata": {},
   "source": [
    "### Diferença de dispersão\n",
    "\n",
    "Percebam o que acontece quando comparamos duas distribuições com desvio padrões diferentes (1 e 2) e médias iguais (0):"
   ]
  },
  {
   "cell_type": "code",
   "execution_count": null,
   "id": "dbdfd335",
   "metadata": {
    "ExecuteTime": {
     "end_time": "2022-02-24T23:40:12.880689Z",
     "start_time": "2022-02-24T23:40:12.410936Z"
    }
   },
   "outputs": [],
   "source": [
    "plt.figure(figsize=(8,6));\n",
    "plt.hist(mu_0_sd_2, bins=10, alpha=0.5, label=\"mu_0_sd_2\");\n",
    "plt.hist(mu_0_sd_1, bins=10, alpha=0.5, label=\"mu_0_sd_1\");\n",
    "plt.axvline(np.mean(mu_0_sd_1), color = 'blue');\n",
    "plt.axvline(np.mean(mu_0_sd_2), color = 'red');\n",
    "plt.xlabel(\"Dados Simulados\", size=14)\n",
    "plt.ylabel(\"Contagem\", size=14);\n",
    "plt.title(\"Distribuições Normais mu = 0, sigma = 1, sigma = 2\");\n",
    "plt.legend(loc='upper right');"
   ]
  },
  {
   "cell_type": "markdown",
   "id": "d864dde3",
   "metadata": {},
   "source": [
    "### Diferença de Dispersão e Localização\n",
    "\n",
    "Percebam o que acontece quando comparamos duas distribuições com desvio padrões diferentes (1 e 2) e médias diferentes (2, 0):"
   ]
  },
  {
   "cell_type": "code",
   "execution_count": null,
   "id": "d13e90d7",
   "metadata": {},
   "outputs": [],
   "source": [
    "plt.figure(figsize=(8,6));\n",
    "plt.hist(mu_0_sd_2, bins=10, alpha=0.5, label=\"mu_0_sd_2\");\n",
    "plt.hist(mu_2_sd_1, bins=10, alpha=0.5, label=\"mu_0_sd_1\");\n",
    "plt.axvline(np.mean(mu_2_sd_1), color = 'blue');\n",
    "plt.axvline(np.mean(mu_0_sd_2), color = 'red');\n",
    "plt.xlabel(\"Dados Simulados\", size=14)\n",
    "plt.ylabel(\"Contagem\", size=14);\n",
    "plt.title(\"Distribuições Normais mu = 0, sigma = 1, sigma = 2\");\n",
    "plt.legend(loc='upper right');"
   ]
  }
 ],
 "metadata": {
  "hide_input": false,
  "kernelspec": {
   "display_name": "Python 3 (ipykernel)",
   "language": "python",
   "name": "python3"
  },
  "language_info": {
   "codemirror_mode": {
    "name": "ipython",
    "version": 3
   },
   "file_extension": ".py",
   "mimetype": "text/x-python",
   "name": "python",
   "nbconvert_exporter": "python",
   "pygments_lexer": "ipython3",
   "version": "3.9.13"
  },
  "toc": {
   "base_numbering": 1,
   "nav_menu": {},
   "number_sections": true,
   "sideBar": true,
   "skip_h1_title": false,
   "title_cell": "Table of Contents",
   "title_sidebar": "Contents",
   "toc_cell": true,
   "toc_position": {},
   "toc_section_display": true,
   "toc_window_display": true
  },
  "vscode": {
   "interpreter": {
    "hash": "014f4a4a5af8f0104b12c029e500f4146d6d785e8cf714d2a35b7a9514230cd3"
   }
  }
 },
 "nbformat": 4,
 "nbformat_minor": 5
}
