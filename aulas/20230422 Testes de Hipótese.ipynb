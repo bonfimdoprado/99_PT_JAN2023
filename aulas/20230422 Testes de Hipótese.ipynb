{
 "cells": [
  {
   "cell_type": "code",
   "execution_count": null,
   "metadata": {
    "ExecuteTime": {
     "end_time": "2022-03-15T22:47:45.116146Z",
     "start_time": "2022-03-15T22:47:43.583220Z"
    }
   },
   "outputs": [],
   "source": [
    "import seaborn as sns\n",
    "import matplotlib.pyplot as plt\n",
    "import pandas as pd\n",
    "import numpy as np\n",
    "from scipy import stats\n",
    "import warnings\n"
   ]
  },
  {
   "cell_type": "markdown",
   "metadata": {},
   "source": [
    "# Testes de Hipótese"
   ]
  },
  {
   "cell_type": "markdown",
   "metadata": {},
   "source": [
    "## Entendendo valores-p\n",
    "\n",
    "Suponhamos que você tenha um website com um banner de propaganda, e que 20% das pessoas que visitam o site clicam neste banner. A area de comunicação desenvolveu um novo banner e, ao implantar este novo banner, dos primeiros 30 clientes que o viram, \n",
    "11 pessoas clicaram no banner novo.\n",
    "\n",
    "Como podemos descobrir se isso é um efeito aleatório ou um impacto real? Vamos simular este efeito usando amostragem computacional:"
   ]
  },
  {
   "cell_type": "code",
   "execution_count": null,
   "metadata": {},
   "outputs": [],
   "source": [
    "p = 11/30\n",
    "p"
   ]
  },
  {
   "cell_type": "code",
   "execution_count": null,
   "metadata": {
    "ExecuteTime": {
     "end_time": "2022-03-15T23:05:53.398845Z",
     "start_time": "2022-03-15T23:05:53.387875Z"
    }
   },
   "outputs": [],
   "source": [
    "primeiros_30 = np.random.choice([0, 1], p=[1 - p, p], size=30)\n",
    "np.sum(primeiros_30)\n"
   ]
  },
  {
   "cell_type": "code",
   "execution_count": null,
   "metadata": {},
   "outputs": [],
   "source": [
    "np.mean(primeiros_30)"
   ]
  },
  {
   "cell_type": "markdown",
   "metadata": {},
   "source": [
    "Estamos utilizando a proporção observada nos 30 primeiros clientes que viram o banner para gerar amostrar aleatórias. O array `primeiros_30` contém uma amostra de tamanho 30, onde cada elemento tem **chance p** de ser 1 e **chance 1-p** de ser 0.\n",
    "\n",
    "Agora, vamos simular 1000 amostras de tamanho 30 com a nossa **% de cliques original (20%)**:"
   ]
  },
  {
   "cell_type": "code",
   "execution_count": null,
   "metadata": {},
   "outputs": [],
   "source": [
    "dist_pop = []\n",
    "for i in range(0, 100000):\n",
    "    amostra = np.random.choice([0, 1], p=[0.8, 0.2], size=30)\n",
    "    dist_pop.append(np.mean(amostra))\n"
   ]
  },
  {
   "cell_type": "markdown",
   "metadata": {},
   "source": [
    "O vetor que criamos acima tem é a **distribuição de amostragem de p**:"
   ]
  },
  {
   "cell_type": "code",
   "execution_count": null,
   "metadata": {
    "ExecuteTime": {
     "end_time": "2022-03-15T22:52:23.836307Z",
     "start_time": "2022-03-15T22:52:23.580441Z"
    }
   },
   "outputs": [],
   "source": [
    "dist_pop = np.array(dist_pop)\n",
    "sns.histplot(dist_pop)\n"
   ]
  },
  {
   "cell_type": "markdown",
   "metadata": {},
   "source": [
    "Agora conseguimos calcular, a partir da nossa distribuição simulada, **a probabilidade de observarmos uma amostra com 11 acessos em 30 impressões**:"
   ]
  },
  {
   "cell_type": "code",
   "execution_count": null,
   "metadata": {
    "ExecuteTime": {
     "end_time": "2022-03-15T22:53:27.724334Z",
     "start_time": "2022-03-15T22:53:27.716346Z"
    }
   },
   "outputs": [],
   "source": [
    "len(dist_pop[dist_pop >= p]) / 100000\n"
   ]
  },
  {
   "cell_type": "markdown",
   "metadata": {
    "ExecuteTime": {
     "end_time": "2020-04-13T19:49:37.696726Z",
     "start_time": "2020-04-13T19:49:37.692734Z"
    }
   },
   "source": [
    "Se a taxa real era de 20%, a chance de observarmos 11 cliques em 30 acessos (uma taxa de 36,67%) seria de 2,6%"
   ]
  },
  {
   "cell_type": "markdown",
   "metadata": {},
   "source": [
    "## Utilizando um teste-t simples\n",
    "\n",
    "O teste-t simples nos permite comparar a média de uma amostra contra a média de um população e calcular a probabilidade da amostra pertencer à população:\n",
    "\n",
    "* __Null hypothesis (H0): u1 = u2, a média da amostra é a média da população.__\n",
    "* __Alternative hypothesis (H1): u1 != u2, a média da amostra é diferente da média da população.__\n",
    "\n",
    "Para avaliar o resultado de um teste-t vamos utilizar o conceito de **valor-p** e **nível de confiabilidade**:\n",
    "\n",
    "**Se nosso *valor-p* for inferior à *(1 - Nível de Confiabilidade)* vamos REJEITAR A HIPÓTESE NULA**\n",
    "\n",
    "Vamos utilizar um teste-t para compara valores de calorias medidos em uma barra energética contra o valor afirmado na embalagem:"
   ]
  },
  {
   "cell_type": "code",
   "execution_count": null,
   "metadata": {},
   "outputs": [],
   "source": [
    "from scipy import stats"
   ]
  },
  {
   "cell_type": "code",
   "execution_count": null,
   "metadata": {},
   "outputs": [],
   "source": [
    "amostr_barra_energetica = [\n",
    "    20.70, 27.46,22.15,19.85,21.29,24.75,\n",
    "    20.75,22.91,25.34,20.33,21.54,\n",
    "    21.08,22.14,19.56,21.10,18.04,\n",
    "    24.12,19.95,19.72,18.28,16.26,\n",
    "    17.46,20.53,22.12,25.06,22.44,\n",
    "    19.08,19.88,21.39,22.33,25.79\n",
    "]\n",
    "\n",
    "valor_rotulo = 20\n",
    "\n",
    "stats.ttest_1samp(amostr_barra_energetica, valor_rotulo)\n"
   ]
  },
  {
   "cell_type": "code",
   "execution_count": null,
   "metadata": {},
   "outputs": [],
   "source": [
    "np.mean(amostr_barra_energetica)"
   ]
  },
  {
   "cell_type": "code",
   "execution_count": null,
   "metadata": {},
   "outputs": [],
   "source": [
    "np.std(amostr_barra_energetica)"
   ]
  },
  {
   "cell_type": "markdown",
   "metadata": {},
   "source": [
    "# Paired T-Test\n",
    "\n",
    "https://raw.githubusercontent.com/Opensourcefordatascience/Data-sets/master/blood_pressure.csv\n",
    "\n",
    "Vamos utilizar o dataset e utilizar um teste-t em par para medir se um tratamento para hipertensão foi efetivo ou não:\n"
   ]
  },
  {
   "cell_type": "code",
   "execution_count": null,
   "metadata": {
    "ExecuteTime": {
     "end_time": "2022-03-15T23:32:50.555906Z",
     "start_time": "2022-03-15T23:32:50.274507Z"
    }
   },
   "outputs": [],
   "source": [
    "df = pd.read_csv(\n",
    "    \"https://raw.githubusercontent.com/Opensourcefordatascience/Data-sets/master/blood_pressure.csv\"\n",
    ")\n"
   ]
  },
  {
   "cell_type": "code",
   "execution_count": null,
   "metadata": {
    "ExecuteTime": {
     "end_time": "2022-03-15T23:57:25.529220Z",
     "start_time": "2022-03-15T23:57:25.499333Z"
    }
   },
   "outputs": [],
   "source": [
    "df.info()\n"
   ]
  },
  {
   "cell_type": "code",
   "execution_count": null,
   "metadata": {},
   "outputs": [],
   "source": [
    "df"
   ]
  },
  {
   "cell_type": "markdown",
   "metadata": {},
   "source": [
    "## Assumption check \n",
    "\n",
    "- [ ]  The samples are independently and randomly drawn\n",
    "\n",
    "**AND**\n",
    "\n",
    "- [ ]  The distribution of the residuals between the two groups should follow the normal distribution\n",
    "\n",
    "**AND**\n",
    "\n",
    "- [ ]  The variances between the two groups are equal\n",
    "\n",
    "**OR**\n",
    "\n",
    "- [ ]  Approximately equal sample sizes\n",
    "\n",
    "https://www.youtube.com/watch?v=OyB_w4XNQ58&t=315s"
   ]
  },
  {
   "cell_type": "markdown",
   "metadata": {},
   "source": [
    "### Checking Normal distribution by Q-Q plot graph\n",
    "https://www.statisticshowto.datasciencecentral.com/assumption-of-normality-test/"
   ]
  },
  {
   "cell_type": "code",
   "execution_count": null,
   "metadata": {
    "ExecuteTime": {
     "end_time": "2022-03-15T23:48:14.290293Z",
     "start_time": "2022-03-15T23:48:14.272315Z"
    }
   },
   "outputs": [],
   "source": [
    "df[\"diff_\"] = df[\"bp_before\"] - df[\"bp_after\"]\n"
   ]
  },
  {
   "cell_type": "code",
   "execution_count": null,
   "metadata": {
    "ExecuteTime": {
     "end_time": "2022-03-15T23:48:14.900956Z",
     "start_time": "2022-03-15T23:48:14.689521Z"
    }
   },
   "outputs": [],
   "source": [
    "sns.displot(df[\"diff_\"])\n"
   ]
  },
  {
   "cell_type": "code",
   "execution_count": null,
   "metadata": {
    "ExecuteTime": {
     "end_time": "2022-03-15T23:48:46.196963Z",
     "start_time": "2022-03-15T23:48:46.031120Z"
    }
   },
   "outputs": [],
   "source": [
    "plt.figure(figsize=(10, 10))\n",
    "stats.probplot(df[\"diff_\"], plot=plt)\n",
    "plt.show()\n"
   ]
  },
  {
   "cell_type": "markdown",
   "metadata": {},
   "source": [
    "**Note:-** The corresponding points lies very close to line that means are our sample data sets are normally distributed"
   ]
  },
  {
   "cell_type": "markdown",
   "metadata": {},
   "source": [
    "### Checking Normal distribution by method of `Shapiro stats`\n",
    "https://docs.scipy.org/doc/scipy/reference/generated/scipy.stats.shapiro.html"
   ]
  },
  {
   "cell_type": "code",
   "execution_count": null,
   "metadata": {
    "ExecuteTime": {
     "end_time": "2022-03-15T23:50:47.498801Z",
     "start_time": "2022-03-15T23:50:47.481818Z"
    }
   },
   "outputs": [],
   "source": [
    "stats.shapiro(df[\"diff_\"])\n"
   ]
  },
  {
   "cell_type": "markdown",
   "metadata": {},
   "source": [
    "### Checking if the variance is equal between samples"
   ]
  },
  {
   "cell_type": "code",
   "execution_count": null,
   "metadata": {
    "ExecuteTime": {
     "end_time": "2022-03-15T23:54:53.143379Z",
     "start_time": "2022-03-15T23:54:53.127393Z"
    }
   },
   "outputs": [],
   "source": [
    "df[\"bp_after\"].std()\n"
   ]
  },
  {
   "cell_type": "code",
   "execution_count": null,
   "metadata": {
    "ExecuteTime": {
     "end_time": "2022-03-15T23:55:00.037105Z",
     "start_time": "2022-03-15T23:55:00.024140Z"
    }
   },
   "outputs": [],
   "source": [
    "df[\"bp_before\"].std()\n"
   ]
  },
  {
   "cell_type": "code",
   "execution_count": null,
   "metadata": {
    "ExecuteTime": {
     "end_time": "2022-03-15T23:55:03.125464Z",
     "start_time": "2022-03-15T23:55:03.112471Z"
    }
   },
   "outputs": [],
   "source": [
    "stats.levene(df.bp_after, df.bp_before)\n"
   ]
  },
  {
   "cell_type": "markdown",
   "metadata": {},
   "source": [
    "O teste-t é robusto à violações das premissas - mais robustos que os testes de normalidade e igualdade de variância. Portanto, embora devamos tomar cuidado com a utilização em casos extremos (especialmente com amostras pequenas), desvios das premissas do teste são toleráveis."
   ]
  },
  {
   "cell_type": "markdown",
   "metadata": {},
   "source": [
    "# Aplicando o teste de Hipótese"
   ]
  },
  {
   "cell_type": "markdown",
   "metadata": {},
   "source": [
    "Testando a efetividade do tratamento."
   ]
  },
  {
   "cell_type": "code",
   "execution_count": null,
   "metadata": {
    "ExecuteTime": {
     "end_time": "2022-03-15T23:59:19.893270Z",
     "start_time": "2022-03-15T23:59:19.866328Z"
    }
   },
   "outputs": [],
   "source": [
    "df[[\"bp_before\", \"bp_after\"]].describe()\n"
   ]
  },
  {
   "cell_type": "code",
   "execution_count": null,
   "metadata": {
    "ExecuteTime": {
     "end_time": "2022-03-15T23:59:20.564591Z",
     "start_time": "2022-03-15T23:59:20.343182Z"
    }
   },
   "outputs": [],
   "source": [
    "df[[\"bp_before\", \"bp_after\"]].plot(kind=\"hist\", alpha=0.7)\n"
   ]
  },
  {
   "cell_type": "markdown",
   "metadata": {},
   "source": [
    "## Qual nossa hipótese nula?"
   ]
  },
  {
   "cell_type": "markdown",
   "metadata": {},
   "source": [
    "* __Null hypothesis (H0): u1 = u2, a média da amostra antes do tratamento é igual a média da amostra após tratamento.__\n",
    "* __Alternative hypothesis (H1): u1 != u2, a média da amostra antes do tratamento é diferente da média da amostra após tratamento__"
   ]
  },
  {
   "cell_type": "code",
   "execution_count": null,
   "metadata": {
    "ExecuteTime": {
     "end_time": "2022-03-16T00:00:52.188943Z",
     "start_time": "2022-03-16T00:00:52.177944Z"
    }
   },
   "outputs": [],
   "source": [
    "stats.ttest_rel(df['bp_before'], df['bp_after'])\n"
   ]
  },
  {
   "cell_type": "code",
   "execution_count": null,
   "metadata": {},
   "outputs": [],
   "source": [
    "df['bp_before'] - df['bp_after']"
   ]
  },
  {
   "cell_type": "code",
   "execution_count": null,
   "metadata": {
    "ExecuteTime": {
     "end_time": "2022-03-16T00:02:51.649685Z",
     "start_time": "2022-03-16T00:02:51.630736Z"
    }
   },
   "outputs": [],
   "source": [
    "stats.ttest_1samp(df['bp_before'] - df['bp_after'], 0)\n"
   ]
  },
  {
   "cell_type": "markdown",
   "metadata": {},
   "source": [
    "Como o valor p está abaixo de 0,05 podemos rejeitar a hipótese nula, ou seja, que pressão arterial antes da intervenção tem a mesma média que a pressão arterial depois da intervenção!"
   ]
  },
  {
   "cell_type": "markdown",
   "metadata": {},
   "source": [
    "# Two Sample T-Test"
   ]
  },
  {
   "cell_type": "code",
   "execution_count": null,
   "metadata": {
    "ExecuteTime": {
     "end_time": "2022-03-16T00:04:41.842606Z",
     "start_time": "2022-03-16T00:04:41.819698Z"
    }
   },
   "outputs": [],
   "source": [
    "tb_bike = pd.read_csv(\"data/tb_bikesharing.csv\")\n"
   ]
  },
  {
   "cell_type": "code",
   "execution_count": null,
   "metadata": {
    "ExecuteTime": {
     "end_time": "2022-03-16T00:04:47.411715Z",
     "start_time": "2022-03-16T00:04:47.390762Z"
    }
   },
   "outputs": [],
   "source": [
    "tb_bike.head()\n"
   ]
  },
  {
   "cell_type": "code",
   "execution_count": null,
   "metadata": {
    "ExecuteTime": {
     "end_time": "2022-03-16T00:05:59.127031Z",
     "start_time": "2022-03-16T00:05:58.914598Z"
    }
   },
   "outputs": [],
   "source": [
    "sns.kdeplot(data=tb_bike, x=\"cnt\", hue=\"workingday\", common_norm=False)\n"
   ]
  },
  {
   "cell_type": "code",
   "execution_count": null,
   "metadata": {
    "ExecuteTime": {
     "end_time": "2022-03-16T00:06:33.208714Z",
     "start_time": "2022-03-16T00:06:33.080031Z"
    }
   },
   "outputs": [],
   "source": [
    "sns.boxplot(data=tb_bike, y=\"cnt\", x=\"workingday\")\n"
   ]
  },
  {
   "cell_type": "code",
   "execution_count": null,
   "metadata": {
    "ExecuteTime": {
     "end_time": "2022-03-16T00:07:18.821299Z",
     "start_time": "2022-03-16T00:07:18.814319Z"
    }
   },
   "outputs": [],
   "source": [
    "tb_bike_fds = tb_bike[tb_bike[\"workingday\"] == 0].copy()\n",
    "tb_bike_sem = tb_bike[tb_bike[\"workingday\"] == 1].copy()\n"
   ]
  },
  {
   "cell_type": "code",
   "execution_count": null,
   "metadata": {},
   "outputs": [],
   "source": [
    "tb_bike_sem['cnt']"
   ]
  },
  {
   "cell_type": "markdown",
   "metadata": {},
   "source": [
    "### Assumption check \n",
    "\n",
    "- [ ]  The samples are independently and randomly drawn\n",
    "\n",
    "**AND**\n",
    "\n",
    "- [ ]  The distribution of the residuals between the two groups should follow the normal distribution\n",
    "\n",
    "**AND**\n",
    "\n",
    "- [ ]  The variances between the two groups are equal\n",
    "\n",
    "**OR**\n",
    "\n",
    "- [ ]  Approximately equal sample sizes"
   ]
  },
  {
   "cell_type": "markdown",
   "metadata": {},
   "source": [
    "#### Normal?"
   ]
  },
  {
   "cell_type": "code",
   "execution_count": null,
   "metadata": {
    "ExecuteTime": {
     "end_time": "2022-03-16T00:07:29.636266Z",
     "start_time": "2022-03-16T00:07:29.462731Z"
    }
   },
   "outputs": [],
   "source": [
    "plt.figure(figsize=(10, 10))\n",
    "stats.probplot(tb_bike_fds[\"cnt\"], plot=plt)\n",
    "plt.show()\n"
   ]
  },
  {
   "cell_type": "code",
   "execution_count": null,
   "metadata": {
    "ExecuteTime": {
     "end_time": "2022-03-16T00:08:39.003263Z",
     "start_time": "2022-03-16T00:08:38.759913Z"
    }
   },
   "outputs": [],
   "source": [
    "plt.figure(figsize=(10, 10))\n",
    "stats.probplot(tb_bike_sem[\"cnt\"], plot=plt)\n",
    "plt.show()\n"
   ]
  },
  {
   "cell_type": "markdown",
   "metadata": {},
   "source": [
    "#### Equal variance or equal sample size?"
   ]
  },
  {
   "cell_type": "code",
   "execution_count": null,
   "metadata": {
    "ExecuteTime": {
     "end_time": "2022-03-16T00:09:17.650980Z",
     "start_time": "2022-03-16T00:09:17.637016Z"
    }
   },
   "outputs": [],
   "source": [
    "tb_bike.groupby(\"workingday\")[\"cnt\"].var()\n"
   ]
  },
  {
   "cell_type": "code",
   "execution_count": null,
   "metadata": {
    "ExecuteTime": {
     "end_time": "2022-03-16T00:09:18.427960Z",
     "start_time": "2022-03-16T00:09:18.407003Z"
    }
   },
   "outputs": [],
   "source": [
    "stats.levene(tb_bike_fds[\"cnt\"], tb_bike_sem[\"cnt\"])\n"
   ]
  },
  {
   "cell_type": "code",
   "execution_count": null,
   "metadata": {
    "ExecuteTime": {
     "end_time": "2022-03-16T00:09:49.869834Z",
     "start_time": "2022-03-16T00:09:49.860858Z"
    }
   },
   "outputs": [],
   "source": [
    "tb_bike[\"workingday\"].value_counts()\n"
   ]
  },
  {
   "cell_type": "markdown",
   "metadata": {},
   "source": [
    "Os grupos estão desbalanceados e a variância é diferente! Será que podemos utilizar um teste-t? Nas palavras de Richard Nixon: <i>\"We could do it... but it would be wrong\"</i>. Como temos amostras grandes (n>>30) podemos rebalancear os dados!\n",
    "\n",
    "<i>Ressalva: se as amostras tem uma proporção de 1,5:1 (300:200 pontos, por exemplo), podemos proceder sem grandes problemas.</i>"
   ]
  },
  {
   "cell_type": "code",
   "execution_count": null,
   "metadata": {
    "ExecuteTime": {
     "end_time": "2022-03-16T00:14:52.460483Z",
     "start_time": "2022-03-16T00:14:52.455496Z"
    }
   },
   "outputs": [],
   "source": [
    "tb_bike_sem_smp = tb_bike_sem.sample(231, random_state=42).reset_index(drop=True)\n"
   ]
  },
  {
   "cell_type": "code",
   "execution_count": null,
   "metadata": {
    "ExecuteTime": {
     "end_time": "2022-03-16T00:14:58.516295Z",
     "start_time": "2022-03-16T00:14:58.497347Z"
    }
   },
   "outputs": [],
   "source": [
    "tb_bike_sem_smp.shape\n"
   ]
  },
  {
   "cell_type": "code",
   "execution_count": null,
   "metadata": {
    "ExecuteTime": {
     "end_time": "2022-03-16T00:15:23.724223Z",
     "start_time": "2022-03-16T00:15:23.708266Z"
    }
   },
   "outputs": [],
   "source": [
    "stats.ttest_ind(tb_bike_fds[\"cnt\"], tb_bike_sem_smp[\"cnt\"])\n"
   ]
  },
  {
   "cell_type": "markdown",
   "metadata": {},
   "source": [
    "# One tailed-side t-test"
   ]
  },
  {
   "cell_type": "markdown",
   "metadata": {},
   "source": [
    "A hipótese nula padrão no teste-t é que a média das duas amostra é igual. Rejeitar esta hipótese significa afirmar que a média de uma amostra é maior ou menor que a média da outra amostra. No entanto, muitas vezes nos interessa determinar o desvio da média da amostra apenas em um sentido. Neste podemos utilizar o teste-t unilateral - one a hipótese nula **H0** é que **A <= B** OU  **A >= B**.\n",
    "\n",
    "Alguns exemplos práticos: uma indústria de fertilizantes quer saber se seu novo produto aumenta a produtividade por hectar de milho plantado, um agência de comunicação deseja saber se um novo banner aumenta a taxa de cliques em um website, um cientista de dados deseja saber se seu novo sistema de recomendação aumenta as vendas."
   ]
  },
  {
   "cell_type": "code",
   "execution_count": null,
   "metadata": {
    "ExecuteTime": {
     "end_time": "2022-03-16T00:22:27.446712Z",
     "start_time": "2022-03-16T00:22:27.429757Z"
    }
   },
   "outputs": [],
   "source": [
    "tb_bike[\"temp_classif\"] = np.where(tb_bike[\"temp\"] > np.mean(tb_bike[\"temp\"]), 1, 0)\n"
   ]
  },
  {
   "cell_type": "code",
   "execution_count": null,
   "metadata": {
    "ExecuteTime": {
     "end_time": "2022-03-16T00:22:28.243619Z",
     "start_time": "2022-03-16T00:22:28.112940Z"
    }
   },
   "outputs": [],
   "source": [
    "sns.boxplot(data=tb_bike, x=\"temp_classif\", y=\"cnt\")\n"
   ]
  },
  {
   "cell_type": "code",
   "execution_count": null,
   "metadata": {
    "ExecuteTime": {
     "end_time": "2022-03-16T00:23:02.141517Z",
     "start_time": "2022-03-16T00:23:02.127555Z"
    }
   },
   "outputs": [],
   "source": [
    "tb_bike_quente = tb_bike[tb_bike[\"temp_classif\"] == 1].copy()\n",
    "tb_bike_frio = tb_bike[tb_bike[\"temp_classif\"] == 0].copy()\n"
   ]
  },
  {
   "cell_type": "code",
   "execution_count": null,
   "metadata": {
    "ExecuteTime": {
     "end_time": "2022-03-16T00:23:10.603324Z",
     "start_time": "2022-03-16T00:23:10.594348Z"
    }
   },
   "outputs": [],
   "source": [
    "tb_bike_frio.shape\n"
   ]
  },
  {
   "cell_type": "code",
   "execution_count": null,
   "metadata": {
    "ExecuteTime": {
     "end_time": "2022-03-16T00:23:10.931326Z",
     "start_time": "2022-03-16T00:23:10.925341Z"
    }
   },
   "outputs": [],
   "source": [
    "tb_bike_quente.shape\n"
   ]
  },
  {
   "cell_type": "code",
   "execution_count": null,
   "metadata": {
    "ExecuteTime": {
     "end_time": "2022-03-16T00:25:30.821197Z",
     "start_time": "2022-03-16T00:25:30.803246Z"
    }
   },
   "outputs": [],
   "source": [
    "stats.ttest_ind(tb_bike_frio[\"cnt\"], tb_bike_quente[\"cnt\"], alternative=\"greater\")\n"
   ]
  },
  {
   "cell_type": "code",
   "execution_count": null,
   "metadata": {
    "ExecuteTime": {
     "end_time": "2022-03-16T00:24:28.523828Z",
     "start_time": "2022-03-16T00:24:28.507871Z"
    }
   },
   "outputs": [],
   "source": [
    "stats.ttest_ind(tb_bike_frio[\"cnt\"], tb_bike_quente[\"cnt\"])\n"
   ]
  },
  {
   "cell_type": "markdown",
   "metadata": {},
   "source": [
    "# ANOVA"
   ]
  },
  {
   "cell_type": "markdown",
   "metadata": {},
   "source": [
    "E se quisermos comparar a média de mais de um grupo? O método ANOVA testa a hipótese nula onde todas as amostras foram feitas da mesma população, ou seja, que a média dos diferentes grupos é identica. Rejeitar a hipótese nula significa dizer que **pelo menos um grupo não é uma amostra da mesma população, ou seja, pelo menos a média de um grupo é diferente dos grupos restantes**"
   ]
  },
  {
   "cell_type": "code",
   "execution_count": null,
   "metadata": {
    "ExecuteTime": {
     "end_time": "2022-03-16T00:30:09.808401Z",
     "start_time": "2022-03-16T00:30:09.803415Z"
    }
   },
   "outputs": [],
   "source": [
    "tb_bike[\"estacao\"] = tb_bike[\"season\"].map(\n",
    "    {1: \"Inverno\", 2: \"Primavera\", 3: \"Verão\", 4: \"Outono\"}\n",
    ")\n"
   ]
  },
  {
   "cell_type": "code",
   "execution_count": null,
   "metadata": {
    "ExecuteTime": {
     "end_time": "2022-03-16T00:30:15.360010Z",
     "start_time": "2022-03-16T00:30:15.197445Z"
    }
   },
   "outputs": [],
   "source": [
    "sns.boxplot(data=tb_bike, x=\"estacao\", y=\"cnt\")\n"
   ]
  },
  {
   "cell_type": "code",
   "execution_count": null,
   "metadata": {
    "ExecuteTime": {
     "end_time": "2022-03-16T00:30:59.394695Z",
     "start_time": "2022-03-16T00:30:59.379728Z"
    }
   },
   "outputs": [],
   "source": [
    "tb_bike_season = [tb_bike[tb_bike[\"season\"] == i][\"cnt\"] for i in range(1, 5)]\n"
   ]
  },
  {
   "cell_type": "code",
   "execution_count": null,
   "metadata": {},
   "outputs": [],
   "source": [
    "lista_vetores = []\n",
    "for i in range(1,5):\n",
    "    lista_vetores.append(tb_bike[tb_bike[\"season\"] == i][\"cnt\"])\n"
   ]
  },
  {
   "cell_type": "code",
   "execution_count": null,
   "metadata": {},
   "outputs": [],
   "source": [
    "lista_vetores[0]"
   ]
  },
  {
   "cell_type": "code",
   "execution_count": null,
   "metadata": {
    "ExecuteTime": {
     "end_time": "2022-03-16T00:31:14.423603Z",
     "start_time": "2022-03-16T00:31:14.415625Z"
    }
   },
   "outputs": [],
   "source": [
    "tb_bike_season = [tb_bike[tb_bike[\"season\"] == i][\"cnt\"] for i in range(1, 5)]"
   ]
  },
  {
   "cell_type": "code",
   "execution_count": null,
   "metadata": {},
   "outputs": [],
   "source": [
    "tb_bike_season[3]"
   ]
  },
  {
   "cell_type": "code",
   "execution_count": null,
   "metadata": {
    "ExecuteTime": {
     "end_time": "2022-03-16T00:31:40.959055Z",
     "start_time": "2022-03-16T00:31:40.939081Z"
    }
   },
   "outputs": [],
   "source": [
    "stats.f_oneway(\n",
    "    tb_bike_season[0], tb_bike_season[1], tb_bike_season[2], tb_bike_season[3]\n",
    ")\n"
   ]
  },
  {
   "cell_type": "markdown",
   "metadata": {},
   "source": [
    "E se quisermos saber a proporção entre os grupos?"
   ]
  },
  {
   "cell_type": "code",
   "execution_count": null,
   "metadata": {
    "ExecuteTime": {
     "end_time": "2022-03-16T00:33:17.007509Z",
     "start_time": "2022-03-16T00:33:16.992551Z"
    }
   },
   "outputs": [],
   "source": [
    "from statsmodels.stats.multicomp import pairwise_tukeyhsd\n"
   ]
  },
  {
   "cell_type": "code",
   "execution_count": null,
   "metadata": {
    "ExecuteTime": {
     "end_time": "2022-03-16T00:34:04.695441Z",
     "start_time": "2022-03-16T00:34:04.670508Z"
    }
   },
   "outputs": [],
   "source": [
    "nivel_confiabilidade = 0.95\n",
    "tukey_fit = pairwise_tukeyhsd(\n",
    "    endog=tb_bike[\"cnt\"], groups=tb_bike[\"estacao\"], alpha=(1-nivel_confiabilidade)\n",
    ")\n"
   ]
  },
  {
   "cell_type": "code",
   "execution_count": null,
   "metadata": {
    "ExecuteTime": {
     "end_time": "2022-03-16T00:34:09.832178Z",
     "start_time": "2022-03-16T00:34:09.819255Z"
    }
   },
   "outputs": [],
   "source": [
    "tukey_fit.summary()\n"
   ]
  }
 ],
 "metadata": {
  "hide_input": false,
  "kernelspec": {
   "display_name": "Python 3 (ipykernel)",
   "language": "python",
   "name": "python3"
  },
  "language_info": {
   "codemirror_mode": {
    "name": "ipython",
    "version": 3
   },
   "file_extension": ".py",
   "mimetype": "text/x-python",
   "name": "python",
   "nbconvert_exporter": "python",
   "pygments_lexer": "ipython3",
   "version": "3.9.13"
  },
  "toc": {
   "base_numbering": 1,
   "nav_menu": {},
   "number_sections": true,
   "sideBar": true,
   "skip_h1_title": false,
   "title_cell": "Table of Contents",
   "title_sidebar": "Contents",
   "toc_cell": false,
   "toc_position": {},
   "toc_section_display": true,
   "toc_window_display": false
  },
  "varInspector": {
   "cols": {
    "lenName": 16,
    "lenType": 16,
    "lenVar": 40
   },
   "kernels_config": {
    "python": {
     "delete_cmd_postfix": "",
     "delete_cmd_prefix": "del ",
     "library": "var_list.py",
     "varRefreshCmd": "print(var_dic_list())"
    },
    "r": {
     "delete_cmd_postfix": ") ",
     "delete_cmd_prefix": "rm(",
     "library": "var_list.r",
     "varRefreshCmd": "cat(var_dic_list()) "
    }
   },
   "types_to_exclude": [
    "module",
    "function",
    "builtin_function_or_method",
    "instance",
    "_Feature"
   ],
   "window_display": false
  },
  "vscode": {
   "interpreter": {
    "hash": "014f4a4a5af8f0104b12c029e500f4146d6d785e8cf714d2a35b7a9514230cd3"
   }
  }
 },
 "nbformat": 4,
 "nbformat_minor": 4
}
