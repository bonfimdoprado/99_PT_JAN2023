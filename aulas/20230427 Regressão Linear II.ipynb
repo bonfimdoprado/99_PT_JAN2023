{
 "cells": [
  {
   "cell_type": "markdown",
   "id": "fbbe8106",
   "metadata": {
    "toc": true
   },
   "source": [
    "<h1>Table of Contents<span class=\"tocSkip\"></span></h1>\n",
    "<div class=\"toc\"><ul class=\"toc-item\"><li><span><a href=\"#Regressão-Linear-Múltipla\" data-toc-modified-id=\"Regressão-Linear-Múltipla-1\"><span class=\"toc-item-num\">1&nbsp;&nbsp;</span>Regressão Linear Múltipla</a></span><ul class=\"toc-item\"><li><span><a href=\"#Simulando-Dados\" data-toc-modified-id=\"Simulando-Dados-1.1\"><span class=\"toc-item-num\">1.1&nbsp;&nbsp;</span>Simulando Dados</a></span><ul class=\"toc-item\"><li><span><a href=\"#Duas-variáveis-continuas\" data-toc-modified-id=\"Duas-variáveis-continuas-1.1.1\"><span class=\"toc-item-num\">1.1.1&nbsp;&nbsp;</span>Duas variáveis continuas</a></span></li><li><span><a href=\"#Simulando-Variáveis-Categóricas\" data-toc-modified-id=\"Simulando-Variáveis-Categóricas-1.1.2\"><span class=\"toc-item-num\">1.1.2&nbsp;&nbsp;</span>Simulando Variáveis Categóricas</a></span><ul class=\"toc-item\"><li><span><a href=\"#Convertendo-variáveis-categóricas-em-variáveis-dummy\" data-toc-modified-id=\"Convertendo-variáveis-categóricas-em-variáveis-dummy-1.1.2.1\"><span class=\"toc-item-num\">1.1.2.1&nbsp;&nbsp;</span>Convertendo variáveis categóricas em variáveis dummy</a></span></li></ul></li></ul></li></ul></li><li><span><a href=\"#Voltamos-20h20\" data-toc-modified-id=\"Voltamos-20h20-2\"><span class=\"toc-item-num\">2&nbsp;&nbsp;</span>Voltamos 20h20</a></span><ul class=\"toc-item\"><li><span><a href=\"#Dados-Reais\" data-toc-modified-id=\"Dados-Reais-2.1\"><span class=\"toc-item-num\">2.1&nbsp;&nbsp;</span>Dados Reais</a></span></li><li><span><a href=\"#Exploração-de-Dados\" data-toc-modified-id=\"Exploração-de-Dados-2.2\"><span class=\"toc-item-num\">2.2&nbsp;&nbsp;</span>Exploração de Dados</a></span></li><li><span><a href=\"#Criando-nossa-regressão\" data-toc-modified-id=\"Criando-nossa-regressão-2.3\"><span class=\"toc-item-num\">2.3&nbsp;&nbsp;</span>Criando nossa regressão</a></span></li></ul></li><li><span><a href=\"#VOLTAMOS-21h15\" data-toc-modified-id=\"VOLTAMOS-21h15-3\"><span class=\"toc-item-num\">3&nbsp;&nbsp;</span>VOLTAMOS 21h15</a></span></li></ul></div>"
   ]
  },
  {
   "cell_type": "code",
   "execution_count": null,
   "id": "989059ea",
   "metadata": {
    "ExecuteTime": {
     "end_time": "2022-03-08T22:45:32.013683Z",
     "start_time": "2022-03-08T22:45:29.302906Z"
    }
   },
   "outputs": [],
   "source": [
    "import random\n",
    "import numpy as np\n",
    "import seaborn as sns\n",
    "import pandas as pd\n",
    "from matplotlib import pyplot as plt\n",
    "\n",
    "from sklearn.linear_model import LinearRegression\n",
    "import matplotlib.pyplot as plt\n",
    "import statsmodels.api as sm"
   ]
  },
  {
   "cell_type": "markdown",
   "id": "06cf8bff",
   "metadata": {},
   "source": [
    "# Regressão Linear Múltipla"
   ]
  },
  {
   "cell_type": "markdown",
   "id": "5034a83d",
   "metadata": {},
   "source": [
    "## Simulando Dados\n",
    "\n",
    "Começaremos vendo como a entrada de múltiplas variáveis em uma regressão linear funciona a partir de conjuntos de dados sintéticos.\n",
    "\n",
    "### Duas variáveis continuas"
   ]
  },
  {
   "cell_type": "code",
   "execution_count": null,
   "id": "391eb054",
   "metadata": {
    "ExecuteTime": {
     "end_time": "2022-03-05T15:44:28.915425Z",
     "start_time": "2022-03-05T15:44:28.908442Z"
    }
   },
   "outputs": [],
   "source": [
    "def simular_dado_mv(parametros_x1, parametros_x2, desvpad_E, samples):\n",
    "    x1 = np.random.normal(loc=parametros_x1[0], scale=parametros_x1[1], size=samples)\n",
    "\n",
    "    x2 = np.random.normal(loc=parametros_x2[0], scale=parametros_x2[1], size=samples)\n",
    "\n",
    "    E = np.random.normal(loc=0, scale=desvpad_E, size=samples)\n",
    "\n",
    "    y = parametros_x1[2] * x1 + parametros_x2[2] * x2 + E\n",
    "\n",
    "    return pd.DataFrame({\"x1\": x1, \"x2\": x2, \"y\": y})"
   ]
  },
  {
   "cell_type": "markdown",
   "id": "d2e23855",
   "metadata": {},
   "source": [
    "Podemos criar um DataFrame com nossos dados simulados para utilizarmos nossas ferramentas de EDA buscando visualizar a relação entre X1, X2 e Y"
   ]
  },
  {
   "cell_type": "code",
   "execution_count": null,
   "id": "cf336ed6",
   "metadata": {
    "ExecuteTime": {
     "end_time": "2022-03-05T15:44:31.111104Z",
     "start_time": "2022-03-05T15:44:29.632488Z"
    }
   },
   "outputs": [],
   "source": [
    "teste_mv = simular_dado_mv((0, 1, 10), (0, 1, -5), 1, 100)\n",
    "sns.pairplot(teste_mv)"
   ]
  },
  {
   "cell_type": "markdown",
   "id": "6b04fa26",
   "metadata": {},
   "source": [
    "Agora, vamos utilizar nossa regressão para estimar os coeficientes associados à X1 e X2"
   ]
  },
  {
   "cell_type": "code",
   "execution_count": null,
   "id": "3200ab9e",
   "metadata": {
    "ExecuteTime": {
     "end_time": "2022-03-05T15:44:33.185559Z",
     "start_time": "2022-03-05T15:44:33.165615Z"
    }
   },
   "outputs": [],
   "source": [
    "X = sm.add_constant(teste_mv[[\"x1\", \"x2\"]])\n",
    "Y = teste_mv[\"y\"]\n",
    "modelo = sm.OLS(Y, X)\n",
    "lm_fit = modelo.fit()\n",
    "lm_fit.summary()"
   ]
  },
  {
   "cell_type": "markdown",
   "id": "06206701",
   "metadata": {},
   "source": [
    "Podemos utilizar a biblioteca `sklearn` para conseguir a interface preditiva desta biblioteca:"
   ]
  },
  {
   "cell_type": "code",
   "execution_count": null,
   "id": "c692186b",
   "metadata": {
    "ExecuteTime": {
     "end_time": "2022-03-05T15:44:37.134402Z",
     "start_time": "2022-03-05T15:44:37.125425Z"
    }
   },
   "outputs": [],
   "source": [
    "modelo = LinearRegression()\n",
    "\n",
    "X = teste_mv[[\"x1\", \"x2\"]]\n",
    "\n",
    "y = teste_mv[\"y\"]\n",
    "\n",
    "modelo.fit(X, y)\n",
    "\n",
    "print(modelo.coef_)\n",
    "print(modelo.intercept_)"
   ]
  },
  {
   "attachments": {},
   "cell_type": "markdown",
   "id": "f96f897b",
   "metadata": {},
   "source": [
    "Vamos criar uma nova coluna em nosso DataFrame para conter nossas previsões:"
   ]
  },
  {
   "cell_type": "code",
   "execution_count": null,
   "id": "cbfbd854",
   "metadata": {
    "ExecuteTime": {
     "end_time": "2022-03-05T15:44:37.610161Z",
     "start_time": "2022-03-05T15:44:37.601184Z"
    }
   },
   "outputs": [],
   "source": [
    "teste_mv[\"pred\"] = modelo.predict(teste_mv[[\"x1\", \"x2\"]])"
   ]
  },
  {
   "cell_type": "code",
   "execution_count": null,
   "id": "c83aeeac",
   "metadata": {},
   "outputs": [],
   "source": [
    "teste_mv"
   ]
  },
  {
   "cell_type": "markdown",
   "id": "977cd2ab",
   "metadata": {},
   "source": [
    "Agora, vamos comparar as relações de nossa variável resposta e variável prevista contra X1 e X2:"
   ]
  },
  {
   "cell_type": "code",
   "execution_count": null,
   "id": "e8f8b184",
   "metadata": {
    "ExecuteTime": {
     "end_time": "2022-03-05T15:44:40.418047Z",
     "start_time": "2022-03-05T15:44:38.018445Z"
    }
   },
   "outputs": [],
   "source": [
    "sns.pairplot(teste_mv)"
   ]
  },
  {
   "cell_type": "markdown",
   "id": "3f1215a6",
   "metadata": {},
   "source": [
    "### Simulando Variáveis Categóricas\n",
    "\n",
    "Muitas variáveis que encontramos são **categóricas**, ou seja, não são numéricas. Vamos simular uma variável categórica com impacto linear sobre nossa variável Y:"
   ]
  },
  {
   "cell_type": "code",
   "execution_count": null,
   "id": "844e78bb",
   "metadata": {
    "ExecuteTime": {
     "end_time": "2022-03-05T12:32:29.702211Z",
     "start_time": "2022-03-05T12:32:29.684283Z"
    }
   },
   "outputs": [],
   "source": [
    "def simular_dado_mv_cat(parametros_x1, categorias_dict, desvpad_E, samples):\n",
    "    x1 = np.random.normal(loc=parametros_x1[0], scale=parametros_x1[1], size=samples)\n",
    "\n",
    "    cat = random.choices(list(categorias_dict.keys()), k=samples)\n",
    "    eff_cat = list(map(lambda x: categorias_dict[x], cat))\n",
    "\n",
    "    E = np.random.normal(loc=0, scale=desvpad_E, size=samples)\n",
    "\n",
    "    y = parametros_x1[2] * x1 + eff_cat + E\n",
    "    return pd.DataFrame({\"x1\": x1, \"categoria\": cat, \"y\": y})"
   ]
  },
  {
   "cell_type": "code",
   "execution_count": null,
   "id": "0feb58e7",
   "metadata": {},
   "outputs": [],
   "source": [
    "simular_dado_mv_cat((0, 1, 5), {\"A\": 1, \"B\": 5, \"C\": 10}, 1, 100)"
   ]
  },
  {
   "cell_type": "code",
   "execution_count": null,
   "id": "51be0274",
   "metadata": {
    "ExecuteTime": {
     "end_time": "2022-03-05T12:34:00.098487Z",
     "start_time": "2022-03-05T12:34:00.086519Z"
    }
   },
   "outputs": [],
   "source": [
    "teste_mv_cat = simular_dado_mv_cat((0, 1, 5), {\"A\": 1, \"B\": 5, \"C\": 10}, 1, 100)"
   ]
  },
  {
   "cell_type": "markdown",
   "id": "0b224ddf",
   "metadata": {},
   "source": [
    "Podemos utilizar um BoxPlot para visualizar a relação entre nossa variável categórica e nossa variável resposta:"
   ]
  },
  {
   "cell_type": "code",
   "execution_count": null,
   "id": "05a0d16f",
   "metadata": {
    "ExecuteTime": {
     "end_time": "2022-03-05T12:34:33.711263Z",
     "start_time": "2022-03-05T12:34:33.571602Z"
    }
   },
   "outputs": [],
   "source": [
    "sns.boxplot(data=teste_mv_cat, x=\"categoria\", y=\"y\")"
   ]
  },
  {
   "cell_type": "markdown",
   "id": "a2100a8d",
   "metadata": {},
   "source": [
    "ou então alterar a cor dos pontos em um scatterplot, visualizando múltiplas relações ao mesmo tempo:"
   ]
  },
  {
   "cell_type": "code",
   "execution_count": null,
   "id": "5e71001b",
   "metadata": {
    "ExecuteTime": {
     "end_time": "2022-03-05T12:44:03.751443Z",
     "start_time": "2022-03-05T12:44:03.523053Z"
    }
   },
   "outputs": [],
   "source": [
    "sns.scatterplot(data=teste_mv_cat, x=\"x1\", y=\"y\", hue=\"categoria\")"
   ]
  },
  {
   "attachments": {},
   "cell_type": "markdown",
   "id": "b76a702a",
   "metadata": {},
   "source": [
    "#### Convertendo variáveis categóricas em variáveis dummy\n",
    "\n",
    "Para utilizarmos variáveis categóricas em um modelo, precisamos transforma-las em variáveis **numéricas**. A forma mais simples de fazê-lo é através de **variáveis dummies**: vamos criar **uma variável binaria nova para cada nível de nossa variável categórica**. Em cada variável, esta terá valor 1 quando a observação for daquela categoria e 0 caso não.\n",
    "\n",
    "Vamos utilizar um método da Sklearn para realizar essa transformação: o `OneHotEncoder`."
   ]
  },
  {
   "cell_type": "code",
   "execution_count": null,
   "id": "ae2e7034",
   "metadata": {},
   "outputs": [],
   "source": [
    "from sklearn.preprocessing import OneHotEncoder"
   ]
  },
  {
   "cell_type": "code",
   "execution_count": null,
   "id": "95fd0982",
   "metadata": {},
   "outputs": [],
   "source": [
    "ohe = OneHotEncoder(sparse=False, drop=\"first\")\n",
    "ohe.fit(teste_mv_cat[[\"categoria\"]])"
   ]
  },
  {
   "attachments": {},
   "cell_type": "markdown",
   "id": "d229a78e",
   "metadata": {},
   "source": [
    "Agora, vamos utilizar o método `.transform()` para obter nossas variáveis dummies:"
   ]
  },
  {
   "cell_type": "code",
   "execution_count": null,
   "id": "f89c8c08",
   "metadata": {},
   "outputs": [],
   "source": [
    "ohe.transform(teste_mv_cat[[\"categoria\"]])"
   ]
  },
  {
   "attachments": {},
   "cell_type": "markdown",
   "id": "3b0fc683",
   "metadata": {},
   "source": [
    "Para saber qual coluna é qual nível da categoria, podemos utilizar o método `.get_feature_names_out()`:"
   ]
  },
  {
   "cell_type": "code",
   "execution_count": null,
   "id": "00068f58",
   "metadata": {},
   "outputs": [],
   "source": [
    "ohe.get_feature_names_out()"
   ]
  },
  {
   "attachments": {},
   "cell_type": "markdown",
   "id": "f6bf3501",
   "metadata": {},
   "source": [
    "Vamos combinar esses dois métodos para criar um DataFrame com nossas variáveis dummies:"
   ]
  },
  {
   "cell_type": "code",
   "execution_count": null,
   "id": "d297eee6",
   "metadata": {},
   "outputs": [],
   "source": [
    "tb_dummies = pd.DataFrame(\n",
    "    ohe.transform(teste_mv_cat[[\"categoria\"]]),\n",
    "    columns = ohe.get_feature_names_out()\n",
    ")\n",
    "tb_dummies.head()"
   ]
  },
  {
   "cell_type": "code",
   "execution_count": null,
   "id": "8d7c3733",
   "metadata": {},
   "outputs": [],
   "source": [
    "tb_teste = pd.concat([teste_mv_cat, tb_dummies], axis=1)"
   ]
  },
  {
   "attachments": {},
   "cell_type": "markdown",
   "id": "86fb5950",
   "metadata": {},
   "source": [
    "Vamos utilizar nossa nova tabela de dados para criar nossa regressão:"
   ]
  },
  {
   "cell_type": "code",
   "execution_count": null,
   "id": "93f7b129",
   "metadata": {},
   "outputs": [],
   "source": [
    "X = tb_teste[[\"x1\", \"categoria_B\", \"categoria_C\"]]\n",
    "y = tb_teste[\"y\"]\n",
    "\n",
    "lm_fit = LinearRegression()\n",
    "lm_fit.fit(X, y)"
   ]
  },
  {
   "attachments": {},
   "cell_type": "markdown",
   "id": "b5f14f6c",
   "metadata": {},
   "source": [
    "E o método `.predict()` para criar uma variável com nossas previsões:"
   ]
  },
  {
   "cell_type": "code",
   "execution_count": null,
   "id": "4fffc667",
   "metadata": {},
   "outputs": [],
   "source": [
    "tb_teste['pred'] = lm_fit.predict(X)"
   ]
  },
  {
   "cell_type": "code",
   "execution_count": null,
   "id": "b310fe13",
   "metadata": {},
   "outputs": [],
   "source": [
    "sns.scatterplot(data = tb_teste, x = \"x1\", y = \"y\", hue = \"categoria\")\n",
    "sns.lineplot(data = tb_teste, x = \"x1\", y = \"pred\", hue = \"categoria\")"
   ]
  },
  {
   "attachments": {},
   "cell_type": "markdown",
   "id": "b9516f52",
   "metadata": {},
   "source": [
    "Como podemos interpretar os coeficientes das categorias B e C? O que aconteceu com a categoria A?"
   ]
  },
  {
   "cell_type": "code",
   "execution_count": null,
   "id": "d354c50e",
   "metadata": {},
   "outputs": [],
   "source": [
    "print(list(zip(lm_fit.feature_names_in_, lm_fit.coef_)))"
   ]
  },
  {
   "cell_type": "code",
   "execution_count": null,
   "id": "551747be",
   "metadata": {},
   "outputs": [],
   "source": [
    "print(lm_fit.intercept_)"
   ]
  },
  {
   "attachments": {},
   "cell_type": "markdown",
   "id": "4aa8c5da",
   "metadata": {},
   "source": [
    "## Transformações não-lineares\n",
    "\n",
    "A regressão linear é um método estatístico usado para encontrar uma relação entre duas variáveis, onde uma variável é a \"variável dependente\" e a outra é a \"variável independente\". Na regressão linear com transformação de variáveis, estamos procurando por um relacionamento entre essas duas variáveis que não seja necessariamente linear. \n",
    "\n",
    "Por exemplo, se temos dados de altura e peso, podemos usar a regressão linear para ver como o peso está relacionado à altura - mas, às vezes, essa relação nem sempre parece seguir uma linha reta. É aí que entram as transformações de variáveis: podemos aplicar uma função matemática (como o logaritmo, por exemplo) a uma ou ambas as variáveis para tentar encontrar uma relação mais clara entre elas.\n",
    "\n",
    "As transformações nos permitem ajustar os dados a um modelo mais adequadamente e, assim, fazer previsões mais precisas. No geral, a regressão linear com transformação de variáveis é usada para entender melhor a relação entre duas variáveis e fazer previsões mais precisas com base nessa relação. Espero que isso ajude!"
   ]
  },
  {
   "cell_type": "code",
   "execution_count": null,
   "id": "0e796e64",
   "metadata": {},
   "outputs": [],
   "source": [
    "def simular_dado_nl(parametros_x1, desvpad_E, samples):\n",
    "    x1 = np.random.normal(loc=parametros_x1[0], scale=parametros_x1[1], size=samples)\n",
    "\n",
    "    E = np.random.normal(loc=0, scale=desvpad_E, size=samples)\n",
    "\n",
    "    y = np.exp(parametros_x1[2] * x1  + E)\n",
    "\n",
    "    return pd.DataFrame({\"x1\": x1, \"y\": y})"
   ]
  },
  {
   "cell_type": "code",
   "execution_count": null,
   "id": "f7644ba4",
   "metadata": {},
   "outputs": [],
   "source": [
    "tb_nl = simular_dado_nl((1, 0.3, 2.5), 0.35, 1000)"
   ]
  },
  {
   "attachments": {},
   "cell_type": "markdown",
   "id": "d8a831c0",
   "metadata": {},
   "source": [
    "Vamos visualizar a relação entre X e y:"
   ]
  },
  {
   "cell_type": "code",
   "execution_count": null,
   "id": "63eff847",
   "metadata": {},
   "outputs": [],
   "source": [
    "sns.scatterplot(data = tb_nl, x = \"x1\", y = \"y\")"
   ]
  },
  {
   "cell_type": "markdown",
   "id": "20509280",
   "metadata": {},
   "source": [
    "Claramente existe uma relação entre x1 e y, mas ela pode ser representada por uma linha reta?"
   ]
  },
  {
   "cell_type": "code",
   "execution_count": null,
   "id": "175cbcfa",
   "metadata": {},
   "outputs": [],
   "source": [
    "X = tb_nl[[\"x1\"]]\n",
    "y = tb_nl[\"y\"]\n",
    "lm_fit = LinearRegression()\n",
    "lm_fit.fit(X, y)\n",
    "\n",
    "tb_nl[\"pred_lin\"] = lm_fit.predict(X)\n"
   ]
  },
  {
   "cell_type": "code",
   "execution_count": null,
   "id": "c84311a8",
   "metadata": {},
   "outputs": [],
   "source": [
    "sns.scatterplot(data = tb_nl, x = \"x1\", y = \"y\")\n",
    "sns.lineplot(data = tb_nl, x = \"x1\", y = \"pred_lin\", color = \"red\")"
   ]
  },
  {
   "attachments": {},
   "cell_type": "markdown",
   "id": "0736d8b6",
   "metadata": {},
   "source": [
    "O gráfico acima apresenta duas *\"evidências\"* típicas de uma transformação específica:\n",
    "\n",
    "* O efeito de x1 sobre y parece *crescer* conforme x1 aumenta - a curva apresenta um crescimento *exponencial*;\n",
    "* A dispersão ao redor dessa curva imaginária *aumenta* conforme x1 (e y) aumenta.\n",
    "\n",
    "Essas duas evidências (não-linearidade e heterosquedasticidade) são evidêcias de uma transformação logarítmica - x1 tem uma relação linear com o logaritmo de y! Vamos aplicar essa transformação em nosso modelo:"
   ]
  },
  {
   "cell_type": "code",
   "execution_count": null,
   "id": "9228d077",
   "metadata": {},
   "outputs": [],
   "source": [
    "tb_nl[\"log_y\"] = np.log(tb_nl[\"y\"])\n",
    "sns.scatterplot(data = tb_nl, x = \"x1\", y = \"log_y\")"
   ]
  },
  {
   "attachments": {},
   "cell_type": "markdown",
   "id": "8f1a26e1",
   "metadata": {},
   "source": [
    "Vamos construir nossa regressão através dessa nova variável y:"
   ]
  },
  {
   "cell_type": "code",
   "execution_count": null,
   "id": "c49ffe74",
   "metadata": {},
   "outputs": [],
   "source": [
    "X = tb_nl[[\"x1\"]]\n",
    "y = tb_nl[\"log_y\"]\n",
    "lm_fit = LinearRegression()\n",
    "lm_fit.fit(X, y)\n",
    "\n",
    "tb_nl[\"pred_log\"] = lm_fit.predict(X)\n"
   ]
  },
  {
   "cell_type": "code",
   "execution_count": null,
   "id": "38239d81",
   "metadata": {},
   "outputs": [],
   "source": [
    "sns.scatterplot(data = tb_nl, x = \"x1\", y = \"log_y\")\n",
    "sns.lineplot(data = tb_nl, x = \"x1\", y = \"pred_log\")"
   ]
  },
  {
   "attachments": {},
   "cell_type": "markdown",
   "id": "b236b523",
   "metadata": {},
   "source": [
    "Agora nossa regressão está bem ajustada! Mas nossas previsões estão em logaritmo, como podemos voltar para a escala original?"
   ]
  },
  {
   "cell_type": "code",
   "execution_count": null,
   "id": "88824ae1",
   "metadata": {},
   "outputs": [],
   "source": [
    "tb_nl[\"pred_exp\"] = np.exp(tb_nl[\"pred_log\"])\n",
    "sns.scatterplot(data = tb_nl, x = \"x1\", y = \"y\")\n",
    "sns.lineplot(data = tb_nl, x = \"x1\", y = \"pred_exp\", color = \"red\")\n"
   ]
  },
  {
   "attachments": {},
   "cell_type": "markdown",
   "id": "ff4283a1",
   "metadata": {},
   "source": [
    "Por último, vamos olhar duas outras transformações importantes:\n",
    "1. A relação onde x1 é inversamente proporcional ao logaritmo de y,\n",
    "1. a relação onde o logaritmo de x1 é diretamente proporcional à y."
   ]
  },
  {
   "cell_type": "code",
   "execution_count": null,
   "id": "0e913a53",
   "metadata": {},
   "outputs": [],
   "source": [
    "tb_nl_inv = simular_dado_nl((1, 0.3, -2.5), 0.35, 1000)\n",
    "sns.scatterplot(data = tb_nl_inv, x = \"x1\", y = \"y\")"
   ]
  },
  {
   "cell_type": "code",
   "execution_count": null,
   "id": "65f4c489",
   "metadata": {},
   "outputs": [],
   "source": [
    "def simular_dado_nl_2(parametros_x1, desvpad_E, samples):\n",
    "    x1 = np.random.normal(loc=parametros_x1[0], scale=parametros_x1[1], size=samples)\n",
    "\n",
    "    E = np.random.normal(loc=0, scale=desvpad_E, size=samples)\n",
    "\n",
    "    y = parametros_x1[2] * np.exp(x1)  + E\n",
    "\n",
    "    return pd.DataFrame({\"x1\": x1, \"y\": y})"
   ]
  },
  {
   "cell_type": "code",
   "execution_count": null,
   "id": "a1c9f7cb",
   "metadata": {},
   "outputs": [],
   "source": [
    "tb_nl_inv = simular_dado_nl_2((1, 0.3, 2.5), 0.35, 1000)\n",
    "sns.scatterplot(data = tb_nl_inv, x = \"x1\", y = \"y\")"
   ]
  },
  {
   "attachments": {},
   "cell_type": "markdown",
   "id": "b0ed3a5a",
   "metadata": {},
   "source": [
    "Além de transformações logarítmicas, temos outras transformações menos comuns como a quadrática, ou a exponencial. O importante é lembrarmos que **qualquer** operação válida em uma variável pode ser utilizada para transforma-la - e que a escolha da transformação correta é uma parte importante do processo de modelagem. Muitas vezes, a transformação correta é encontrada através de tentativa e erro e de análise exploratória.\n",
    "\n",
    "Devemos sempre nos lembrar que as transformações sobre a variável resposta alteram a relação desta com todas as nossas variáveis X - e que alteram o **domínio**, ou seja, o range de valores que nossa variável y poderá assumir. No caso da transformação logarítimica de y temos que y > 0, por exemplo.\n",
    "\n",
    "# Trabalhando exemplos reais\n",
    "## Prevendo Consumo de Combustível"
   ]
  },
  {
   "cell_type": "code",
   "execution_count": null,
   "id": "06464bea",
   "metadata": {},
   "outputs": [],
   "source": [
    "tb_autompg = pd.read_csv(\"data/tb_autompg.csv\")"
   ]
  },
  {
   "cell_type": "code",
   "execution_count": null,
   "id": "facdb02d",
   "metadata": {},
   "outputs": [],
   "source": [
    "sns.pairplot(tb_autompg[[\"mpg\", \"cylinders\", \"displacement\", \"horsepower\"]])"
   ]
  },
  {
   "attachments": {},
   "cell_type": "markdown",
   "id": "92c2835e",
   "metadata": {},
   "source": [
    "## Prevendo Aluguéis de Bicicleta"
   ]
  },
  {
   "cell_type": "code",
   "execution_count": null,
   "id": "1bc01baf",
   "metadata": {},
   "outputs": [],
   "source": [
    "tb_bike = pd.read_csv(\"data/tb_bikesharing.csv\")"
   ]
  },
  {
   "cell_type": "code",
   "execution_count": null,
   "id": "ae4ae1f4",
   "metadata": {},
   "outputs": [],
   "source": [
    "tb_bike.describe()"
   ]
  },
  {
   "cell_type": "code",
   "execution_count": null,
   "id": "baf0d074",
   "metadata": {},
   "outputs": [],
   "source": []
  }
 ],
 "metadata": {
  "hide_input": false,
  "kernelspec": {
   "display_name": "Python 3 (ipykernel)",
   "language": "python",
   "name": "python3"
  },
  "language_info": {
   "codemirror_mode": {
    "name": "ipython",
    "version": 3
   },
   "file_extension": ".py",
   "mimetype": "text/x-python",
   "name": "python",
   "nbconvert_exporter": "python",
   "pygments_lexer": "ipython3",
   "version": "3.10.10"
  },
  "toc": {
   "base_numbering": 1,
   "nav_menu": {},
   "number_sections": true,
   "sideBar": true,
   "skip_h1_title": false,
   "title_cell": "Table of Contents",
   "title_sidebar": "Contents",
   "toc_cell": true,
   "toc_position": {
    "height": "calc(100% - 180px)",
    "left": "10px",
    "top": "150px",
    "width": "165px"
   },
   "toc_section_display": true,
   "toc_window_display": true
  },
  "vscode": {
   "interpreter": {
    "hash": "014f4a4a5af8f0104b12c029e500f4146d6d785e8cf714d2a35b7a9514230cd3"
   }
  }
 },
 "nbformat": 4,
 "nbformat_minor": 5
}
